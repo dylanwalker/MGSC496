{
  "nbformat": 4,
  "nbformat_minor": 0,
  "metadata": {
    "colab": {
      "provenance": [],
      "authorship_tag": "ABX9TyOtYG8GyeoLrtti+gzzpGJ5",
      "include_colab_link": true
    },
    "kernelspec": {
      "name": "python3",
      "display_name": "Python 3"
    },
    "language_info": {
      "name": "python"
    }
  },
  "cells": [
    {
      "cell_type": "markdown",
      "metadata": {
        "id": "view-in-github",
        "colab_type": "text"
      },
      "source": [
        "<a href=\"https://colab.research.google.com/github/dylanwalker/MGSC496/blob/main/MGSC496_L01.ipynb\" target=\"_parent\"><img src=\"https://colab.research.google.com/assets/colab-badge.svg\" alt=\"Open In Colab\"/></a>"
      ]
    },
    {
      "cell_type": "markdown",
      "source": [
        "This is the in-class notebook for MGSC496 Lecture 01."
      ],
      "metadata": {
        "id": "dA_4fackixhz"
      }
    },
    {
      "cell_type": "markdown",
      "source": [
        "We will use this space to go over examples, try some exercises, do live coding, and work through any of questions the class might have."
      ],
      "metadata": {
        "id": "clxCFGyVi6vy"
      }
    },
    {
      "cell_type": "markdown",
      "source": [
        "**<font size=5> Things to Talk About </font>**"
      ],
      "metadata": {
        "id": "l4GxAEVoM5WH"
      }
    },
    {
      "cell_type": "markdown",
      "source": [
        "**<font size=4>Basics</font>**\n",
        "\n",
        "- A notebook combines python code and markdown text.\n",
        " - `+ Code`, `+ Text`\n",
        "- Code cells have a little play button next to them that you can click to run the code.\n",
        "- You can double click text cells to edit the markdown.\n",
        "- Markdown\n",
        " - headers, bold, italics\n",
        " - in a text cell, wrap code with backticks \\` \n",
        " - links, images, some html\n",
        "\n",
        "\n",
        "**<font size=4>Colab controls</font>**\n",
        "- Where is this notebook file stored? Menu --> File\n",
        "- Download a copy of the .ipynb and the .py files and have a look at them\n",
        "- The .ipynb format vs the .py format\n",
        "- Where is this being run? Menu --> Runtime\n",
        "- What are the Colab Commands and Hotkeys? Menu --> Tools \n",
        "- Running shell commands on the colab runtime (!):\n",
        "  - ls\n",
        "  - pwd\n",
        "  - cat /etc/*release\n",
        "  - apt list --installed\n",
        "  - nvidia-smi\n",
        "  - cd and chaining with &&\n",
        "- What libraries are installed? !pip\n",
        "  - pip list\n",
        "\n",
        "- Colab File Explorer. \n",
        " - `/content/` is the home directory\n",
        "\n",
        "- Colab variable inspector\n",
        "\n",
        "**<font size=4>Colab shortcuts</font>**\n",
        "\n",
        "- Mirror cell in a tab: Tools->Command Palette->Mirror cell in tab\n"
      ],
      "metadata": {
        "id": "PH2-1LeAM_TF"
      }
    },
    {
      "cell_type": "code",
      "execution_count": null,
      "metadata": {
        "id": "AgHiUNAxBQcB"
      },
      "outputs": [],
      "source": []
    }
  ]
}