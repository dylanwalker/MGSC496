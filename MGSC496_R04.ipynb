{
  "nbformat": 4,
  "nbformat_minor": 0,
  "metadata": {
    "colab": {
      "provenance": [],
      "private_outputs": true,
      "collapsed_sections": [
        "i9ehNX6oPURk"
      ],
      "include_colab_link": true
    },
    "kernelspec": {
      "name": "python3",
      "display_name": "Python 3"
    }
  },
  "cells": [
    {
      "cell_type": "markdown",
      "metadata": {
        "id": "view-in-github",
        "colab_type": "text"
      },
      "source": [
        "<a href=\"https://colab.research.google.com/github/dylanwalker/MGSC496/blob/main/MGSC496_R04.ipynb\" target=\"_parent\"><img src=\"https://colab.research.google.com/assets/colab-badge.svg\" alt=\"Open In Colab\"/></a>"
      ]
    },
    {
      "cell_type": "code",
      "source": [
        "#@title Your Info\n",
        "\n",
        "your_name = '' #@param {type:\"string\"}\n",
        "your_email = '' #@param {type:\"string\"}\n",
        "today_date = '' #@param {type:\"date\"}\n"
      ],
      "metadata": {
        "id": "qCErBFYSbdOw",
        "cellView": "form"
      },
      "execution_count": null,
      "outputs": []
    },
    {
      "cell_type": "markdown",
      "source": [
        "# How to \"read\" this notebook\n",
        "\n",
        "As you go through this notebook (or any notebook for this class), you will encounter new concepts and python code that implements them -- just like you would see in a textbook. Of course, in a textbook, it's easy to read code and an explanation of what it does and think that you understand it.\n",
        "<br />\n",
        "<br />\n",
        "\n",
        "### Learn by doing\n",
        "But this notebook is different from a textbook because it allows you to not just read the code, but play with it. **You can and should try out changing the code that you see**. In fact, in many places throughout this reading notebook, you will be asked to write your own code to experiment with a concept that was just covered. This is a form of \"active reading\" and the idea behind it is that we really learn by **doing**. \n",
        "<br />\n",
        "<br />\n",
        "\n",
        "### Change everything\n",
        "But don't feel limited to only change code when I prompt you. This notebook is your learning environment and your playground. I encourage you to try changing and running all the code throughout the notebook and even to **add your own notes and new code blocks**. Adding comments to code to explain what you are testing, experimenting with or trying to do is really helpful to understand what you were thinking when you revisit it later. \n",
        "<br />\n",
        "<br />\n",
        "### Make this notebook your own\n",
        "Make this notebook your own. Write your questions and thoughts. At the end of every reading notebook, I will ask the same set of questions to try to elicit your questions, reaction and feedback. When we review the reading notebook in class, I encourage you to   \n",
        "\n"
      ],
      "metadata": {
        "id": "LHv80meh7uAs"
      }
    },
    {
      "cell_type": "markdown",
      "metadata": {
        "id": "Y0PyFSGJ-FSI"
      },
      "source": [
        "# Numpy - A Module for Scientific Computing"
      ]
    },
    {
      "cell_type": "markdown",
      "metadata": {
        "id": "i9ehNX6oPURk"
      },
      "source": [
        "![](https://drive.google.com/uc?id=1K1CAmcBTb97VGWp-AKydGK_TEQ-95Js7)\n",
        "## Why Numpy?\n",
        "We have seen collections in Python and how useful they are. However, when it comes to handling numerical data, such as storing and computing large arrays or matrices of numbers, collections are not appropriate. The reason for this is that collections can handle heterogenous types of data -- you can have a list with elements that are floats, strings, ints, other lists, etc. This means that the items in a list can't be stored contiguously in memory, making it slower to access each successive item. \n",
        "\n",
        "Numpy allows you to define an array or matrix of elements which are all the same data type (which is often the case for many applications in data science). This means that numpy can store the elements contiguously in memory and also take advantage of many computationally efficient tricks to speed up calculations.\n",
        "\n",
        "Here is a comparison of how lists store items in memory compared to how numpy stores an array:\n",
        "\n",
        "![](https://drive.google.com/uc?id=1dvdA39EgYWkkVX2rJmeq871vVewdXEsU)\n",
        "\n",
        "In a list, pointers to each object (the items) are stored in a contiguous block of memory. A pointer is just the actual memory address where the object itself is located.  Because pointers are a fixed size (e.g., 64 bits), its easy to start at the top and then zip through the memory in chunks of the pointer size (i.e., in 64 bit increments) to get the location of the object you want. \n",
        "\n",
        "In order to access the third item of a list, Python first accesses the location in memory where the pointers to items start and then travel ahead by (3-1)*64 bits, reads the next 64 bits to get the address, and then looks in the memory location at that address to find the object. This involves two reference lookups and jumping around in memory.\n",
        "\n",
        "In contrast, because the elements of a numpy array are all the same type (e.g., a float), they have fixed size and they can all be stored in sequentially in memory.  This means we can read the third element of a numpy array by just looking at the address where the array starts and looking ahead by (3-1)*sizeof(element) and the just reading sizeof(element) bits. This doesn't involve looking to a second location in memory and is therefore much faster.\n",
        "\n",
        "In addition, numpy implements its routines to process computations in C, which means it can do all sorts of low-level tricks to parallelize computations and take advantage of special linear algebra libraries in C that speedup common matrix operations (such as intel's Math Kernel Library)\n",
        "\n",
        "\n",
        "\n",
        "\n",
        "\n"
      ]
    },
    {
      "cell_type": "markdown",
      "metadata": {
        "id": "7uHngbjpZ3Cg"
      },
      "source": [
        "# Using Numpy - Getting Started"
      ]
    },
    {
      "cell_type": "markdown",
      "metadata": {
        "id": "DQIjLNxbUgEQ"
      },
      "source": [
        "\n",
        "\n",
        "Before we can use numpy, we first have to import it. We'll import it as the name ```np``` so that we won't need to keep typing ```numpy.``` everywhere:"
      ]
    },
    {
      "cell_type": "code",
      "metadata": {
        "id": "Q8sIOWZgPOFS"
      },
      "source": [
        "import numpy as np"
      ],
      "execution_count": null,
      "outputs": []
    },
    {
      "cell_type": "markdown",
      "metadata": {
        "id": "LQ0b_XTSVCBS"
      },
      "source": [
        "Now let's make a simply array of ints:"
      ]
    },
    {
      "cell_type": "code",
      "metadata": {
        "id": "vzAKiepSUn1f"
      },
      "source": [
        "#Make an array\n",
        "np.array([2,3,7,-1,5])"
      ],
      "execution_count": null,
      "outputs": []
    },
    {
      "cell_type": "markdown",
      "metadata": {
        "id": "8wFL2OJgVdqS"
      },
      "source": [
        "Notice that we didn't tell Python what data type the array should hold.  It guessed it based on the elements of the list we provided as the argument to ```np.array()```. In the above case, it guessed that elements were ints.\n",
        "\n",
        "We can specify the data type with the ```dtype``` keyword:"
      ]
    },
    {
      "cell_type": "code",
      "metadata": {
        "id": "XIWtYyswV_pZ"
      },
      "source": [
        "np.array([2, 3, 7, -1,5], dtype='float32')"
      ],
      "execution_count": null,
      "outputs": []
    },
    {
      "cell_type": "markdown",
      "metadata": {
        "id": "3ebW6TgyVGOY"
      },
      "source": [
        "Remember that the elements of a numpy array all have to be the same data type. If we try to make an array of different data types, numpy would \"upconvert\" the elements so that the data types of all elements match: \n",
        "\n"
      ]
    },
    {
      "cell_type": "code",
      "metadata": {
        "id": "owzP4_YuWn6f"
      },
      "source": [
        "np.array([1,3,5.0,3]) # numpy will upconvert to float"
      ],
      "execution_count": null,
      "outputs": []
    },
    {
      "cell_type": "code",
      "metadata": {
        "id": "SWGyG9QtVcyH"
      },
      "source": [
        "np.array([1,5,\"hello\"]) # numpy will upconvert to a fixed-size type that can handle characters"
      ],
      "execution_count": null,
      "outputs": []
    },
    {
      "cell_type": "markdown",
      "metadata": {
        "id": "mBU5jaWmXRtG"
      },
      "source": [
        "We can also create multi-dimensional arrays:"
      ]
    },
    {
      "cell_type": "code",
      "metadata": {
        "id": "5LiYE3W8XVBZ"
      },
      "source": [
        "np.array( [ [1,5,0], [0,1,0], [-1,3,2] ] )"
      ],
      "execution_count": null,
      "outputs": []
    },
    {
      "cell_type": "markdown",
      "metadata": {
        "id": "vOoWPPcE-VIT"
      },
      "source": [
        "## Creating Arrays from Scratch"
      ]
    },
    {
      "cell_type": "markdown",
      "metadata": {
        "id": "9dtJ8FtaXrbA"
      },
      "source": [
        "\n",
        "\n",
        "Often we will want to start with an array that we will later fill with data. Numpy has some useful methods for this:\n",
        "- ```np.ones()``` -- create an array filled with ones\n",
        "- ```np.zeros()``` -- create an array filled with zeros\n",
        "- ```np.full()``` -- create an array filled with a particular value\n",
        "- ```np.eye()``` -- create an array that is the identity matrix, with ones on the diagonal and zeros elsewhere\n",
        "- ```np.empty()``` -- create an array without filling the values, the values will be whatever happens to be in the memory location.\n"
      ]
    },
    {
      "cell_type": "code",
      "metadata": {
        "id": "daqeGM3UZbvT"
      },
      "source": [
        "# Create a length-10 integer array filled with zeros\n",
        "np.zeros(10, dtype=int)"
      ],
      "execution_count": null,
      "outputs": []
    },
    {
      "cell_type": "code",
      "metadata": {
        "id": "h5T07xaQagn2"
      },
      "source": [
        "# Create a 3x5 floating-point array filled with ones\n",
        "np.ones((3, 5), dtype=float)"
      ],
      "execution_count": null,
      "outputs": []
    },
    {
      "cell_type": "code",
      "metadata": {
        "id": "mrEXttkhajRG"
      },
      "source": [
        "# Create a 3x5 array filled with 3.14\n",
        "np.full((3, 5), 3.14)"
      ],
      "execution_count": null,
      "outputs": []
    },
    {
      "cell_type": "code",
      "metadata": {
        "id": "phdd34eRcXDe"
      },
      "source": [
        "# Create a 3x3 identity matrix\n",
        "np.eye(3)"
      ],
      "execution_count": null,
      "outputs": []
    },
    {
      "cell_type": "code",
      "metadata": {
        "id": "ry2fOgflcabP"
      },
      "source": [
        "# Create an uninitialized array of three integers\n",
        "# The values will be whatever happens to already exist at that memory location\n",
        "np.empty(3)"
      ],
      "execution_count": null,
      "outputs": []
    },
    {
      "cell_type": "markdown",
      "metadata": {
        "id": "tzqXuQlAZafD"
      },
      "source": [
        "And some methods to fill arrays with sequences:\n",
        "- ```np.arange()``` - create an array in steps between a start and end value\n",
        "- ```np.linspace()``` - create an array of values evenly spaced between a start and end value\n",
        "\n"
      ]
    },
    {
      "cell_type": "code",
      "metadata": {
        "id": "Qu9VTYTWZcV1"
      },
      "source": [
        "# Create an array filled with a linear sequence\n",
        "# Starting at 0, ending at 20, stepping by 2\n",
        "# (this is similar to the built-in range() function)\n",
        "np.arange(0, 20, 2)"
      ],
      "execution_count": null,
      "outputs": []
    },
    {
      "cell_type": "code",
      "metadata": {
        "id": "VVGJRny6bRft"
      },
      "source": [
        "# Create an array of five values evenly spaced between 0 and 1\n",
        "np.linspace(0, 1, 5)"
      ],
      "execution_count": null,
      "outputs": []
    },
    {
      "cell_type": "markdown",
      "metadata": {
        "id": "W6011UNwZWaQ"
      },
      "source": [
        "\n",
        "And some methods to fill arrays with random numbers (from different types of distributions:\n",
        "- ```np.random.random()``` - create an array with random numbers uniformly spaced between a start and end value.\n",
        "- ```np.random.normal()``` - create an array with random numbers normally distributed with some mean and standard deviation.\n",
        "- ```np.random.randint()``` - create an array of random integers between some start and end value."
      ]
    },
    {
      "cell_type": "code",
      "metadata": {
        "id": "KgPSbZN0bvGF"
      },
      "source": [
        "# Create a 3x3 array of uniformly distributed\n",
        "# random values between 0 and 1\n",
        "np.random.random((3, 3))"
      ],
      "execution_count": null,
      "outputs": []
    },
    {
      "cell_type": "code",
      "metadata": {
        "id": "LdjtcI1QZd1K"
      },
      "source": [
        "# Create a 3x3 array of normally distributed random values\n",
        "# with mean 0 and standard deviation 1\n",
        "np.random.normal(0, 1, (3, 3))"
      ],
      "execution_count": null,
      "outputs": []
    },
    {
      "cell_type": "code",
      "metadata": {
        "id": "2EI6c1Xxb9Hq"
      },
      "source": [
        "# Create a 3x3 array of random integers in the interval [0, 10)\n",
        "np.random.randint(0, 10, (3, 3))"
      ],
      "execution_count": null,
      "outputs": []
    },
    {
      "cell_type": "markdown",
      "source": [
        "<hr/>\n",
        "<img src=\"https://drive.google.com/uc?id=1sk8CSP26YY7sfyzmHGFXncuNRujkvu9v\" align=\"left\">\n",
        "\n",
        "<font size=3 color=\"darkred\">Dice Roller</font>\n",
        "\n",
        "<font>\n",
        "Write a small dice-rolling function. The function should take two inputs: the number of sides of the die and the number of rolls. It should return a numpy array holding the values of the rolls.\n",
        "</font>"
      ],
      "metadata": {
        "id": "F9ZoDYjFNBag"
      }
    },
    {
      "cell_type": "code",
      "source": [
        "# Try it out\n",
        "def diceRoller(numSides, numRolls):\n",
        "  # Enter your code here\n",
        "\n",
        "# Test it out with some inputs:\n",
        "print(diceRoller(6,10))\n",
        "print(diceRoller(20,3))"
      ],
      "metadata": {
        "id": "RBi1LpGhNBah"
      },
      "execution_count": null,
      "outputs": []
    },
    {
      "cell_type": "markdown",
      "source": [
        "<hr/>"
      ],
      "metadata": {
        "id": "dVE7F0upNBah"
      }
    },
    {
      "cell_type": "markdown",
      "metadata": {
        "id": "DKpyIXPFZsHI"
      },
      "source": [
        "# Numpy Data Types - Reference"
      ]
    },
    {
      "cell_type": "markdown",
      "metadata": {
        "id": "AhqM844AduC8"
      },
      "source": [
        "\n",
        "\n",
        "It is useful to be familiar with the different data types that numpy can use. Picking the right data type for your task is essential, particularly when working with large-scale data, so that you use \"just enough\" space in memory to accomplish what you need.\n",
        "\n",
        "There are two ways to do this:"
      ]
    },
    {
      "cell_type": "code",
      "metadata": {
        "id": "PdeiFva3eRoz"
      },
      "source": [
        "np.zeros(10, dtype='int16') # specify the data type with a string"
      ],
      "execution_count": null,
      "outputs": []
    },
    {
      "cell_type": "code",
      "metadata": {
        "id": "GRrQjLFdeWHE"
      },
      "source": [
        "np.zeros(10, dtype=np.int16) # specify the data type with the numpy type object"
      ],
      "execution_count": null,
      "outputs": []
    },
    {
      "cell_type": "markdown",
      "metadata": {
        "id": "5Jt-x54aedP7"
      },
      "source": [
        "\n",
        "Here is a table of the different data types:\n",
        "\n",
        "\n",
        "| Data type | Description | \n",
        "|---------------|-------------| \n",
        "| ``bool_`` | Boolean (True or False) stored as a byte | \n",
        "| ``int_`` | Default integer type (same as C ``long``; normally either ``int64`` or ``int32``)| \n",
        "| ``intc`` | Identical to C ``int`` (normally ``int32`` or ``int64``)| \n",
        "| ``intp`` | Integer used for indexing (same as C ``ssize_t``; normally either ``int32`` or ``int64``)| \n",
        "| ``int8`` | Byte (-128 to 127)| \n",
        "| ``int16`` | Integer (-32768 to 32767)| \n",
        "| ``int32`` | Integer (-2147483648 to 2147483647)| \n",
        "| ``int64`` | Integer (-9223372036854775808 to 9223372036854775807)| \n",
        "| ``uint8`` | Unsigned integer (0 to 255)| \n",
        "| ``uint16`` | Unsigned integer (0 to 65535)| \n",
        "| ``uint32`` | Unsigned integer (0 to 4294967295)| \n",
        "| ``uint64`` | Unsigned integer (0 to 18446744073709551615)| \n",
        "| ``float_`` | Shorthand for ``float64``.| \n",
        "| ``float16`` | Half precision float: sign bit, 5 bits exponent, 10 bits mantissa| \n",
        "| ``float32`` | Single precision float: sign bit, 8 bits exponent, 23 bits mantissa| \n",
        "| ``float64`` | Double precision float: sign bit, 11 bits exponent, 52 bits mantissa| \n",
        "| ``complex_`` | Shorthand for ``complex128``.| \n",
        "| ``complex64`` | Complex number, represented by two 32-bit floats| \n",
        "| ``complex128``| Complex number, represented by two 64-bit floats| \n",
        "\n",
        "\n",
        "More advanced type specification is possible, such as specifying big or little endian numbers; for more information, refer to the [Numpy documentation](http://numpy.org/). \n"
      ]
    },
    {
      "cell_type": "markdown",
      "metadata": {
        "id": "PUnl7hKVjIsm"
      },
      "source": [
        "# Using Numpy - Array Basics"
      ]
    },
    {
      "cell_type": "markdown",
      "metadata": {
        "id": "m0TSTAz4jIsn"
      },
      "source": [
        "Data manipulation in Python is nearly synonymous with Numpy array manipulation. As we will see shortly, even newer tools like Pandas are built around the Numpy array.\n",
        "\n",
        "This section will present several examples of using Numpy array manipulation to access data, subarrays, and to split, reshape, and join arrays.\n",
        "\n",
        "Becoming familiar with these fundamental operations is important for becoming fluent with manipulating data in python. More advanced tools such as Pytorch, for working with neural networks, were built by those very familiar with working in the \"grammar style\" of Numpy -- they built their tools with this in mind.\n",
        "\n",
        "\n",
        "Below, we'll cover:\n",
        "\n",
        "- *Attributes of arrays*: Determining the size, shape, memory consumption, and data types of arrays\n",
        "- *Indexing of arrays*: Getting and setting the value of individual array elements\n",
        "- *Slicing of arrays*: Getting and setting smaller subarrays within a larger array\n",
        "- *Reshaping of arrays*: Changing the shape of a given array\n",
        "- *Joining and splitting of arrays*: Combining multiple arrays into one, and splitting one array into many"
      ]
    },
    {
      "cell_type": "markdown",
      "metadata": {
        "id": "7MLUDXnojIsn"
      },
      "source": [
        "## Numpy Array Attributes"
      ]
    },
    {
      "cell_type": "markdown",
      "metadata": {
        "id": "bNyx5qXljIso"
      },
      "source": [
        "First let's discuss some useful array attributes.\n",
        "We'll start by defining three random arrays, a one-dimensional, two-dimensional, and three-dimensional array.\n",
        "\n",
        "We'll use Numpy's random number generator, which we will *seed* with a set value in order to ensure that the same random arrays are generated each time this code is run:"
      ]
    },
    {
      "cell_type": "code",
      "metadata": {
        "id": "c_zcCkq1jIsp"
      },
      "source": [
        "np.random.seed(0)  # seed for reproducibility\n",
        "\n",
        "x1 = np.random.randint(10, size=6)  # One-dimensional array\n",
        "x2 = np.random.randint(10, size=(3, 4))  # Two-dimensional array\n",
        "x3 = np.random.randint(10, size=(3, 4, 5))  # Three-dimensional array\n",
        "print(x1)\n",
        "print(x2)\n",
        "print(x3)"
      ],
      "execution_count": null,
      "outputs": []
    },
    {
      "cell_type": "markdown",
      "metadata": {
        "id": "T7Y-UZATjIss"
      },
      "source": [
        "Each array has attributes ``ndim`` (the number of dimensions), ``shape`` (the size of each dimension), and ``size`` (the total size of the array):"
      ]
    },
    {
      "cell_type": "code",
      "metadata": {
        "id": "UwrBjogkjIst"
      },
      "source": [
        "print(f\"x3 ndim: {x3.ndim}\")\n",
        "print(f\"x3 shape: {x3.shape}\")\n",
        "print(f\"x3 size: {x3.size}\")"
      ],
      "execution_count": null,
      "outputs": []
    },
    {
      "cell_type": "markdown",
      "metadata": {
        "id": "IYLTA2X4jIs1"
      },
      "source": [
        "Another useful attribute is the ``dtype``, the data type of the array:"
      ]
    },
    {
      "cell_type": "code",
      "metadata": {
        "id": "6HDm00EZjIs2"
      },
      "source": [
        "print(f\"dtype: {x3.dtype}\")"
      ],
      "execution_count": null,
      "outputs": []
    },
    {
      "cell_type": "markdown",
      "metadata": {
        "id": "QqtqAkN3jIs5"
      },
      "source": [
        "Other attributes include ``itemsize``, which lists the size (in bytes) of each array element, and ``nbytes``, which lists the total size (in bytes) of the array:"
      ]
    },
    {
      "cell_type": "code",
      "metadata": {
        "id": "uMVApGmljIs7"
      },
      "source": [
        "print(f\"itemsize: {x3.itemsize} bytes\")\n",
        "print(f\"nbytes: {x3.nbytes} bytes\")"
      ],
      "execution_count": null,
      "outputs": []
    },
    {
      "cell_type": "markdown",
      "metadata": {
        "id": "3-iqmy63jIs9"
      },
      "source": [
        "In general, we expect that ``nbytes`` is equal to ``itemsize*size``."
      ]
    },
    {
      "cell_type": "markdown",
      "source": [
        "<hr/>\n",
        "<img src=\"https://drive.google.com/uc?id=1sk8CSP26YY7sfyzmHGFXncuNRujkvu9v\" align=\"left\">\n",
        "\n",
        "<font size=3 color=\"darkred\">Exercise: Make a grid representing the Electromagnetic Field in a volume of space</font>\n",
        "\n",
        "<font>\n",
        "Make a 100x100x100x6 array of floating point numbers drawn from a normal distribution w/ mean and standard deviation equal to 1. This represents the 6 components of the electromagnetic field in a volume of space. The electric and magnetic fields both have 3 components (in the 3 directions). \n",
        "\n",
        "Now print out the data type of your array, the size in bytes of each element and the total size of the array in bytes. Verify that the size of the array is equal to the itemsize times the number of elements.\n",
        "\n",
        "</font>"
      ],
      "metadata": {
        "id": "aDcmEi7gLeUK"
      }
    },
    {
      "cell_type": "code",
      "source": [
        "# Try it out\n"
      ],
      "metadata": {
        "id": "ZvwWOlAsLeUM"
      },
      "execution_count": null,
      "outputs": []
    },
    {
      "cell_type": "markdown",
      "source": [
        "<hr/>"
      ],
      "metadata": {
        "id": "MtYHfMEALeUN"
      }
    },
    {
      "cell_type": "markdown",
      "metadata": {
        "id": "3Opas8LijIs9"
      },
      "source": [
        "## Array Indexing: Accessing Single Elements"
      ]
    },
    {
      "cell_type": "markdown",
      "metadata": {
        "id": "S5UHj3N2jIs-"
      },
      "source": [
        "Indexing in Numpy is very similar to indexing standard Python lists.\n",
        "\n",
        "In a one-dimensional array, the $i^{th}$ value (counting from zero) can be accessed by specifying the desired index in square brackets, just as with Python lists:"
      ]
    },
    {
      "cell_type": "code",
      "metadata": {
        "id": "LSBYoWVfjIs_"
      },
      "source": [
        "x1"
      ],
      "execution_count": null,
      "outputs": []
    },
    {
      "cell_type": "code",
      "metadata": {
        "id": "M9H6aH7BjItD"
      },
      "source": [
        "x1[0]"
      ],
      "execution_count": null,
      "outputs": []
    },
    {
      "cell_type": "code",
      "metadata": {
        "id": "eTQJN2HCjItF"
      },
      "source": [
        "x1[4]"
      ],
      "execution_count": null,
      "outputs": []
    },
    {
      "cell_type": "markdown",
      "metadata": {
        "id": "m5TSADCYjItH"
      },
      "source": [
        "To index from the end of the array, you can use negative indices:"
      ]
    },
    {
      "cell_type": "code",
      "metadata": {
        "id": "BDyNCAFNjItI"
      },
      "source": [
        "x1[-1]"
      ],
      "execution_count": null,
      "outputs": []
    },
    {
      "cell_type": "code",
      "metadata": {
        "id": "MO5hEprLjItK"
      },
      "source": [
        "x1[-2]"
      ],
      "execution_count": null,
      "outputs": []
    },
    {
      "cell_type": "markdown",
      "metadata": {
        "id": "WdjoMOR8jItM"
      },
      "source": [
        "In a multi-dimensional array, items can be accessed using a comma-separated tuple of indices:"
      ]
    },
    {
      "cell_type": "code",
      "metadata": {
        "id": "EEfEI2FXjItM"
      },
      "source": [
        "x2"
      ],
      "execution_count": null,
      "outputs": []
    },
    {
      "cell_type": "code",
      "metadata": {
        "id": "FIkPRd-bjItU"
      },
      "source": [
        "x2[0, 0]"
      ],
      "execution_count": null,
      "outputs": []
    },
    {
      "cell_type": "code",
      "metadata": {
        "id": "h7DrM4TnjItY"
      },
      "source": [
        "x2[2, 0]"
      ],
      "execution_count": null,
      "outputs": []
    },
    {
      "cell_type": "code",
      "metadata": {
        "id": "VyXwDDKBjItc"
      },
      "source": [
        "x2[2, -1]"
      ],
      "execution_count": null,
      "outputs": []
    },
    {
      "cell_type": "markdown",
      "metadata": {
        "id": "Ga2GgE7ajIth"
      },
      "source": [
        "Values can also be modified using any of the above index notation:"
      ]
    },
    {
      "cell_type": "code",
      "metadata": {
        "id": "lHWcMB-BjIti"
      },
      "source": [
        "x2[0, 0] = 12\n",
        "x2"
      ],
      "execution_count": null,
      "outputs": []
    },
    {
      "cell_type": "markdown",
      "metadata": {
        "id": "m8bioFbSjItm"
      },
      "source": [
        "IMPORTANT: Unlike Python lists, Numpy arrays have a fixed type.\n",
        "This means that if you attempt to insert a floating-point value to an integer array, the value will be ***silently truncated***. Don't be caught unaware by this behavior!"
      ]
    },
    {
      "cell_type": "code",
      "metadata": {
        "id": "lIGP8WXejItn"
      },
      "source": [
        "x1[0] = 3.14159  # this will be truncated!\n",
        "x1"
      ],
      "execution_count": null,
      "outputs": []
    },
    {
      "cell_type": "markdown",
      "source": [
        "<hr/>\n",
        "<img src=\"https://drive.google.com/uc?id=1sk8CSP26YY7sfyzmHGFXncuNRujkvu9v\" align=\"left\">\n",
        "\n",
        "<font size=3 color=\"darkred\">Exercise: Make a two move tic-tac-toe game</font>\n",
        "\n",
        "\n",
        "Use numpy to make an array that will represent a tic-tac-toe board. Since tic-tac-toe uses X's and O's, let's make it a character array. We can do this with:\n",
        "```python\n",
        "board = np.chararray((3,3), unicode=True)\n",
        "```\n",
        "Use the `input()` function to have the first player enter their move as `row,col`. Then process this string so that you can use numpy indexing to put an 'X\" in the position in the array that the user indicated. Then, do the same thing for the 'O' player, but first you must check that the position they gave is not already occupied (and keep asking for a move until you get a valid move). Print out the board before and after the move.**Don't try to implement the entire tic-tac-toe game now**, just get two valid moves and update the board. \n"
      ],
      "metadata": {
        "id": "MOOMD69kPnBN"
      }
    },
    {
      "cell_type": "code",
      "source": [
        "# Try it out\n",
        "board = np.chararray((3,3),unicode=True)\n",
        "\n"
      ],
      "metadata": {
        "id": "Uek__IiEPnBP"
      },
      "execution_count": null,
      "outputs": []
    },
    {
      "cell_type": "markdown",
      "source": [
        "<hr/>"
      ],
      "metadata": {
        "id": "mRTnRCXLPnBQ"
      }
    },
    {
      "cell_type": "markdown",
      "metadata": {
        "id": "TEk1PTBXjIuY"
      },
      "source": [
        "## Array Slicing: Accessing Subarrays"
      ]
    },
    {
      "cell_type": "markdown",
      "metadata": {
        "id": "QJ219uYajIuZ"
      },
      "source": [
        "Just as we can use square brackets to access individual array elements, we can also use them to access subarrays with the *slice* notation, marked by the colon (``:``) character.\n",
        "The Numpy slicing syntax follows that of the standard Python list; to access a slice of an array ``x``, use this:\n",
        "``` python\n",
        "x[start:stop:step]\n",
        "```\n",
        "If any of these are unspecified, they default to the values ``start=0``, ``stop=``*``size of dimension``*, ``step=1``.\n",
        "We'll take a look at accessing sub-arrays in one dimension and in multiple dimensions."
      ]
    },
    {
      "cell_type": "markdown",
      "metadata": {
        "id": "m9CAklChZcW-"
      },
      "source": [
        "### One-dimensional subarrays"
      ]
    },
    {
      "cell_type": "code",
      "metadata": {
        "id": "A46FI0h_jIue"
      },
      "source": [
        "x = np.arange(10)\n",
        "x"
      ],
      "execution_count": null,
      "outputs": []
    },
    {
      "cell_type": "code",
      "metadata": {
        "id": "jCNe1jqZjIum"
      },
      "source": [
        "x[:5]  # first five elements"
      ],
      "execution_count": null,
      "outputs": []
    },
    {
      "cell_type": "code",
      "metadata": {
        "id": "FtTFTlygjIup"
      },
      "source": [
        "x[5:]  # elements after index 5"
      ],
      "execution_count": null,
      "outputs": []
    },
    {
      "cell_type": "code",
      "metadata": {
        "id": "XZATUZFxjIus"
      },
      "source": [
        "x[4:7]  # middle sub-array"
      ],
      "execution_count": null,
      "outputs": []
    },
    {
      "cell_type": "code",
      "metadata": {
        "id": "dt-kbEZHjIuv"
      },
      "source": [
        "x[::2]  # every other element"
      ],
      "execution_count": null,
      "outputs": []
    },
    {
      "cell_type": "code",
      "metadata": {
        "id": "vK2yoe_gjIux"
      },
      "source": [
        "x[1::2]  # every other element, starting at index 1"
      ],
      "execution_count": null,
      "outputs": []
    },
    {
      "cell_type": "markdown",
      "metadata": {
        "id": "j3YyP10HjIu2"
      },
      "source": [
        "A potentially confusing case is when the ``step`` value is negative.\n",
        "In this case, the defaults for ``start`` and ``stop`` are swapped.\n",
        "This becomes a convenient way to reverse an array:"
      ]
    },
    {
      "cell_type": "code",
      "metadata": {
        "id": "vhlNnFy-jIu5"
      },
      "source": [
        "x[::-1]  # all elements, reversed"
      ],
      "execution_count": null,
      "outputs": []
    },
    {
      "cell_type": "code",
      "metadata": {
        "id": "v89VsJ04jIu8"
      },
      "source": [
        "x[5::-2]  # reversed every other from index 5"
      ],
      "execution_count": null,
      "outputs": []
    },
    {
      "cell_type": "markdown",
      "metadata": {
        "id": "xr6tmZT2ZYrV"
      },
      "source": [
        "### Multi-dimensional subarrays"
      ]
    },
    {
      "cell_type": "markdown",
      "metadata": {
        "id": "MAH29O3mjIu-"
      },
      "source": [
        "Multi-dimensional slices work in the same way, with multiple slices separated by commas.\n",
        "For example:"
      ]
    },
    {
      "cell_type": "code",
      "metadata": {
        "id": "T0CvS-KEjIu_"
      },
      "source": [
        "x2"
      ],
      "execution_count": null,
      "outputs": []
    },
    {
      "cell_type": "code",
      "metadata": {
        "id": "EF6h6apKjIvC"
      },
      "source": [
        "x2[:2, :3]  # two rows, three columns"
      ],
      "execution_count": null,
      "outputs": []
    },
    {
      "cell_type": "code",
      "metadata": {
        "id": "fAHiPG8jjIvO"
      },
      "source": [
        "x2[:3, ::2]  # all rows, every other column"
      ],
      "execution_count": null,
      "outputs": []
    },
    {
      "cell_type": "markdown",
      "metadata": {
        "id": "Kz5YN3Z0jIvZ"
      },
      "source": [
        "Finally, subarray dimensions can even be reversed together:"
      ]
    },
    {
      "cell_type": "code",
      "metadata": {
        "id": "hu3IZcmBjIva"
      },
      "source": [
        "print(x2)\n",
        "x2[::-1, ::-1] # reverse the rows and reverse the columns"
      ],
      "execution_count": null,
      "outputs": []
    },
    {
      "cell_type": "markdown",
      "metadata": {
        "id": "LMWTVwoX_SeB"
      },
      "source": [
        "#### Accessing array rows and columns"
      ]
    },
    {
      "cell_type": "markdown",
      "metadata": {
        "id": "rUtRMs0fjIvc"
      },
      "source": [
        "One commonly needed routine is accessing of single rows or columns of an array.\n",
        "This can be done by combining indexing and slicing, using an empty slice marked by a single colon (``:``):"
      ]
    },
    {
      "cell_type": "code",
      "metadata": {
        "id": "_b_A0_gmjIvc"
      },
      "source": [
        "print(x2[:, 0])  # first column of x2"
      ],
      "execution_count": null,
      "outputs": []
    },
    {
      "cell_type": "code",
      "metadata": {
        "id": "vvcP6x-EjIve"
      },
      "source": [
        "print(x2[0, :])  # first row of x2"
      ],
      "execution_count": null,
      "outputs": []
    },
    {
      "cell_type": "markdown",
      "metadata": {
        "id": "WzZv9-o-jIvh"
      },
      "source": [
        "In the case of row access, ***the empty slice can be omitted*** for a more compact syntax:"
      ]
    },
    {
      "cell_type": "code",
      "metadata": {
        "id": "8yGMl2qxjIvh"
      },
      "source": [
        "print(x2[0])  # equivalent to x2[0, :]"
      ],
      "execution_count": null,
      "outputs": []
    },
    {
      "cell_type": "markdown",
      "metadata": {
        "id": "d4fRDYtkY_lQ"
      },
      "source": [
        "### Subarrays as no-copy views"
      ]
    },
    {
      "cell_type": "markdown",
      "metadata": {
        "id": "pOOUfEcRjIvj"
      },
      "source": [
        "**IMPORTANT**: Array slices return *views* rather than *copies* of the array data.\n",
        "This is one area in which Numpy array slicing differs from Python list slicing: in lists, slices will be copies.\n",
        "\n",
        "Consider our two-dimensional array from before:"
      ]
    },
    {
      "cell_type": "code",
      "metadata": {
        "id": "RBeL8GXljIvk"
      },
      "source": [
        "print(x2)"
      ],
      "execution_count": null,
      "outputs": []
    },
    {
      "cell_type": "markdown",
      "metadata": {
        "id": "tBcVLXoejIvo"
      },
      "source": [
        "Let's extract a $2 \\times 2$ subarray from this:"
      ]
    },
    {
      "cell_type": "code",
      "metadata": {
        "id": "OtZOvZG2jIvq"
      },
      "source": [
        "x2_sub = x2[:2, :2]\n",
        "print(x2_sub)"
      ],
      "execution_count": null,
      "outputs": []
    },
    {
      "cell_type": "markdown",
      "metadata": {
        "id": "T8TyIVdEjIvs"
      },
      "source": [
        "Now if we modify this subarray, we'll see that the original array is changed! Observe:"
      ]
    },
    {
      "cell_type": "code",
      "metadata": {
        "id": "DwAmWVz7jIvt"
      },
      "source": [
        "x2_sub[0, 0] = 99\n",
        "print(x2_sub)"
      ],
      "execution_count": null,
      "outputs": []
    },
    {
      "cell_type": "code",
      "metadata": {
        "id": "pk6j4RC7jIvw"
      },
      "source": [
        "print(x2)"
      ],
      "execution_count": null,
      "outputs": []
    },
    {
      "cell_type": "markdown",
      "metadata": {
        "id": "21SfR8BcjIv8"
      },
      "source": [
        "This default behavior is actually quite useful: it means that when we work with large datasets, we can access and process pieces of these datasets without the need to copy the underlying data buffer."
      ]
    },
    {
      "cell_type": "markdown",
      "metadata": {
        "id": "2vfNewrJY6Uw"
      },
      "source": [
        "### Creating copies of arrays"
      ]
    },
    {
      "cell_type": "markdown",
      "metadata": {
        "id": "kq4fm-9TjIv9"
      },
      "source": [
        "Despite the nice features of array views, it is sometimes useful to instead explicitly copy the data within an array or a subarray. This can be most easily done with the ``copy()`` method:"
      ]
    },
    {
      "cell_type": "code",
      "metadata": {
        "id": "7szQiciLjIv_"
      },
      "source": [
        "print(x2)\n",
        "x2_sub_copy = x2[:2, :2].copy()\n",
        "print(x2_sub_copy)"
      ],
      "execution_count": null,
      "outputs": []
    },
    {
      "cell_type": "markdown",
      "metadata": {
        "id": "60jdFvcCjIwD"
      },
      "source": [
        "If we now modify this subarray, the original array is not touched:"
      ]
    },
    {
      "cell_type": "code",
      "metadata": {
        "id": "4ZTN8RAwjIwG"
      },
      "source": [
        "x2_sub_copy[0, 0] = 42\n",
        "print(x2_sub_copy)"
      ],
      "execution_count": null,
      "outputs": []
    },
    {
      "cell_type": "code",
      "metadata": {
        "id": "pAUwQzTLjIwL"
      },
      "source": [
        "print(x2)"
      ],
      "execution_count": null,
      "outputs": []
    },
    {
      "cell_type": "markdown",
      "source": [
        "<hr/>\n",
        "<img src=\"https://drive.google.com/uc?id=1sk8CSP26YY7sfyzmHGFXncuNRujkvu9v\" align=\"left\">\n",
        "\n",
        "<font size=3 color=\"darkred\">Exercise: Tile a chessboard with the correct colors</font>\n",
        "\n",
        "First look up an image of a chessboard to see how the 8x8 board is tiled with black and white. Now, **add only three lines of code** below to tile the chess board with 'W' and 'B'. You will need to use slicing to do this.\n",
        "\n",
        "<font size=2 color=\"blue\">hint: One of your lines should set all cells to be the same color.</font>"
      ],
      "metadata": {
        "id": "uxT53-skoXj3"
      }
    },
    {
      "cell_type": "code",
      "source": [
        "# Try it out\n",
        "chessboard = np.chararray((8,8), unicode=True)\n",
        "# Insert only three lines of code here to tile the chessboard correctly with 'W' and 'B'\n",
        "print(chessboard)"
      ],
      "metadata": {
        "id": "Nc8UDu18oXj4"
      },
      "execution_count": null,
      "outputs": []
    },
    {
      "cell_type": "markdown",
      "source": [
        "<hr/>"
      ],
      "metadata": {
        "id": "kbU3GNJtoXj5"
      }
    },
    {
      "cell_type": "markdown",
      "metadata": {
        "id": "JD1ShZlQY1hJ"
      },
      "source": [
        "## Reshaping of Arrays"
      ]
    },
    {
      "cell_type": "markdown",
      "metadata": {
        "id": "7noZw0h9jIwM"
      },
      "source": [
        "Another useful type of operation is reshaping of arrays.\n",
        "The most flexible way of doing this is with the ``reshape`` method.\n",
        "For example, if you want to put the numbers 1 through 9 in a $3 \\times 3$ grid, you can do the following:"
      ]
    },
    {
      "cell_type": "code",
      "metadata": {
        "id": "7RGbR5L7jIwN"
      },
      "source": [
        "grid = np.arange(1, 10).reshape((3, 3))\n",
        "print(np.arange(1,10))\n",
        "print(grid)"
      ],
      "execution_count": null,
      "outputs": []
    },
    {
      "cell_type": "markdown",
      "metadata": {
        "id": "frUgJswmjIwR"
      },
      "source": [
        "Note that for this to work, the size of the initial array must match the size of the reshaped array. \n",
        "Where possible, the ``reshape`` method will use a no-copy view of the initial array, but with non-contiguous memory buffers this is not always the case.\n",
        "\n",
        "Another common reshaping pattern is the conversion of a one-dimensional array into a two-dimensional row or column matrix.\n",
        "This can be done with the ``reshape`` method, or more easily done by making use of the ``newaxis`` keyword within a slice operation:"
      ]
    },
    {
      "cell_type": "code",
      "metadata": {
        "id": "1P8S78DXjIwR"
      },
      "source": [
        "x = np.array([1, 2, 3])\n",
        "print(x)\n",
        "\n",
        "# row vector via reshape\n",
        "x.reshape((1, 3))"
      ],
      "execution_count": null,
      "outputs": []
    },
    {
      "cell_type": "code",
      "metadata": {
        "id": "mMDX5QbZjIwa"
      },
      "source": [
        "print(x)\n",
        "# row vector via newaxis\n",
        "x[np.newaxis, :]"
      ],
      "execution_count": null,
      "outputs": []
    },
    {
      "cell_type": "code",
      "metadata": {
        "id": "t0r1CP-zjIwc"
      },
      "source": [
        "print(x)\n",
        "# column vector via reshape\n",
        "x.reshape((3, 1))"
      ],
      "execution_count": null,
      "outputs": []
    },
    {
      "cell_type": "code",
      "metadata": {
        "id": "1nMveSTBjIwf"
      },
      "source": [
        "print(x)\n",
        "# column vector via newaxis\n",
        "x[:, np.newaxis]"
      ],
      "execution_count": null,
      "outputs": []
    },
    {
      "cell_type": "markdown",
      "metadata": {
        "id": "Y4nLBsH_YuH8"
      },
      "source": [
        "## Array Concatenation and Splitting"
      ]
    },
    {
      "cell_type": "markdown",
      "metadata": {
        "id": "4R1kOwpcjIwh"
      },
      "source": [
        "All of the preceding routines worked on single arrays. It's also possible to combine multiple arrays into one, and to conversely split a single array into multiple arrays. We'll take a look at those operations here."
      ]
    },
    {
      "cell_type": "markdown",
      "metadata": {
        "id": "xyoCZW87Ypmr"
      },
      "source": [
        "### Concatenation of arrays"
      ]
    },
    {
      "cell_type": "markdown",
      "metadata": {
        "id": "vev4bGMCjIwi"
      },
      "source": [
        "Concatenation, or joining of two arrays in NumPy, is primarily accomplished using the routines ``np.concatenate``, ``np.vstack``, and ``np.hstack``.\n",
        "``np.concatenate`` takes a tuple or list of arrays as its first argument, as we can see here:"
      ]
    },
    {
      "cell_type": "code",
      "metadata": {
        "id": "2f_yfJykjIwi"
      },
      "source": [
        "x = np.array([1, 2, 3])\n",
        "y = np.array([3, 2, 1])\n",
        "np.concatenate([x, y])"
      ],
      "execution_count": null,
      "outputs": []
    },
    {
      "cell_type": "markdown",
      "metadata": {
        "id": "PYWrsiFhjIwk"
      },
      "source": [
        "You can also concatenate more than two arrays at once:"
      ]
    },
    {
      "cell_type": "code",
      "metadata": {
        "id": "g74lbXO7jIwl"
      },
      "source": [
        "z = [99, 99, 99]\n",
        "print(np.concatenate([x, y, z]))"
      ],
      "execution_count": null,
      "outputs": []
    },
    {
      "cell_type": "markdown",
      "metadata": {
        "id": "xpDEVtcYjIwq"
      },
      "source": [
        "It can also be used for two-dimensional arrays:"
      ]
    },
    {
      "cell_type": "code",
      "metadata": {
        "id": "P0UPp8GCjIwr"
      },
      "source": [
        "grid = np.array([[1, 2, 3],\n",
        "                 [4, 5, 6]])\n",
        "grid"
      ],
      "execution_count": null,
      "outputs": []
    },
    {
      "cell_type": "code",
      "metadata": {
        "id": "D0pf3VaWjIwv"
      },
      "source": [
        "# concatenate along the first axis\n",
        "np.concatenate([grid, grid])"
      ],
      "execution_count": null,
      "outputs": []
    },
    {
      "cell_type": "code",
      "metadata": {
        "id": "d3pBTDtajIwx"
      },
      "source": [
        "# concatenate along the second axis (zero-indexed)\n",
        "np.concatenate([grid, grid], axis=1)"
      ],
      "execution_count": null,
      "outputs": []
    },
    {
      "cell_type": "markdown",
      "metadata": {
        "id": "ZEmbAlc0jIw0"
      },
      "source": [
        "For working with arrays of mixed dimensions, it can be clearer to use the ``np.vstack`` (vertical stack) and ``np.hstack`` (horizontal stack) functions:"
      ]
    },
    {
      "cell_type": "code",
      "metadata": {
        "id": "r7IQrCuFjIw0"
      },
      "source": [
        "x = np.array([1, 2, 3])\n",
        "grid = np.array([[9, 8, 7],\n",
        "                 [6, 5, 4]])\n",
        "\n",
        "# vertically stack the arrays\n",
        "np.vstack([x, grid])"
      ],
      "execution_count": null,
      "outputs": []
    },
    {
      "cell_type": "code",
      "metadata": {
        "id": "IFhqVqBgjIw3"
      },
      "source": [
        "# horizontally stack the arrays\n",
        "y = np.array([[99],\n",
        "              [99]])\n",
        "np.hstack([grid, y])"
      ],
      "execution_count": null,
      "outputs": []
    },
    {
      "cell_type": "markdown",
      "metadata": {
        "id": "-Dkg0ppCjIw7"
      },
      "source": [
        "Similary, ``np.dstack`` will stack arrays along the third axis (depth)."
      ]
    },
    {
      "cell_type": "markdown",
      "metadata": {
        "id": "BQT0mEE1Yjg5"
      },
      "source": [
        "### Splitting of arrays"
      ]
    },
    {
      "cell_type": "markdown",
      "metadata": {
        "id": "Zm2IHP79jIw8"
      },
      "source": [
        "The opposite of concatenation is splitting, which is implemented by the functions ``np.split``, ``np.hsplit``, and ``np.vsplit``.  For each of these, we can pass a list of indices giving the split points:"
      ]
    },
    {
      "cell_type": "code",
      "metadata": {
        "id": "R2ugKDgijIw8"
      },
      "source": [
        "x = [1, 2, 3, 99, 99, 3, 2, 1]\n",
        "x1, x2, x3 = np.split(x, [3, 5])\n",
        "print(x1, x2, x3)"
      ],
      "execution_count": null,
      "outputs": []
    },
    {
      "cell_type": "markdown",
      "metadata": {
        "id": "QTJjT9MnjIxC"
      },
      "source": [
        "Notice that *N* split-points, leads to *N + 1* subarrays.\n",
        "The related functions ``np.hsplit`` and ``np.vsplit`` are similar:"
      ]
    },
    {
      "cell_type": "code",
      "metadata": {
        "id": "KCgLOkI-jIxE"
      },
      "source": [
        "grid = np.arange(16).reshape((4, 4))\n",
        "grid"
      ],
      "execution_count": null,
      "outputs": []
    },
    {
      "cell_type": "code",
      "metadata": {
        "id": "z1TYQRdvjIxG"
      },
      "source": [
        "upper, lower = np.vsplit(grid, [2])\n",
        "print(upper)\n",
        "print(lower)"
      ],
      "execution_count": null,
      "outputs": []
    },
    {
      "cell_type": "code",
      "metadata": {
        "id": "mfCFcV3GjIxI"
      },
      "source": [
        "left, right = np.hsplit(grid, [2])\n",
        "print(left)\n",
        "print(right)"
      ],
      "execution_count": null,
      "outputs": []
    },
    {
      "cell_type": "markdown",
      "metadata": {
        "id": "waMYGOnxjIxN"
      },
      "source": [
        "Similarly, ``np.dsplit`` will split arrays along the third axis."
      ]
    },
    {
      "cell_type": "markdown",
      "source": [
        "<hr/>\n",
        "<img src=\"https://drive.google.com/uc?id=1sk8CSP26YY7sfyzmHGFXncuNRujkvu9v\" align=\"left\">\n",
        "\n",
        "<font size=3 color=\"darkred\">Exercise: Split array vertically into two equal sized parts</font>\n",
        "\n",
        "Suppose you have been given a rectangular array whose size is randomly generated and with arbitrary shape, except that its number of rows is guaranteed to be even. Your task is to split this array into two equally sized arrays and then print them out.\n"
      ],
      "metadata": {
        "id": "MJvQmfrqqIbY"
      }
    },
    {
      "cell_type": "code",
      "source": [
        "# Try it out\n",
        "nrow = np.random.randint(1,15)*2\n",
        "ncol = np.random.randint(1,30)\n",
        "rectArray = np.arange(nrow*ncol).reshape((nrow,ncol))\n",
        "# Enter your code here\n"
      ],
      "metadata": {
        "id": "YJF6qG1vqIbZ"
      },
      "execution_count": null,
      "outputs": []
    },
    {
      "cell_type": "markdown",
      "source": [
        "<hr/>"
      ],
      "metadata": {
        "id": "bkEaZUOiqIba"
      }
    },
    {
      "cell_type": "markdown",
      "metadata": {
        "id": "MMfns4wRYdeu"
      },
      "source": [
        "# Computing with Numpy"
      ]
    },
    {
      "cell_type": "markdown",
      "metadata": {
        "id": "ngkbSeci_wml"
      },
      "source": [
        "\n",
        "\n",
        "To make computing with numpy very natural, it provides:\n",
        "- Universal Functions - specialized vectorized versions of common operations\n",
        "- Aggregation - functions that aggregate the elements of arrays, such as``max()``, ``min()``, ``mean()``, ``std()``\n",
        "- Broadcasting - simple rules for applying ufuncs on arrays of different sizes"
      ]
    },
    {
      "cell_type": "markdown",
      "metadata": {
        "id": "N01TwxaOL8yF"
      },
      "source": [
        "## Universal Functions"
      ]
    },
    {
      "cell_type": "markdown",
      "metadata": {
        "id": "KizFcLUsAMvG"
      },
      "source": [
        "Looping in python is comparatively very slow relative to other languages. This is because most implementations of Python are interpretive rather than compiled. Compiling allows a program to understand how to map high level code into machine code that can be exectued quickly, because the compiler knows the entirety of the code that will be executed. But interpreted code is executed line by line.  Numpy gets around this limitation because it is mostly implemented in low level C. The key to efficient computation on arrays is to vectorize them.\n",
        "\n",
        "Ufuncs provide access to statically typed and compiled routines that are vectorized. They override common operators (such as ``+``, ``*``, ``/``) so that when you operate on numpy arrays, you can use the standard operations without thinking about it."
      ]
    },
    {
      "cell_type": "markdown",
      "metadata": {
        "id": "NiAMbf_OCdzc"
      },
      "source": [
        "The following table lists the arithmetic operators implemented in Numpy:\n",
        "\n",
        "| Operator\t    | Equivalent ufunc    | Description                           |\n",
        "|---------------|---------------------|---------------------------------------|\n",
        "|``+``          |``np.add``           |Addition (e.g., ``1 + 1 = 2``)         |\n",
        "|``-``          |``np.subtract``      |Subtraction (e.g., ``3 - 2 = 1``)      |\n",
        "|``-``          |``np.negative``      |Unary negation (e.g., ``-2``)          |\n",
        "|``*``          |``np.multiply``      |Multiplication (e.g., ``2 * 3 = 6``)   |\n",
        "|``/``          |``np.divide``        |Division (e.g., ``3 / 2 = 1.5``)       |\n",
        "|``//``         |``np.floor_divide``  |Floor division (e.g., ``3 // 2 = 1``)  |\n",
        "|``**``         |``np.power``         |Exponentiation (e.g., ``2 ** 3 = 8``)  |\n",
        "|``%``          |``np.mod``           |Modulus/remainder (e.g., ``9 % 4 = 1``)|\n",
        "\n",
        "So, for example, when you call ``+`` to add two numpy arrays, python will actually call ``np.add()`` \n",
        "\n",
        "Additionally there are Boolean/bitwise operators that we'll look at later."
      ]
    },
    {
      "cell_type": "code",
      "metadata": {
        "id": "2ity23GtDKx7"
      },
      "source": [
        "#%%timeit\n",
        "# Add two arrays\n",
        "x = np.array([1,5,1,-1,3])\n",
        "y = np.array([2,-1,3,4,5])\n",
        "x+y"
      ],
      "execution_count": null,
      "outputs": []
    },
    {
      "cell_type": "markdown",
      "metadata": {
        "id": "k8hdMOt4Dtoq"
      },
      "source": [
        "This happens significantly faster than running through a for loop and adding each of the corresponding elements of the arrays.\n",
        "\n",
        "Here are some other examples:"
      ]
    },
    {
      "cell_type": "code",
      "metadata": {
        "id": "8Kc6XOo2Erv2"
      },
      "source": [
        "np.sin(x)"
      ],
      "execution_count": null,
      "outputs": []
    },
    {
      "cell_type": "code",
      "metadata": {
        "id": "j0SNyKQmGK5g"
      },
      "source": [
        "x/y"
      ],
      "execution_count": null,
      "outputs": []
    },
    {
      "cell_type": "code",
      "metadata": {
        "id": "jD8vx-NqGUBM"
      },
      "source": [
        "np.log(x+y)*np.exp(x)"
      ],
      "execution_count": null,
      "outputs": []
    },
    {
      "cell_type": "markdown",
      "metadata": {
        "id": "XIBRd2pxGwsw"
      },
      "source": [
        "## Aggregating Numpy Arrays"
      ]
    },
    {
      "cell_type": "markdown",
      "metadata": {
        "id": "KJSr93ZjG2LH"
      },
      "source": [
        "Often when faced with a large amount of data, a first step is to compute summary statistics for the data in question. Perhaps the most common summary statistics are the mean and standard deviation, which allow you to summarize the \"typical\" values in a dataset, but other aggregates are useful as well (the sum, product, median, minimum and maximum, quantiles, etc.).\n",
        "\n",
        "\n",
        "|Function Name      |   NaN-safe Version  | Description                                   |\n",
        "|-------------------|---------------------|-----------------------------------------------|\n",
        "| ``np.sum``        | ``np.nansum``       | Compute sum of elements                       |\n",
        "| ``np.prod``       | ``np.nanprod``      | Compute product of elements                   |\n",
        "| ``np.mean``       | ``np.nanmean``      | Compute mean of elements                      |\n",
        "| ``np.std``        | ``np.nanstd``       | Compute standard deviation                    |\n",
        "| ``np.var``        | ``np.nanvar``       | Compute variance                              |\n",
        "| ``np.min``        | ``np.nanmin``       | Find minimum value                            |\n",
        "| ``np.max``        | ``np.nanmax``       | Find maximum value                            |\n",
        "| ``np.argmin``     | ``np.nanargmin``    | Find index of minimum value                   |\n",
        "| ``np.argmax``     | ``np.nanargmax``    | Find index of maximum value                   |\n",
        "| ``np.median``     | ``np.nanmedian``    | Compute median of elements                    |\n",
        "| ``np.percentile`` | ``np.nanpercentile``| Compute rank-based statistics of elements     |\n",
        "| ``np.any``        | N/A                 | Evaluate whether any elements are true        |\n",
        "| ``np.all``        | N/A                 | Evaluate whether all elements are true        |\n",
        "\n"
      ]
    },
    {
      "cell_type": "code",
      "metadata": {
        "id": "wgJoBt-ZG2uN"
      },
      "source": [
        "x = np.random.random(100)\n",
        "print('Summary Statistics')\n",
        "print('------------------')\n",
        "print(f'sum:\\t{x.sum()}')\n",
        "print(f'mean:\\t{x.mean()}')\n",
        "print(f'stdev:\\t{x.std()}')\n",
        "print(f'min:\\t{x.min()}')\n",
        "print(f'max:\\t{x.max()}')\n",
        "for p in range(25,100,25):\n",
        "  print(f'{p}%ile:\\t{np.percentile(x,p)}')"
      ],
      "execution_count": null,
      "outputs": []
    },
    {
      "cell_type": "markdown",
      "metadata": {
        "id": "FjV6HZRepzVE"
      },
      "source": [
        "You can also aggregate multi-dimensional arrays by specifying which axis you want to aggregate over:"
      ]
    },
    {
      "cell_type": "code",
      "metadata": {
        "id": "fUo5G_Vip9Yr"
      },
      "source": [
        "M = np.random.random([5,5])\n",
        "M"
      ],
      "execution_count": null,
      "outputs": []
    },
    {
      "cell_type": "code",
      "metadata": {
        "id": "Q16sG7ORqXYE"
      },
      "source": [
        "M.min(axis=0) # take the min for each column (aggregate min() over rows axis)"
      ],
      "execution_count": null,
      "outputs": []
    },
    {
      "cell_type": "markdown",
      "metadata": {
        "id": "A7Emh3rcMklV"
      },
      "source": [
        "## Exercise: Dice Roller 2.0\n",
        "\n",
        "Modify the dice-rolling function that you made earlier. Instead of returning the full array of rolls, return only the max."
      ]
    },
    {
      "cell_type": "code",
      "metadata": {
        "id": "djEFpjKnM1xY"
      },
      "source": [
        "def diceRollerMax(numSides,numRolls):\n",
        "  # Enter your code here\n",
        "\n",
        "\n",
        "\n",
        "#Test it out on some values:\n",
        "print(diceRollerMax(6,3))\n",
        "print(diceRollerMax(20,5))"
      ],
      "execution_count": null,
      "outputs": []
    },
    {
      "cell_type": "markdown",
      "metadata": {
        "id": "cluZj35aa40S"
      },
      "source": [
        "## Broadcasting in Numpy\n",
        "\n",
        "Often you will want to do a simple operation on arrays of different sizes. Broadcasting is a set of rules for ufuncs to do this.\n",
        "\n",
        "For example, suppose you have an initial array (``x``) and want to add one to every element. Technically, the correct way to do this would be to create a new array of all ones (e.g., with ``np.ones()`` that is the same shape as ``x`` and then add this to ``x``:"
      ]
    },
    {
      "cell_type": "code",
      "metadata": {
        "id": "I4F_ZAZtbvjz"
      },
      "source": [
        "x = np.array([3,1,5,4,2,-2,5,3])\n",
        "x + np.ones(x.shape,dtype='int')"
      ],
      "execution_count": null,
      "outputs": []
    },
    {
      "cell_type": "markdown",
      "metadata": {
        "id": "djoWUuNUk19S"
      },
      "source": [
        "But broadcasting make this much more compact:"
      ]
    },
    {
      "cell_type": "code",
      "metadata": {
        "id": "OkNgyjw4lRMY"
      },
      "source": [
        "x+1"
      ],
      "execution_count": null,
      "outputs": []
    },
    {
      "cell_type": "markdown",
      "metadata": {
        "id": "U-nEcRcllZ7H"
      },
      "source": [
        "And, similarly, broadcasting lets you do this:"
      ]
    },
    {
      "cell_type": "code",
      "metadata": {
        "id": "UmPeE2T6l32P"
      },
      "source": [
        "1/x"
      ],
      "execution_count": null,
      "outputs": []
    },
    {
      "cell_type": "code",
      "metadata": {
        "id": "cPkKA0S3l6vh"
      },
      "source": [
        "1/x + (x + 3)**5"
      ],
      "execution_count": null,
      "outputs": []
    },
    {
      "cell_type": "markdown",
      "metadata": {
        "id": "qQegDejmmEM6"
      },
      "source": [
        "In general, broadcasting tries to guess at your intent when adding arrays of different sizes. To do so, it follows a strict set of rules for \"stretching\" the arrays so the shapes match:\n",
        "\n",
        "- Rule 1: If the two arrays differ in their number of dimensions, the shape of the one with fewer dimensions is *padded* with ones on its leading (left) side.\n",
        "- Rule 2: If the shape of the two arrays does not match in any dimension, the array with shape equal to 1 in that dimension is stretched to match the other shape.\n",
        "- Rule 3: If in any dimension the sizes disagree and neither is equal to 1, an error is raised.\n",
        "\n",
        "The rules are illustrated like this:\n",
        "\n",
        "![](https://drive.google.com/uc?id=1lNSFvGLFcvcE-6Mmri-2w2FAff-qCi9I)\n",
        "\n",
        "Here's another example:"
      ]
    },
    {
      "cell_type": "code",
      "metadata": {
        "id": "72yRfWkLmKDo"
      },
      "source": [
        "y = np.array([1,2]).reshape(2,1)\n",
        "print(x)\n",
        "print(y)\n",
        "print(x+y)"
      ],
      "execution_count": null,
      "outputs": []
    },
    {
      "cell_type": "markdown",
      "metadata": {
        "id": "KalgJRuWvlS_"
      },
      "source": [
        "# Indexing and Masking with Numpy"
      ]
    },
    {
      "cell_type": "markdown",
      "metadata": {
        "id": "xk_bkdNhVT5_"
      },
      "source": [
        "## Boolean Logic and Numpy Arrays"
      ]
    },
    {
      "cell_type": "markdown",
      "metadata": {
        "id": "L6sv7rKquTH8"
      },
      "source": [
        "\n",
        "\n",
        "We can use comparison operators (``==``,``!=``,``>``,``<``,``>=``,``<=``, etc.) on numpy arrays as well. When we do, the result will be a boolean array of the same shape as the (broadcasted) arrays we are operating on.\n",
        "\n",
        "For example:"
      ]
    },
    {
      "cell_type": "code",
      "metadata": {
        "id": "omxzH2Mfu2Di"
      },
      "source": [
        "x=np.random.randint(0,6,10)\n",
        "print(x)\n",
        "print(x>3)"
      ],
      "execution_count": null,
      "outputs": []
    },
    {
      "cell_type": "code",
      "metadata": {
        "id": "t2jsGxNuvatO"
      },
      "source": [
        "y=np.random.randint(0,6,[2,1])\n",
        "print(x)\n",
        "print(y)\n",
        "print(x>y)"
      ],
      "execution_count": null,
      "outputs": []
    },
    {
      "cell_type": "markdown",
      "metadata": {
        "id": "-FLocpDjDLZ1"
      },
      "source": [
        "Ok, but what if we want to logically operate on boolean arrays, how do we do that?\n",
        "\n",
        "Remember from the first lecture the difference between ``and`` and ``or`` keywords and the ``&`` and ``|`` operators?  \n",
        "\n",
        "``and`` and ``or`` treat the entire object as True or False, whereas ``&`` and ``|`` operate on the bits of the object -- in other words \"inside\" the object. \n",
        "\n",
        "For that reason, numpy overrides the ``&`` and ``|`` operators (defines ufuncs for them).  When used on numpy arrays:\n",
        "-  ``&`` perform \"elementwise\" **AND**  \n",
        "-  ``|`` perform \"elementwise\" **OR**  \n",
        "\n",
        "Let's see an example:"
      ]
    },
    {
      "cell_type": "code",
      "metadata": {
        "id": "X1NxLUF_Ep23"
      },
      "source": [
        "b1 = np.array([True,False,False,True])\n",
        "b2 = np.array([False,True,False,True])\n",
        "print(b1)\n",
        "print(b2)\n",
        "print(b1&b2)\n",
        "print(b1|b2)"
      ],
      "execution_count": null,
      "outputs": []
    },
    {
      "cell_type": "markdown",
      "metadata": {
        "id": "eR8pT1auFNmD"
      },
      "source": [
        "And of course, we can combine this with comparison operators to do more sophisticated comparisons:\n",
        "\n"
      ]
    },
    {
      "cell_type": "code",
      "metadata": {
        "id": "XwXPNpWXFdCY"
      },
      "source": [
        "x = np.array([1,4,3,6,8,9])\n",
        "y = np.array([3,2,1,1,10,7])\n",
        "\n",
        "(x>y)&(x==y+2) # note the use of parentheses here -- they are VERY important"
      ],
      "execution_count": null,
      "outputs": []
    },
    {
      "cell_type": "markdown",
      "metadata": {
        "id": "IWN3tMmvF8T2"
      },
      "source": [
        "IMPORTANT: When combining logical expressions, we have to be careful to **always wrap sub-expressions in parentheses**.  The reason is that, if we didn't we would get an error:"
      ]
    },
    {
      "cell_type": "code",
      "metadata": {
        "id": "4S0g93V4GUYm"
      },
      "source": [
        "x>y&x==y+2"
      ],
      "execution_count": null,
      "outputs": []
    },
    {
      "cell_type": "markdown",
      "metadata": {
        "id": "TBy-3X-tGdCl"
      },
      "source": [
        "This is because, without the parentheses, ``y&x`` is evaluated first."
      ]
    },
    {
      "cell_type": "markdown",
      "metadata": {
        "id": "eYseeAfQ8Iqr"
      },
      "source": [
        "Combining boolean expressions with aggregation can make some operations really simple. \n",
        "\n",
        "For example, if we wanted to count the number of occurences of a particular value in an array, we could do this:"
      ]
    },
    {
      "cell_type": "code",
      "metadata": {
        "id": "gy5rPtcO7l3b"
      },
      "source": [
        "ints=np.random.randint(0,9,30)\n",
        "print(ints)\n",
        "numFives = (ints==5).sum() # First get an array of bools for the expression, then sum it (sum() works because True is converted to 1, False is converted to 0)\n",
        "print(numFives)\n",
        "\n",
        "# Run this a few times to see that it works"
      ],
      "execution_count": null,
      "outputs": []
    },
    {
      "cell_type": "code",
      "metadata": {
        "id": "Xp4qSgtg8f61"
      },
      "source": [
        "print(ints)\n",
        "print((ints>3).sum()) # print how many integers in the ints array are bigger than three"
      ],
      "execution_count": null,
      "outputs": []
    },
    {
      "cell_type": "markdown",
      "source": [
        "<hr/>\n",
        "<img src=\"https://drive.google.com/uc?id=1sk8CSP26YY7sfyzmHGFXncuNRujkvu9v\" align=\"left\">\n",
        "\n",
        "<font size=3 color=\"darkred\">Exercise: Tic-Tac-Toe 2.0</font>\n",
        "\n",
        "\n",
        "Suppose you are given a tic-tac-toe `board` that is a character array, (just as we had before). But unlike before, some of the squares filled in with X's and O's. \n",
        "\n",
        "<br />\n",
        "\n",
        "1. Make a boolean array `hasX` where the cells are `True` whenever an X is in the cell. \n",
        "2. Count how many X's are in each row and column by using the `.sum(axis=1)` and `.sum(axis=0)`methods. Store these as variables `row_counts` and `col_counts`. Remember: If you sum over the rows (axis=0), then your result will be an array of counts for each columns, and vice versa.\n",
        "3. Write a function `isWin()` that takes the arguments `board` and `player` ( either an `'X'` or an `'O'`) and returns `True` if any of the elements in `row_counts` or `col_counts` is equal to `3`. You may find the function `np.any()` helpful.\n",
        "\n",
        "\n",
        "Now you can use your function to determine if either player won by getting 3 in a row or column. Of course, we still haven't checked the diagonals. **Don't worry about checking the diagonals for now.** \n",
        "\n",
        "Try changing the configuration of the board and testing out your function. Make sure it works are expected.\n",
        "\n",
        "\n"
      ],
      "metadata": {
        "id": "_RfDvjJXuC5r"
      }
    },
    {
      "cell_type": "code",
      "source": [
        "# Try it out\n",
        "# Here's an example board with some moves (I'm just putting X's and ignoring O's for now)\n",
        "#  You will want to change the position of the X's in order to test out your function\n",
        "board = np.chararray((3,3),unicode=True)\n",
        "board[2,0] = 'X'\n",
        "board[2,1] = 'X'\n",
        "board[2,2] = 'X'\n",
        "print(board)\n"
      ],
      "metadata": {
        "id": "WEzd8I6NuC5s"
      },
      "execution_count": null,
      "outputs": []
    },
    {
      "cell_type": "code",
      "source": [
        "# 1. Define hasX, where the cells are True whenever an X is in the cell. This should be a single line that makes use of numpy\n",
        "\n"
      ],
      "metadata": {
        "id": "FeyufhwAy6OI"
      },
      "execution_count": null,
      "outputs": []
    },
    {
      "cell_type": "code",
      "source": [
        "# 2. Define row_counts and col_counts variables, which count how many X's are in each row and column using the .sum() method w/ arguments axis=0 or axis=1"
      ],
      "metadata": {
        "id": "ecVGPSHuzHTs"
      },
      "execution_count": null,
      "outputs": []
    },
    {
      "cell_type": "code",
      "source": [
        "# 3. Write a function isWin() that takes board and player (this is just a variable that equals 'X' or 'O') and returns True if any of the elements of row_counts or col_counts equals 3\n",
        "#    hint: you may find np.any() helpful"
      ],
      "metadata": {
        "id": "SpuookgWzXMw"
      },
      "execution_count": null,
      "outputs": []
    },
    {
      "cell_type": "markdown",
      "source": [
        "<hr/>"
      ],
      "metadata": {
        "id": "VJXbEN1FuC5s"
      }
    },
    {
      "cell_type": "markdown",
      "metadata": {
        "id": "8vGTQHg1VPbV"
      },
      "source": [
        "## Using booleans to mask an array"
      ]
    },
    {
      "cell_type": "markdown",
      "metadata": {
        "id": "NKdQc63LBuqr"
      },
      "source": [
        "\n",
        "\n",
        "One cool and very useful thing we can do with bools and numpy is mask (or hide) elements of an array according to some logical criteria.\n",
        "\n",
        "Let me show you with an example:"
      ]
    },
    {
      "cell_type": "code",
      "metadata": {
        "id": "ux2j42kQB-vW"
      },
      "source": [
        "x=np.arange(0,10)\n",
        "print(x)\n",
        "\n",
        "# Mask (hide) all the elements of x where the expression (x>5) evaluates to False\n",
        "x[x>5] # This will return a 1-D array of the values of x where x>5"
      ],
      "execution_count": null,
      "outputs": []
    },
    {
      "cell_type": "code",
      "metadata": {
        "id": "OmoxAfzpCaKk"
      },
      "source": [
        "x[(x>2)&(x<=7)] # mask (hide) all the elements of x where the expression (x>2)&(x<=7) evaluates to False"
      ],
      "execution_count": null,
      "outputs": []
    },
    {
      "cell_type": "code",
      "metadata": {
        "id": "N723lAEntYpt"
      },
      "source": [
        "# What about a multi-dimensional array?\n",
        "x = np.arange(1,10).reshape([3,3]) # make a 3x3 grid of numbers from 1 to 9\n",
        "print(x)\n",
        "x[x>5] # This will be a 1-D array -- masks always return 1-D arrays"
      ],
      "execution_count": null,
      "outputs": []
    },
    {
      "cell_type": "markdown",
      "metadata": {
        "id": "dcZElAXstCXf"
      },
      "source": [
        "Notice that when we mask, ***we always obtain a one-dimensional array*** of the all the values of the original array for in positions where the condition evaluates to True.\n"
      ]
    },
    {
      "cell_type": "markdown",
      "metadata": {
        "id": "-EOICz-PVLDZ"
      },
      "source": [
        "## Fancy Indexing"
      ]
    },
    {
      "cell_type": "markdown",
      "metadata": {
        "id": "S9luscJPvbY4"
      },
      "source": [
        "\n",
        "\n",
        "Fancy indexing allows you to specify the indices of the values of an array that you'd like to select.\n",
        "\n",
        "For example:"
      ]
    },
    {
      "cell_type": "code",
      "metadata": {
        "id": "BrKrXMMqwB42"
      },
      "source": [
        "x = np.random.randint(0,10,9)\n",
        "print(x)\n",
        "indices= np.array([0,2,7,3])\n",
        "x[indices] # return the values of x at the indices."
      ],
      "execution_count": null,
      "outputs": []
    },
    {
      "cell_type": "markdown",
      "metadata": {
        "id": "Mc7c3jq3xEHE"
      },
      "source": [
        "Note that ``x[indices]`` will have whatever shape ``indices`` has.\n",
        "\n",
        "For example:"
      ]
    },
    {
      "cell_type": "code",
      "metadata": {
        "id": "gsN7pwMBx4Zq"
      },
      "source": [
        "x[indices.reshape(2,2)]"
      ],
      "execution_count": null,
      "outputs": []
    },
    {
      "cell_type": "markdown",
      "metadata": {
        "id": "APViAcBOyIqd"
      },
      "source": [
        "What about multi-dimensional arrays?  You can use fancy indexing with them too! Of course you need to provide an index for each dimension.\n",
        "\n",
        "So, for a 2-D array, we need to provide a row index and a column index:"
      ]
    },
    {
      "cell_type": "code",
      "metadata": {
        "id": "mU7Zv6D9yaLn"
      },
      "source": [
        "x = np.random.randint(0,10,9).reshape(3,3)\n",
        "print(x)\n",
        "rowInd=np.array([0,1,0])\n",
        "colInd=np.array([2,0,0])\n",
        "x[rowInd,colInd]\n",
        "\n",
        "# Make sure you understand how this works -- fancy indexing is essential to working efficiently with data in numpy!"
      ],
      "execution_count": null,
      "outputs": []
    },
    {
      "cell_type": "markdown",
      "metadata": {
        "id": "d4oeJKfw5FJy"
      },
      "source": [
        "You can also assign values with fancy indexing:"
      ]
    },
    {
      "cell_type": "code",
      "metadata": {
        "id": "TO4BmT9L5IxF"
      },
      "source": [
        "print(x)\n",
        "x[rowInd,colInd] = 0\n",
        "print(x)"
      ],
      "execution_count": null,
      "outputs": []
    },
    {
      "cell_type": "markdown",
      "metadata": {
        "id": "-rrwUml65WJk"
      },
      "source": [
        "You can even combine slicing with Fancy Indexing:"
      ]
    },
    {
      "cell_type": "code",
      "metadata": {
        "id": "wnUHZXWp5bAh"
      },
      "source": [
        "print(x)\n",
        "colInd=np.array([0,2])\n",
        "x[1:,colInd] = 20 # for rows 1 or greater and columns specified by colIndex, set the value to 20\n",
        "print(x)\n"
      ],
      "execution_count": null,
      "outputs": []
    },
    {
      "cell_type": "markdown",
      "source": [
        "<hr/>\n",
        "<img src=\"https://drive.google.com/uc?id=1sk8CSP26YY7sfyzmHGFXncuNRujkvu9v\" align=\"left\">\n",
        "\n",
        "<font size=3 color=\"darkred\">Exercise: Tic-Tac-Toe 3.0</font>\n",
        "\n",
        "\n",
        "Copy and paste your function from the Exercise Tic-Tac-Toe 2.0 below. Your task is to add a check for a win on either the first or second diagonal.\n",
        "\n",
        "<br /> \n",
        "First, write down (on paper or as a code comment) the positions of the elements on the first diagonal (top left to bottom right) as tuples, like this: `(r1,c1)`, `(r2,c2)` and `(r3,c3)`. Now write these tuples as indices of rows and columns (e.g., `rowInd` and `colInd` as in the example above). Use fancy indexing to index the elements of `board` that make up the first diagonal and create a boolean array that is `True` whenever each of the cells of the diagonal are equal to `X`. You can check if all of the elements are `True` using `np.all()`.\n",
        "\n",
        "Repeat this for the second diagonal and incorporate the entire thing into your `isWin()` function, which should now return `True` if `player` has 3 in a row, column or either diagonal.\n",
        "\n",
        "As a last step, you may find it satisfying to tie all the tic-tac-toe exercises in this notebook together to make a fully playable game for two players.\n",
        "\n"
      ],
      "metadata": {
        "id": "oiNL4PTuz7EK"
      }
    },
    {
      "cell_type": "code",
      "source": [
        "# Try it out\n",
        "# Here's an example board with some moves (I'm just putting X's and ignoring O's for now)\n",
        "#  You will want to change the position of the X's in order to test out your function\n",
        "board = np.chararray((3,3),unicode=True)\n",
        "board[2,0] = 'X'\n",
        "board[2,1] = 'X'\n",
        "board[2,2] = 'X'\n",
        "print(board)\n"
      ],
      "metadata": {
        "id": "BIsiPU58z7EM"
      },
      "execution_count": null,
      "outputs": []
    },
    {
      "cell_type": "code",
      "source": [
        "# Write your isWin function here:"
      ],
      "metadata": {
        "id": "IzZynm0w2D2A"
      },
      "execution_count": null,
      "outputs": []
    },
    {
      "cell_type": "code",
      "source": [
        "# Write your entire game code here"
      ],
      "metadata": {
        "id": "mPT3Vt0G2j3v"
      },
      "execution_count": null,
      "outputs": []
    },
    {
      "cell_type": "markdown",
      "source": [
        "<hr/>"
      ],
      "metadata": {
        "id": "Dqi3lJkvz7EO"
      }
    },
    {
      "cell_type": "markdown",
      "source": [
        "# Feedback\n",
        "What did you think about this notebook? What questions do you have? Were any parts confusing? Write your thoughts in the text box below.\n",
        "\n",
        "<font size =2> note: You can double click this text box in colab to edit it.</font>\n",
        "\n",
        "PUT YOUR THOUGHTS HERE"
      ],
      "metadata": {
        "id": "JOPdib-mkdbO"
      }
    },
    {
      "cell_type": "markdown",
      "source": [
        "# Submit\n",
        "Don't forget to submit your notebook before class! Make sure you have saved your work (**Colab Menu: File-> Save**) and then download a pure python copy (**Colab Menu: File-> Download -> Download .py**) and a python notebook copy (**Colab Menu: File-> Download -> Download .ipynb**). You will upload both of these to the assignment on the canvas page.\n"
      ],
      "metadata": {
        "id": "-Od5aIDFnSYP"
      }
    }
  ]
}