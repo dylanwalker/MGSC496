{
  "nbformat": 4,
  "nbformat_minor": 0,
  "metadata": {
    "colab": {
      "provenance": [],
      "authorship_tag": "ABX9TyMGTjQU5AY9aMOCsBQKliE7",
      "include_colab_link": true
    },
    "kernelspec": {
      "name": "python3",
      "display_name": "Python 3"
    },
    "language_info": {
      "name": "python"
    }
  },
  "cells": [
    {
      "cell_type": "markdown",
      "metadata": {
        "id": "view-in-github",
        "colab_type": "text"
      },
      "source": [
        "<a href=\"https://colab.research.google.com/github/dylanwalker/MGSC496/blob/main/MGSC496_L02_completed.ipynb\" target=\"_parent\"><img src=\"https://colab.research.google.com/assets/colab-badge.svg\" alt=\"Open In Colab\"/></a>"
      ]
    },
    {
      "cell_type": "markdown",
      "source": [
        "This is the in-class notebook for MGSC496 Lecture 02."
      ],
      "metadata": {
        "id": "dA_4fackixhz"
      }
    },
    {
      "cell_type": "markdown",
      "source": [
        "We will use this space to go over examples, try some exercises, do live coding, and work through any of questions the class might have."
      ],
      "metadata": {
        "id": "clxCFGyVi6vy"
      }
    },
    {
      "cell_type": "markdown",
      "source": [
        "Doing the tower defense exercise from the R01 notebook:"
      ],
      "metadata": {
        "id": "nzK-3adsyXAV"
      }
    },
    {
      "cell_type": "code",
      "source": [
        "# Try it out\n",
        "attacker_list = [2,5,8,2]\n",
        "tower_health = 18\n",
        "\n",
        "while (len(attacker_list)>0) and (tower_health>0):\n",
        "  tower_health -= attacker_list.pop()\n",
        "\n",
        "if tower_health<=0:\n",
        "  print(\"The tower fell!\")\n",
        "else:\n",
        "  print(\"The tower still stands!\")\n",
        "\n"
      ],
      "metadata": {
        "id": "Xlnmzeb6Ujj5",
        "colab": {
          "base_uri": "https://localhost:8080/"
        },
        "outputId": "aaca2051-1668-48d9-e0bb-1785e48d00ee"
      },
      "execution_count": null,
      "outputs": [
        {
          "output_type": "stream",
          "name": "stdout",
          "text": [
            "The tower still stands!\n"
          ]
        }
      ]
    },
    {
      "cell_type": "markdown",
      "source": [
        "Doing the grocery store exercise from the R01 notebook:"
      ],
      "metadata": {
        "id": "svkkj3sOyKMj"
      }
    },
    {
      "cell_type": "code",
      "source": [
        "# Try it out\n",
        "\n",
        "prices = {\"eggs\": 15.00, \"milk\": 4.20}\n",
        "shopping_cart = {\"eggs\":1 , \"milk\":2 }\n",
        "\n",
        "prices[\"eggs\"] = 5.00\n",
        "\n",
        "\n",
        "prices[\"milk\"]*shopping_cart[\"milk\"]\n",
        "\n",
        "def grocery_checkout(shopping_cart, prices):\n",
        "  total = 0\n",
        "  for key in shopping_cart.keys():\n",
        "    total += prices[key]*shopping_cart[key]\n",
        "  return total\n",
        "\n",
        "grocery_checkout(shopping_cart, prices)\n"
      ],
      "metadata": {
        "id": "5HRe-xmhCeeT",
        "colab": {
          "base_uri": "https://localhost:8080/"
        },
        "outputId": "173b27b8-7e44-481e-cf6d-53a2c2492155"
      },
      "execution_count": null,
      "outputs": [
        {
          "output_type": "execute_result",
          "data": {
            "text/plain": [
              "13.4"
            ]
          },
          "metadata": {},
          "execution_count": 31
        }
      ]
    },
    {
      "cell_type": "markdown",
      "source": [
        "## Topic: Iterables, Iterators, and Generators. \n",
        "We saw lots of collections in the reading. We also saw that we could loop over those collections e.g., \n",
        "```python\n",
        "for el in someList\n",
        "``` \n",
        "We can do this because th object (`someList`) is **iterable** or in other words **\"we can iterate over it\" (we can loop over it)** . What this means is that iterable objects are those that contain some kind of collection and we can \"grab the next item\" from them. In python, what determines what an object can do is what \"methods\" (think: functions) it has (we'll learn more about this next class). For things that we loop over, there are two important types of objects: \n",
        "* **Iterable** objects are objects that **we can \"ask for an iterator\"** (has `__iter__()` method). We can call the function `iter()` on an iterable to get its iterator.\n",
        "* **Iterator** objects are objects that **know how to \"grab the next item\".** (has `__next__()` method). We can call the function `next()` on an iterator to get the next item.\n",
        "\n",
        "We already know that we can use iterable objects in `for` loops. But we can also iterate over them without using `for` loops, by using an **iterator**.\n",
        "\n"
      ],
      "metadata": {
        "id": "GfCi6PqeJJv7"
      }
    },
    {
      "cell_type": "code",
      "source": [
        "# Make a list, make an iterator, print some of the elements from the list using the iterator\n",
        "someList = ['A', 5, \"hello\"]\n",
        "someIter = iter(someList)\n",
        "print(next(someIter)) \n",
        "print(next(someIter)) # these two statements will print out \"A\" and 5\n",
        "\n",
        "print(next(iter(someList)))\n",
        "print(next(iter(someList))) # but these two statements will print out \"A\" and \"A\" because we \"reset the iterator\" which was our \"bookmark\"\n"
      ],
      "metadata": {
        "id": "DUi0CeDC33dH"
      },
      "execution_count": null,
      "outputs": []
    },
    {
      "cell_type": "markdown",
      "source": [
        "This is an alternative to using a `for` loop like this:"
      ],
      "metadata": {
        "id": "o2nkB9RE4kLW"
      }
    },
    {
      "cell_type": "code",
      "source": [
        "for el in someList:\n",
        "  print(el)"
      ],
      "metadata": {
        "id": "3sC7Lr_N48_t"
      },
      "execution_count": null,
      "outputs": []
    },
    {
      "cell_type": "markdown",
      "source": [
        "Why might you want to do this? Well, sometimes you might want to structure the solution to a problem without looping over all of the elements of a collection."
      ],
      "metadata": {
        "id": "xT6n3l7T7DtM"
      }
    },
    {
      "cell_type": "markdown",
      "source": [
        "So far we've been talking about collections that are always stored in memory. Sometimes you don't want (or need or maybe can't) store everything in memory, but instead you know how to get the next item from the previous item. In these cases, we can use something called a **Generator**. Generators are like lazy iterators and we can make one by writing a function and instead of using the `return` keyword to return a single item, we can use the `yield` keyword to give the next item. Of course, we would need to know what that next item is based on the previous item. Here's an example:"
      ],
      "metadata": {
        "id": "ruxxjwLE3zp2"
      }
    },
    {
      "cell_type": "code",
      "source": [
        "# make a generator fn get_squares() that yields the squares of number from starting_int to ending_int\n",
        "def get_squares(starting_int,ending_int):\n",
        "  current_int = starting_int\n",
        "  while current_int<ending_int:\n",
        "    yield current_int**2\n",
        "    current_int += 1\n",
        "\n",
        "get_squares(1,5) # This is a generator object"
      ],
      "metadata": {
        "id": "Bqs2MYhdAUsD",
        "colab": {
          "base_uri": "https://localhost:8080/"
        },
        "outputId": "cd11ac6a-a920-4359-83d6-d4db357ad8c9"
      },
      "execution_count": null,
      "outputs": [
        {
          "output_type": "execute_result",
          "data": {
            "text/plain": [
              "<generator object get_squares at 0x7f6e6894e900>"
            ]
          },
          "metadata": {},
          "execution_count": 12
        }
      ]
    },
    {
      "cell_type": "code",
      "source": [
        "# Loop over a call to the generating fn. and print out the square\n",
        "# We can now loop to get the squares like this:\n",
        "for square in get_squares(1,5):\n",
        "  print(square)"
      ],
      "metadata": {
        "id": "7WujgyeGILNl",
        "colab": {
          "base_uri": "https://localhost:8080/"
        },
        "outputId": "c4639f3f-0000-43de-ef81-8c999c8a628a"
      },
      "execution_count": null,
      "outputs": [
        {
          "output_type": "stream",
          "name": "stdout",
          "text": [
            "1\n",
            "4\n",
            "9\n",
            "16\n"
          ]
        }
      ]
    },
    {
      "cell_type": "code",
      "source": [
        "# Instead of looping in a for loop, call next() on the generator\n",
        "# Or, alternatively, we could get however many we wanted like this:\n",
        "gen = get_squares(1,5)\n",
        "print(next(gen))\n",
        "print(next(gen))\n",
        "print(next(gen))\n",
        "print(next(gen))\n",
        "print(next(gen)) # This last one will throw a StopIteration exception"
      ],
      "metadata": {
        "id": "5XrB7eJuCNOa",
        "colab": {
          "base_uri": "https://localhost:8080/",
          "height": 270
        },
        "outputId": "32a5a5fd-7b87-494f-be9d-96bcdf16acd2"
      },
      "execution_count": null,
      "outputs": [
        {
          "output_type": "stream",
          "name": "stdout",
          "text": [
            "1\n",
            "4\n",
            "9\n",
            "16\n"
          ]
        },
        {
          "output_type": "error",
          "ename": "StopIteration",
          "evalue": "ignored",
          "traceback": [
            "\u001b[0;31m---------------------------------------------------------------------------\u001b[0m",
            "\u001b[0;31mStopIteration\u001b[0m                             Traceback (most recent call last)",
            "\u001b[0;32m<ipython-input-17-44d7d041b435>\u001b[0m in \u001b[0;36m<module>\u001b[0;34m\u001b[0m\n\u001b[1;32m      6\u001b[0m \u001b[0mprint\u001b[0m\u001b[0;34m(\u001b[0m\u001b[0mnext\u001b[0m\u001b[0;34m(\u001b[0m\u001b[0mgen\u001b[0m\u001b[0;34m)\u001b[0m\u001b[0;34m)\u001b[0m\u001b[0;34m\u001b[0m\u001b[0;34m\u001b[0m\u001b[0m\n\u001b[1;32m      7\u001b[0m \u001b[0mprint\u001b[0m\u001b[0;34m(\u001b[0m\u001b[0mnext\u001b[0m\u001b[0;34m(\u001b[0m\u001b[0mgen\u001b[0m\u001b[0;34m)\u001b[0m\u001b[0;34m)\u001b[0m\u001b[0;34m\u001b[0m\u001b[0;34m\u001b[0m\u001b[0m\n\u001b[0;32m----> 8\u001b[0;31m \u001b[0mprint\u001b[0m\u001b[0;34m(\u001b[0m\u001b[0mnext\u001b[0m\u001b[0;34m(\u001b[0m\u001b[0mgen\u001b[0m\u001b[0;34m)\u001b[0m\u001b[0;34m)\u001b[0m\u001b[0;34m\u001b[0m\u001b[0;34m\u001b[0m\u001b[0m\n\u001b[0m",
            "\u001b[0;31mStopIteration\u001b[0m: "
          ]
        }
      ]
    },
    {
      "cell_type": "markdown",
      "source": [
        "What's cool about the above code is that we didn't have to precalculate all the squares of numbers and store them in memory. Instead our generator function calculated the square only when we needed it in our code.\n",
        "\n",
        "If we tried to get one more (add another `next()` line above), then we would run into `StopIteration` exception."
      ],
      "metadata": {
        "id": "hiVqk6FUBpeE"
      }
    },
    {
      "cell_type": "markdown",
      "source": [
        "# Topic: Error handling with Exceptions in Python\n",
        "\n",
        "We've already seen Python throw errors at us. It tends to stop us in our tracks. This is fine for line-by-line or cell-by-cell execution of python code in a notebook or python shell. But what if we were running a script and we wanted to handle errors ourselves and have it keep going. That's where Exceptions come in.\n",
        "\n",
        "To handle exceptions, we can use a code block like this:\n",
        "```python\n",
        "try:\n",
        "  # do something here that might lead to an error\n",
        "except someTypeOfException as e:\n",
        "  # report the exception to the user and do something to handle it\n",
        "except someOtherTypeOfException as e:\n",
        "  # report the exception to the user and do something to handle it\n",
        "else:\n",
        "  # The code in this block will be run if there were no exceptions for the \n",
        "  #  code in the try block\n",
        "finally:\n",
        "  # This code will run regardless of whether there was exception or not\n",
        "``` \n",
        "\n",
        "Let's look at an example where we try to read a file that doesn't exit. We'll actually make a file first, but then try to open the wrong filename"
      ],
      "metadata": {
        "id": "2prnt1AO-Rc4"
      }
    },
    {
      "cell_type": "code",
      "source": [
        "with open('somefile.txt','w') as f:\n",
        "  f.write(\"This is some content inside of the file.\")\n"
      ],
      "metadata": {
        "id": "GeWf_645s66l"
      },
      "execution_count": null,
      "outputs": []
    },
    {
      "cell_type": "code",
      "source": [
        "# some live code here\n",
        "try:\n",
        "  with open('somefile.txt','r') as f:\n",
        "    content = f.readlines()\n",
        "    foo = bar\n",
        "except FileNotFoundError as e:\n",
        "  print(f\"Oops, I think you have the wrong filename: {e}\")\n",
        "except NameError as e:\n",
        "  print(f\"Oops, there's a problem with declaring a variable: {e}\")\n"
      ],
      "metadata": {
        "id": "PLAIS2MmHw7C"
      },
      "execution_count": null,
      "outputs": []
    },
    {
      "cell_type": "markdown",
      "source": [
        "# Topic: The Walrus Operator"
      ],
      "metadata": {
        "id": "c-LlyAZL8bzX"
      }
    },
    {
      "cell_type": "markdown",
      "source": [
        "The walrus operator `:=` is a relatively new operator in python (added in Python 3.8) that lets you assign a value to a variable as part of a larger expression.\n",
        "Suppose we wanted to get a user to input their favorite movies until they enter a blank input, then stop.\n",
        "\n",
        "Before the walrus operator, our code might look something like this:"
      ],
      "metadata": {
        "id": "KW6Bz3KcJyc8"
      }
    },
    {
      "cell_type": "code",
      "source": [
        "# Look at how much code it takes to do this!\n",
        "movies = []\n",
        "done = False\n",
        "while not(done):\n",
        "  movie = input('Enter a movie:')\n",
        "  if movie!='':\n",
        "    movies.append(movie)\n",
        "  else:\n",
        "    done = True\n",
        "\n",
        "print(movies)\n"
      ],
      "metadata": {
        "id": "gAuDV63tKHme",
        "colab": {
          "base_uri": "https://localhost:8080/"
        },
        "outputId": "ea74fa5a-bfd1-480e-f8c4-643e396a3f53"
      },
      "execution_count": null,
      "outputs": [
        {
          "output_type": "stream",
          "name": "stdout",
          "text": [
            "Enter a movie:die hard\n",
            "Enter a movie:bambi\n",
            "Enter a movie:\n",
            "['die hard', 'bambi']\n"
          ]
        }
      ]
    },
    {
      "cell_type": "markdown",
      "source": [
        "But with the walrus operator, we can write it like this:"
      ],
      "metadata": {
        "id": "KPJr4J_iKnow"
      }
    },
    {
      "cell_type": "code",
      "source": [
        "# Using the Walrus operator it is much shorter\n",
        "movies = []\n",
        "while (movie:=input(\"Enter a movie:\"))!='':\n",
        "  movies.append(movie)\n",
        "\n",
        "print(movies)"
      ],
      "metadata": {
        "id": "jAS-GDxhKqje",
        "colab": {
          "base_uri": "https://localhost:8080/"
        },
        "outputId": "520b24c4-b620-40c0-9b3e-0b0043ce1a38"
      },
      "execution_count": null,
      "outputs": [
        {
          "output_type": "stream",
          "name": "stdout",
          "text": [
            "Enter a movie:die hard\n",
            "Enter a movie:bambi\n",
            "Enter a movie:\n",
            "['die hard', 'bambi']\n"
          ]
        }
      ]
    },
    {
      "cell_type": "markdown",
      "source": [
        "## Topic: Nested Collections"
      ],
      "metadata": {
        "id": "GDhlrnw6kHv4"
      }
    },
    {
      "cell_type": "markdown",
      "source": [
        "Often we will need to work with data that has a lot of structure to it. There are multiple ways to do this in Python. One very simple way is with nested collections.\n",
        "\n",
        "Suppose we wanted to store a bunch of information about students, such as:\n",
        "* name\n",
        "* email\n",
        "* grade on each homework\n"
      ],
      "metadata": {
        "id": "t0xIFcuMNidp"
      }
    },
    {
      "cell_type": "code",
      "source": [
        "# make students a list of students, each of which is a dictionary containing name, email, homework_grades (a dictionary where key is HW1, val is grade, etc.)\n",
        "students = [{\"name\":\"joe\",\n",
        "             \"email\":\"joe@chapman.edu\",\n",
        "             \"homework_grades\":{\"hw1\":92.4,\n",
        "                                \"hw2\":88.5}},\n",
        "            {\"name\":\"kai\",\n",
        "             \"email\":\"kai@chapman.edu\",\n",
        "             \"homework_grades\":{\"hw1\":98,\n",
        "                                \"hw2\":79.5}}]\n",
        "\n",
        "                        "
      ],
      "metadata": {
        "id": "Vu9ya4flj8-Q"
      },
      "execution_count": null,
      "outputs": []
    },
    {
      "cell_type": "markdown",
      "source": [
        "This is an example of a nested collection, because we have defined a list of dictionaries, where the value of the key `homework_grades` is also itself a dictionary."
      ],
      "metadata": {
        "id": "nPAXkbX6PaTQ"
      }
    },
    {
      "cell_type": "code",
      "source": [
        "print(students)"
      ],
      "metadata": {
        "id": "zE3MK5ooQv4S",
        "colab": {
          "base_uri": "https://localhost:8080/"
        },
        "outputId": "02142789-3c7a-45e2-8683-a7aa7b9f31d9"
      },
      "execution_count": null,
      "outputs": [
        {
          "output_type": "stream",
          "name": "stdout",
          "text": [
            "[{'name': 'joe', 'email': 'joe@chapman.edu', 'homework_grades': {'hw1': 92.4, 'hw2': 88.5}}, {'name': 'kai', 'email': 'kai@chapman.edu', 'homework_grades': {'hw1': 98, 'hw2': 79.5}}]\n"
          ]
        }
      ]
    },
    {
      "cell_type": "code",
      "source": [
        "# Calculate the average homework grade for the students\n",
        "for student in students:\n",
        "  avg = 0\n",
        "  for hw_grade in student[\"homework_grades\"].values():\n",
        "    avg += hw_grade\n",
        "  avg = avg/len(student[\"homework_grades\"])\n",
        "  print(avg)"
      ],
      "metadata": {
        "id": "ertEQqDKPF8k",
        "colab": {
          "base_uri": "https://localhost:8080/"
        },
        "outputId": "d79fe485-d808-490d-b7df-ba48ec7a8c6c"
      },
      "execution_count": null,
      "outputs": [
        {
          "output_type": "stream",
          "name": "stdout",
          "text": [
            "90.45\n",
            "88.75\n"
          ]
        }
      ]
    },
    {
      "cell_type": "markdown",
      "source": [
        "We also have the ability to modify our nested collection, like this:"
      ],
      "metadata": {
        "id": "j5CfXEnrQ319"
      }
    },
    {
      "cell_type": "code",
      "source": [
        "# Add a new grade to one of the students homework assignments\n",
        "students[1][\"homework_grades\"][\"hw3\"] = 90\n",
        "print(students)"
      ],
      "metadata": {
        "id": "IuYwKtPsQklh",
        "colab": {
          "base_uri": "https://localhost:8080/"
        },
        "outputId": "ad49f115-3097-4cf6-bff8-6f998e188063"
      },
      "execution_count": null,
      "outputs": [
        {
          "output_type": "stream",
          "name": "stdout",
          "text": [
            "[{'name': 'joe', 'email': 'joe@chapman.edu', 'homework_grades': {'hw1': 92.4, 'hw2': 88.5}}, {'name': 'kai', 'email': 'kai@chapman.edu', 'homework_grades': {'hw1': 98, 'hw2': 79.5, 'hw3': 90}}]\n"
          ]
        }
      ]
    },
    {
      "cell_type": "markdown",
      "metadata": {
        "id": "3-DuGnd63YNs"
      },
      "source": [
        "# Exercise: Lists and Dictionaries"
      ]
    },
    {
      "cell_type": "markdown",
      "metadata": {
        "id": "EX9cCMUj_mGV"
      },
      "source": [
        "* In the codeblock below, create a list object to store the names of actors in you favorite movie(s). \n",
        "* Now add some names to it.\n",
        "* Print out the entire list\n",
        "\n",
        "\n"
      ]
    },
    {
      "cell_type": "code",
      "metadata": {
        "id": "4vZ2fCiIAF9D",
        "colab": {
          "base_uri": "https://localhost:8080/"
        },
        "outputId": "0f56d87f-d0c9-4f9e-dc87-16fc1fef8033"
      },
      "source": [
        "# Test you knowledge of lists and dictionaries-- enter you code in this cell\n",
        "\n",
        "# Make your list of actors in your favorite movie(s)\n",
        "actorList = []\n",
        "\n",
        "actorList.append(\"Bruce Willis\")\n",
        "actorList.append(\"Harrison Ford\")\n",
        "print(actorList)\n"
      ],
      "execution_count": 3,
      "outputs": [
        {
          "output_type": "stream",
          "name": "stdout",
          "text": [
            "['Bruce Willis', 'Harrison Ford']\n"
          ]
        }
      ]
    },
    {
      "cell_type": "markdown",
      "metadata": {
        "id": "sjZRGK_AFm55"
      },
      "source": [
        "* Now create a dictionary where each key is a character from a movie and the corresponding value is the name of the actor that played that character.\n",
        "* Using your dictionary, print out only the actors names\n",
        "* Using your dictionary, print out only the character names"
      ]
    },
    {
      "cell_type": "code",
      "metadata": {
        "id": "ksQKQHONFsw1",
        "colab": {
          "base_uri": "https://localhost:8080/"
        },
        "outputId": "7c834b3f-b81f-4d9a-bfcb-46a4dea757c5"
      },
      "source": [
        "# Make your dictionary\n",
        "charactorActorDict = {\"John McClane\": \"Bruce Willis\",\n",
        "                      \"Indiana Jones\": \"Harrison Ford\"}\n",
        "\n",
        "\n",
        "# print out only the actors names\n",
        "print(charactorActorDict.values())\n",
        "# print out only the character names\n",
        "print(charactorActorDict.keys())"
      ],
      "execution_count": 4,
      "outputs": [
        {
          "output_type": "stream",
          "name": "stdout",
          "text": [
            "dict_values(['Bruce Willis', 'Harrison Ford'])\n",
            "dict_keys(['John McClane', 'Indiana Jones'])\n"
          ]
        }
      ]
    },
    {
      "cell_type": "markdown",
      "metadata": {
        "id": "WC7pPgrV3d5U"
      },
      "source": [
        "# Exercise: Functions"
      ]
    },
    {
      "cell_type": "markdown",
      "metadata": {
        "id": "kCpoD2dfALmR"
      },
      "source": [
        "Write a function that takes two arguments, a list and a string. The string should be the name of an actor. The list should be the same list that you defined above. The function should check whether the string is in the list and, if so, print out a saying such as \"Yes, Bruce Willis is in die hard.\"\n",
        "\n",
        "* Write the function described above\n",
        "* Run it by calling the function and passing it two arguments, the name of an actor and the list you created from the last exercise."
      ]
    },
    {
      "cell_type": "code",
      "metadata": {
        "id": "IT_RHEEbCkzs",
        "colab": {
          "base_uri": "https://localhost:8080/"
        },
        "outputId": "51811cf5-c5c7-482a-d12e-bce4ea4c03d3"
      },
      "source": [
        "# Test your knowledge of functions\n",
        "\n",
        "# define your function\n",
        "def actorIsInList(actorStr, actorList):\n",
        "  if actorStr in actorList:\n",
        "    print(f\"Yes, {actorStr} is in the list.\")\n",
        "\n",
        "# Run your function by passing it a string of an actor's name and the list you created in the last exercise\n",
        "actorIsInList(\"Bruce Willis\",actorList)"
      ],
      "execution_count": 6,
      "outputs": [
        {
          "output_type": "stream",
          "name": "stdout",
          "text": [
            "Yes, Bruce Willis is in the list.\n"
          ]
        }
      ]
    },
    {
      "cell_type": "markdown",
      "metadata": {
        "id": "6jX_GeCk3kH0"
      },
      "source": [
        "# Exercise: Files"
      ]
    },
    {
      "cell_type": "markdown",
      "metadata": {
        "id": "CnA_iNnnKOd1"
      },
      "source": [
        "Often, programs use files to store information so that it persists even after the program has been closed.  This could include information that the user entered, the state of the program, custom settings the user may have changed and so on.\n",
        "\n",
        "In order to do this, the programmer has to translate this information into something that can be saved in a file (or many files). Remember a text file is just a sequence of characters (including commas, new lines, etc.). A binary file is just a sequence of bits.  We have to know how to interpret these characters or bits in order to make sense of the file. In other words, we have to know the format of the file. Let's understand this by trying to make our own file format.\n",
        "\n",
        "Do the following in the code blocks below:\n",
        "1. Write a program to save to a file the list of actors in your favorite movie that you made earlier.\n",
        " - note: you cannot just \"write\" a list to a file using f.write(someList). You can only write strings to a text file, so you will have to loop over its elements. \n",
        "2. Write a program to open the file you created in (1) and read from it to \"re-create\" the list of actors in your favorite movie from the file.\n"
      ]
    },
    {
      "cell_type": "code",
      "metadata": {
        "id": "i1rbpPPJX29O"
      },
      "source": [
        "# 1. Below, write a program to write the list of actors in your favorite movie to a file\n",
        "actorList = [\"Bruce Willis\", \"Harrison Ford\"]\n",
        "\n",
        "def saveListToFile(someList,fileName):\n",
        "  with open(fileName,'w') as f:\n",
        "    for el in someList:\n",
        "      f.write(f\"{el}\\n\")\n",
        "\n",
        "saveListToFile(actorList,\"actorList.txt\")\n"
      ],
      "execution_count": 9,
      "outputs": []
    },
    {
      "cell_type": "code",
      "metadata": {
        "id": "FXP1F9SQYCUW",
        "colab": {
          "base_uri": "https://localhost:8080/"
        },
        "outputId": "9e3c7002-bec2-4964-d91d-ae87c3b83800"
      },
      "source": [
        "# 2. Below, write a program to open the file from (1) and read the list of actors in your favorite movie into a list. Then, print out the list.\n",
        "def readListFromFile(fileName):\n",
        "  someList = []\n",
        "  with open(fileName,'r') as f:\n",
        "    lines = f.readlines()\n",
        "  for line in lines:\n",
        "    someList.append(line.strip())\n",
        "  return someList\n",
        "\n",
        "print(actorList)\n",
        "actorListFromFile = readListFromFile(\"actorList.txt\")\n",
        "print(actorListFromFile)"
      ],
      "execution_count": 12,
      "outputs": [
        {
          "output_type": "stream",
          "name": "stdout",
          "text": [
            "['Bruce Willis', 'Harrison Ford']\n",
            "['Bruce Willis', 'Harrison Ford']\n"
          ]
        }
      ]
    },
    {
      "cell_type": "markdown",
      "metadata": {
        "id": "wzyNrJZfYN9a"
      },
      "source": [
        "Congratulations!  Now you know how to save a list of strings to a file.\n",
        "\n",
        "What about a more complicated structure like a dictionary?  Remember, a dictionary stores key/value pairs. If you wanted to write the contents of a dictionary to a file, you need a way to distinguish each pair from one another and to distinguish the key from the value.\n",
        "\n",
        "Do the following in the code blocks below:\n",
        "3. Write a program to save to a file the dictionary of character names/actor names that you made earlier.\n",
        " - note: that you cannot just \"write\" a dictionary to a file using f.write(someDictionary). You can only write strings to a text file, so you will have to loops over the items of the dictionary and come up with a scheme -- i.e., find a way to write the key and the value together in some way that you can distinguish them.\n",
        "    - Hint: You can make use of special characters (such as \",\" or \":\") as *separators* to separate the key part fron the value part of a single string. You may need to use string methods like join() and split().\n",
        "4. Write a program to open the file you created in (3) and read from it to \"recreate\" the the dictionary of character names/actor names in your favorite movie. \n",
        "  - Hint: Whatever scheme you decided to use in (3) to distinguish the key part from the value part of a string, you will have to be aware of it and use string methods like split() to break up the string into its separate parts.\n",
        "\n",
        "\n",
        "\n"
      ]
    },
    {
      "cell_type": "code",
      "metadata": {
        "id": "qygTKzwAa9sM"
      },
      "source": [
        "# 3. Below, write a program to write the dictionary of character names/actor names into a file.\n",
        "movieCharacters = {'John McClane':'Bruce Willis','Hans Gruber':'Alan Rickman', 'Holly Gennaro':'Bonnie Bedelia', 'Sgt. Al Powell':'Reginald VelJohnson'}\n",
        "\n",
        "def saveDictToFile(someDict,fileName):\n",
        "  with open(fileName,'w') as f:\n",
        "    for k,v in someDict.items():\n",
        "      f.write(f\"{k},{v}\\n\")\n",
        "\n",
        "saveDictToFile(movieCharacters,'movieCharacters.txt')\n"
      ],
      "execution_count": null,
      "outputs": []
    },
    {
      "cell_type": "code",
      "metadata": {
        "id": "3SDn6yrabIuR"
      },
      "source": [
        "# 4. Below, write a program to open the file from (3) and read the contents and recreate the dictionary of character names/actor names. Then, print out the dictionary.\n",
        "def loadDictFromFile(fileName):\n",
        "  with open(fileName,'r') as f:\n",
        "    lines = f.readlines()\n",
        "  someDict={}\n",
        "  for line in lines:\n",
        "    k,v = line.strip(\"\\n\").split(',')\n",
        "    someDict[k] = v\n",
        "  return someDict\n",
        "\n",
        "someDict = loadDictFromFile('movieCharacters.txt')\n",
        "\n",
        "print(movieCharacters)\n",
        "print(someDict)"
      ],
      "execution_count": null,
      "outputs": []
    },
    {
      "cell_type": "markdown",
      "metadata": {
        "id": "lC9hD72a3qZx"
      },
      "source": [
        "# Exercise: Store Check Out with Walrus Operator and Error Handling with Exceptions"
      ]
    },
    {
      "cell_type": "markdown",
      "metadata": {
        "id": "076A3qP2-NKl"
      },
      "source": [
        "Write a program that calculates the total of a set of items the user is buying from a grocery store. The program should allow users to enter the price of items one by one (until they input a blank entry, indicating that they are finished). The program should then ask if the user is a tax-exempt user (Y/N). Finally, the program should calculate the subtotal and total (with a 7.25% sales tax applied, if applicable) and print them out.\n",
        "\n",
        "Your program should:\n",
        "* use a `while` loop and a walrus operator assignment with `input()` to get data from the user until they are done entering items (enter a blank input).\n",
        "* Use a boolean variable `tax_exempt`\n",
        "* Use try-catch-except (etc.) to handle errors\n",
        "\n",
        " "
      ]
    },
    {
      "cell_type": "code",
      "metadata": {
        "id": "Z7WSwoVr9mK9"
      },
      "source": [
        "# WRITE YOUR CODE HERE\n",
        "tax_exempt = None\n",
        "while not(tax_exempt in ['y','n']):\n",
        "  tax_exempt = (input(\"Are you a tax-exempt user? (y/n)\")).lower()\n",
        "  if not(tax_exempt in ['y','n']):\n",
        "    print(\"  please answer only with a y/n.\")\n",
        "tax_exempt = (tax_exempt=='y')\n",
        "print(tax_exempt)\n",
        "subtotal = 0\n",
        "while (price:=input(\"Enter price of item:\"))!='':\n",
        "  try:\n",
        "    subtotal += round(float(price),2)\n",
        "  except ValueError as e:\n",
        "    print(f\"  Error: {e}\\n  price must be a number.\")\n",
        "tax = round(subtotal*0.0725*(not(tax_exempt)),2)\n",
        "total = round(subtotal + tax,2)\n",
        "print(f\"subtotal: ${subtotal}\\ntax: ${tax}\\ntotal: ${total}\")"
      ],
      "execution_count": null,
      "outputs": []
    },
    {
      "cell_type": "markdown",
      "metadata": {
        "id": "eF3Cr9UO32iG"
      },
      "source": [
        "# Exercise: RPG Character Creator"
      ]
    },
    {
      "cell_type": "markdown",
      "metadata": {
        "id": "27L1-8wubY20"
      },
      "source": [
        "Write a program to let users create their own Role Playing Game characters and save them.\n",
        "\n",
        "A character should have:\n",
        " - A name (e.g., \"Dylanus the Magnificent\")\n",
        " - A class (e.g., Fighter, Wizard, Thief)\n",
        " - A race (e.g., Human, Elf, Goblin)\n",
        " - Attributes (e.g., Strength, Intelligence, Dexterity).\n",
        "   - Each attribute has an integer from 1 to 10 that represents how strong the character is in that attribute.\n",
        "\n",
        "So for example the details of a character might looks like this:\n",
        "Name: Dylanus the Magnificent\n",
        "Class: Wizard\n",
        "Race: Goblin\n",
        "Attributes: Strength - 5, Intelligence - 7, Dexterity - 3\n",
        "\n",
        "Don't use the race, classes and attributes that I've given in the example above, but instead make up your own. It will be more fun if you pick a context that is interesting to you. Maybe the character is for:\n",
        " - a zombie apocalypse\n",
        " - a war between robots or alien species\n",
        " - police detectives battling crime\n",
        " - lawyers and judges battling in a courtroom\n",
        " - students trying to survive a tough degree program\n",
        "\n",
        "\n",
        "Your program should:\n",
        "* Use functions\n",
        "* Use loops\n",
        "* Get input from the user (e.g., \"Enter the character name:\")\n",
        "* Use lists and/or dictionaries to save the details of a character in memory (i.e., variables)\n",
        "* Save a character to a file after they've been created\n",
        "* Read a character from a file into its \"original data structure\"\n"
      ]
    },
    {
      "cell_type": "code",
      "metadata": {
        "id": "xp31ME4kd-Gs"
      },
      "source": [
        "# RPG Character Creator\n",
        "def write_characters_to_file(character_list, filename=\"rpg_characters.dat\"):\n",
        "  # Assume character is a list of dictionaries\n",
        "  with open(filename,'w') as f:\n",
        "    for character in character_list:\n",
        "      character_str = ''\n",
        "      for k,v in character.items():\n",
        "        character_str += f\"{k}:{v}\\t\"\n",
        "      character_str.strip('\\t')\n",
        "      character_str += \"\\n\"\n",
        "      f.write(character_str)\n",
        "\n",
        "def read_characters_from_file(filename=\"rpg_characters.dat\"):\n",
        "  with open(filename,'r') as f:\n",
        "    lines = f.readlines()\n",
        "  characters_list = []\n",
        "  for line in lines:\n",
        "    line = line.strip('\\t\\n')\n",
        "    character = {}\n",
        "    attribs = line.split('\\t')\n",
        "    for attrib in attribs:\n",
        "      k,v = attrib.split(':')\n",
        "      character[k] = v\n",
        "    characters_list.append(character)\n",
        "  return characters_list\n"
      ],
      "execution_count": 14,
      "outputs": []
    },
    {
      "cell_type": "code",
      "metadata": {
        "id": "qIGVTaDVenxG",
        "colab": {
          "base_uri": "https://localhost:8080/"
        },
        "outputId": "d264da12-1247-447f-b63e-5cd4ef2a6a5d"
      },
      "source": [
        "# RPG Character Creator - test it\n",
        "# It's always a good idea when you write some code to also come up with some code that tests it.\n",
        "characters_list = [{\"name\":\"dylanus\",\n",
        "                   \"race\":\"goblin\",\n",
        "                   \"strength\":'5',\n",
        "                   \"intelligence\":'7',\n",
        "                   \"dexterity\":'4'},\n",
        "                  {\"name\":\"Arya\",\n",
        "                   \"race\":\"human\",\n",
        "                   \"strength\":'9',\n",
        "                   \"intelligence\":'6',\n",
        "                   \"dexterity\":'6'},\n",
        "                  ]  \n",
        "print(characters_list)\n",
        "write_characters_to_file(characters_list)\n",
        "characters_list2 = read_characters_from_file()\n",
        "print(characters_list2)"
      ],
      "execution_count": 15,
      "outputs": [
        {
          "output_type": "stream",
          "name": "stdout",
          "text": [
            "[{'name': 'dylanus', 'race': 'goblin', 'strength': '5', 'intelligence': '7', 'dexterity': '4'}, {'name': 'Arya', 'race': 'human', 'strength': '9', 'intelligence': '6', 'dexterity': '6'}]\n",
            "[{'name': 'dylanus', 'race': 'goblin', 'strength': '5', 'intelligence': '7', 'dexterity': '4'}, {'name': 'Arya', 'race': 'human', 'strength': '9', 'intelligence': '6', 'dexterity': '6'}]\n"
          ]
        }
      ]
    }
  ]
}