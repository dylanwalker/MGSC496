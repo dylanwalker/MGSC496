{
  "nbformat": 4,
  "nbformat_minor": 0,
  "metadata": {
    "colab": {
      "provenance": [],
      "authorship_tag": "ABX9TyODmsVu5knKr0FuWe8uuNxT",
      "include_colab_link": true
    },
    "kernelspec": {
      "name": "python3",
      "display_name": "Python 3"
    },
    "language_info": {
      "name": "python"
    }
  },
  "cells": [
    {
      "cell_type": "markdown",
      "metadata": {
        "id": "view-in-github",
        "colab_type": "text"
      },
      "source": [
        "<a href=\"https://colab.research.google.com/github/dylanwalker/MGSC496/blob/main/MGSC496_L06.ipynb\" target=\"_parent\"><img src=\"https://colab.research.google.com/assets/colab-badge.svg\" alt=\"Open In Colab\"/></a>"
      ]
    },
    {
      "cell_type": "markdown",
      "source": [
        "This is the in-class notebook for MGSC496 Lecture 6."
      ],
      "metadata": {
        "id": "RT9odU7BzKCB"
      }
    },
    {
      "cell_type": "markdown",
      "source": [
        "# Exercise: Egon's PKE Meter Network"
      ],
      "metadata": {
        "id": "UGmU-lw8vcQT"
      }
    },
    {
      "cell_type": "markdown",
      "source": [
        "Egon from the Ghostbusters has wired up a network of automatic PKE meters all throughout a famous new york hotel to detect and chart ghost activity. His system records an array of numbers -- one number for each location -- and locations that are more important to the hotel (e.g., ballroom, front desk, lobby, conference room, etc.) appear first in this list. Higher numbers indicate higher ghost activity.\n"
      ],
      "metadata": {
        "id": "84KEwaSAvp5d"
      }
    },
    {
      "cell_type": "code",
      "source": [
        "import numpy as np\n",
        "import string\n",
        "\n",
        "# make the locations array\n",
        "locations = ['ballroom', 'front desk', 'lobby']\n",
        "locations.extend([f'conference room {letter}' for letter in string.ascii_uppercase])\n",
        "locations.extend([f'honeymoon suite {i}' for i in range(1,7)])\n",
        "locations.extend([f'suite {i}' for i in range(1,11)])\n",
        "locations.extend([f'room {i}' for i in range(100,111)])\n",
        "locations.extend([f'room {i}' for i in range(200,211)])\n",
        "locations.extend([f'room {i}' for i in range(300,311)])\n",
        "locations.extend([f'room {i}' for i in range(400,411)])\n",
        "locations.extend([f'room {i}' for i in range(500,511)])\n",
        "locations = np.array(locations)\n",
        "\n",
        "# make the pke_readings array\n",
        "pke_readings = np.random.uniform(low=0, high=100, size=100)\n",
        "\n",
        "print(locations)\n",
        "print(pke_readings)"
      ],
      "metadata": {
        "id": "V2azR1xkumm1"
      },
      "execution_count": null,
      "outputs": []
    },
    {
      "cell_type": "markdown",
      "source": [
        "1. Egon believes that only locations with pke readings of 75 or greater are worthy of the ghostbusters attention. How many locations have a pke reading equal to or bigger than 75?"
      ],
      "metadata": {
        "id": "DmkAxKKzy31H"
      }
    },
    {
      "cell_type": "code",
      "source": [
        "# Enter code here"
      ],
      "metadata": {
        "id": "KgyzrDJ4zTtZ"
      },
      "execution_count": null,
      "outputs": []
    },
    {
      "cell_type": "markdown",
      "source": [
        "\n",
        "\n",
        "2. Egon wants to dispatch his buddies (Ray, Venkman and Winston) to the first 3 locations of 75 or greater. (Hint: you may find [the function `np.where()` helpful](https://numpy.org/doc/stable/reference/generated/numpy.where.html) ). Write code to display the names of these locations."
      ],
      "metadata": {
        "id": "owaXj02HyAnr"
      }
    },
    {
      "cell_type": "code",
      "source": [
        "# Enter code here"
      ],
      "metadata": {
        "id": "O9j9e5eKuo95"
      },
      "execution_count": null,
      "outputs": []
    },
    {
      "cell_type": "markdown",
      "source": [
        "\n",
        "3. Egon found a bug in his PKE network. The first 5 readings in his `pke_readings` array that are less than 65 always report 8.6 points higher than they actually are. Write some code to correct that.  \n",
        "\n"
      ],
      "metadata": {
        "id": "UjQgJtFSx7G2"
      }
    },
    {
      "cell_type": "code",
      "source": [
        "# Enter code here"
      ],
      "metadata": {
        "id": "MVCrR_3-ysWE"
      },
      "execution_count": null,
      "outputs": []
    },
    {
      "cell_type": "markdown",
      "metadata": {
        "id": "ZI9CqKk1VGbe"
      },
      "source": [
        "# Exercise: DiceRoller 3.0"
      ]
    },
    {
      "cell_type": "markdown",
      "metadata": {
        "id": "z0oRYLCh6vJT"
      },
      "source": [
        "\n",
        "Make a new dice roller program that takes the two arrays as inputs:\n",
        "- diceSides - a 1-D numpy array holding the number of sides of each die\n",
        "- numDice - a 1-D numpy array holding the number of dice\n",
        "\n",
        "So for example, to roll 3 6-sided dice, 1 10 sided die and 4 20-sided dice, we would pass:\n",
        "```\n",
        "diceSides = [6, 10, 20]\n",
        "numDice = [3, 1, 4]\n",
        "```\n",
        "\n",
        "Your program should output a tuple of 3 arrays:\n",
        "- The result of roll (ie., the number on the top of all dice after the roll)\n",
        "- The count of every critical failure (when a die rolled the lowest number it could) *for each type of die*\n",
        "- The counts of every critical hit (when a die rolled the highest number it could) *for each type of die*\n",
        "\n",
        "So, for example, rolling the dice from the example above might yield:\n",
        "```\n",
        "rolls = [ 1,  3,  6,  6,  1, 13, 19,  6]\n",
        "critFails = np.array([ 1, 0, 1])\n",
        "critHits =  np.array([ 1, 0, 0])\n",
        "```\n",
        "The first three elemenst of ``rolls`` are the 3 6-sided dice, the next one is a 10-sided die, and the last four are 20-sided dice.\n",
        "\n",
        "There was one critical fail amongst the 6-sided dice, zero for the ten-sided die, and one amongst the 20-sided dice.\n",
        "\n",
        "There was one critical hit amongst the 6-sided dice, zero for the ten-sided die, and zero amongst the 20-sided dice.\n",
        "\n",
        "\n",
        "You may find the following useful:\n",
        "* You can use [np.repeat()](https://docs.scipy.org/doc/numpy/reference/generated/numpy.repeat.html) to get an array holding the number of sides of each die you want to roll.\n",
        "* [np.random.randint()](https://docs.scipy.org/doc/numpy/reference/random/generated/numpy.random.mtrand.RandomState.randint.html) can take an array as an argument for high.\n",
        "* [np.cumsum()](https://docs.scipy.org/doc/numpy/reference/generated/numpy.cumsum.html) calculates the running sum over an array.\n",
        "* Remember [np.split()](https://docs.scipy.org/doc/numpy/reference/generated/numpy.split.html) can split an array into parts at the locations (indexes) specified.\n",
        "* [np.hstack()](https://docs.scipy.org/doc/numpy/reference/generated/numpy.hstack.html) will stack a list of arrays horizontally\n"
      ]
    },
    {
      "cell_type": "code",
      "metadata": {
        "id": "TqhPI-6h6-wk"
      },
      "source": [
        "def diceRoller(diceSides,numDice):\n",
        "  # put your code here\n",
        "\n",
        "\n"
      ],
      "execution_count": null,
      "outputs": []
    },
    {
      "cell_type": "code",
      "metadata": {
        "id": "rDRWhGY6Wajd"
      },
      "source": [
        "# Test it out:\n",
        "diceRoller(np.array([4,20,10]),np.array([3,2,2])) # roll 3 4-sided, 2 20-sided, and 2 10-sided dice\n"
      ],
      "execution_count": null,
      "outputs": []
    },
    {
      "cell_type": "code",
      "source": [
        "# Test it out again:\n",
        "diceRoller(np.array([6,12,8]),np.array([10,2,3])) # roll 10 6-sided, 2 12-sided, and 3 8-sided dice"
      ],
      "metadata": {
        "id": "QjmC48zhAiYH"
      },
      "execution_count": null,
      "outputs": []
    },
    {
      "cell_type": "markdown",
      "metadata": {
        "id": "Os3sYQ7x54vC"
      },
      "source": [
        "# Exercise: RPG Character Battle"
      ]
    },
    {
      "cell_type": "markdown",
      "metadata": {
        "id": "cA4JintO6A_L"
      },
      "source": [
        "Remember your RPG Character Creater?  \n",
        "\n",
        "Make a function that implements battling between different RPG Characters (that you created with your character creator). \n",
        "\n",
        "A character should consist of a name and a number of different attributes, such as Strength, Defense, Hit Points (life), etc. (but these are just suggestions -- you can use whatever you want).\n",
        "\n",
        "Here are some guidelines:\n",
        "- Your battle systems should compare one attribute vs another to determine the likelihood of a hit.\n",
        "- Use dice rolling to add randomness to the system.\n",
        "- A battle should consist of two characters taking turns trying to attack one another. If an attack succeeds it should reduce the Hit Points (or life or whatever attribute). This continues until one of the characters Hit Points reaches zero (in which case, they lose the battle)\n",
        "- Take advantage of the power of numpy and your existing dice roller code from the previous exercises\n",
        " - You should be able to accomplish this just by using arrays and **without using any explicit for loops**\n",
        "\n",
        "For example, a simple system could roll a 20 sided die:\n",
        "- If the roll is 20 its a hit\n",
        "- If the roll is 1 its a fail\n",
        "- If the roll is anything else, `hit = ((Strength + roll) > Defense)` where Strength is the value of the attacking character's strength and Defense is the value of the defending character's defense.   \n",
        "\n",
        "That's just one suggestion, but you can devise your own rules to determine how characters fight. For example you could have both the attacking and defending character roll a dice and do `hit = ((Strength + roll1) > (Defense + roll2))`. It's up to you.\n"
      ]
    },
    {
      "cell_type": "code",
      "metadata": {
        "id": "I0t445Kd96m4"
      },
      "source": [
        "# Enter your code here"
      ],
      "execution_count": null,
      "outputs": []
    }
  ]
}