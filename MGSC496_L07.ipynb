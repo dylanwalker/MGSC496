{
  "nbformat": 4,
  "nbformat_minor": 0,
  "metadata": {
    "colab": {
      "provenance": [],
      "collapsed_sections": [
        "EfwEYMi8SrB3",
        "C9ulawOlzQFs",
        "4Lp9hXiiP9eT",
        "ow--Rj5v0v7B",
        "FZ7BhyvXyiHC",
        "PxPz2plKgupG",
        "HnEyGAVg2z87",
        "jReiPWlGAzLG"
      ],
      "authorship_tag": "ABX9TyMrlUszBsokVa/J7tbV7dva",
      "include_colab_link": true
    },
    "kernelspec": {
      "name": "python3",
      "display_name": "Python 3"
    },
    "language_info": {
      "name": "python"
    }
  },
  "cells": [
    {
      "cell_type": "markdown",
      "metadata": {
        "id": "view-in-github",
        "colab_type": "text"
      },
      "source": [
        "<a href=\"https://colab.research.google.com/github/dylanwalker/MGSC496/blob/main/MGSC496_L07.ipynb\" target=\"_parent\"><img src=\"https://colab.research.google.com/assets/colab-badge.svg\" alt=\"Open In Colab\"/></a>"
      ]
    },
    {
      "cell_type": "markdown",
      "source": [
        "This is the in-class notebook for MGSC496 Lecture 7."
      ],
      "metadata": {
        "id": "RT9odU7BzKCB"
      }
    },
    {
      "cell_type": "code",
      "source": [
        "%%capture\n",
        "!pip install --upgrade pandas\n",
        "!pip install --upgrade pandas-datareader\n",
        "!pip install yfinance"
      ],
      "metadata": {
        "id": "nG6Vlij81yyI"
      },
      "execution_count": null,
      "outputs": []
    },
    {
      "cell_type": "code",
      "source": [
        "import numpy as np\n",
        "import pandas as pd\n"
      ],
      "metadata": {
        "id": "s7hNTaBJNEfz"
      },
      "execution_count": null,
      "outputs": []
    },
    {
      "cell_type": "markdown",
      "source": [
        "Things to mention:\n",
        "* If you hate indexes and esp multi-indexes, using `as_index=False` when doing `groupby` is a great option\n",
        "* `.assign()` is a bit like `mutate()` in R/dplyr/tidyverse\n",
        "* Using lambda functions is very useful when you want to:\n",
        " * assign new vars with `.assign()`\n",
        " * aggregate in more complicated ways with `.agg()`\n",
        " * apply a function to the dataframe with `.apply()` \n"
      ],
      "metadata": {
        "id": "7Yt8xDXSyHVk"
      }
    },
    {
      "cell_type": "markdown",
      "source": [
        "As a warm up, let's start by working on some data we haven't seen."
      ],
      "metadata": {
        "id": "nSKziCiOQ0DG"
      }
    },
    {
      "cell_type": "markdown",
      "source": [
        "# Exercise: Who survived the Titanic?"
      ],
      "metadata": {
        "id": "EfwEYMi8SrB3"
      }
    },
    {
      "cell_type": "markdown",
      "source": [
        "Using data on the individuals that were on the Titanic and their attributes, let's try to figure out which attributes, if any were associated with survival.\n",
        "\n",
        "To do this, we'll need to group the data in various ways and look at which percentage of individuals in the different groups survived.\n",
        "\n",
        "We'll start by importing the data (which is included in the Seaborn plotting library) and looking at it:"
      ],
      "metadata": {
        "id": "AQYHt9SLDkky"
      }
    },
    {
      "cell_type": "code",
      "source": [
        "import seaborn as sns\n",
        "\n",
        "titanic = sns.load_dataset('titanic')\n",
        "titanic.head()"
      ],
      "metadata": {
        "id": "uWFF6Y1MSqOx",
        "colab": {
          "base_uri": "https://localhost:8080/",
          "height": 206
        },
        "outputId": "56a4bdd1-74c6-4b00-bd80-b8a5d382d00b"
      },
      "execution_count": null,
      "outputs": [
        {
          "output_type": "execute_result",
          "data": {
            "text/plain": [
              "   survived  pclass     sex   age  sibsp  parch     fare embarked  class  \\\n",
              "0         0       3    male  22.0      1      0   7.2500        S  Third   \n",
              "1         1       1  female  38.0      1      0  71.2833        C  First   \n",
              "2         1       3  female  26.0      0      0   7.9250        S  Third   \n",
              "3         1       1  female  35.0      1      0  53.1000        S  First   \n",
              "4         0       3    male  35.0      0      0   8.0500        S  Third   \n",
              "\n",
              "     who  adult_male deck  embark_town alive  alone  \n",
              "0    man        True  NaN  Southampton    no  False  \n",
              "1  woman       False    C    Cherbourg   yes  False  \n",
              "2  woman       False  NaN  Southampton   yes   True  \n",
              "3  woman       False    C  Southampton   yes  False  \n",
              "4    man        True  NaN  Southampton    no   True  "
            ],
            "text/html": [
              "\n",
              "  <div id=\"df-d9d71656-4da6-44d5-85b1-eaeb927591d2\">\n",
              "    <div class=\"colab-df-container\">\n",
              "      <div>\n",
              "<style scoped>\n",
              "    .dataframe tbody tr th:only-of-type {\n",
              "        vertical-align: middle;\n",
              "    }\n",
              "\n",
              "    .dataframe tbody tr th {\n",
              "        vertical-align: top;\n",
              "    }\n",
              "\n",
              "    .dataframe thead th {\n",
              "        text-align: right;\n",
              "    }\n",
              "</style>\n",
              "<table border=\"1\" class=\"dataframe\">\n",
              "  <thead>\n",
              "    <tr style=\"text-align: right;\">\n",
              "      <th></th>\n",
              "      <th>survived</th>\n",
              "      <th>pclass</th>\n",
              "      <th>sex</th>\n",
              "      <th>age</th>\n",
              "      <th>sibsp</th>\n",
              "      <th>parch</th>\n",
              "      <th>fare</th>\n",
              "      <th>embarked</th>\n",
              "      <th>class</th>\n",
              "      <th>who</th>\n",
              "      <th>adult_male</th>\n",
              "      <th>deck</th>\n",
              "      <th>embark_town</th>\n",
              "      <th>alive</th>\n",
              "      <th>alone</th>\n",
              "    </tr>\n",
              "  </thead>\n",
              "  <tbody>\n",
              "    <tr>\n",
              "      <th>0</th>\n",
              "      <td>0</td>\n",
              "      <td>3</td>\n",
              "      <td>male</td>\n",
              "      <td>22.0</td>\n",
              "      <td>1</td>\n",
              "      <td>0</td>\n",
              "      <td>7.2500</td>\n",
              "      <td>S</td>\n",
              "      <td>Third</td>\n",
              "      <td>man</td>\n",
              "      <td>True</td>\n",
              "      <td>NaN</td>\n",
              "      <td>Southampton</td>\n",
              "      <td>no</td>\n",
              "      <td>False</td>\n",
              "    </tr>\n",
              "    <tr>\n",
              "      <th>1</th>\n",
              "      <td>1</td>\n",
              "      <td>1</td>\n",
              "      <td>female</td>\n",
              "      <td>38.0</td>\n",
              "      <td>1</td>\n",
              "      <td>0</td>\n",
              "      <td>71.2833</td>\n",
              "      <td>C</td>\n",
              "      <td>First</td>\n",
              "      <td>woman</td>\n",
              "      <td>False</td>\n",
              "      <td>C</td>\n",
              "      <td>Cherbourg</td>\n",
              "      <td>yes</td>\n",
              "      <td>False</td>\n",
              "    </tr>\n",
              "    <tr>\n",
              "      <th>2</th>\n",
              "      <td>1</td>\n",
              "      <td>3</td>\n",
              "      <td>female</td>\n",
              "      <td>26.0</td>\n",
              "      <td>0</td>\n",
              "      <td>0</td>\n",
              "      <td>7.9250</td>\n",
              "      <td>S</td>\n",
              "      <td>Third</td>\n",
              "      <td>woman</td>\n",
              "      <td>False</td>\n",
              "      <td>NaN</td>\n",
              "      <td>Southampton</td>\n",
              "      <td>yes</td>\n",
              "      <td>True</td>\n",
              "    </tr>\n",
              "    <tr>\n",
              "      <th>3</th>\n",
              "      <td>1</td>\n",
              "      <td>1</td>\n",
              "      <td>female</td>\n",
              "      <td>35.0</td>\n",
              "      <td>1</td>\n",
              "      <td>0</td>\n",
              "      <td>53.1000</td>\n",
              "      <td>S</td>\n",
              "      <td>First</td>\n",
              "      <td>woman</td>\n",
              "      <td>False</td>\n",
              "      <td>C</td>\n",
              "      <td>Southampton</td>\n",
              "      <td>yes</td>\n",
              "      <td>False</td>\n",
              "    </tr>\n",
              "    <tr>\n",
              "      <th>4</th>\n",
              "      <td>0</td>\n",
              "      <td>3</td>\n",
              "      <td>male</td>\n",
              "      <td>35.0</td>\n",
              "      <td>0</td>\n",
              "      <td>0</td>\n",
              "      <td>8.0500</td>\n",
              "      <td>S</td>\n",
              "      <td>Third</td>\n",
              "      <td>man</td>\n",
              "      <td>True</td>\n",
              "      <td>NaN</td>\n",
              "      <td>Southampton</td>\n",
              "      <td>no</td>\n",
              "      <td>True</td>\n",
              "    </tr>\n",
              "  </tbody>\n",
              "</table>\n",
              "</div>\n",
              "      <button class=\"colab-df-convert\" onclick=\"convertToInteractive('df-d9d71656-4da6-44d5-85b1-eaeb927591d2')\"\n",
              "              title=\"Convert this dataframe to an interactive table.\"\n",
              "              style=\"display:none;\">\n",
              "        \n",
              "  <svg xmlns=\"http://www.w3.org/2000/svg\" height=\"24px\"viewBox=\"0 0 24 24\"\n",
              "       width=\"24px\">\n",
              "    <path d=\"M0 0h24v24H0V0z\" fill=\"none\"/>\n",
              "    <path d=\"M18.56 5.44l.94 2.06.94-2.06 2.06-.94-2.06-.94-.94-2.06-.94 2.06-2.06.94zm-11 1L8.5 8.5l.94-2.06 2.06-.94-2.06-.94L8.5 2.5l-.94 2.06-2.06.94zm10 10l.94 2.06.94-2.06 2.06-.94-2.06-.94-.94-2.06-.94 2.06-2.06.94z\"/><path d=\"M17.41 7.96l-1.37-1.37c-.4-.4-.92-.59-1.43-.59-.52 0-1.04.2-1.43.59L10.3 9.45l-7.72 7.72c-.78.78-.78 2.05 0 2.83L4 21.41c.39.39.9.59 1.41.59.51 0 1.02-.2 1.41-.59l7.78-7.78 2.81-2.81c.8-.78.8-2.07 0-2.86zM5.41 20L4 18.59l7.72-7.72 1.47 1.35L5.41 20z\"/>\n",
              "  </svg>\n",
              "      </button>\n",
              "      \n",
              "  <style>\n",
              "    .colab-df-container {\n",
              "      display:flex;\n",
              "      flex-wrap:wrap;\n",
              "      gap: 12px;\n",
              "    }\n",
              "\n",
              "    .colab-df-convert {\n",
              "      background-color: #E8F0FE;\n",
              "      border: none;\n",
              "      border-radius: 50%;\n",
              "      cursor: pointer;\n",
              "      display: none;\n",
              "      fill: #1967D2;\n",
              "      height: 32px;\n",
              "      padding: 0 0 0 0;\n",
              "      width: 32px;\n",
              "    }\n",
              "\n",
              "    .colab-df-convert:hover {\n",
              "      background-color: #E2EBFA;\n",
              "      box-shadow: 0px 1px 2px rgba(60, 64, 67, 0.3), 0px 1px 3px 1px rgba(60, 64, 67, 0.15);\n",
              "      fill: #174EA6;\n",
              "    }\n",
              "\n",
              "    [theme=dark] .colab-df-convert {\n",
              "      background-color: #3B4455;\n",
              "      fill: #D2E3FC;\n",
              "    }\n",
              "\n",
              "    [theme=dark] .colab-df-convert:hover {\n",
              "      background-color: #434B5C;\n",
              "      box-shadow: 0px 1px 3px 1px rgba(0, 0, 0, 0.15);\n",
              "      filter: drop-shadow(0px 1px 2px rgba(0, 0, 0, 0.3));\n",
              "      fill: #FFFFFF;\n",
              "    }\n",
              "  </style>\n",
              "\n",
              "      <script>\n",
              "        const buttonEl =\n",
              "          document.querySelector('#df-d9d71656-4da6-44d5-85b1-eaeb927591d2 button.colab-df-convert');\n",
              "        buttonEl.style.display =\n",
              "          google.colab.kernel.accessAllowed ? 'block' : 'none';\n",
              "\n",
              "        async function convertToInteractive(key) {\n",
              "          const element = document.querySelector('#df-d9d71656-4da6-44d5-85b1-eaeb927591d2');\n",
              "          const dataTable =\n",
              "            await google.colab.kernel.invokeFunction('convertToInteractive',\n",
              "                                                     [key], {});\n",
              "          if (!dataTable) return;\n",
              "\n",
              "          const docLinkHtml = 'Like what you see? Visit the ' +\n",
              "            '<a target=\"_blank\" href=https://colab.research.google.com/notebooks/data_table.ipynb>data table notebook</a>'\n",
              "            + ' to learn more about interactive tables.';\n",
              "          element.innerHTML = '';\n",
              "          dataTable['output_type'] = 'display_data';\n",
              "          await google.colab.output.renderOutput(dataTable, element);\n",
              "          const docLink = document.createElement('div');\n",
              "          docLink.innerHTML = docLinkHtml;\n",
              "          element.appendChild(docLink);\n",
              "        }\n",
              "      </script>\n",
              "    </div>\n",
              "  </div>\n",
              "  "
            ]
          },
          "metadata": {},
          "execution_count": 3
        }
      ]
    },
    {
      "cell_type": "markdown",
      "source": [
        "The rows of the dataframe are individuals with these attributes:\n",
        "* survival - Did the passenger survive (0 = No; 1 = Yes)\n",
        "* pclass - Passenger class (1 = 1st; 2 = 2nd; 3 = 3rd)\n",
        "* sex - Passenger's gender (male, female)\n",
        "* age - Passenger's age\n",
        "* sibsp - Number of siblings/spouses of the passenger aboard\n",
        "* parch - Number of parents/children of the passenger aboard\n",
        "* fare - What the passenger paid\n",
        "* embarkeded - Port of embarkation (C = Cherbourg; Q = Queenstown; S = Southampton)\n",
        "* class - Name of the class (referenced in pclass)\n",
        "* who - Is the passenger a (man, woman, child)\n",
        "* adult_male - Whether the passenger was an adult male (True, False)\n",
        "* embark_town - Name of the port of embarkation (referenced in embarked)\n",
        "* alive - Did the passenger survive as a yes/no string\n",
        "* alone - Was the passenger alone (True, False)\n"
      ],
      "metadata": {
        "id": "XKfss_I8EJ5v"
      }
    },
    {
      "cell_type": "markdown",
      "source": [
        "If you want to get a sense of how the data is distributed across different non-numerical values in a column (`col`) of a dataframe (`df`), you can select that column and run `df.col.value_counts()`. If you want the percentage for each value, you can add the argument `normalize=True` to `value_counts()`. Give it a try with the columns:\n",
        "* who\n",
        "* embark_town\n",
        "\n",
        "**1) How many passengers were there for each of the different values of the `who` column?**"
      ],
      "metadata": {
        "id": "fZMlyrIZG4TK"
      }
    },
    {
      "cell_type": "code",
      "source": [
        "# 1a. How many passengers were there for each of the different values of the \"who\" column?"
      ],
      "metadata": {
        "id": "3XwGguU9GlfN"
      },
      "execution_count": null,
      "outputs": []
    },
    {
      "cell_type": "code",
      "source": [
        "# 1b. What percentage of passengers were there for each of the different values of the \"who\" column?"
      ],
      "metadata": {
        "id": "R7ZdRWfcIl1Q"
      },
      "execution_count": null,
      "outputs": []
    },
    {
      "cell_type": "markdown",
      "source": [
        "**2) How many passengers were there for each of the different values of the `embark_town` column?**"
      ],
      "metadata": {
        "id": "CPYN29LHIB-w"
      }
    },
    {
      "cell_type": "code",
      "source": [
        "# 2a. How many passengers were there for each of the different values of the \"embark_town\" column?"
      ],
      "metadata": {
        "id": "7ZilRejAHnh_"
      },
      "execution_count": null,
      "outputs": []
    },
    {
      "cell_type": "code",
      "source": [
        "# 2b. What percentage of passengers were there for each of the different values of the \"embark_town\" column?"
      ],
      "metadata": {
        "id": "Piw_6sqCIz4c"
      },
      "execution_count": null,
      "outputs": []
    },
    {
      "cell_type": "markdown",
      "source": [
        "We can use functions like `min`, `max`, `mean`, `std`, etc. on numerical columns. We can also use `.describe()` on those columns to get some basic stats.\n",
        "\n",
        "**3) Do this for the column `age`**"
      ],
      "metadata": {
        "id": "EqC5SBdlUaZr"
      }
    },
    {
      "cell_type": "code",
      "source": [
        "# Try out basic functions such as min, max, mean, std, and describe on the age column"
      ],
      "metadata": {
        "id": "NZKaRUoEU2px"
      },
      "execution_count": null,
      "outputs": []
    },
    {
      "cell_type": "markdown",
      "source": [
        "We want to explore grouping the passengers by their attributes to see which groups survived. To do this, we will take the dataframe and call `titanic.groupby('some_column')`. \n",
        "\n",
        "Using that as our starting point, we can then select our column of interest (e.g., `alive`) and do some further analysis on this column.\n",
        "\n",
        "Typically, we aggegate over the values in each group and apply some function. The `alive` column is not numerical, so we can't apply a numerical function to it. We could of course call `value_counts()` on it. If we did we would end up with a multi-indexed dataframe, because we are grouping and `alive` can take more than one value. The index would be the `(group value, alive value)` and the value of each row would be the number of rows with that group value and alive value. \n",
        "\n",
        "For example, if we grouped by `sex`, selected the `alive` column and did `value_counts()` our index would be  (`male` or `female`, `yes` or `no`), so we would have 4 rows in the dataframe for the four possible values of the index. The values in each row would be the number of people in that combined group. We could also get the percentage instead of the number by using the `normalize=True` argument. Try it out now:\n",
        "\n",
        "\n",
        "**4a) What percentage of male/female passengers survived? [grouping by sex, using alive column, and using value_counts() ]**"
      ],
      "metadata": {
        "id": "J2HHTGyRHzG_"
      }
    },
    {
      "cell_type": "code",
      "source": [
        "# group by column \"sex\", select the alive column and use value_counts() with and without the normalize=True argument:"
      ],
      "metadata": {
        "id": "8Cwr6yAW4tsv"
      },
      "execution_count": null,
      "outputs": []
    },
    {
      "cell_type": "markdown",
      "source": [
        "\n",
        "HOWEVER... the column `survived` is a numerical version of the column `alive` -- it is 1 for rows where `alive` is `True` and 0 otherwise -- and we can apply numerical functions to this column. The average or **`mean`** of this column would be equal to the percentage that survived. \n",
        "\n",
        "\n",
        "**4b) What percentage of male/female passengers survived? [use survived column and mean() ]**"
      ],
      "metadata": {
        "id": "_L2tX2qs4sNm"
      }
    },
    {
      "cell_type": "code",
      "source": [
        "# use groupby(), select the correct column and use mean to determine the percentage of male and female passengers survived "
      ],
      "metadata": {
        "id": "OSRlsVuGCR5z"
      },
      "execution_count": null,
      "outputs": []
    },
    {
      "cell_type": "markdown",
      "source": [
        "**5) What percentage of first,second and third class passengers survived?**"
      ],
      "metadata": {
        "id": "0YZrK3HxLl0b"
      }
    },
    {
      "cell_type": "code",
      "source": [
        "# use groupby() and value_counts(normalize=True) to determine which percentage of first, second and third class passengers survived"
      ],
      "metadata": {
        "id": "ABWZEfkH4IZI"
      },
      "execution_count": null,
      "outputs": []
    },
    {
      "cell_type": "markdown",
      "source": [
        "**6) What percentage of passengers embarking from each of the different ports survived?**"
      ],
      "metadata": {
        "id": "kwpPGltULymE"
      }
    },
    {
      "cell_type": "code",
      "source": [
        "# use groupby() and value_counts(normalize=True) to determine which percentage of passengers embarking from each of the different ports survived"
      ],
      "metadata": {
        "id": "QzI-Mq1r_XNL"
      },
      "execution_count": null,
      "outputs": []
    },
    {
      "cell_type": "markdown",
      "source": [
        "What if we wanted to look at the group of passengers that were both alone and adult males?  \n",
        "\n",
        "We could make a new column in our dataframe like this:\n",
        "```python\n",
        "df['new_column_name'] = some operation that combines existing columns\n",
        "```\n",
        "\n",
        "**7) Define a new column called `alone_and_adult_male`and assign it a value by combining the existing `alone` column and the existing `who` column.**\n",
        "\n",
        "Hints: \n",
        "* You can combine boolean columns using `&` (and) and `|` (or). \n",
        "* You can make a boolean column using the `==` expression on an existing column. For example: `(titanic.sex=='male')` will return a column of values that are `True` if for the rows that are `male` and `False` otherwise.   "
      ],
      "metadata": {
        "id": "z2tegkfwMV_P"
      }
    },
    {
      "cell_type": "code",
      "source": [
        "# Make a new column \"alone_and_adult_male\" and assign its value by operating on the existing \"alone\" and \"who\" columns"
      ],
      "metadata": {
        "id": "D-2qLA7XMdBG"
      },
      "execution_count": null,
      "outputs": []
    },
    {
      "cell_type": "markdown",
      "source": [
        "**8) What percentage of alone adult males survived?**"
      ],
      "metadata": {
        "id": "JhLnxW8kQiAJ"
      }
    },
    {
      "cell_type": "code",
      "source": [
        "# Try it out"
      ],
      "metadata": {
        "id": "zar1sSZrPSgA"
      },
      "execution_count": null,
      "outputs": []
    },
    {
      "cell_type": "markdown",
      "source": [
        "**9a) Suppose you were a child on the titanic. Determine the probability of your survival depending on the number of parents you had on board.**\n",
        "\n",
        "Hints:\n",
        "* You can use `df.loc[(df.col == some_val), :]` to get all the rows for which `df.col` is equal to `some_val`. Use this to select only children as your first step.\n",
        "* when the `who` is a `child`, the variable `parch` is the number of parents that child has on board.\n"
      ],
      "metadata": {
        "id": "6ZChT378wEpS"
      }
    },
    {
      "cell_type": "code",
      "source": [
        "# Try it out"
      ],
      "metadata": {
        "id": "KoQpknbzvlsk"
      },
      "execution_count": null,
      "outputs": []
    },
    {
      "cell_type": "markdown",
      "source": [
        "<font size=4 color=\"red\">This is because parents are horrible. Prove me wrong for extra credit</font>"
      ],
      "metadata": {
        "id": "QqIMrAGrxY-K"
      }
    },
    {
      "cell_type": "code",
      "source": [
        "# Prove me wrong"
      ],
      "metadata": {
        "id": "eKhsqZDW4_8q"
      },
      "execution_count": null,
      "outputs": []
    },
    {
      "cell_type": "markdown",
      "source": [
        "**9b) Select all the kids without parents in the dataframe, just to look at their characteristics.** "
      ],
      "metadata": {
        "id": "t64r7cNvzwQx"
      }
    },
    {
      "cell_type": "code",
      "source": [
        "# Try it out"
      ],
      "metadata": {
        "id": "lliVTpIGy_dL"
      },
      "execution_count": null,
      "outputs": []
    },
    {
      "cell_type": "markdown",
      "source": [
        "# Solution to Reading Exercise: Add an Adjusted Rating Column to the IMDb Dataframe "
      ],
      "metadata": {
        "id": "C9ulawOlzQFs"
      }
    },
    {
      "cell_type": "markdown",
      "source": [
        "First we'll read in and prepare the imdb dataframe (i.e., repeat all the little steps we took in the reading notebook to modify the imdb dataframe after we read it in):"
      ],
      "metadata": {
        "id": "JBCrDLxONzWx"
      }
    },
    {
      "cell_type": "code",
      "source": [
        "# Read in the dataframe and preprocess it\n",
        "imdbFile = 'https://raw.githubusercontent.com/dylanwalker/MGSC496/main/datasets/IMDB-Movie-Data.csv'\n",
        "movies_df = pd.read_csv(imdbFile, index_col=\"Title\")\n",
        "movies_df.rename(columns={\n",
        "        'Runtime (Minutes)': 'Runtime', \n",
        "        'Revenue (Millions)': 'Revenue_millions'\n",
        "    }, inplace=True)\n",
        "movies_df.columns = [col.lower() for col in movies_df]\n",
        "movies_df[\"rating_category\"] = movies_df[\"rating\"].apply(lambda x: 'good' if x >= 8.0 else 'bad')"
      ],
      "metadata": {
        "id": "gh9CVR7ZMc5d"
      },
      "execution_count": null,
      "outputs": []
    },
    {
      "cell_type": "markdown",
      "source": [
        "<hr/>\n",
        "<img src=\"https://drive.google.com/uc?id=1sk8CSP26YY7sfyzmHGFXncuNRujkvu9v\" align=\"left\">\n",
        "\n",
        "<font size=3 color=\"darkred\">Make an Adjusted Rating Column for the IMDb dataframe </font>\n",
        "\n",
        "<font>\n",
        "In the imdb data that we've been looking at, the rating is just the mean score. But some movies have many more votes than others, and this should lend more \"weight\" to their rating. Let's make a new adjusted rating column that, for two movies with the same rating, will give higher rating to the movie that has received more votes.   \n",
        "</font>\n",
        "\n",
        "\n",
        "<font>\n",
        "\n",
        "A good adjusted scoring rule is:\n",
        "```\n",
        " rating_adjusted = rating - (rating - 5)*2**(-log10(votes+1))\n",
        "```\n",
        "(note: to implement this, we can use `np.log10()` )\n",
        "\n",
        "You can see why adjusted rating might be a good idea. Suppose two movies have a rating of 8, but one has only 3 votes where the other has 4000 votes:\n",
        "```\n",
        "rating_adjusted_1 = 8 - (8-5)*2**(-log10(4)) = 6.02\n",
        "rating_adjusted_2 = 8 - (8-5)*2**(-log10(4001)) = 7.75\n",
        "```\n",
        "The adjusted rating gives more weight to movies with more votes, because we are not as confident in ratings with few votes, and therefore adjust them towards the middel rating (5). Note that the adjustment (the part we are subtracting) gets smaller and smaller as the number of votes gets larger.\n",
        "\n",
        "Let's try to add this adjusted rating to our imdb data frame. Make a new column called 'rating_adjusted' to implement this. Then, make a scatter plot of (rating_adjusted - rating) vs  rating.\n",
        "\n",
        "note: it's okay if you want to make a column `rating_delta = rating_adjusted - rating`.\n",
        "\n",
        "Now calculate the `rating_delta` and `rating_adjusted` and make a scatterplot with `rating` on the x-axis and `rating_delta` or `rating_adjusted` on the y-axis.\n",
        "</font>"
      ],
      "metadata": {
        "id": "n4uPRlWyIjce"
      }
    },
    {
      "cell_type": "markdown",
      "source": [
        "Now we can make our new adjusted rating column, based on the proposed adjusted rating:\n",
        "```\n",
        " rating_adjusted = rating - (rating - 5)*2**(-log10(votes+1))\n",
        "```"
      ],
      "metadata": {
        "id": "hoBtDeqXN8PP"
      }
    },
    {
      "cell_type": "markdown",
      "source": [
        "Here's my solution:"
      ],
      "metadata": {
        "id": "vlJeji6tOIOq"
      }
    },
    {
      "cell_type": "code",
      "metadata": {
        "id": "MykjKGxkryMc"
      },
      "source": [
        "# Write your code here\n",
        "movies_df.head()\n",
        "\n",
        "# Solution using apply:\n",
        "movies_df['rating_adjusted'] = movies_df.apply(lambda df: df['rating']-(df['rating']-5)*2**(-np.log10(df['votes']+1)), axis=1)\n",
        "\n",
        "# Solution w/o using apply (better):\n",
        "movies_df['rating_adjusted'] = movies_df.rating - (movies_df.rating-5)*2**(-np.log10(movies_df.votes+1))\n",
        "movies_df['rating_delta'] = movies_df.rating_adjusted - movies_df.rating\n",
        "movies_df.plot(kind='scatter', x='rating', y='rating_delta', figsize=(20,10));"
      ],
      "execution_count": null,
      "outputs": []
    },
    {
      "cell_type": "markdown",
      "source": [
        "# Solution to Reading Exercise: Plot Revenue vs Adjusted Rating for a Single Genre "
      ],
      "metadata": {
        "id": "4Lp9hXiiP9eT"
      }
    },
    {
      "cell_type": "markdown",
      "source": [
        "<hr/>\n",
        "<img src=\"https://drive.google.com/uc?id=1sk8CSP26YY7sfyzmHGFXncuNRujkvu9v\" align=\"left\">\n",
        "\n",
        "<font size=3 color=\"darkred\">Plot Revenue vs Adjusted Rating for a Single Genre</font>\n",
        "\n",
        "<font>\n",
        "Using the `movies_df` DataFrame, write a function that will plot the scatterplot of Revenue vs Metascore for only one Genre.\n",
        "</font>\n",
        "\n",
        "<br />\n",
        "<br />\n",
        "<br />\n",
        "\n",
        "Your function should have two arguments:\n",
        "- `movies_df`, the movie dataframe\n",
        "- `genre`, a string sepcifying the Genre of movie for which we will plot the data, e.g., 'Horror'\n",
        "\n",
        "Note that the an entry in the genre column contains a comma-separated list of different genres that a movie belongs to:\n",
        "\n"
      ],
      "metadata": {
        "id": "xpynOrhJOj2V"
      }
    },
    {
      "cell_type": "code",
      "metadata": {
        "id": "8A9zt9_LPWOm"
      },
      "source": [
        "movies_df.genre[1:10]"
      ],
      "execution_count": null,
      "outputs": []
    },
    {
      "cell_type": "markdown",
      "source": [
        "However, we can get all the individual unique genres by using Pandas built in string operations on a series:"
      ],
      "metadata": {
        "id": "BQqyC1JfPYr0"
      }
    },
    {
      "cell_type": "code",
      "source": [
        "allGenresConcatenated = movies_df.genre.str.cat(sep=',') # This will return a string by concatenating all the strings in each row of genre, separating them with a ',' \n",
        "allGenres = np.unique(allGenresConcatenated.split(',')) # This will split the string so that we have a list and then use numpy's unique() to get only the unique elements of the list\n",
        "allGenres"
      ],
      "metadata": {
        "id": "cMfEvOBCPf7M"
      },
      "execution_count": null,
      "outputs": []
    },
    {
      "cell_type": "markdown",
      "source": [
        "You may find the following string method of dataframes useful:\n",
        "- If a dataframe `df` has a string columm, `stringCol`, then the method\n",
        " - `df.stringCol.str.contains(someString)` will return `True` if someString is a substring within a value of stringCol.\n",
        "\n",
        "Your goal is to define a function that will return a plot object. The function should make a scatter plot of `rating_adjusted` on the x-axis and `revenue_millions` on the y-axis."
      ],
      "metadata": {
        "id": "RUEFYwijPqvL"
      }
    },
    {
      "cell_type": "code",
      "metadata": {
        "id": "h9c0NaLhszQb"
      },
      "source": [
        "def plot_rev_vs_rating_adj(movies_df, genreName):\n",
        "  plot = movies_df[movies_df.genre.str.contains(genreName)].plot(kind='scatter',x='rating_adjusted',y='revenue_millions')\n",
        "  plot.set_title(genreName)\n",
        "  return plot\n",
        "\n",
        "plot=plot_rev_vs_rating_adj('Horror')\n",
        "plot=plot_rev_vs_rating_adj('Action')"
      ],
      "execution_count": null,
      "outputs": []
    },
    {
      "cell_type": "markdown",
      "metadata": {
        "id": "ow--Rj5v0v7B"
      },
      "source": [
        "# Solution to Reading Exercise: Cars, Cars, Cars    "
      ]
    },
    {
      "cell_type": "markdown",
      "source": [
        "<hr/>\n",
        "<img src=\"https://drive.google.com/uc?id=1sk8CSP26YY7sfyzmHGFXncuNRujkvu9v\" align=\"left\">\n",
        "\n",
        "<font size=3 color=\"darkred\">Cars, Cars, Cars!</font>\n",
        "\n",
        "<font>\n",
        "Let's test our knowledge of merging, and concatenating by working with some datasets on cars.\n",
        "</font>\n",
        "<br />\n",
        "<br />\n",
        "<br />\n",
        "\n",
        "First, let's read in some datasets with data about cars"
      ],
      "metadata": {
        "id": "DbktrQvVX-_N"
      }
    },
    {
      "cell_type": "code",
      "metadata": {
        "id": "Z8PtQcpk1E-a"
      },
      "source": [
        "cars1 = pd.read_csv(\"https://raw.githubusercontent.com/dylanwalker/BA865/master/datasets/cars1.csv\")\n",
        "cars2_engine = pd.read_csv(\"https://raw.githubusercontent.com/dylanwalker/BA865/master/datasets/cars2_engine.csv\")\n",
        "cars2_perf = pd.read_csv(\"https://raw.githubusercontent.com/dylanwalker/BA865/master/datasets/cars2_perf.csv\")\n",
        "cars2_info = pd.read_csv(\"https://raw.githubusercontent.com/dylanwalker/BA865/master/datasets/cars2_info.csv\")\n",
        "\n",
        "display('cars1','cars2_engine','cars2_perf','cars2_info')"
      ],
      "execution_count": null,
      "outputs": []
    },
    {
      "cell_type": "markdown",
      "metadata": {
        "id": "lb291hVG1S46"
      },
      "source": [
        "Q1: The first dataset `cars1` has some blank columns. Get rid of them:"
      ]
    },
    {
      "cell_type": "code",
      "metadata": {
        "id": "UMsTqQN21eaO"
      },
      "source": [
        "# write your code here\n",
        "cars1 = cars1.loc[:, \"mpg\":\"car\"] # using .loc to slice only the columns we want to keep"
      ],
      "execution_count": null,
      "outputs": []
    },
    {
      "cell_type": "markdown",
      "metadata": {
        "id": "bR8NGGbx1gKL"
      },
      "source": [
        "Q2: Look at the number of observations in each of the datasets (cars1, cars2_perf, cars2_engine, cars2_info).  Do any of the datasets contain duplicate data? If so, clean them."
      ]
    },
    {
      "cell_type": "code",
      "metadata": {
        "id": "7RWYGw4H1mG8"
      },
      "source": [
        "# write your code here\n",
        "cars1.drop_duplicates(inplace=True)\n",
        "cars2_perf.drop_duplicates(inplace=True)\n",
        "cars2_engine.drop_duplicates(inplace=True)\n",
        "cars2_info.drop_duplicates(inplace=True)"
      ],
      "execution_count": null,
      "outputs": []
    },
    {
      "cell_type": "markdown",
      "metadata": {
        "id": "iuQ24cNO1qDF"
      },
      "source": [
        "Q3: Combine the data in cars2_engine, cars2_perf, and cars2_info into a single dataframe called cars2:"
      ]
    },
    {
      "cell_type": "code",
      "metadata": {
        "id": "nzEp6_KN2ctw"
      },
      "source": [
        "# write your code here\n",
        "cars2 = pd.merge(cars2_engine,cars2_perf)\n",
        "cars2 = pd.merge(cars2,cars2_info)\n",
        "cars2"
      ],
      "execution_count": null,
      "outputs": []
    },
    {
      "cell_type": "markdown",
      "metadata": {
        "id": "kC08UFMcJHgC"
      },
      "source": [
        "Q4: Get rid of the extra unnamed column in cars2 and then combine the data in cars1 and cars2 together."
      ]
    },
    {
      "cell_type": "code",
      "metadata": {
        "id": "WypNhVHvJLwY"
      },
      "source": [
        "# write your code here\n",
        "cars2 = cars2.loc[:,\"car\":\"origin\"] # get rid of the unnamed column in cars2\n",
        "cars = pd.concat([cars1,cars2] ,sort=True) # concatenate the cars1 and cars2 dataframes together\n",
        "cars"
      ],
      "execution_count": null,
      "outputs": []
    },
    {
      "cell_type": "markdown",
      "metadata": {
        "id": "FZ7BhyvXyiHC"
      },
      "source": [
        "# Solution to Reading Exercise: International Alcohol Consumption"
      ]
    },
    {
      "cell_type": "markdown",
      "metadata": {
        "id": "AJNQ-zOSzaLo"
      },
      "source": []
    },
    {
      "cell_type": "code",
      "metadata": {
        "id": "DtUfkQzCza2G"
      },
      "source": [
        "\n",
        "drinks = pd.read_csv('https://raw.githubusercontent.com/justmarkham/DAT8/master/data/drinks.csv')\n",
        "drinks.head()"
      ],
      "execution_count": null,
      "outputs": []
    },
    {
      "cell_type": "markdown",
      "metadata": {
        "id": "RpFVOsT4zhbI"
      },
      "source": [
        "Q1: Which continent drinks more beer on average?"
      ]
    },
    {
      "cell_type": "code",
      "metadata": {
        "id": "MZQKD5lkzsz4"
      },
      "source": [
        "# code your answer here\n",
        "drinks.groupby('country').beer_servings.mean().sort_values(ascending=False)"
      ],
      "execution_count": null,
      "outputs": []
    },
    {
      "cell_type": "markdown",
      "metadata": {
        "id": "XbKsirYvzvfP"
      },
      "source": [
        "Q2: For each continent, print the statistics for wine consumption:"
      ]
    },
    {
      "cell_type": "code",
      "metadata": {
        "id": "7YXEITZNz3Ee"
      },
      "source": [
        "# code your answer here\n",
        "drinks.groupby('continent').wine_servings.describe()"
      ],
      "execution_count": null,
      "outputs": []
    },
    {
      "cell_type": "markdown",
      "metadata": {
        "id": "JFV-5YTIz6HK"
      },
      "source": [
        "Q3: What is the mean alcohol consumption per contintent for every continent?"
      ]
    },
    {
      "cell_type": "code",
      "metadata": {
        "id": "o7EhIdRg0FPJ"
      },
      "source": [
        "# code your answer here\n",
        "drinks.groupby('continent').total_litres_of_pure_alcohol.mean()"
      ],
      "execution_count": null,
      "outputs": []
    },
    {
      "cell_type": "markdown",
      "metadata": {
        "id": "9tTEn-ZG0G0K"
      },
      "source": [
        "Q4: Using only one line of code, compute the mean, min and max spirit consumption per continent."
      ]
    },
    {
      "cell_type": "code",
      "metadata": {
        "id": "FHAycdIi0bz0"
      },
      "source": [
        "# code your answer here\n",
        "drinks.groupby('continent').spirit_servings.agg(['mean','min', 'max']).sort_values(['mean'],ascending=False) # the .sort_values() part is not necessary"
      ],
      "execution_count": null,
      "outputs": []
    },
    {
      "cell_type": "markdown",
      "source": [
        "# Solution to Reading Exercise: Does the number of planets detected by each method change over the years?"
      ],
      "metadata": {
        "id": "PxPz2plKgupG"
      }
    },
    {
      "cell_type": "markdown",
      "source": [
        "First we need to load the planets dataset:"
      ],
      "metadata": {
        "id": "F98wG3uAh5bt"
      }
    },
    {
      "cell_type": "code",
      "source": [
        "import seaborn as sns\n",
        "planets = sns.load_dataset('planets')"
      ],
      "metadata": {
        "id": "8IlvuIeThMH_"
      },
      "execution_count": null,
      "outputs": []
    },
    {
      "cell_type": "markdown",
      "source": [
        "<hr/>\n",
        "<img src=\"https://drive.google.com/uc?id=1sk8CSP26YY7sfyzmHGFXncuNRujkvu9v\" align=\"left\">\n",
        "\n",
        "<font size=3 color=\"darkred\">Does the number of planets detected by each method change over the years?</font>\n",
        "\n",
        "<font>\n",
        "We want to know how the number of planets detected by each method changes over the years. What we're after is a dataframe where the index is a MultiIndex of (year, method) (where method is e.g., Radial Velocity, Pulsar Timing, etc.) and there is a column (that we'll name 'number') for the count for each year and method.\n",
        "<br>\n",
        "<br>\n",
        "Once the dataframe is structured like this, we can just call `.plot()`.  if the figure is not sized correctly, try adding the keyword argument `figsize=(width,height)` and replace `width` and `height` by integers e.g. `figsize=(20,10)`.\n",
        "<br>\n",
        "\n",
        "\n",
        "Some hints:\n",
        "\n",
        "* you'll need to group by more than one column to get the MultiIndex\n",
        "* the order of the columns in the groupby matters, because we'll need to use `unstack()` to get the detection methods to become column labels.\n",
        "</font>"
      ],
      "metadata": {
        "id": "aIar2qcygJ9y"
      }
    },
    {
      "cell_type": "code",
      "source": [
        "# We'll group by year and method and name the dataframe pmot_df for \"(p)lanet (m)ethod (o)ver (t)ime\"\n",
        "pmot_df = planets.groupby(['year','method'])['number'].count() # this will produce a multiIndexed df where index is (year, method) and one column: count\n",
        "pmot_df.unstack().plot(); # This will plot a series for each column vs the index (year)"
      ],
      "metadata": {
        "id": "Pzwc9_G_gJ9y"
      },
      "execution_count": null,
      "outputs": []
    },
    {
      "cell_type": "markdown",
      "source": [
        "<hr/>"
      ],
      "metadata": {
        "id": "AqEwnbUNgJ9y"
      }
    },
    {
      "cell_type": "markdown",
      "metadata": {
        "id": "HnEyGAVg2z87"
      },
      "source": [
        "# Exercise: Make a boxplot of movie revenue by each genre"
      ]
    },
    {
      "cell_type": "markdown",
      "metadata": {
        "id": "gJhoSq7M2KKr"
      },
      "source": [
        "\n",
        "\n",
        "For this exercise, we'll use `movies_df`, containing imdb movie data. Let's load that now (if its not already loaded):"
      ]
    },
    {
      "cell_type": "code",
      "source": [
        "# Read in the dataframe and preprocess it\n",
        "imdbFile = 'https://raw.githubusercontent.com/dylanwalker/MGSC496/main/datasets/IMDB-Movie-Data.csv'\n",
        "movies_df = pd.read_csv(imdbFile, index_col=\"Title\")\n",
        "movies_df.rename(columns={\n",
        "        'Runtime (Minutes)': 'Runtime', \n",
        "        'Revenue (Millions)': 'Revenue_millions'\n",
        "    }, inplace=True)\n",
        "movies_df.columns = [col.lower() for col in movies_df]\n",
        "movies_df[\"rating_category\"] = movies_df[\"rating\"].apply(lambda x: 'good' if x >= 8.0 else 'bad')"
      ],
      "metadata": {
        "id": "iB0sRSRUissg"
      },
      "execution_count": null,
      "outputs": []
    },
    {
      "cell_type": "markdown",
      "source": [
        "What we'd like to do is make a boxplot with a box for each genre to show how the revenue is distributed for movies that are part of that genre.\n",
        "<br>\n",
        "<br>\n",
        "Recall how the imdb movies data handles the fact that a movie could belong to one or more genres using a comma-separated string:\n"
      ],
      "metadata": {
        "id": "S7Jk1plSirm8"
      }
    },
    {
      "cell_type": "code",
      "metadata": {
        "id": "m7AAUwRmsUDG",
        "colab": {
          "base_uri": "https://localhost:8080/",
          "height": 455
        },
        "outputId": "787d33b6-23b1-4a7a-b6d0-0396f0e603c2"
      },
      "source": [
        "movies_df[['genre']]"
      ],
      "execution_count": null,
      "outputs": [
        {
          "output_type": "execute_result",
          "data": {
            "text/plain": [
              "                                            genre\n",
              "Title                                            \n",
              "Guardians of the Galaxy   Action,Adventure,Sci-Fi\n",
              "Prometheus               Adventure,Mystery,Sci-Fi\n",
              "Split                             Horror,Thriller\n",
              "Sing                      Animation,Comedy,Family\n",
              "Suicide Squad            Action,Adventure,Fantasy\n",
              "...                                           ...\n",
              "Secret in Their Eyes          Crime,Drama,Mystery\n",
              "Hostel: Part II                            Horror\n",
              "Step Up 2: The Streets        Drama,Music,Romance\n",
              "Search Party                     Adventure,Comedy\n",
              "Nine Lives                  Comedy,Family,Fantasy\n",
              "\n",
              "[1000 rows x 1 columns]"
            ],
            "text/html": [
              "\n",
              "  <div id=\"df-6d6b3f16-1331-42f3-aa93-fe8186c15e6e\">\n",
              "    <div class=\"colab-df-container\">\n",
              "      <div>\n",
              "<style scoped>\n",
              "    .dataframe tbody tr th:only-of-type {\n",
              "        vertical-align: middle;\n",
              "    }\n",
              "\n",
              "    .dataframe tbody tr th {\n",
              "        vertical-align: top;\n",
              "    }\n",
              "\n",
              "    .dataframe thead th {\n",
              "        text-align: right;\n",
              "    }\n",
              "</style>\n",
              "<table border=\"1\" class=\"dataframe\">\n",
              "  <thead>\n",
              "    <tr style=\"text-align: right;\">\n",
              "      <th></th>\n",
              "      <th>genre</th>\n",
              "    </tr>\n",
              "    <tr>\n",
              "      <th>Title</th>\n",
              "      <th></th>\n",
              "    </tr>\n",
              "  </thead>\n",
              "  <tbody>\n",
              "    <tr>\n",
              "      <th>Guardians of the Galaxy</th>\n",
              "      <td>Action,Adventure,Sci-Fi</td>\n",
              "    </tr>\n",
              "    <tr>\n",
              "      <th>Prometheus</th>\n",
              "      <td>Adventure,Mystery,Sci-Fi</td>\n",
              "    </tr>\n",
              "    <tr>\n",
              "      <th>Split</th>\n",
              "      <td>Horror,Thriller</td>\n",
              "    </tr>\n",
              "    <tr>\n",
              "      <th>Sing</th>\n",
              "      <td>Animation,Comedy,Family</td>\n",
              "    </tr>\n",
              "    <tr>\n",
              "      <th>Suicide Squad</th>\n",
              "      <td>Action,Adventure,Fantasy</td>\n",
              "    </tr>\n",
              "    <tr>\n",
              "      <th>...</th>\n",
              "      <td>...</td>\n",
              "    </tr>\n",
              "    <tr>\n",
              "      <th>Secret in Their Eyes</th>\n",
              "      <td>Crime,Drama,Mystery</td>\n",
              "    </tr>\n",
              "    <tr>\n",
              "      <th>Hostel: Part II</th>\n",
              "      <td>Horror</td>\n",
              "    </tr>\n",
              "    <tr>\n",
              "      <th>Step Up 2: The Streets</th>\n",
              "      <td>Drama,Music,Romance</td>\n",
              "    </tr>\n",
              "    <tr>\n",
              "      <th>Search Party</th>\n",
              "      <td>Adventure,Comedy</td>\n",
              "    </tr>\n",
              "    <tr>\n",
              "      <th>Nine Lives</th>\n",
              "      <td>Comedy,Family,Fantasy</td>\n",
              "    </tr>\n",
              "  </tbody>\n",
              "</table>\n",
              "<p>1000 rows × 1 columns</p>\n",
              "</div>\n",
              "      <button class=\"colab-df-convert\" onclick=\"convertToInteractive('df-6d6b3f16-1331-42f3-aa93-fe8186c15e6e')\"\n",
              "              title=\"Convert this dataframe to an interactive table.\"\n",
              "              style=\"display:none;\">\n",
              "        \n",
              "  <svg xmlns=\"http://www.w3.org/2000/svg\" height=\"24px\"viewBox=\"0 0 24 24\"\n",
              "       width=\"24px\">\n",
              "    <path d=\"M0 0h24v24H0V0z\" fill=\"none\"/>\n",
              "    <path d=\"M18.56 5.44l.94 2.06.94-2.06 2.06-.94-2.06-.94-.94-2.06-.94 2.06-2.06.94zm-11 1L8.5 8.5l.94-2.06 2.06-.94-2.06-.94L8.5 2.5l-.94 2.06-2.06.94zm10 10l.94 2.06.94-2.06 2.06-.94-2.06-.94-.94-2.06-.94 2.06-2.06.94z\"/><path d=\"M17.41 7.96l-1.37-1.37c-.4-.4-.92-.59-1.43-.59-.52 0-1.04.2-1.43.59L10.3 9.45l-7.72 7.72c-.78.78-.78 2.05 0 2.83L4 21.41c.39.39.9.59 1.41.59.51 0 1.02-.2 1.41-.59l7.78-7.78 2.81-2.81c.8-.78.8-2.07 0-2.86zM5.41 20L4 18.59l7.72-7.72 1.47 1.35L5.41 20z\"/>\n",
              "  </svg>\n",
              "      </button>\n",
              "      \n",
              "  <style>\n",
              "    .colab-df-container {\n",
              "      display:flex;\n",
              "      flex-wrap:wrap;\n",
              "      gap: 12px;\n",
              "    }\n",
              "\n",
              "    .colab-df-convert {\n",
              "      background-color: #E8F0FE;\n",
              "      border: none;\n",
              "      border-radius: 50%;\n",
              "      cursor: pointer;\n",
              "      display: none;\n",
              "      fill: #1967D2;\n",
              "      height: 32px;\n",
              "      padding: 0 0 0 0;\n",
              "      width: 32px;\n",
              "    }\n",
              "\n",
              "    .colab-df-convert:hover {\n",
              "      background-color: #E2EBFA;\n",
              "      box-shadow: 0px 1px 2px rgba(60, 64, 67, 0.3), 0px 1px 3px 1px rgba(60, 64, 67, 0.15);\n",
              "      fill: #174EA6;\n",
              "    }\n",
              "\n",
              "    [theme=dark] .colab-df-convert {\n",
              "      background-color: #3B4455;\n",
              "      fill: #D2E3FC;\n",
              "    }\n",
              "\n",
              "    [theme=dark] .colab-df-convert:hover {\n",
              "      background-color: #434B5C;\n",
              "      box-shadow: 0px 1px 3px 1px rgba(0, 0, 0, 0.15);\n",
              "      filter: drop-shadow(0px 1px 2px rgba(0, 0, 0, 0.3));\n",
              "      fill: #FFFFFF;\n",
              "    }\n",
              "  </style>\n",
              "\n",
              "      <script>\n",
              "        const buttonEl =\n",
              "          document.querySelector('#df-6d6b3f16-1331-42f3-aa93-fe8186c15e6e button.colab-df-convert');\n",
              "        buttonEl.style.display =\n",
              "          google.colab.kernel.accessAllowed ? 'block' : 'none';\n",
              "\n",
              "        async function convertToInteractive(key) {\n",
              "          const element = document.querySelector('#df-6d6b3f16-1331-42f3-aa93-fe8186c15e6e');\n",
              "          const dataTable =\n",
              "            await google.colab.kernel.invokeFunction('convertToInteractive',\n",
              "                                                     [key], {});\n",
              "          if (!dataTable) return;\n",
              "\n",
              "          const docLinkHtml = 'Like what you see? Visit the ' +\n",
              "            '<a target=\"_blank\" href=https://colab.research.google.com/notebooks/data_table.ipynb>data table notebook</a>'\n",
              "            + ' to learn more about interactive tables.';\n",
              "          element.innerHTML = '';\n",
              "          dataTable['output_type'] = 'display_data';\n",
              "          await google.colab.output.renderOutput(dataTable, element);\n",
              "          const docLink = document.createElement('div');\n",
              "          docLink.innerHTML = docLinkHtml;\n",
              "          element.appendChild(docLink);\n",
              "        }\n",
              "      </script>\n",
              "    </div>\n",
              "  </div>\n",
              "  "
            ]
          },
          "metadata": {},
          "execution_count": 3
        }
      ]
    },
    {
      "cell_type": "markdown",
      "metadata": {
        "id": "sszaW6_vsjih"
      },
      "source": [
        "To make our boxplot, we need to get this dataframe into \"long\" format.  If the genre field was a list instead of a string, we would be in a similar situation as with the pets example. So how can we get it to be come a list?  \n",
        "\n",
        "Pandas has some cool methods that let you work with columns that are strings.\n",
        "\n",
        "In fact, many are vectorized versions of Pythons regular string methods:\n",
        "\n",
        "\n",
        "|             |                  |                  |                  |\n",
        "|-------------|------------------|------------------|------------------|\n",
        "|``len()``    | ``lower()``      | ``translate()``  | ``islower()``    | \n",
        "|``ljust()``  | ``upper()``      | ``startswith()`` | ``isupper()``    | \n",
        "|``rjust()``  | ``find()``       | ``endswith()``   | ``isnumeric()``  | \n",
        "|``center()`` | ``rfind()``      | ``isalnum()``    | ``isdecimal()``  | \n",
        "|``zfill()``  | ``index()``      | ``isalpha()``    | ``split()``      | \n",
        "|``strip()``  | ``rindex()``     | ``isdigit()``    | ``rsplit()``     | \n",
        "|``rstrip()`` | ``capitalize()`` | ``isspace()``    | ``partition()``  | \n",
        "|``lstrip()`` |  ``swapcase()``  |  ``istitle()``   | ``rpartition()`` |\n",
        "\n",
        "But they also have methods for pattern matching with regular expressions:\n",
        "\n",
        "| Method | Description |\n",
        "|--------|-------------|\n",
        "| ``match()`` | Call ``re.match()`` on each element, returning a boolean. |\n",
        "| ``extract()`` | Call ``re.match()`` on each element, returning matched groups as strings.|\n",
        "| ``findall()`` | Call ``re.findall()`` on each element |\n",
        "| ``replace()`` | Replace occurrences of pattern with some other string|\n",
        "| ``contains()`` | Call ``re.search()`` on each element, returning a boolean |\n",
        "| ``count()`` | Count occurrences of pattern|\n",
        "| ``split()``   | Equivalent to ``str.split()``, but accepts regexps |\n",
        "| ``rsplit()`` | Equivalent to ``str.rsplit()``, but accepts regexps |\n",
        "\n",
        "I mentions these not only because they are very useful when working with text data, but also because we can use them for this exercise in order to take the genre, which is a string of comma-separated genre names, and convert it into a list.\n",
        "\n",
        "Here's how:\n"
      ]
    },
    {
      "cell_type": "code",
      "metadata": {
        "id": "tJtJPtz0tXEj",
        "colab": {
          "base_uri": "https://localhost:8080/"
        },
        "outputId": "964a04d7-3ce4-4ea4-e6e2-8f3e725b7feb"
      },
      "source": [
        "movies_df.genre.str.split(',')"
      ],
      "execution_count": null,
      "outputs": [
        {
          "output_type": "execute_result",
          "data": {
            "text/plain": [
              "Title\n",
              "Guardians of the Galaxy     [Action, Adventure, Sci-Fi]\n",
              "Prometheus                 [Adventure, Mystery, Sci-Fi]\n",
              "Split                                [Horror, Thriller]\n",
              "Sing                        [Animation, Comedy, Family]\n",
              "Suicide Squad              [Action, Adventure, Fantasy]\n",
              "                                       ...             \n",
              "Secret in Their Eyes            [Crime, Drama, Mystery]\n",
              "Hostel: Part II                                [Horror]\n",
              "Step Up 2: The Streets          [Drama, Music, Romance]\n",
              "Search Party                        [Adventure, Comedy]\n",
              "Nine Lives                    [Comedy, Family, Fantasy]\n",
              "Name: genre, Length: 1000, dtype: object"
            ]
          },
          "metadata": {},
          "execution_count": 4
        }
      ]
    },
    {
      "cell_type": "markdown",
      "metadata": {
        "id": "dcBsj7I_tcji"
      },
      "source": [
        "We can actually make this a new column of our dataframe. Lets call it \"genre_list\":"
      ]
    },
    {
      "cell_type": "code",
      "metadata": {
        "id": "d4xa8lIvtltA",
        "colab": {
          "base_uri": "https://localhost:8080/",
          "height": 846
        },
        "outputId": "bde73b16-5301-40c0-b46c-c0ff1f922723"
      },
      "source": [
        "movies_df['genre_list'] = movies_df.genre.str.split(',')\n",
        "movies_df"
      ],
      "execution_count": null,
      "outputs": [
        {
          "output_type": "execute_result",
          "data": {
            "text/plain": [
              "                         rank                     genre  \\\n",
              "Title                                                     \n",
              "Guardians of the Galaxy     1   Action,Adventure,Sci-Fi   \n",
              "Prometheus                  2  Adventure,Mystery,Sci-Fi   \n",
              "Split                       3           Horror,Thriller   \n",
              "Sing                        4   Animation,Comedy,Family   \n",
              "Suicide Squad               5  Action,Adventure,Fantasy   \n",
              "...                       ...                       ...   \n",
              "Secret in Their Eyes      996       Crime,Drama,Mystery   \n",
              "Hostel: Part II           997                    Horror   \n",
              "Step Up 2: The Streets    998       Drama,Music,Romance   \n",
              "Search Party              999          Adventure,Comedy   \n",
              "Nine Lives               1000     Comedy,Family,Fantasy   \n",
              "\n",
              "                                                               description  \\\n",
              "Title                                                                        \n",
              "Guardians of the Galaxy  A group of intergalactic criminals are forced ...   \n",
              "Prometheus               Following clues to the origin of mankind, a te...   \n",
              "Split                    Three girls are kidnapped by a man with a diag...   \n",
              "Sing                     In a city of humanoid animals, a hustling thea...   \n",
              "Suicide Squad            A secret government agency recruits some of th...   \n",
              "...                                                                    ...   \n",
              "Secret in Their Eyes     A tight-knit team of rising investigators, alo...   \n",
              "Hostel: Part II          Three American college students studying abroa...   \n",
              "Step Up 2: The Streets   Romantic sparks occur between two dance studen...   \n",
              "Search Party             A pair of friends embark on a mission to reuni...   \n",
              "Nine Lives               A stuffy businessman finds himself trapped ins...   \n",
              "\n",
              "                                     director  \\\n",
              "Title                                           \n",
              "Guardians of the Galaxy            James Gunn   \n",
              "Prometheus                       Ridley Scott   \n",
              "Split                      M. Night Shyamalan   \n",
              "Sing                     Christophe Lourdelet   \n",
              "Suicide Squad                      David Ayer   \n",
              "...                                       ...   \n",
              "Secret in Their Eyes                Billy Ray   \n",
              "Hostel: Part II                      Eli Roth   \n",
              "Step Up 2: The Streets             Jon M. Chu   \n",
              "Search Party                   Scot Armstrong   \n",
              "Nine Lives                   Barry Sonnenfeld   \n",
              "\n",
              "                                                                    actors  \\\n",
              "Title                                                                        \n",
              "Guardians of the Galaxy  Chris Pratt, Vin Diesel, Bradley Cooper, Zoe S...   \n",
              "Prometheus               Noomi Rapace, Logan Marshall-Green, Michael Fa...   \n",
              "Split                    James McAvoy, Anya Taylor-Joy, Haley Lu Richar...   \n",
              "Sing                     Matthew McConaughey,Reese Witherspoon, Seth Ma...   \n",
              "Suicide Squad            Will Smith, Jared Leto, Margot Robbie, Viola D...   \n",
              "...                                                                    ...   \n",
              "Secret in Their Eyes     Chiwetel Ejiofor, Nicole Kidman, Julia Roberts...   \n",
              "Hostel: Part II          Lauren German, Heather Matarazzo, Bijou Philli...   \n",
              "Step Up 2: The Streets   Robert Hoffman, Briana Evigan, Cassie Ventura,...   \n",
              "Search Party             Adam Pally, T.J. Miller, Thomas Middleditch,Sh...   \n",
              "Nine Lives               Kevin Spacey, Jennifer Garner, Robbie Amell,Ch...   \n",
              "\n",
              "                         year  runtime  rating   votes  revenue_millions  \\\n",
              "Title                                                                      \n",
              "Guardians of the Galaxy  2014      121     8.1  757074            333.13   \n",
              "Prometheus               2012      124     7.0  485820            126.46   \n",
              "Split                    2016      117     7.3  157606            138.12   \n",
              "Sing                     2016      108     7.2   60545            270.32   \n",
              "Suicide Squad            2016      123     6.2  393727            325.02   \n",
              "...                       ...      ...     ...     ...               ...   \n",
              "Secret in Their Eyes     2015      111     6.2   27585               NaN   \n",
              "Hostel: Part II          2007       94     5.5   73152             17.54   \n",
              "Step Up 2: The Streets   2008       98     6.2   70699             58.01   \n",
              "Search Party             2014       93     5.6    4881               NaN   \n",
              "Nine Lives               2016       87     5.3   12435             19.64   \n",
              "\n",
              "                         metascore rating_category  \\\n",
              "Title                                                \n",
              "Guardians of the Galaxy       76.0            good   \n",
              "Prometheus                    65.0             bad   \n",
              "Split                         62.0             bad   \n",
              "Sing                          59.0             bad   \n",
              "Suicide Squad                 40.0             bad   \n",
              "...                            ...             ...   \n",
              "Secret in Their Eyes          45.0             bad   \n",
              "Hostel: Part II               46.0             bad   \n",
              "Step Up 2: The Streets        50.0             bad   \n",
              "Search Party                  22.0             bad   \n",
              "Nine Lives                    11.0             bad   \n",
              "\n",
              "                                           genre_list  \n",
              "Title                                                  \n",
              "Guardians of the Galaxy   [Action, Adventure, Sci-Fi]  \n",
              "Prometheus               [Adventure, Mystery, Sci-Fi]  \n",
              "Split                              [Horror, Thriller]  \n",
              "Sing                      [Animation, Comedy, Family]  \n",
              "Suicide Squad            [Action, Adventure, Fantasy]  \n",
              "...                                               ...  \n",
              "Secret in Their Eyes          [Crime, Drama, Mystery]  \n",
              "Hostel: Part II                              [Horror]  \n",
              "Step Up 2: The Streets        [Drama, Music, Romance]  \n",
              "Search Party                      [Adventure, Comedy]  \n",
              "Nine Lives                  [Comedy, Family, Fantasy]  \n",
              "\n",
              "[1000 rows x 13 columns]"
            ],
            "text/html": [
              "\n",
              "  <div id=\"df-093e98d1-1dc4-4cd1-ba98-a4dd576285a4\">\n",
              "    <div class=\"colab-df-container\">\n",
              "      <div>\n",
              "<style scoped>\n",
              "    .dataframe tbody tr th:only-of-type {\n",
              "        vertical-align: middle;\n",
              "    }\n",
              "\n",
              "    .dataframe tbody tr th {\n",
              "        vertical-align: top;\n",
              "    }\n",
              "\n",
              "    .dataframe thead th {\n",
              "        text-align: right;\n",
              "    }\n",
              "</style>\n",
              "<table border=\"1\" class=\"dataframe\">\n",
              "  <thead>\n",
              "    <tr style=\"text-align: right;\">\n",
              "      <th></th>\n",
              "      <th>rank</th>\n",
              "      <th>genre</th>\n",
              "      <th>description</th>\n",
              "      <th>director</th>\n",
              "      <th>actors</th>\n",
              "      <th>year</th>\n",
              "      <th>runtime</th>\n",
              "      <th>rating</th>\n",
              "      <th>votes</th>\n",
              "      <th>revenue_millions</th>\n",
              "      <th>metascore</th>\n",
              "      <th>rating_category</th>\n",
              "      <th>genre_list</th>\n",
              "    </tr>\n",
              "    <tr>\n",
              "      <th>Title</th>\n",
              "      <th></th>\n",
              "      <th></th>\n",
              "      <th></th>\n",
              "      <th></th>\n",
              "      <th></th>\n",
              "      <th></th>\n",
              "      <th></th>\n",
              "      <th></th>\n",
              "      <th></th>\n",
              "      <th></th>\n",
              "      <th></th>\n",
              "      <th></th>\n",
              "      <th></th>\n",
              "    </tr>\n",
              "  </thead>\n",
              "  <tbody>\n",
              "    <tr>\n",
              "      <th>Guardians of the Galaxy</th>\n",
              "      <td>1</td>\n",
              "      <td>Action,Adventure,Sci-Fi</td>\n",
              "      <td>A group of intergalactic criminals are forced ...</td>\n",
              "      <td>James Gunn</td>\n",
              "      <td>Chris Pratt, Vin Diesel, Bradley Cooper, Zoe S...</td>\n",
              "      <td>2014</td>\n",
              "      <td>121</td>\n",
              "      <td>8.1</td>\n",
              "      <td>757074</td>\n",
              "      <td>333.13</td>\n",
              "      <td>76.0</td>\n",
              "      <td>good</td>\n",
              "      <td>[Action, Adventure, Sci-Fi]</td>\n",
              "    </tr>\n",
              "    <tr>\n",
              "      <th>Prometheus</th>\n",
              "      <td>2</td>\n",
              "      <td>Adventure,Mystery,Sci-Fi</td>\n",
              "      <td>Following clues to the origin of mankind, a te...</td>\n",
              "      <td>Ridley Scott</td>\n",
              "      <td>Noomi Rapace, Logan Marshall-Green, Michael Fa...</td>\n",
              "      <td>2012</td>\n",
              "      <td>124</td>\n",
              "      <td>7.0</td>\n",
              "      <td>485820</td>\n",
              "      <td>126.46</td>\n",
              "      <td>65.0</td>\n",
              "      <td>bad</td>\n",
              "      <td>[Adventure, Mystery, Sci-Fi]</td>\n",
              "    </tr>\n",
              "    <tr>\n",
              "      <th>Split</th>\n",
              "      <td>3</td>\n",
              "      <td>Horror,Thriller</td>\n",
              "      <td>Three girls are kidnapped by a man with a diag...</td>\n",
              "      <td>M. Night Shyamalan</td>\n",
              "      <td>James McAvoy, Anya Taylor-Joy, Haley Lu Richar...</td>\n",
              "      <td>2016</td>\n",
              "      <td>117</td>\n",
              "      <td>7.3</td>\n",
              "      <td>157606</td>\n",
              "      <td>138.12</td>\n",
              "      <td>62.0</td>\n",
              "      <td>bad</td>\n",
              "      <td>[Horror, Thriller]</td>\n",
              "    </tr>\n",
              "    <tr>\n",
              "      <th>Sing</th>\n",
              "      <td>4</td>\n",
              "      <td>Animation,Comedy,Family</td>\n",
              "      <td>In a city of humanoid animals, a hustling thea...</td>\n",
              "      <td>Christophe Lourdelet</td>\n",
              "      <td>Matthew McConaughey,Reese Witherspoon, Seth Ma...</td>\n",
              "      <td>2016</td>\n",
              "      <td>108</td>\n",
              "      <td>7.2</td>\n",
              "      <td>60545</td>\n",
              "      <td>270.32</td>\n",
              "      <td>59.0</td>\n",
              "      <td>bad</td>\n",
              "      <td>[Animation, Comedy, Family]</td>\n",
              "    </tr>\n",
              "    <tr>\n",
              "      <th>Suicide Squad</th>\n",
              "      <td>5</td>\n",
              "      <td>Action,Adventure,Fantasy</td>\n",
              "      <td>A secret government agency recruits some of th...</td>\n",
              "      <td>David Ayer</td>\n",
              "      <td>Will Smith, Jared Leto, Margot Robbie, Viola D...</td>\n",
              "      <td>2016</td>\n",
              "      <td>123</td>\n",
              "      <td>6.2</td>\n",
              "      <td>393727</td>\n",
              "      <td>325.02</td>\n",
              "      <td>40.0</td>\n",
              "      <td>bad</td>\n",
              "      <td>[Action, Adventure, Fantasy]</td>\n",
              "    </tr>\n",
              "    <tr>\n",
              "      <th>...</th>\n",
              "      <td>...</td>\n",
              "      <td>...</td>\n",
              "      <td>...</td>\n",
              "      <td>...</td>\n",
              "      <td>...</td>\n",
              "      <td>...</td>\n",
              "      <td>...</td>\n",
              "      <td>...</td>\n",
              "      <td>...</td>\n",
              "      <td>...</td>\n",
              "      <td>...</td>\n",
              "      <td>...</td>\n",
              "      <td>...</td>\n",
              "    </tr>\n",
              "    <tr>\n",
              "      <th>Secret in Their Eyes</th>\n",
              "      <td>996</td>\n",
              "      <td>Crime,Drama,Mystery</td>\n",
              "      <td>A tight-knit team of rising investigators, alo...</td>\n",
              "      <td>Billy Ray</td>\n",
              "      <td>Chiwetel Ejiofor, Nicole Kidman, Julia Roberts...</td>\n",
              "      <td>2015</td>\n",
              "      <td>111</td>\n",
              "      <td>6.2</td>\n",
              "      <td>27585</td>\n",
              "      <td>NaN</td>\n",
              "      <td>45.0</td>\n",
              "      <td>bad</td>\n",
              "      <td>[Crime, Drama, Mystery]</td>\n",
              "    </tr>\n",
              "    <tr>\n",
              "      <th>Hostel: Part II</th>\n",
              "      <td>997</td>\n",
              "      <td>Horror</td>\n",
              "      <td>Three American college students studying abroa...</td>\n",
              "      <td>Eli Roth</td>\n",
              "      <td>Lauren German, Heather Matarazzo, Bijou Philli...</td>\n",
              "      <td>2007</td>\n",
              "      <td>94</td>\n",
              "      <td>5.5</td>\n",
              "      <td>73152</td>\n",
              "      <td>17.54</td>\n",
              "      <td>46.0</td>\n",
              "      <td>bad</td>\n",
              "      <td>[Horror]</td>\n",
              "    </tr>\n",
              "    <tr>\n",
              "      <th>Step Up 2: The Streets</th>\n",
              "      <td>998</td>\n",
              "      <td>Drama,Music,Romance</td>\n",
              "      <td>Romantic sparks occur between two dance studen...</td>\n",
              "      <td>Jon M. Chu</td>\n",
              "      <td>Robert Hoffman, Briana Evigan, Cassie Ventura,...</td>\n",
              "      <td>2008</td>\n",
              "      <td>98</td>\n",
              "      <td>6.2</td>\n",
              "      <td>70699</td>\n",
              "      <td>58.01</td>\n",
              "      <td>50.0</td>\n",
              "      <td>bad</td>\n",
              "      <td>[Drama, Music, Romance]</td>\n",
              "    </tr>\n",
              "    <tr>\n",
              "      <th>Search Party</th>\n",
              "      <td>999</td>\n",
              "      <td>Adventure,Comedy</td>\n",
              "      <td>A pair of friends embark on a mission to reuni...</td>\n",
              "      <td>Scot Armstrong</td>\n",
              "      <td>Adam Pally, T.J. Miller, Thomas Middleditch,Sh...</td>\n",
              "      <td>2014</td>\n",
              "      <td>93</td>\n",
              "      <td>5.6</td>\n",
              "      <td>4881</td>\n",
              "      <td>NaN</td>\n",
              "      <td>22.0</td>\n",
              "      <td>bad</td>\n",
              "      <td>[Adventure, Comedy]</td>\n",
              "    </tr>\n",
              "    <tr>\n",
              "      <th>Nine Lives</th>\n",
              "      <td>1000</td>\n",
              "      <td>Comedy,Family,Fantasy</td>\n",
              "      <td>A stuffy businessman finds himself trapped ins...</td>\n",
              "      <td>Barry Sonnenfeld</td>\n",
              "      <td>Kevin Spacey, Jennifer Garner, Robbie Amell,Ch...</td>\n",
              "      <td>2016</td>\n",
              "      <td>87</td>\n",
              "      <td>5.3</td>\n",
              "      <td>12435</td>\n",
              "      <td>19.64</td>\n",
              "      <td>11.0</td>\n",
              "      <td>bad</td>\n",
              "      <td>[Comedy, Family, Fantasy]</td>\n",
              "    </tr>\n",
              "  </tbody>\n",
              "</table>\n",
              "<p>1000 rows × 13 columns</p>\n",
              "</div>\n",
              "      <button class=\"colab-df-convert\" onclick=\"convertToInteractive('df-093e98d1-1dc4-4cd1-ba98-a4dd576285a4')\"\n",
              "              title=\"Convert this dataframe to an interactive table.\"\n",
              "              style=\"display:none;\">\n",
              "        \n",
              "  <svg xmlns=\"http://www.w3.org/2000/svg\" height=\"24px\"viewBox=\"0 0 24 24\"\n",
              "       width=\"24px\">\n",
              "    <path d=\"M0 0h24v24H0V0z\" fill=\"none\"/>\n",
              "    <path d=\"M18.56 5.44l.94 2.06.94-2.06 2.06-.94-2.06-.94-.94-2.06-.94 2.06-2.06.94zm-11 1L8.5 8.5l.94-2.06 2.06-.94-2.06-.94L8.5 2.5l-.94 2.06-2.06.94zm10 10l.94 2.06.94-2.06 2.06-.94-2.06-.94-.94-2.06-.94 2.06-2.06.94z\"/><path d=\"M17.41 7.96l-1.37-1.37c-.4-.4-.92-.59-1.43-.59-.52 0-1.04.2-1.43.59L10.3 9.45l-7.72 7.72c-.78.78-.78 2.05 0 2.83L4 21.41c.39.39.9.59 1.41.59.51 0 1.02-.2 1.41-.59l7.78-7.78 2.81-2.81c.8-.78.8-2.07 0-2.86zM5.41 20L4 18.59l7.72-7.72 1.47 1.35L5.41 20z\"/>\n",
              "  </svg>\n",
              "      </button>\n",
              "      \n",
              "  <style>\n",
              "    .colab-df-container {\n",
              "      display:flex;\n",
              "      flex-wrap:wrap;\n",
              "      gap: 12px;\n",
              "    }\n",
              "\n",
              "    .colab-df-convert {\n",
              "      background-color: #E8F0FE;\n",
              "      border: none;\n",
              "      border-radius: 50%;\n",
              "      cursor: pointer;\n",
              "      display: none;\n",
              "      fill: #1967D2;\n",
              "      height: 32px;\n",
              "      padding: 0 0 0 0;\n",
              "      width: 32px;\n",
              "    }\n",
              "\n",
              "    .colab-df-convert:hover {\n",
              "      background-color: #E2EBFA;\n",
              "      box-shadow: 0px 1px 2px rgba(60, 64, 67, 0.3), 0px 1px 3px 1px rgba(60, 64, 67, 0.15);\n",
              "      fill: #174EA6;\n",
              "    }\n",
              "\n",
              "    [theme=dark] .colab-df-convert {\n",
              "      background-color: #3B4455;\n",
              "      fill: #D2E3FC;\n",
              "    }\n",
              "\n",
              "    [theme=dark] .colab-df-convert:hover {\n",
              "      background-color: #434B5C;\n",
              "      box-shadow: 0px 1px 3px 1px rgba(0, 0, 0, 0.15);\n",
              "      filter: drop-shadow(0px 1px 2px rgba(0, 0, 0, 0.3));\n",
              "      fill: #FFFFFF;\n",
              "    }\n",
              "  </style>\n",
              "\n",
              "      <script>\n",
              "        const buttonEl =\n",
              "          document.querySelector('#df-093e98d1-1dc4-4cd1-ba98-a4dd576285a4 button.colab-df-convert');\n",
              "        buttonEl.style.display =\n",
              "          google.colab.kernel.accessAllowed ? 'block' : 'none';\n",
              "\n",
              "        async function convertToInteractive(key) {\n",
              "          const element = document.querySelector('#df-093e98d1-1dc4-4cd1-ba98-a4dd576285a4');\n",
              "          const dataTable =\n",
              "            await google.colab.kernel.invokeFunction('convertToInteractive',\n",
              "                                                     [key], {});\n",
              "          if (!dataTable) return;\n",
              "\n",
              "          const docLinkHtml = 'Like what you see? Visit the ' +\n",
              "            '<a target=\"_blank\" href=https://colab.research.google.com/notebooks/data_table.ipynb>data table notebook</a>'\n",
              "            + ' to learn more about interactive tables.';\n",
              "          element.innerHTML = '';\n",
              "          dataTable['output_type'] = 'display_data';\n",
              "          await google.colab.output.renderOutput(dataTable, element);\n",
              "          const docLink = document.createElement('div');\n",
              "          docLink.innerHTML = docLinkHtml;\n",
              "          element.appendChild(docLink);\n",
              "        }\n",
              "      </script>\n",
              "    </div>\n",
              "  </div>\n",
              "  "
            ]
          },
          "metadata": {},
          "execution_count": 5
        }
      ]
    },
    {
      "cell_type": "markdown",
      "metadata": {
        "id": "honYOB0ou-Ex"
      },
      "source": [
        "Ok, now you're ready to go!  In order to make the boxplot, you'll need to:\n",
        "- use `.explode()` to get the genre_list into long format.\n",
        "- use `.boxplot()` with the appropriate `column` and `by` keyword arguments.\n",
        "- I'd also suggest adding a `figsize=(40,8)` argument to `.boxplot()` because this figure will need to be fairly wide."
      ]
    },
    {
      "cell_type": "code",
      "metadata": {
        "id": "kcHOyY7GAuUb"
      },
      "source": [
        "# Input your code here"
      ],
      "execution_count": null,
      "outputs": []
    },
    {
      "cell_type": "markdown",
      "metadata": {
        "id": "jReiPWlGAzLG"
      },
      "source": [
        "## Solution -- Don't look until you've tried it!"
      ]
    },
    {
      "cell_type": "code",
      "metadata": {
        "id": "b8kJ4QWQnZ7G",
        "colab": {
          "base_uri": "https://localhost:8080/",
          "height": 347
        },
        "outputId": "c4c785a4-d569-4ead-a213-d1ee560ca7bb"
      },
      "source": [
        "# SOLUTION: \n",
        "mdf = movies_df.copy()\n",
        "mdf['genreList'] = movies_df.genre.apply(lambda x: x.split(',')) # make a genre column that is a list instead of a comma-separated string\n",
        "mdf['genreList'] = movies_df.genre.str.split(',') # this does the same thing with a string methbod\n",
        "\n",
        "# Now we can use the 'explode' method which will take a list column and turn it into a bunch of rows\n",
        "mdf[['revenue_millions','rating','genreList']].explode('genreList').boxplot(column='revenue_millions',by='genreList',figsize=(40,8));"
      ],
      "execution_count": null,
      "outputs": [
        {
          "output_type": "display_data",
          "data": {
            "text/plain": [
              "<Figure size 2880x576 with 1 Axes>"
            ],
            "image/png": "[encoded data removed]"
          },
          "metadata": {
            "needs_background": "light"
          }
        }
      ]
    }
  ]
}