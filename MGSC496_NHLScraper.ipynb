{
  "nbformat": 4,
  "nbformat_minor": 0,
  "metadata": {
    "colab": {
      "provenance": [],
      "authorship_tag": "ABX9TyP5i07gTWf4FLSBFXP18AXF",
      "include_colab_link": true
    },
    "kernelspec": {
      "name": "python3",
      "display_name": "Python 3"
    },
    "language_info": {
      "name": "python"
    }
  },
  "cells": [
    {
      "cell_type": "markdown",
      "metadata": {
        "id": "view-in-github",
        "colab_type": "text"
      },
      "source": [
        "<a href=\"https://colab.research.google.com/github/dylanwalker/MGSC496/blob/main/MGSC496_NHLScraper.ipynb\" target=\"_parent\"><img src=\"https://colab.research.google.com/assets/colab-badge.svg\" alt=\"Open In Colab\"/></a>"
      ]
    },
    {
      "cell_type": "markdown",
      "source": [
        "Here is the full code to create and run the Scrapy quotes scraper.\n",
        "Use ***Runtime->Run All***"
      ],
      "metadata": {
        "id": "eWEq02vYBatC"
      }
    },
    {
      "cell_type": "code",
      "execution_count": null,
      "metadata": {
        "id": "B_hemZYOBVev"
      },
      "outputs": [],
      "source": [
        "%%capture\n",
        "!pip install scrapy"
      ]
    },
    {
      "cell_type": "code",
      "source": [
        "!scrapy startproject nhlscraper"
      ],
      "metadata": {
        "id": "Bh7n9oN_B3BI"
      },
      "execution_count": null,
      "outputs": []
    },
    {
      "cell_type": "code",
      "source": [
        "%%writefile /content/nhlscraper/nhlscraper/spiders/nhlspider.py\n",
        "import scrapy\n",
        "from nhlscraper.items import NHLscraperItem\n",
        "\n",
        "class NHLspiderSpider(scrapy.Spider):\n",
        "    name = 'nhlspider'\n",
        "    allowed_domains = ['www.scrapethissite.com']\n",
        "    start_urls = ['http://www.scrapethissite.com/pages/forms/']\n",
        "\n",
        "    def parse(self, response):\n",
        "      teams = response.xpath('//table[@class=\"table\"]//tr[@class=\"team\"]') # seems like this xpath identifies each row which contains info about the team\n",
        "      for team in teams: # for each row I look for all the data I want to extract for that row; many have simple class names, so they are relatively easy to get an xpath for then\n",
        "        team_name = team.xpath('td[@class=\"name\"]/text()').get().strip() # I added the .strip() because there was a newline character I wanted to get rid of.\n",
        "        year = team.xpath('td[@class=\"year\"]/text()').get().strip()\n",
        "        wins = team.xpath('td[@class=\"wins\"]/text()').get().strip()\n",
        "        losses = team.xpath('td[@class=\"losses\"]/text()').get().strip()\n",
        "        ot_losses = team.xpath('td[@class=\"ot_losses\"]/text()').get() # this one was tricky, because it is sometimes a None object, so I tested for that case below \n",
        "        if ot_losses is None:\n",
        "          ot_losses = '' # I made it an empty string when there is no text\n",
        "        ot_losses = ot_losses.strip() # otherwise, I process it like any other\n",
        "        win_pct = team.xpath('td[contains(@class,\"pct\")]/text()').get().strip()\n",
        "        goals_for = team.xpath('td[@class=\"gf\"]/text()').get().strip()\n",
        "        goals_against = team.xpath('td[@class=\"ga\"]/text()').get().strip()\n",
        "        diff = team.xpath('td[contains(@class,\"diff\")]/text()').get().strip()\n",
        "        yield NHLscraperItem(team_name=team_name, year=year, wins=wins, losses=losses, ot_losses=ot_losses, win_pct=win_pct, goals_for=goals_for, goals_against=goals_against, diff=diff)\n",
        "      next_link = response.xpath('//a[@aria-label=\"Next\"]/@href').get()\n",
        "      if next_link is not None:\n",
        "        yield response.follow(url=next_link, callback=self.parse) "
      ],
      "metadata": {
        "id": "taLSZ5tEEumH"
      },
      "execution_count": null,
      "outputs": []
    },
    {
      "cell_type": "code",
      "source": [
        "%%writefile /content/nhlscraper/nhlscraper/items.py\n",
        "# Define here the models for your scraped items\n",
        "#\n",
        "# See documentation in:\n",
        "# https://docs.scrapy.org/en/latest/topics/items.html\n",
        "\n",
        "import scrapy\n",
        "\n",
        "\n",
        "class NHLscraperItem(scrapy.Item):\n",
        "    # define the fields for your item here like:\n",
        "    # name = scrapy.Field()\n",
        "    team_name = scrapy.Field()\n",
        "    year = scrapy.Field()\n",
        "    wins = scrapy.Field()\n",
        "    losses = scrapy.Field()\n",
        "    ot_losses = scrapy.Field()\n",
        "    win_pct = scrapy.Field()\n",
        "    goals_for = scrapy.Field()\n",
        "    goals_against = scrapy.Field()\n",
        "    diff = scrapy.Field()\n",
        "    \n"
      ],
      "metadata": {
        "id": "FAz6UbELSh-J"
      },
      "execution_count": null,
      "outputs": []
    },
    {
      "cell_type": "code",
      "source": [
        "!cd /content/nhlscraper && scrapy crawl nhlspider -O nhl.json"
      ],
      "metadata": {
        "id": "XKir6fa3UAP9"
      },
      "execution_count": null,
      "outputs": []
    }
  ]
}