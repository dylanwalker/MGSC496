{
  "nbformat": 4,
  "nbformat_minor": 0,
  "metadata": {
    "colab": {
      "provenance": [],
      "collapsed_sections": [
        "NFB7gBEgXyhn",
        "UMUhZnX8oSXX",
        "3pQwKvXaVe1l"
      ],
      "authorship_tag": "ABX9TyNh2mMGFY0DjBOyeAASXGEt",
      "include_colab_link": true
    },
    "kernelspec": {
      "name": "python3",
      "display_name": "Python 3"
    },
    "language_info": {
      "name": "python"
    }
  },
  "cells": [
    {
      "cell_type": "markdown",
      "metadata": {
        "id": "view-in-github",
        "colab_type": "text"
      },
      "source": [
        "<a href=\"https://colab.research.google.com/github/dylanwalker/MGSC496/blob/main/MGSC496_L10.ipynb\" target=\"_parent\"><img src=\"https://colab.research.google.com/assets/colab-badge.svg\" alt=\"Open In Colab\"/></a>"
      ]
    },
    {
      "cell_type": "markdown",
      "source": [
        "This is the in-class notebook for MGSC496 Lecture 10.\n",
        "\n",
        "---\n",
        "\n"
      ],
      "metadata": {
        "id": "RT9odU7BzKCB"
      }
    },
    {
      "cell_type": "code",
      "source": [
        "import sklearn\n",
        "import torch\n",
        "import numpy as np\n",
        "import pandas as pd\n",
        "import matplotlib.pyplot as plt"
      ],
      "metadata": {
        "id": "s7hNTaBJNEfz"
      },
      "execution_count": null,
      "outputs": []
    },
    {
      "cell_type": "markdown",
      "source": [
        "Things to mention:\n",
        "* 1d vs 2d tensors and `.view(-1,1)`\n",
        "* batch dimension as the first dimension of the tensor (just mention; more discussion in next reading)\n"
      ],
      "metadata": {
        "id": "7Yt8xDXSyHVk"
      }
    },
    {
      "cell_type": "markdown",
      "source": [
        "# Wanted to review single neuron: guessing vs training"
      ],
      "metadata": {
        "id": "yenQ5nlSI12p"
      }
    },
    {
      "cell_type": "markdown",
      "source": [
        "Let's compare the two ways of getting the weights/bias for a single neuron for our \"is a cat\" prediction problem:"
      ],
      "metadata": {
        "id": "gLHwldYrI6Dx"
      }
    },
    {
      "cell_type": "markdown",
      "source": [
        "## Guessing weights/biases (no pytorch)"
      ],
      "metadata": {
        "id": "LWHJ0nLFJHDf"
      }
    },
    {
      "cell_type": "code",
      "source": [
        "# Code to guess weights/bias for single neuron \"is_cat\" predictor\n",
        "\n",
        "import numpy as np\n",
        "import pandas as pd\n",
        "from sklearn.preprocessing import StandardScaler\n",
        "\n",
        "\n",
        "# Load the data\n",
        "cat_df = pd.DataFrame({'is_mammal':[1,1,1,0],\n",
        "                       'four_legged':[0,1,1,1],\n",
        "                       'body_weight_lbs':[70.0,8800.0,9.0,0.5],\n",
        "                       'body_height_inches':[36.0,324.0,9.0,1.0],\n",
        "                       'has_thumbs':[1,0,0,0],\n",
        "                       'animal':['chimp','elephant','cat','lizard'],\n",
        "                       'is_cat':[0,0,1,0]})\n",
        "\n",
        "# Use the StandardScaler from sklearn to transform features to comparable scales\n",
        "x = cat_df.loc[:,'is_mammal':'has_thumbs']\n",
        "scaler = StandardScaler()\n",
        "scaler.fit(x)\n",
        "x = scaler.transform(x)\n",
        "\n",
        "#  Generate random weights biases\n",
        "w = np.random.randn(5)\n",
        "b = np.random.randn(1)\n",
        "print(w)\n",
        "print(b)\n",
        "\n",
        "# Define our nonlinear activation function\n",
        "def delta(x, thresh=0.5):\n",
        "  sigmoid = 1/(1+np.exp(-x))\n",
        "  return (sigmoid>thresh)\n",
        "\n",
        "# 3. Use yhat = delta(np.dot(x,w)+b) to get a prediction (for each row of the data) of whether the row is a cat and print out yhat\n",
        "yhat = delta(np.dot(x,w)+b)\n",
        "print(yhat)\n",
        "\n",
        "# Re-run this cell multiple times and look for the result [False False True False] -- this is predicting the cat is a cat and all others are not"
      ],
      "metadata": {
        "colab": {
          "base_uri": "https://localhost:8080/"
        },
        "id": "mRuoAqZBHdN6",
        "outputId": "04cce36b-f8b5-4c34-f57c-47b6bbd1ae6c"
      },
      "execution_count": null,
      "outputs": [
        {
          "output_type": "stream",
          "name": "stdout",
          "text": [
            "[-0.70538456 -1.88323402 -0.90163098 -0.15260202  1.99976351]\n",
            "[-1.69429501]\n",
            "[ True False False False]\n"
          ]
        }
      ]
    },
    {
      "cell_type": "markdown",
      "source": [
        "## Training Weights/Biases using Gradient Descent"
      ],
      "metadata": {
        "id": "31v8-Kr8J11q"
      }
    },
    {
      "cell_type": "code",
      "source": [
        "# Code to train single neuron \"is_cat\" predictor\n",
        "\n",
        "import torch\n",
        "import pandas as pd\n",
        "from sklearn.preprocessing import StandardScaler\n",
        "\n",
        "\n",
        "\n",
        "# Load the data and scale it \n",
        "cat_df = pd.DataFrame({'is_mammal':[1,1,1,0],\n",
        "                       'four_legged':[0,1,1,1],\n",
        "                       'body_weight_lbs':[70.0,8800.0,9.0,0.5],\n",
        "                       'body_height_inches':[36.0,324.0,9.0,1.0],\n",
        "                       'has_thumbs':[1,0,0,0],\n",
        "                       'animal':['chimp','elephant','cat','lizard'],\n",
        "                       'is_cat':[0,0,1,0]})\n",
        "scaler = StandardScaler()\n",
        "scaler.fit(cat_df.loc[:,'is_mammal':'has_thumbs'])\n",
        "cat_df.loc[:,'is_mammal':'has_thumbs'] = scaler.transform(cat_df.loc[:,'is_mammal':'has_thumbs'])\n",
        "\n",
        "\n",
        "# Make the features (inputs), X,  and outcomes (targets), y tensors from the dataframe \n",
        "X = torch.tensor(cat_df.loc[:,'is_mammal':'has_thumbs'].values)\n",
        "y = torch.tensor(cat_df.loc[:,'is_cat'].values)\n",
        "\n",
        "# Instead of returning the prediciton true or false for each y, we'll return the sigmoid.\n",
        "# We can think of this as a score that relfects how much the NN thinks each row is a cat\n",
        "# This will be more useful in calculating the cost function\n",
        "def sigmoid(x):\n",
        "  sigmoid = 1/(1+torch.exp(-x))\n",
        "  return sigmoid\n",
        "\n",
        "# Initialize the weights/bias to random values\n",
        "w = torch.tensor(np.random.randn(5),requires_grad=True)\n",
        "b = torch.tensor(np.random.randn(1),requires_grad=True)\n",
        "\n",
        "for epoch in range(1,1000): # run over the entire training data 1000 time\n",
        "  yhat = sigmoid(X @ w + b) # calculate the predicted value. @ means matrix multiplication, as we discussed in class (before with numpy, we used np.dot(), but this is more general)\n",
        "  C = ((yhat - y)**2).sum() # Calculate the cost -- a single number representing how badly our NN did across all the training data\n",
        "  if epoch%100==0: # Every 100 epochs, we will print out the predicted values and the cost function\n",
        "    print(f\"yhat = {yhat}\")\n",
        "    print(f\"cost: {C}\")\n",
        "  C.backward() # Tell pytorch to perform backward propagation, to get the gradients for w and b\n",
        "  with torch.no_grad(): # This line tells pytorch not to modify the computation graph for gradients for anything in the indented block below \n",
        "    w-=w.grad*5e-2 # Update the weights by taking a tiny step in the right direction\n",
        "    b-=b.grad*5e-2 # Update the bias by taking a tiny step in the right direction\n",
        "    w.grad.zero_() # set the gradient values in w and b to zero, so we can calculate them fresh on the next epoch\n",
        "    b.grad.zero_()\n",
        "\n"
      ],
      "metadata": {
        "id": "0MUzmQJmJ5N0"
      },
      "execution_count": null,
      "outputs": []
    },
    {
      "cell_type": "markdown",
      "source": [
        "# Reading Exercise Solution: Build a single neuron trained to predict wine quality"
      ],
      "metadata": {
        "id": "pzdUdNbxL-ll"
      }
    },
    {
      "cell_type": "markdown",
      "source": [
        "<hr/>\n",
        "<img src=\"https://drive.google.com/uc?id=1sk8CSP26YY7sfyzmHGFXncuNRujkvu9v\" align=\"left\">\n",
        "\n",
        "<font size=3 color=\"darkred\">Exercise:  Build a single neuron trained to predict wine quality </font>\n",
        "\n",
        "Following the same structure as the above example, train a single neuron to predict the quality of red wine based on many different features. Run the code below to read in the dataset, then:\n",
        "\n",
        "<br />\n",
        "\n",
        "1. Like in the example above, use the sklearn standard scalar to scale all the feature columns. Rescale the target (outcome), which is a number from 1 to 10 representing wine quality, to be a number between 0 and 1 (this is what we want if we're going to output a sigmoid for $\\hat{y}$, because sigmoids can only be between 0 and 1) \n",
        "\n",
        "2. Make tensors for features $X$ and target $y$. (make sure their dtypes match that of the weights and biases, which may be torch.float32)\n",
        "\n",
        "3. Create weight and bias tensors initialized to random numbers. You'll have to figure out what size they should be.\n",
        "\n",
        "4. You can define the same sigmoid function as above to be your \"activation\" function.\n",
        "\n",
        "5. Write code for your training loop. It should do the following:\n",
        " * Compute `yhat`\n",
        " * Calculate the cost function `C` (you can use the same on as in our \"is cat\" example )\n",
        " * Print out the cost every 1000 loops (use an `if epoch%1000==0` codeblock to do this)\n",
        " * Call `C.backward()`\n",
        " * Use a `with torch.no_grad()` codeblock to update the weight/bias tensors, then zero the gradients for both\n",
        "6. Calculate the prediction for the training data using the fully trained model (i.e., get yhat as you did in the training loop, but now with the finalized weights/biases)\n",
        "7. Run the plotting code provided below to plot the performance on the training data \n"
      ],
      "metadata": {
        "id": "8m0NeII5Rudl"
      }
    },
    {
      "cell_type": "code",
      "source": [
        "wine_df = pd.read_csv('https://raw.githubusercontent.com/dylanwalker/MGSC496/main/datasets/winequality-red.csv')\n",
        "wine_df.head()"
      ],
      "metadata": {
        "colab": {
          "base_uri": "https://localhost:8080/",
          "height": 206
        },
        "id": "ROFmErt-UhiJ",
        "outputId": "ba96d19c-4c39-414e-9001-7965f7ff5d09"
      },
      "execution_count": null,
      "outputs": [
        {
          "output_type": "execute_result",
          "data": {
            "text/plain": [
              "   fixed acidity  volatile acidity  citric acid  residual sugar  chlorides  \\\n",
              "0            7.4              0.70         0.00             1.9      0.076   \n",
              "1            7.8              0.88         0.00             2.6      0.098   \n",
              "2            7.8              0.76         0.04             2.3      0.092   \n",
              "3           11.2              0.28         0.56             1.9      0.075   \n",
              "4            7.4              0.70         0.00             1.9      0.076   \n",
              "\n",
              "   free sulfur dioxide  total sulfur dioxide  density    pH  sulphates  \\\n",
              "0                 11.0                  34.0   0.9978  3.51       0.56   \n",
              "1                 25.0                  67.0   0.9968  3.20       0.68   \n",
              "2                 15.0                  54.0   0.9970  3.26       0.65   \n",
              "3                 17.0                  60.0   0.9980  3.16       0.58   \n",
              "4                 11.0                  34.0   0.9978  3.51       0.56   \n",
              "\n",
              "   alcohol  quality  \n",
              "0      9.4        5  \n",
              "1      9.8        5  \n",
              "2      9.8        5  \n",
              "3      9.8        6  \n",
              "4      9.4        5  "
            ],
            "text/html": [
              "\n",
              "  <div id=\"df-7a49a761-d74d-4684-982b-fc2510055d20\">\n",
              "    <div class=\"colab-df-container\">\n",
              "      <div>\n",
              "<style scoped>\n",
              "    .dataframe tbody tr th:only-of-type {\n",
              "        vertical-align: middle;\n",
              "    }\n",
              "\n",
              "    .dataframe tbody tr th {\n",
              "        vertical-align: top;\n",
              "    }\n",
              "\n",
              "    .dataframe thead th {\n",
              "        text-align: right;\n",
              "    }\n",
              "</style>\n",
              "<table border=\"1\" class=\"dataframe\">\n",
              "  <thead>\n",
              "    <tr style=\"text-align: right;\">\n",
              "      <th></th>\n",
              "      <th>fixed acidity</th>\n",
              "      <th>volatile acidity</th>\n",
              "      <th>citric acid</th>\n",
              "      <th>residual sugar</th>\n",
              "      <th>chlorides</th>\n",
              "      <th>free sulfur dioxide</th>\n",
              "      <th>total sulfur dioxide</th>\n",
              "      <th>density</th>\n",
              "      <th>pH</th>\n",
              "      <th>sulphates</th>\n",
              "      <th>alcohol</th>\n",
              "      <th>quality</th>\n",
              "    </tr>\n",
              "  </thead>\n",
              "  <tbody>\n",
              "    <tr>\n",
              "      <th>0</th>\n",
              "      <td>7.4</td>\n",
              "      <td>0.70</td>\n",
              "      <td>0.00</td>\n",
              "      <td>1.9</td>\n",
              "      <td>0.076</td>\n",
              "      <td>11.0</td>\n",
              "      <td>34.0</td>\n",
              "      <td>0.9978</td>\n",
              "      <td>3.51</td>\n",
              "      <td>0.56</td>\n",
              "      <td>9.4</td>\n",
              "      <td>5</td>\n",
              "    </tr>\n",
              "    <tr>\n",
              "      <th>1</th>\n",
              "      <td>7.8</td>\n",
              "      <td>0.88</td>\n",
              "      <td>0.00</td>\n",
              "      <td>2.6</td>\n",
              "      <td>0.098</td>\n",
              "      <td>25.0</td>\n",
              "      <td>67.0</td>\n",
              "      <td>0.9968</td>\n",
              "      <td>3.20</td>\n",
              "      <td>0.68</td>\n",
              "      <td>9.8</td>\n",
              "      <td>5</td>\n",
              "    </tr>\n",
              "    <tr>\n",
              "      <th>2</th>\n",
              "      <td>7.8</td>\n",
              "      <td>0.76</td>\n",
              "      <td>0.04</td>\n",
              "      <td>2.3</td>\n",
              "      <td>0.092</td>\n",
              "      <td>15.0</td>\n",
              "      <td>54.0</td>\n",
              "      <td>0.9970</td>\n",
              "      <td>3.26</td>\n",
              "      <td>0.65</td>\n",
              "      <td>9.8</td>\n",
              "      <td>5</td>\n",
              "    </tr>\n",
              "    <tr>\n",
              "      <th>3</th>\n",
              "      <td>11.2</td>\n",
              "      <td>0.28</td>\n",
              "      <td>0.56</td>\n",
              "      <td>1.9</td>\n",
              "      <td>0.075</td>\n",
              "      <td>17.0</td>\n",
              "      <td>60.0</td>\n",
              "      <td>0.9980</td>\n",
              "      <td>3.16</td>\n",
              "      <td>0.58</td>\n",
              "      <td>9.8</td>\n",
              "      <td>6</td>\n",
              "    </tr>\n",
              "    <tr>\n",
              "      <th>4</th>\n",
              "      <td>7.4</td>\n",
              "      <td>0.70</td>\n",
              "      <td>0.00</td>\n",
              "      <td>1.9</td>\n",
              "      <td>0.076</td>\n",
              "      <td>11.0</td>\n",
              "      <td>34.0</td>\n",
              "      <td>0.9978</td>\n",
              "      <td>3.51</td>\n",
              "      <td>0.56</td>\n",
              "      <td>9.4</td>\n",
              "      <td>5</td>\n",
              "    </tr>\n",
              "  </tbody>\n",
              "</table>\n",
              "</div>\n",
              "      <button class=\"colab-df-convert\" onclick=\"convertToInteractive('df-7a49a761-d74d-4684-982b-fc2510055d20')\"\n",
              "              title=\"Convert this dataframe to an interactive table.\"\n",
              "              style=\"display:none;\">\n",
              "        \n",
              "  <svg xmlns=\"http://www.w3.org/2000/svg\" height=\"24px\"viewBox=\"0 0 24 24\"\n",
              "       width=\"24px\">\n",
              "    <path d=\"M0 0h24v24H0V0z\" fill=\"none\"/>\n",
              "    <path d=\"M18.56 5.44l.94 2.06.94-2.06 2.06-.94-2.06-.94-.94-2.06-.94 2.06-2.06.94zm-11 1L8.5 8.5l.94-2.06 2.06-.94-2.06-.94L8.5 2.5l-.94 2.06-2.06.94zm10 10l.94 2.06.94-2.06 2.06-.94-2.06-.94-.94-2.06-.94 2.06-2.06.94z\"/><path d=\"M17.41 7.96l-1.37-1.37c-.4-.4-.92-.59-1.43-.59-.52 0-1.04.2-1.43.59L10.3 9.45l-7.72 7.72c-.78.78-.78 2.05 0 2.83L4 21.41c.39.39.9.59 1.41.59.51 0 1.02-.2 1.41-.59l7.78-7.78 2.81-2.81c.8-.78.8-2.07 0-2.86zM5.41 20L4 18.59l7.72-7.72 1.47 1.35L5.41 20z\"/>\n",
              "  </svg>\n",
              "      </button>\n",
              "      \n",
              "  <style>\n",
              "    .colab-df-container {\n",
              "      display:flex;\n",
              "      flex-wrap:wrap;\n",
              "      gap: 12px;\n",
              "    }\n",
              "\n",
              "    .colab-df-convert {\n",
              "      background-color: #E8F0FE;\n",
              "      border: none;\n",
              "      border-radius: 50%;\n",
              "      cursor: pointer;\n",
              "      display: none;\n",
              "      fill: #1967D2;\n",
              "      height: 32px;\n",
              "      padding: 0 0 0 0;\n",
              "      width: 32px;\n",
              "    }\n",
              "\n",
              "    .colab-df-convert:hover {\n",
              "      background-color: #E2EBFA;\n",
              "      box-shadow: 0px 1px 2px rgba(60, 64, 67, 0.3), 0px 1px 3px 1px rgba(60, 64, 67, 0.15);\n",
              "      fill: #174EA6;\n",
              "    }\n",
              "\n",
              "    [theme=dark] .colab-df-convert {\n",
              "      background-color: #3B4455;\n",
              "      fill: #D2E3FC;\n",
              "    }\n",
              "\n",
              "    [theme=dark] .colab-df-convert:hover {\n",
              "      background-color: #434B5C;\n",
              "      box-shadow: 0px 1px 3px 1px rgba(0, 0, 0, 0.15);\n",
              "      filter: drop-shadow(0px 1px 2px rgba(0, 0, 0, 0.3));\n",
              "      fill: #FFFFFF;\n",
              "    }\n",
              "  </style>\n",
              "\n",
              "      <script>\n",
              "        const buttonEl =\n",
              "          document.querySelector('#df-7a49a761-d74d-4684-982b-fc2510055d20 button.colab-df-convert');\n",
              "        buttonEl.style.display =\n",
              "          google.colab.kernel.accessAllowed ? 'block' : 'none';\n",
              "\n",
              "        async function convertToInteractive(key) {\n",
              "          const element = document.querySelector('#df-7a49a761-d74d-4684-982b-fc2510055d20');\n",
              "          const dataTable =\n",
              "            await google.colab.kernel.invokeFunction('convertToInteractive',\n",
              "                                                     [key], {});\n",
              "          if (!dataTable) return;\n",
              "\n",
              "          const docLinkHtml = 'Like what you see? Visit the ' +\n",
              "            '<a target=\"_blank\" href=https://colab.research.google.com/notebooks/data_table.ipynb>data table notebook</a>'\n",
              "            + ' to learn more about interactive tables.';\n",
              "          element.innerHTML = '';\n",
              "          dataTable['output_type'] = 'display_data';\n",
              "          await google.colab.output.renderOutput(dataTable, element);\n",
              "          const docLink = document.createElement('div');\n",
              "          docLink.innerHTML = docLinkHtml;\n",
              "          element.appendChild(docLink);\n",
              "        }\n",
              "      </script>\n",
              "    </div>\n",
              "  </div>\n",
              "  "
            ]
          },
          "metadata": {},
          "execution_count": 4
        }
      ]
    },
    {
      "cell_type": "code",
      "source": [
        "# Try it out\n",
        "import torch\n",
        "import pandas as pd\n",
        "from sklearn.preprocessing import StandardScaler\n",
        "\n",
        "# Load data\n",
        "wine_df = pd.read_csv('https://raw.githubusercontent.com/dylanwalker/MGSC496/main/datasets/winequality-red.csv')\n",
        "\n",
        "# 1. Use the sklearn standard scalar to scale all feature columns. Also scale the target column appropriately so it is between 0 and 1.\n",
        "scaler = StandardScaler()\n",
        "scaler.fit(wine_df.loc[:,'fixed acidity':'alcohol'])\n",
        "wine_df.loc[:,'fixed acidity':'alcohol'] = scaler.transform(wine_df.loc[:,'fixed acidity':'alcohol'])\n",
        "wine_df.quality = wine_df.quality/10\n",
        "wine_df.head()\n",
        "\n",
        "\n",
        "# 2. Make tensors for features  X  and target  y (make sure their dtypes match that of the weights and biases, which may be torch.float32).\n",
        "X = torch.tensor(wine_df.loc[:,'fixed acidity':'alcohol'].values,dtype=torch.float32)\n",
        "y = torch.tensor(wine_df.quality.values,dtype=torch.float32)\n",
        "\n",
        "# 3. Create weight and bias tensors initialized to random numbers. You'll have to figure out what size they should be.\n",
        "w = torch.randn(11,requires_grad=True)\n",
        "b = torch.randn(1,requires_grad=True)\n",
        "\n",
        "# 4. You can define the same sigmoid function as above to be your \"activation\" function. Define it below\n",
        "def sigmoid(x):\n",
        "  sigmoid = 1/(1+torch.exp(-x))\n",
        "  return sigmoid\n",
        "\n",
        "# 5. Write code for your training loop to train over 2,500 epochs. It should do the following:\n",
        "#    - compute yhat\n",
        "#    - Calculate the cost function C (you can use the same one as in our \"is cat\" example )\n",
        "#    - print out the cost every 1000 loops (use an \"if epoch%1000==0\" codeblock to do this)\n",
        "#    - call C.backward()\n",
        "#    - use a \"with torch.no_grad()\" codeblock to update the weight/bias tensors with a learning rate of 1e-5, then zero the gradients of both\n",
        "for epoch in range(20000):\n",
        "  yhat = sigmoid(X@w+b)\n",
        "  C = ((yhat-y)**2).sum()\n",
        "  if epoch%1000==0:\n",
        "    print(f\"Cost: {C}\")  \n",
        "  C.backward()\n",
        "  with torch.no_grad():\n",
        "    w-=w.grad*1e-5\n",
        "    b-=b.grad*1e-5\n",
        "    w.grad.zero_()\n",
        "    b.grad.zero_()\n",
        "\n",
        "# 6. Calculate the prediction for the training data using the fully trained model (i.e., get yhat as you did in the training loop, but now with the finalized weights/biases)"
      ],
      "metadata": {
        "id": "tFp1OLbwRudm",
        "colab": {
          "base_uri": "https://localhost:8080/"
        },
        "outputId": "a5c5e866-d3cd-4986-b53b-c013458451bd"
      },
      "execution_count": null,
      "outputs": [
        {
          "output_type": "stream",
          "name": "stdout",
          "text": [
            "Cost: 211.55726623535156\n",
            "Cost: 155.55288696289062\n",
            "Cost: 88.25506591796875\n",
            "Cost: 47.29219055175781\n",
            "Cost: 30.225196838378906\n",
            "Cost: 22.163532257080078\n",
            "Cost: 18.35044288635254\n",
            "Cost: 16.124603271484375\n",
            "Cost: 14.479995727539062\n",
            "Cost: 13.137544631958008\n",
            "Cost: 12.011712074279785\n",
            "Cost: 11.064926147460938\n",
            "Cost: 10.272034645080566\n",
            "Cost: 9.611799240112305\n",
            "Cost: 9.065116882324219\n",
            "Cost: 8.61474609375\n",
            "Cost: 8.245368957519531\n",
            "Cost: 7.943570137023926\n",
            "Cost: 7.697787284851074\n",
            "Cost: 7.4981689453125\n"
          ]
        }
      ]
    },
    {
      "cell_type": "code",
      "source": [
        "# Run this code to plot the predictions vs the actual targets\n",
        "import matplotlib.pyplot as plt\n",
        "\n",
        "plt.plot(y,yhat.detach().numpy(),'.',alpha=0.2);\n",
        "plt.xlabel('actual wine quality');\n",
        "plt.ylabel('predicted wine quality');\n"
      ],
      "metadata": {
        "colab": {
          "base_uri": "https://localhost:8080/",
          "height": 449
        },
        "id": "6E_8jQh_Sa49",
        "outputId": "6f5b64d4-fe1e-4aa8-fab8-9385d15be678"
      },
      "execution_count": null,
      "outputs": [
        {
          "output_type": "display_data",
          "data": {
            "text/plain": [
              "<Figure size 640x480 with 1 Axes>"
            ],
            "image/png": "[encoded data removed]"
          },
          "metadata": {}
        }
      ]
    },
    {
      "cell_type": "markdown",
      "source": [
        "<hr/>"
      ],
      "metadata": {
        "id": "7bO5kk86Rudm"
      }
    },
    {
      "cell_type": "markdown",
      "source": [
        "# Exercise: Single Neuron to Predict Wine Quality -- the Pytorch Way"
      ],
      "metadata": {
        "id": "p__fr6vgW19G"
      }
    },
    {
      "cell_type": "markdown",
      "source": [
        "We're going to make the single neuron wine quality predictor NN using some of the bells and whistles of Pytorch. Follow the steps below. Steps 1 and 4 have been filled in for you, but all others require your code.\n",
        "\n",
        "\n",
        "1. Run the code provided to load the dataframe, scale it, and turn it into a Tensor Dataset.\n",
        "\n",
        "2. Use `torch.utils.data.random_split()` on the full dataset to get a training dataset and testing dataset (use 80-20% split). Call them `train_ds` and `test_ds`. \n",
        "\n",
        "3. Make a dataloader called `train_dl` out of the `train_ds` dataset. Let's process the whole dataset in one batch and use shuffling.\n",
        "\n",
        "4. Run the provided code to make your single neuron model by using a `torch.nn.Linear()` layer followed by a `torch.functional.sigmoid()` activation. These are connected together by passing them into`torch.nn.Sequential()`\n",
        "\n",
        "5. Define a fit function (you can use one from the examples in the last reading) \n",
        "\n",
        "6. Train the model using the SGD optimizer with a learning rate of 1e-2 and `torch.nn.functional.mse_loss` as the loss function for 2500 epochs. Plot the loss vs epoch\n",
        "\n",
        "7. Evaluate the trained model on the (unseen) test data and plot the predictions vs targets.\n",
        "\n"
      ],
      "metadata": {
        "id": "73jClz1lW1bj"
      }
    },
    {
      "cell_type": "code",
      "source": [
        "# 1. Run this code to load the dataset\n",
        "import torch\n",
        "import pandas as pd\n",
        "import matplotlib.pyplot as plt\n",
        "from sklearn.preprocessing import StandardScaler\n",
        "from torch.utils.data import TensorDataset, DataLoader\n",
        "\n",
        "wine_df = pd.read_csv('https://raw.githubusercontent.com/dylanwalker/MGSC496/main/datasets/winequality-red.csv')\n",
        "scaler = StandardScaler()\n",
        "scaler.fit(wine_df.loc[:,'fixed acidity':'alcohol'])\n",
        "wine_df.loc[:,'fixed acidity':'alcohol'] = scaler.transform(wine_df.loc[:,'fixed acidity':'alcohol'])\n",
        "wine_df.quality = wine_df.quality/10\n",
        "wine_df.head()\n",
        "\n",
        "inputs = torch.tensor(wine_df.loc[:,'fixed acidity':'alcohol'].values, dtype=torch.float32)\n",
        "targets = torch.tensor(wine_df.loc[:,'quality'].values, dtype=torch.float32).view(-1,1) \n",
        "full_ds = TensorDataset(inputs, targets)\n",
        "\n",
        "# 2. Use torch.utils.data.random_split() to make train_ds, test_ds\n",
        "\n",
        "\n",
        "# 3. Make a dataloader for train_ds that loads the entire dataset as a single batch with shuffling\n",
        "\n",
        "\n",
        "# 4. Run the code provided below to make a single neuron model with a sigmoid activation\n",
        "model = torch.nn.Sequential(torch.nn.Linear(11,1),torch.nn.Sigmoid())\n",
        "\n",
        "\n",
        "# 5. Define the same fit function (can use one we defined previously) \n",
        "\n",
        "\n",
        "# 6. Define a loss function and an optimizer (you can use the same as in the example above) and pass them as arguments into the fit function\n",
        "#   to train your model for 2500 epochs. Plot the loss vs epoch\n",
        "\n",
        "\n",
        "# 7. Evaluate the model on (unseen) test data and plot the predictions vs targets\n"
      ],
      "metadata": {
        "id": "Vf9fSX3vX3_X"
      },
      "execution_count": null,
      "outputs": []
    },
    {
      "cell_type": "markdown",
      "source": [
        "### Solution: Don't look at this until you've tried it"
      ],
      "metadata": {
        "id": "NFB7gBEgXyhn"
      }
    },
    {
      "cell_type": "code",
      "source": [
        "# 1. Run this code to load the dataset\n",
        "import torch\n",
        "import pandas as pd\n",
        "import matplotlib.pyplot as plt\n",
        "from sklearn.preprocessing import StandardScaler\n",
        "from torch.utils.data import TensorDataset, DataLoader\n",
        "\n",
        "wine_df = pd.read_csv('https://raw.githubusercontent.com/dylanwalker/MGSC496/main/datasets/winequality-red.csv')\n",
        "scaler = StandardScaler()\n",
        "scaler.fit(wine_df.loc[:,'fixed acidity':'alcohol'])\n",
        "wine_df.loc[:,'fixed acidity':'alcohol'] = scaler.transform(wine_df.loc[:,'fixed acidity':'alcohol'])\n",
        "wine_df.quality = wine_df.quality/10\n",
        "wine_df.head()\n",
        "\n",
        "inputs = torch.tensor(wine_df.loc[:,'fixed acidity':'alcohol'].values, dtype=torch.float32)\n",
        "targets = torch.tensor(wine_df.loc[:,'quality'].values, dtype=torch.float32).view(-1,1) \n",
        "full_ds = TensorDataset(inputs, targets)"
      ],
      "metadata": {
        "id": "qEw2JvQOXCKJ"
      },
      "execution_count": null,
      "outputs": []
    },
    {
      "cell_type": "code",
      "source": [
        "# 2. Use torch.utils.data.random_split() to make train_ds, test_ds\n",
        "train_ds, test_ds =  torch.utils.data.random_split(full_ds,[0.8, 0.2])\n",
        "\n",
        "# 3. Make a dataloader for train_ds that loads the entire dataset as a single batch with shuffling\n",
        "train_dl = DataLoader(train_ds, batch_size=len(train_ds), shuffle=True)\n",
        "\n",
        "# 4. Run the code provided below to make a single neuron model with a sigmoid activation\n",
        "model = torch.nn.Sequential(torch.nn.Linear(11,1),torch.nn.Sigmoid())\n",
        "\n",
        "# 5. Define the same fit function as was used in the last example \n",
        "def fit_gd(num_epochs, model, train_dl, loss_fn, opt):\n",
        "    losses = []\n",
        "    model.train() # put the model into training mode (in case it is already in evaluation mode) - we'll talk about this later.\n",
        "    for epoch in range(num_epochs):\n",
        "      loss_for_epoch = 0\n",
        "      opt.zero_grad() # tell the optimizer to zero the gradient so we start fresh on this epoch\n",
        "      for xb,yb in train_dl: # sample a batch of inputs,targets\n",
        "        pred = model(xb) # get the predictions\n",
        "        loss = loss_fn(pred, yb) # calculate the loss for these predictions\n",
        "        loss_for_epoch += loss.item() # add loss for this batch to the running total of the loss for this epoch\n",
        "        loss.backward() # propagate the loss backward\n",
        "      losses.append(loss_for_epoch)\n",
        "      opt.step() # this tells the optimizer to take one step -- it knows about model weights/biases and learning rate as we passed them when we create opt, this is where weigths are adjusted\n",
        "    return losses \n",
        "\n",
        "\n",
        "#6. Define a loss function and an optimizer (you can use the same as in the example above) and pass them as arguments into the fit function\n",
        "#   to train your model for 2500 epochs\n",
        "loss_fn = torch.nn.functional.mse_loss \n",
        "opt = torch.optim.SGD(model.parameters(), lr=1e-2)\n",
        "losses = fit_gd(2500,model,train_dl,loss_fn, opt)\n",
        "plt.plot(losses);\n",
        "plt.xlabel('epoch');\n",
        "plt.ylabel('loss');"
      ],
      "metadata": {
        "colab": {
          "base_uri": "https://localhost:8080/",
          "height": 449
        },
        "id": "OvFeYL0K1XYr",
        "outputId": "8fb0e417-2fbe-40f3-cb96-8cc671262e3e"
      },
      "execution_count": null,
      "outputs": [
        {
          "output_type": "display_data",
          "data": {
            "text/plain": [
              "<Figure size 640x480 with 1 Axes>"
            ],
            "image/png": "[encoded data removed]"
          },
          "metadata": {}
        }
      ]
    },
    {
      "cell_type": "code",
      "source": [
        "# 7. evaluate on test data\n",
        "xt,yt = test_ds[:]\n",
        "model.eval()\n",
        "ypred_t = model(xt)\n",
        "plt.plot(yt.detach().numpy(),ypred_t.detach().numpy(),'.',alpha=0.2);\n"
      ],
      "metadata": {
        "colab": {
          "base_uri": "https://localhost:8080/",
          "height": 430
        },
        "id": "JiCGSytQ0St6",
        "outputId": "4d66ab10-bb60-478e-d04b-e0825266c11b"
      },
      "execution_count": null,
      "outputs": [
        {
          "output_type": "display_data",
          "data": {
            "text/plain": [
              "<Figure size 640x480 with 1 Axes>"
            ],
            "image/png": "[encoded data removed]"
          },
          "metadata": {}
        }
      ]
    },
    {
      "cell_type": "markdown",
      "metadata": {
        "id": "knWrJSKJLUq0"
      },
      "source": [
        "# In-Class Exercise: Define a simple NN and train it to predict music genre on spotify data"
      ]
    },
    {
      "cell_type": "markdown",
      "metadata": {
        "id": "nGJXHCo5cAWO"
      },
      "source": [
        "For this exercise, we'll use a dataset from Spotify containing music attributes such as bpm, energy, and danceability. It has 45 songs that belong to either the 'rock' genre or the 'dance pop' genre. For this example, as above, we won't bother to split the data into training and test sets (again, the data here is pretty small)."
      ]
    },
    {
      "cell_type": "code",
      "metadata": {
        "id": "UaGrp217cAWQ"
      },
      "source": [
        "# Read the data\n",
        "musicFile = 'https://raw.githubusercontent.com/dylanwalker/MGSC496/main/datasets/spotify.csv'\n",
        "musicData = pd.read_csv(musicFile, encoding='latin-1')\n",
        "musicData.head()"
      ],
      "execution_count": null,
      "outputs": []
    },
    {
      "cell_type": "markdown",
      "metadata": {
        "id": "DR1UqknYcAWd"
      },
      "source": [
        "The first step is to define the dataset. \n",
        "\n",
        "Make a new column in the dataframe called 'genre_class'. Set it to be 0 for 'rock' and 1 for 'dance pop' (these are the only genres in the dataset).\n",
        "\n",
        "We need to get our pandas data into torch tensors. One way to do this is to first get them as numpy arrays from the pandas columns using `.values` and then call `torch.tensor()` (we may have to set the dtype to `torch.float32`.\n",
        "\n",
        "Define the musical attributes ('bpm' through 'speechiness') as a pytorch tensor called `features`.\n",
        "\n",
        "Define a pytorch tensor called `targets`  based on the column `genre_class`.\n",
        "\n"
      ]
    },
    {
      "cell_type": "code",
      "metadata": {
        "id": "O7m0_I03dAQk"
      },
      "source": [
        "# INSERT YOUR CODE HERE"
      ],
      "execution_count": null,
      "outputs": []
    },
    {
      "cell_type": "markdown",
      "metadata": {
        "id": "5k3m8gHkkobC"
      },
      "source": [
        "Now create a TensorDataSet from `features` and `targets` called `train_ds`.\n",
        "\n",
        "Also create a DataLoader called `train_dl` from `train_ds` using `batch_size=10` and `shuffle=True`. "
      ]
    },
    {
      "cell_type": "code",
      "metadata": {
        "id": "3ImvTDwRknYc"
      },
      "source": [
        "from torch.utils.data import TensorDataset, DataLoader\n",
        "# INSERT YOUR CODE HERE"
      ],
      "execution_count": null,
      "outputs": []
    },
    {
      "cell_type": "markdown",
      "metadata": {
        "id": "1cAjLanZthHd"
      },
      "source": [
        "Note that we can see the shapes of tensors drawn from the dataloader with our given batch size:"
      ]
    },
    {
      "cell_type": "code",
      "metadata": {
        "id": "IPelWIJHtp4E"
      },
      "source": [
        "x1,y1 = next(iter(train_dl)) # pull a single x,y from the data loader\n",
        "print(x1.shape)\n",
        "print(y1.shape)"
      ],
      "execution_count": null,
      "outputs": []
    },
    {
      "cell_type": "markdown",
      "metadata": {
        "id": "nNnPd4WRt0jP"
      },
      "source": [
        "If we wanted to pass these through a loss function, we would likely have to alter the shape of the `y`, to something that our loss function can understand. We can do this with a `.view(-1,1)` operation, which will make it a tensor with 90 rows and 1 column (instead of a 1d tensor), like so:"
      ]
    },
    {
      "cell_type": "code",
      "metadata": {
        "id": "gX4uvvQyuDym"
      },
      "source": [
        "y1.view(-1,1)\n",
        "print(y1.view(-1,1).shape) # this will output a shape of [batch_size,1]"
      ],
      "execution_count": null,
      "outputs": []
    },
    {
      "cell_type": "markdown",
      "metadata": {
        "id": "c4aQYmpMcAWv"
      },
      "source": [
        "For our neural network model we'll use a single fully connected layer (`torch.nn.Linear()`), followed by a sigmoid activation function (`torch.nn.Sigmoid()`). \n",
        "\n",
        "Note that `torch.nn.Linear()` takes two arguments that specify the size of the input and output. You'll have to figure out what these should be based on the data. Remember that we want to connect all the features to a single output thta is then passed through the activation function. `toch.nn.Sigmoid()` does not need any arguments.\n",
        "\n",
        "We can create a model object from these two layers by passing them as arguments to `torch.nn.Sequential()`. This will make a neural network that connects the output of each layer to the input of the next.\n",
        "\n",
        "By using the sigmoid function, the output of the fully connected layers is converted into a value between 0 and 1. If the converted value is larger than 0.5, we will interpret this as the model predicting the genre of a music to be 'dance pop' (since we set `genre_class=1` for 'dance pop'. Otherwise, the model predicts the genre to be 'rock' music.\n",
        "\n",
        "We'll set the random seed of pytorch manually, using `torch.manual_seed(0)` just to ensure that we are all working on the same shuffled sequence. This step is not needed in general when you train a NN with shuffling, but just included to make sure we're all on the same page."
      ]
    },
    {
      "cell_type": "code",
      "metadata": {
        "id": "7phZNjsNcAWw"
      },
      "source": [
        "torch.manual_seed(0)\n",
        "# model = FILL IN YOUR CODE HERE"
      ],
      "execution_count": null,
      "outputs": []
    },
    {
      "cell_type": "markdown",
      "metadata": {
        "id": "T_-vGJ8XcAW1"
      },
      "source": [
        "Now instantiate an SGD optimizer using `torch.optim.SGD()`. We can use a learning rate of `lr=1e-4`.\n",
        "\n",
        "For the loss function, we'll use the binary cross entropy loss, `torch.nn.BCELoss()` with the argument `reduction='mean'`. BCELoss is often used in logistic regression."
      ]
    },
    {
      "cell_type": "code",
      "metadata": {
        "id": "pZlcoxeCcAW3"
      },
      "source": [
        "# optimizer = FILL IN YOUR CODE HERE\n",
        "# loss_function = FILL IN YOUR CODE HERE"
      ],
      "execution_count": null,
      "outputs": []
    },
    {
      "cell_type": "markdown",
      "metadata": {
        "id": "9xbDnw-qcAW7"
      },
      "source": [
        "Now write the code for training the model over 1000 epochs. You can look back at my `fit()` function defined above. You don't need to write this as a function, but can instead just write the code directly.\n",
        "\n",
        "The model will be trained for 1000 epochs (i.e., you need to loop over epochs).\n",
        "\n",
        "When you call `loss_function`, on the predictions (`pred`) and the targets (`yb`), you will need to adjust the shape of the targets, as explained above.\n",
        "\n",
        "We can calculate a running_loss for each epoch by setting `running_loss=0` before looping over the items in `train_dl`.  We can add up the contribution from each batch to the running loss by adding a line `running_loss+=loss.item()` after calling `loss.backward()`.\n",
        "\n",
        "Finally, we may like to print out the loss for some epochs (there are 1000 epochs, so its overkill to print out the loss for each one). Instead we can print out the loss for only certain values of the epoch -- for example when the epoch divided by 100 has a remainder of 99, or `epoch%100==99`. When this occurs, print out the average loss for that epoch, `running_loss/len(train_dl)`. \n",
        "\n",
        "You can also try your hand at calculating either the average training accuracy for an epcoh or the \"last batch training accuracy\" of the model at these particular epochs."
      ]
    },
    {
      "cell_type": "code",
      "metadata": {
        "id": "kRC-YvOGcAW8"
      },
      "source": [
        "# FILL IN YOUR CODE HERE\n",
        "n_epochs = 1000\n",
        "model.train()\n",
        "for epoch in n_epochs:\n",
        "  pass # replace this with your code (note: pass should be deleted, as its just a placeholder)"
      ],
      "execution_count": null,
      "outputs": []
    },
    {
      "cell_type": "markdown",
      "metadata": {
        "id": "gG1FIjwPcAXD"
      },
      "source": [
        "Finally, when the model has been fully trained, let's look at a prediction for a particular song. We'll predict the genre of Ariana Grande's \"no tears left to cry.\" This song is classified as 'dance pop' in the Spotify. Here's the music video:"
      ]
    },
    {
      "cell_type": "code",
      "metadata": {
        "id": "4rQuWBXncAXH",
        "outputId": "65bc16b0-3e89-42f2-9b5d-61bb8e8ce79a",
        "colab": {
          "base_uri": "https://localhost:8080/",
          "height": 321
        }
      },
      "source": [
        "from IPython.display import YouTubeVideo\n",
        "YouTubeVideo('ffxKSjUwKdU',width=400,height=300)"
      ],
      "execution_count": null,
      "outputs": [
        {
          "output_type": "execute_result",
          "data": {
            "text/html": [
              "\n",
              "        <iframe\n",
              "            width=\"400\"\n",
              "            height=\"300\"\n",
              "            src=\"https://www.youtube.com/embed/ffxKSjUwKdU\"\n",
              "            frameborder=\"0\"\n",
              "            allowfullscreen\n",
              "        ></iframe>\n",
              "        "
            ],
            "text/plain": [
              "<IPython.lib.display.YouTubeVideo at 0x7f2fde5800f0>"
            ],
            "image/jpeg": "[encoded data removed]"
          },
          "metadata": {
            "tags": []
          },
          "execution_count": 10
        }
      ]
    },
    {
      "cell_type": "markdown",
      "metadata": {
        "id": "kshQZkvpxcT5"
      },
      "source": [
        "This particular song has the features (bpm, energy, danceability, liveness, valence, acousticness, speechiness): [122, 71, 70, 29, 35, 4, 6]\n",
        "\n",
        "Get the prediction for this particular song by passing the appropriate input into the model to get the output. How do you interpret this output?"
      ]
    },
    {
      "cell_type": "code",
      "metadata": {
        "id": "HXF40eWBcAXN"
      },
      "source": [
        "# INSERT YOUR CODE HERE"
      ],
      "execution_count": null,
      "outputs": []
    },
    {
      "cell_type": "markdown",
      "source": [
        "# Misc: Building a DataSet from Pytorch's Dataset Class"
      ],
      "metadata": {
        "id": "3pQwKvXaVe1l"
      }
    },
    {
      "cell_type": "markdown",
      "source": [
        "Above, we used `TensorDataSet`, but if we want more control we can define our own custom dataset class. Here is an example for the wine data."
      ],
      "metadata": {
        "id": "tJUoPtiaVq2_"
      }
    },
    {
      "cell_type": "code",
      "source": [
        "# Load and scale the wine quality data\n",
        "import torch\n",
        "import pandas as pd\n",
        "from sklearn.preprocessing import StandardScaler\n",
        "\n",
        "from torch.utils.data import Dataset\n",
        "\n",
        "class WineDataset(Dataset):\n",
        "  def __init__(self):\n",
        "    # load and transform data\n",
        "    wine_df = wine_df = pd.read_csv('https://raw.githubusercontent.com/dylanwalker/MGSC496/main/datasets/winequality-red.csv')\n",
        "    scaler = StandardScaler()\n",
        "    scaler.fit(wine_df.loc[:,'fixed acidity':'alcohol'])\n",
        "    wine_df.loc[:,'fixed acidity':'alcohol'] = scaler.transform(wine_df.loc[:,'fixed acidity':'alcohol'])\n",
        "    wine_df.quality = wine_df.quality/10\n",
        "    x = wine_df.loc[:,'fixed acidity':'alcohol'].values\n",
        "    y = wine_df.loc[:,'quality'].values\n",
        "    \n",
        "    # make tensors for x,y and store them (along with original dataframe) as attributes\n",
        "    self.wine_df = wine_df\n",
        "    self.x = torch.tensor(x, dtype=torch.float32)\n",
        "    self.y = torch.tensor(y, dtype=torch.float32)\n",
        "\n",
        "  def __len__(self):\n",
        "    return len(self.y)\n",
        "  \n",
        "  def __getitem__(self,idx):\n",
        "    return self.x[idx],self.y[idx]\n",
        "\n",
        "wine_ds = WineDataset()"
      ],
      "metadata": {
        "id": "2kekZEn4XVil"
      },
      "execution_count": null,
      "outputs": []
    }
  ]
}