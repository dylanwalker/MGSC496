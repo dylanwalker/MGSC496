{
  "nbformat": 4,
  "nbformat_minor": 0,
  "metadata": {
    "colab": {
      "provenance": [],
      "authorship_tag": "ABX9TyNaTK6A2VecZTfAUJj1Agu0",
      "include_colab_link": true
    },
    "kernelspec": {
      "name": "python3",
      "display_name": "Python 3"
    },
    "language_info": {
      "name": "python"
    }
  },
  "cells": [
    {
      "cell_type": "markdown",
      "metadata": {
        "id": "view-in-github",
        "colab_type": "text"
      },
      "source": [
        "<a href=\"https://colab.research.google.com/github/dylanwalker/MGSC496/blob/main/MGSC496_NHLScraper_extracting_data.ipynb\" target=\"_parent\"><img src=\"https://colab.research.google.com/assets/colab-badge.svg\" alt=\"Open In Colab\"/></a>"
      ]
    },
    {
      "cell_type": "markdown",
      "source": [
        "# Extracting data from Hockey Teams Data on [this site](http://www.scrapethissite.com/pages/forms/)\n"
      ],
      "metadata": {
        "id": "unNsRz_6V0Lp"
      }
    },
    {
      "cell_type": "markdown",
      "source": [
        "\n",
        "To get started building a scraper for this site containing NHL data, the first thing I do is install parsel and import the Selector class (so I can play with xpaths). \n",
        "\n",
        "Next, I use the `requests` library to get the source of the page, name it `doc` and then make a Selector object out of it using:\n",
        "\n",
        " ```python\n",
        " selector = Selector(doc)\n",
        " ```"
      ],
      "metadata": {
        "id": "OwI7KQyBbBcq"
      }
    },
    {
      "cell_type": "code",
      "source": [
        "%%capture\n",
        "!pip install parsel"
      ],
      "metadata": {
        "id": "G-_gpUzvPY5g"
      },
      "execution_count": null,
      "outputs": []
    },
    {
      "cell_type": "code",
      "source": [
        "from parsel import Selector\n",
        "import requests\n",
        "res = requests.get('http://www.scrapethissite.com/pages/forms/')\n",
        "doc = res.text\n",
        "selector = Selector(doc)"
      ],
      "metadata": {
        "id": "n_2-ei93h7jV"
      },
      "execution_count": null,
      "outputs": []
    },
    {
      "cell_type": "markdown",
      "source": [
        "Once, I've done that I inspect various element of the page in my browser and figure out which pieces of data I want to extract, and then figure out an xpath for each one. I print out the variables as I go, so I can see what I'm extracting from this first page and keep adding variables that capture the data items until I get something that looks like this: "
      ],
      "metadata": {
        "id": "eNBcivRoWQQ1"
      }
    },
    {
      "cell_type": "code",
      "source": [
        "teams = selector.xpath('//table[@class=\"table\"]//tr[@class=\"team\"]') # seems like this xpath identifies each row which contains info about the team\n",
        "for team in teams: # for each row I look for all the data I want to extract for that row; many have simple class names, so they are relatively easy to get an xpath for then\n",
        "  team_name = team.xpath('td[@class=\"name\"]/text()').get().strip() # I added the .strip() because there was a newline character I wanted to get rid of.\n",
        "  year = team.xpath('td[@class=\"year\"]/text()').get().strip()\n",
        "  wins = team.xpath('td[@class=\"wins\"]/text()').get().strip()\n",
        "  losses = team.xpath('td[@class=\"losses\"]/text()').get().strip()\n",
        "  ot_losses = team.xpath('td[@class=\"ot_losses\"]/text()').get() # this one was tricky, because it is sometimes a None object, so I tested for that case below \n",
        "  if ot_losses is None:\n",
        "    ot_losses = '' # I made it an empty string when there is no text\n",
        "  ot_losses = ot_losses.strip() # otherwise, I process it like any other\n",
        "  win_pct = team.xpath('td[contains(@class,\"pct\")]/text()').get().strip()\n",
        "  goals_for = team.xpath('td[@class=\"gf\"]/text()').get().strip()\n",
        "  goals_against = team.xpath('td[@class=\"ga\"]/text()').get().strip()\n",
        "  diff = team.xpath('td[contains(@class,\"diff\")]/text()').get().strip()\n",
        "  print(f\"{team_name} {year} {wins} {losses} {win_pct} {goals_for} {goals_against} {diff}\")\n",
        "next_link = selector.xpath('//a[@aria-label=\"Next\"]/@href').get() #Each page has a lot of links to further pages at the bottom, but also a convenient next link, which is perfect for scraping\n",
        "print(next_link)"
      ],
      "metadata": {
        "id": "oa-o3ChzPnDO",
        "colab": {
          "base_uri": "https://localhost:8080/"
        },
        "outputId": "1573d980-d679-4569-cd5a-e251e22a9dab"
      },
      "execution_count": null,
      "outputs": [
        {
          "output_type": "stream",
          "name": "stdout",
          "text": [
            "Boston Bruins 1990 44 24 0.55 299 264 35\n",
            "Buffalo Sabres 1990 31 30 0.388 292 278 14\n",
            "Calgary Flames 1990 46 26 0.575 344 263 81\n",
            "Chicago Blackhawks 1990 49 23 0.613 284 211 73\n",
            "Detroit Red Wings 1990 34 38 0.425 273 298 -25\n",
            "Edmonton Oilers 1990 37 37 0.463 272 272 0\n",
            "Hartford Whalers 1990 31 38 0.388 238 276 -38\n",
            "Los Angeles Kings 1990 46 24 0.575 340 254 86\n",
            "Minnesota North Stars 1990 27 39 0.338 256 266 -10\n",
            "Montreal Canadiens 1990 39 30 0.487 273 249 24\n",
            "New Jersey Devils 1990 32 33 0.4 272 264 8\n",
            "New York Islanders 1990 25 45 0.312 223 290 -67\n",
            "New York Rangers 1990 36 31 0.45 297 265 32\n",
            "Philadelphia Flyers 1990 33 37 0.412 252 267 -15\n",
            "Pittsburgh Penguins 1990 41 33 0.512 342 305 37\n",
            "Quebec Nordiques 1990 16 50 0.2 236 354 -118\n",
            "St. Louis Blues 1990 47 22 0.588 310 250 60\n",
            "Toronto Maple Leafs 1990 23 46 0.287 241 318 -77\n",
            "Vancouver Canucks 1990 28 43 0.35 243 315 -72\n",
            "Washington Capitals 1990 37 36 0.463 258 258 0\n",
            "Winnipeg Jets 1990 26 43 0.325 260 288 -28\n",
            "Boston Bruins 1991 36 32 0.45 270 275 -5\n",
            "Buffalo Sabres 1991 31 37 0.388 289 299 -10\n",
            "Calgary Flames 1991 31 37 0.388 296 305 -9\n",
            "Chicago Blackhawks 1991 36 29 0.45 257 236 21\n",
            "/pages/forms/?page_num=1\n"
          ]
        }
      ]
    },
    {
      "cell_type": "markdown",
      "source": [
        "Now that I know how to get everything I want, I can make a new scraper and put all this data extraction code into the spider."
      ],
      "metadata": {
        "id": "eW0no3-rWnhH"
      }
    }
  ]
}