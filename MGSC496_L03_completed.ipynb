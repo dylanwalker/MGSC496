{
  "nbformat": 4,
  "nbformat_minor": 0,
  "metadata": {
    "colab": {
      "provenance": [],
      "collapsed_sections": [
        "-3AafCCzO3FN",
        "atSB9TXzYakl",
        "q3ug_VFBXbqu",
        "aTiLZ2dJy8PY"
      ],
      "authorship_tag": "ABX9TyNoPu2Qttc+UQFtZi13qTJe",
      "include_colab_link": true
    },
    "kernelspec": {
      "name": "python3",
      "display_name": "Python 3"
    },
    "language_info": {
      "name": "python"
    }
  },
  "cells": [
    {
      "cell_type": "markdown",
      "metadata": {
        "id": "view-in-github",
        "colab_type": "text"
      },
      "source": [
        "<a href=\"https://colab.research.google.com/github/dylanwalker/MGSC496/blob/main/MGSC496_L03_completed.ipynb\" target=\"_parent\"><img src=\"https://colab.research.google.com/assets/colab-badge.svg\" alt=\"Open In Colab\"/></a>"
      ]
    },
    {
      "cell_type": "markdown",
      "source": [
        "This is the in-class notebook for MGSC496 Lecture 03."
      ],
      "metadata": {
        "id": "dA_4fackixhz"
      }
    },
    {
      "cell_type": "markdown",
      "source": [
        "We will use this space to go over examples, try some exercises, do live coding, and work through any of questions the class might have."
      ],
      "metadata": {
        "id": "clxCFGyVi6vy"
      }
    },
    {
      "cell_type": "markdown",
      "source": [
        "# Recap: L02 Exercises -- Questions?\n",
        "\n",
        "Let's see YOUR solutions to the exercises in L02"
      ],
      "metadata": {
        "id": "tW6OsHxhZi9V"
      }
    },
    {
      "cell_type": "markdown",
      "source": [
        "Questions a dictionaries to a file"
      ],
      "metadata": {
        "id": "vqBvXhaMsvAg"
      }
    },
    {
      "cell_type": "code",
      "execution_count": null,
      "metadata": {
        "id": "AgHiUNAxBQcB"
      },
      "outputs": [],
      "source": [
        "actorDict = {\"McLovin\":\"Christopher Mintz\",\"Seth\":\"Johan Hill\",\"Evan\":\"Michale Cera\"}\n",
        "\n",
        "with open('actorsD.txt','w') as f:\n",
        "  for k,v in actorDict.items():\n",
        "    f.write(f\"{k}: {v}, \")\n",
        "\n",
        "\n",
        "with open('actorsD.txt','r') as f:\n",
        "  data = f.read()\n",
        "  data = data.strip(', ')\n",
        "\n",
        "\n",
        "newActorDict = {}\n",
        "for el in data.split(', '):\n",
        "  charName, actorName = el.split(': ')\n",
        "  newActorDict[charName] = actorName\n",
        "\n",
        "print(actorDict)\n",
        "print(newActorDict)"
      ]
    },
    {
      "cell_type": "code",
      "source": [],
      "metadata": {
        "id": "PmDGrpN24OQF"
      },
      "execution_count": null,
      "outputs": []
    },
    {
      "cell_type": "markdown",
      "source": [
        "The `json` library alows us to serilaize arbitrarily complex hierarchical collextions (lists of dicts of list, etc.) to strings/files: "
      ],
      "metadata": {
        "id": "O79J8U_U2yw2"
      }
    },
    {
      "cell_type": "code",
      "source": [
        "import json\n",
        "\n",
        "complexThing = [{\"one\":[\"a\",\n",
        "                        \"b\",\n",
        "                        \"c\"],\n",
        "                 \"two\":[\"e\",\n",
        "                        \"f\"\n",
        "                        ,\"g\"]}]\n",
        "\n",
        "jsonRepresentationOfCOmplexThing = json.dumps(complexThing)\n",
        "print(jsonRepresentationOfCOmplexThing) # Here is what it looks like as a string\n",
        "with open(\"complexStuff.json\",\"w\") as f:\n",
        "  json.dump(complexThing,f)"
      ],
      "metadata": {
        "colab": {
          "base_uri": "https://localhost:8080/"
        },
        "id": "MDzGJ9gG28wF",
        "outputId": "f42a1f18-2ef5-4279-e4e0-d656822b113f"
      },
      "execution_count": 4,
      "outputs": [
        {
          "output_type": "stream",
          "name": "stdout",
          "text": [
            "[{\"one\": [\"a\", \"b\", \"c\"], \"two\": [\"e\", \"f\", \"g\"]}]\n"
          ]
        }
      ]
    },
    {
      "cell_type": "markdown",
      "source": [
        "Here is an example of using a default argument that involves a randomly generated number:"
      ],
      "metadata": {
        "id": "GqB35r7M8Im7"
      }
    },
    {
      "cell_type": "code",
      "source": [
        "from random import random\n",
        "\n",
        "def div(x, y = random()):\n",
        "  return x/y\n",
        "\n",
        "div(1)"
      ],
      "metadata": {
        "colab": {
          "base_uri": "https://localhost:8080/"
        },
        "id": "WfUK57C37y0j",
        "outputId": "c8332351-cad1-4830-fea3-5e23876efc45"
      },
      "execution_count": 6,
      "outputs": [
        {
          "output_type": "execute_result",
          "data": {
            "text/plain": [
              "27.534118467911103"
            ]
          },
          "metadata": {},
          "execution_count": 6
        }
      ]
    },
    {
      "cell_type": "markdown",
      "source": [
        "Note that arguments to functions that have a default value are called *keyword* arguments. They alwasy have to go to the right of regular arguments (arguments without a default value)."
      ],
      "metadata": {
        "id": "CaAcS6wJ8NQv"
      }
    },
    {
      "cell_type": "markdown",
      "source": [
        "# Recap: Let's go over the reading R02. Questions?"
      ],
      "metadata": {
        "id": "Zh_h-qt5bneH"
      }
    },
    {
      "cell_type": "markdown",
      "source": [
        "# Potential Topic: Unpacking operators `*` (for iterables), `**` (for dictionaries), and `*args` and `**kwargs`"
      ],
      "metadata": {
        "id": "oL1RdxAq1TKd"
      }
    },
    {
      "cell_type": "markdown",
      "source": [
        "Suppose I wanted to make a function `add` that could take **any number of numerical arguments** and add them all up. How could I do that?"
      ],
      "metadata": {
        "id": "EfA8DKMO_ROC"
      }
    },
    {
      "cell_type": "code",
      "source": [
        "l = [\"a\",\"b\",\"c\",\"d\"]\n",
        "print(*l)\n",
        "print(l)\n"
      ],
      "metadata": {
        "id": "9m_8W0osn7Ys",
        "colab": {
          "base_uri": "https://localhost:8080/",
          "height": 166
        },
        "outputId": "7c52b550-0894-4012-cdc6-35b173ed45d0"
      },
      "execution_count": 9,
      "outputs": [
        {
          "output_type": "stream",
          "name": "stdout",
          "text": [
            "a b c d\n",
            "['a', 'b', 'c', 'd']\n"
          ]
        },
        {
          "output_type": "error",
          "ename": "SyntaxError",
          "evalue": "ignored",
          "traceback": [
            "\u001b[0;36m  File \u001b[0;32m\"<ipython-input-9-ca206c234620>\"\u001b[0;36m, line \u001b[0;32m4\u001b[0m\n\u001b[0;31m    *l\u001b[0m\n\u001b[0m    ^\u001b[0m\n\u001b[0;31mSyntaxError\u001b[0m\u001b[0;31m:\u001b[0m can't use starred expression here\n"
          ]
        }
      ]
    },
    {
      "cell_type": "code",
      "source": [
        "def add(*args):\n",
        "  sum = 0\n",
        "  for el in args:\n",
        "    sum += el\n",
        "  return sum\n",
        "\n",
        "\n",
        "print(add(1,3,8,6,7))\n",
        "\n",
        "print(add(1,5,2))\n",
        "\n",
        "\n",
        "\n",
        "\n",
        "def div(numerator=1, denominator=2):\n",
        "  return numerator/denominator\n",
        "\n",
        "\n",
        "d = {\"numerator\":1,\n",
        "     \"denominator\":5}\n",
        "\n",
        "div(**d)\n",
        "\n",
        "\n",
        "def somfunc(*args,**kwargs):\n"
      ],
      "metadata": {
        "colab": {
          "base_uri": "https://localhost:8080/"
        },
        "id": "QmjzzM1xFg4r",
        "outputId": "d043582d-684c-4b60-f9e2-001ee6e9b256"
      },
      "execution_count": 12,
      "outputs": [
        {
          "output_type": "stream",
          "name": "stdout",
          "text": [
            "25\n",
            "8\n"
          ]
        },
        {
          "output_type": "execute_result",
          "data": {
            "text/plain": [
              "0.2"
            ]
          },
          "metadata": {},
          "execution_count": 12
        }
      ]
    },
    {
      "cell_type": "markdown",
      "source": [
        "## See Hidden Code"
      ],
      "metadata": {
        "id": "-3AafCCzO3FN"
      }
    },
    {
      "cell_type": "code",
      "source": [
        "# Can anyone in class help?!?\n",
        "def add(arg1,arg2,arg3,arg4,arg5):\n",
        "  sum = arg1+arg2+arg3+arg4+arg5\n",
        "  print(f\"sum = {sum}\")\n",
        "  return sum\n",
        "\n",
        "add(1,2,1,5.6,8)"
      ],
      "metadata": {
        "id": "BV7xTkGU_adC"
      },
      "execution_count": null,
      "outputs": []
    },
    {
      "cell_type": "markdown",
      "source": [
        "But.... that's only 5 arguments. What if I had less (we could make many of them keyword arguments and default them to 0)? But what if I had more? What if I wanted to make it work with an **arbitrary** number of arguments? \n",
        "\n",
        "Well, we can do this with the unpacking operator `*`. It works like this:\n"
      ],
      "metadata": {
        "id": "dIWFhlEZ_9tQ"
      }
    },
    {
      "cell_type": "code",
      "source": [
        "# Live code an example of add() using *args\n",
        "def add(*args):\n",
        "  sum = 0\n",
        "  for arg in args:\n",
        "    sum += arg\n",
        "  print(f\"sum = {sum}\")\n",
        "  return sum\n",
        "\n",
        "add(1,3)\n",
        "add(1,4,7,2.3,1,8)\n"
      ],
      "metadata": {
        "colab": {
          "base_uri": "https://localhost:8080/"
        },
        "id": "dn8HnedQAO85",
        "outputId": "f83cd51a-fa6b-4e2e-dcc6-16fe10b4a970"
      },
      "execution_count": null,
      "outputs": [
        {
          "output_type": "stream",
          "name": "stdout",
          "text": [
            "sum = 4\n",
            "sum = 23.3\n"
          ]
        },
        {
          "output_type": "execute_result",
          "data": {
            "text/plain": [
              "23.3"
            ]
          },
          "metadata": {},
          "execution_count": 34
        }
      ]
    },
    {
      "cell_type": "markdown",
      "source": [
        "Normally `*` in Python means multiply. However, it is also used to \"unpack\" lists when it occurs right before a list, but only in some special places (inside a function call or when declared inside another list):"
      ],
      "metadata": {
        "id": "7IHe6Dg96KQC"
      }
    },
    {
      "cell_type": "code",
      "source": [
        "someList = [1, 3, 7, 200]\n",
        "\n",
        "print(someList)\n",
        "print(*someList) # notice the difference. This is equivalent to:\n",
        "print(1, 3, 7, 200) \n",
        "# So print(*someList) is like calling print with each of the elements of someList as an argument\n"
      ],
      "metadata": {
        "id": "1b1IDK_h1Xxj"
      },
      "execution_count": null,
      "outputs": []
    },
    {
      "cell_type": "code",
      "source": [
        "# Notice, you can't just do *someList anywhere in Python:\n",
        "blah = *someList"
      ],
      "metadata": {
        "colab": {
          "base_uri": "https://localhost:8080/",
          "height": 131
        },
        "id": "p867OA2z8BpN",
        "outputId": "f6113c1c-fcc4-4348-eca9-c734b991d6a5"
      },
      "execution_count": null,
      "outputs": [
        {
          "output_type": "error",
          "ename": "SyntaxError",
          "evalue": "ignored",
          "traceback": [
            "\u001b[0;36m  File \u001b[0;32m\"<ipython-input-19-0c360541a9d4>\"\u001b[0;36m, line \u001b[0;32m2\u001b[0m\n\u001b[0;31m    blah = *someList\u001b[0m\n\u001b[0m           ^\u001b[0m\n\u001b[0;31mSyntaxError\u001b[0m\u001b[0;31m:\u001b[0m can't use starred expression here\n"
          ]
        }
      ]
    },
    {
      "cell_type": "code",
      "source": [
        "def get_hypotenuse(a=1, b=1):\n",
        "  c = (a**2+b**2)**(1/2)\n",
        "  print(f\"The hypotenuse of a triangle with sides a={a} and b={b} is c={c}\")\n",
        "  return c\n",
        "\n",
        "triangleDict = {\"a\":3, \"b\": 4}\n",
        "get_hypotenuse(**triangleDict) # get_hypotenuse(**triangleDict) is the same as calling get_hypotenuse(a=3,b=4). The ** operator before a dictionary expands to a series of keyword arguments\n"
      ],
      "metadata": {
        "colab": {
          "base_uri": "https://localhost:8080/"
        },
        "id": "PBsbOj8w6-NA",
        "outputId": "4b3130fa-7dc7-4030-ca0c-4d47242b4a7a"
      },
      "execution_count": null,
      "outputs": [
        {
          "output_type": "stream",
          "name": "stdout",
          "text": [
            "The hypotenuse of a triangle with sides a=3 and b=4 is c=5.0\n"
          ]
        },
        {
          "output_type": "execute_result",
          "data": {
            "text/plain": [
              "5.0"
            ]
          },
          "metadata": {},
          "execution_count": 37
        }
      ]
    },
    {
      "cell_type": "markdown",
      "source": [
        "The place where the unpacking operators `*` and `**` are used the most (and where you will most likely see them), is when we want to define a function that has an arbitrary number of argument and/or keyword arguments. Here is how it works:\n"
      ],
      "metadata": {
        "id": "tpUNP2ji8NlX"
      }
    },
    {
      "cell_type": "code",
      "source": [
        "def coolFunction(*args, **kwargs):\n",
        "  print(f\"This function was called with {len(args)} positional arguments and {len(kwargs)} keyword arguments\")\n",
        "  print(\"Positional Arguments:\")\n",
        "  for el in args:\n",
        "    print(f\"\\t{el}\")\n",
        "  print(\"Keyword Arguments:\")\n",
        "  for k,v in kwargs.items():\n",
        "    print(f\"\\t{k}={v}\")\n",
        "\n",
        "coolFunction(4,\"hello\",1,2,someArg=5)\n"
      ],
      "metadata": {
        "colab": {
          "base_uri": "https://localhost:8080/"
        },
        "id": "hjzTtSof8enn",
        "outputId": "4ff9cb02-6857-4000-ef83-44a82c53b62e"
      },
      "execution_count": null,
      "outputs": [
        {
          "output_type": "stream",
          "name": "stdout",
          "text": [
            "This function was called with 4 positional arguments and 1 keyword arguments\n",
            "Positional Arguments:\n",
            "\t4\n",
            "\thello\n",
            "\t1\n",
            "\t2\n",
            "Keyword Arguments:\n",
            "\tsomeArg=5\n"
          ]
        }
      ]
    },
    {
      "cell_type": "markdown",
      "source": [
        "The `*args` and `**kwargs` trick is incredibly useful. It allows us to \"pass arguments and keyword arguments\" onward without knowing what they are. You'll see how this is useful in a minute when we talk about decorators. "
      ],
      "metadata": {
        "id": "3GVaTnYH9gUy"
      }
    },
    {
      "cell_type": "markdown",
      "source": [
        "# Potential Topic: Function Wrapping and Decorators"
      ],
      "metadata": {
        "id": "-m0NYoCUXLpH"
      }
    },
    {
      "cell_type": "markdown",
      "source": [
        "What if someone else gave us a function and we were not allowed to modify it, but we wanted to alter what happens before and/or after the function was called?\n",
        "\n",
        "One way to do this is with a wrapper function:"
      ],
      "metadata": {
        "id": "bVvM2f0fyyKD"
      }
    },
    {
      "cell_type": "code",
      "source": [
        "\n",
        "def wrapper(func):\n",
        "  \n",
        "\n",
        "def add(x,y):\n",
        "  return x+y\n"
      ],
      "metadata": {
        "id": "Rcysw4iXmHrg"
      },
      "execution_count": null,
      "outputs": []
    },
    {
      "cell_type": "markdown",
      "source": [
        "## See Hidden Code"
      ],
      "metadata": {
        "id": "l0gZKU7bO_lf"
      }
    },
    {
      "cell_type": "code",
      "source": [
        "# Live code of wrapper which wraps someFunction\n",
        "\n",
        "def someFunction():\n",
        "  print(\"someFunction: Hello\")\n",
        "\n",
        "def someOtherFunction():\n",
        "  print(\"someOtherFunction: Doing something important.\")\n",
        "\n",
        "def add(x,y):\n",
        "  sum = x+y\n",
        "  print(f\"{x}+{y}={sum}\")\n",
        "  return sum\n",
        "\n",
        "# We can make a \"wrapper\" function:\n",
        "def someDecorator(func):\n",
        "  def wrapper(): # This is a funny thing here, because we are defining a function *inside* another function. This is called a \"closure\"\n",
        "    print(\"Wrapper: Doing something before the function call\")\n",
        "    func()\n",
        "    print(\"Wrapper: Doing something after the function call\")\n",
        "  return wrapper # Because we return the function wrapper here, it can't \"get disposed of when the function is done\", but instead has to live on in memory\n",
        "\n",
        "# Here's another way to do this if the function has arguments and returns something:\n",
        "def otherDecorator(func):\n",
        "  def wrapper(*args, **kwargs):\n",
        "    print(\"Wrapper: Doing something before the function call\")\n",
        "    f = func(*args, **kwargs)\n",
        "    print(\"Wrapper: Doing something after the function call\")\n",
        "    return f\n",
        "  return wrapper \n",
        "\n",
        "\n",
        "# Then, instead of calling someFunction, we can call someWrapper and pass it the arguments of someFunction:\n",
        "someDecorator(someFunction)() # Notice what is happening here. someDecorator(someFunction) returns the wrapper function. Then the () call it.\n",
        "someDecorator(someOtherFunction)() # Here we're using the decorator with the someOtherFunction instead.\n",
        "\n",
        "result = otherDecorator(add)(1,3)\n",
        "print(result)"
      ],
      "metadata": {
        "colab": {
          "base_uri": "https://localhost:8080/"
        },
        "id": "HJcMdiSkYeTH",
        "outputId": "ac0ac6eb-8546-490b-f530-5e2ca6ee1910"
      },
      "execution_count": null,
      "outputs": [
        {
          "output_type": "stream",
          "name": "stdout",
          "text": [
            "Wrapper: Doing something before the function call\n",
            "someFunction: Hello\n",
            "Wrapper: Doing something after the function call\n",
            "Wrapper: Doing something before the function call\n",
            "someOtherFunction: Doing something important.\n",
            "Wrapper: Doing something after the function call\n",
            "Wrapper: Doing something before the function call\n",
            "1+3=4\n",
            "Wrapper: Doing something after the function call\n",
            "4\n"
          ]
        }
      ]
    },
    {
      "cell_type": "markdown",
      "source": [
        "But what if we already had a whole bunch of code that had calls to `someFunction()` and we didn't want to go through and change all those calls?\n",
        "\n",
        "Python allows us to avoid ugly statements like `someDecorator(someFunction)()` by using *annotations*.\n",
        "\n",
        "Here is an example:\n"
      ],
      "metadata": {
        "id": "gIcfuaF40W1h"
      }
    },
    {
      "cell_type": "code",
      "source": [
        "# First, we'll define our decorator, as before (we'll use a new name here)\n",
        "def myDecorator(func):\n",
        "    def wrapper(*args, **kwargs):\n",
        "      print(\"Wrapper: Doing something before the function call\")\n",
        "      f = func(*args, **kwargs)\n",
        "      print(\"Wrapper: Doing something after the function call\")\n",
        "      return f\n",
        "    return wrapper\n",
        "\n",
        "\n",
        "# now, when we write any function, we can just put the annotation @myDecorator write above its definition and, whenever we call add(x,y) it will be equivalent to calling myDecorator(add)(x,y)\n",
        "@myDecorator\n",
        "def add(x,y):\n",
        "  sum = x+y\n",
        "  print(f\"{x}+{y}={sum}\")\n",
        "  return sum\n",
        "\n",
        "add(1,4)\n"
      ],
      "metadata": {
        "colab": {
          "base_uri": "https://localhost:8080/"
        },
        "id": "sd7SP0_o4bgI",
        "outputId": "4a9cc7c0-30ec-4e68-e7cb-77afeb700911"
      },
      "execution_count": null,
      "outputs": [
        {
          "output_type": "stream",
          "name": "stdout",
          "text": [
            "Wrapper: Doing something before the function call\n",
            "1+4=5\n",
            "Wrapper: Doing something after the function call\n"
          ]
        },
        {
          "output_type": "execute_result",
          "data": {
            "text/plain": [
              "5"
            ]
          },
          "metadata": {},
          "execution_count": 10
        }
      ]
    },
    {
      "cell_type": "markdown",
      "source": [
        "As you use python more and see more library and other people's code, you will likely encounter decorators everywhere. They can be used to analyze performance (time it takes to call functions), to log when a function is called, etc."
      ],
      "metadata": {
        "id": "-lAKqITT5OcK"
      }
    },
    {
      "cell_type": "markdown",
      "source": [
        "# Potential Topic: Data Classes"
      ],
      "metadata": {
        "id": "atSB9TXzYakl"
      }
    },
    {
      "cell_type": "markdown",
      "source": [
        "Remember in the reading, when I talked about how before classes there were structs? Those were objects designed to group \"like variables\" together in a common structure. Well in Python, we can do that with data classes. We can make a dataclass and get a \"whole bunch of convenient, boilerplate class code for free\" by unsing the @dataclass decorator:"
      ],
      "metadata": {
        "id": "ZP87nRuG-O96"
      }
    },
    {
      "cell_type": "code",
      "source": [
        "from dataclasses import dataclass\n",
        "\n",
        "@dataclass\n",
        "class Point:\n",
        "  x: float # This is an example of \"type hinting\", where we hint at what the type of a property might be. (remember, python is loosely typed)\n",
        "  y: float\n",
        "  z: float\n",
        "\n",
        "p1 = Point(1.0,5.0,2.4)\n",
        "p2 = Point(2.2,1.1,8.3)\n",
        "p3 = Point(1.0,5.0,2.4)\n",
        "\n",
        "print(p1)\n",
        "print(p2)\n",
        "print(p3)\n",
        "p1 == p3"
      ],
      "metadata": {
        "colab": {
          "base_uri": "https://localhost:8080/"
        },
        "id": "p_hUD_P9Ydun",
        "outputId": "cebdbcf1-e887-4539-f6d7-6d90af3c30d4"
      },
      "execution_count": null,
      "outputs": [
        {
          "output_type": "stream",
          "name": "stdout",
          "text": [
            "Point(x=1.0, y=5.0, z=2.4)\n",
            "Point(x=2.2, y=1.1, z=8.3)\n",
            "Point(x=1.0, y=5.0, z=2.4)\n"
          ]
        },
        {
          "output_type": "execute_result",
          "data": {
            "text/plain": [
              "True"
            ]
          },
          "metadata": {},
          "execution_count": 25
        }
      ]
    },
    {
      "cell_type": "markdown",
      "source": [
        "Data classes enable us to do lots of things. We can:\n",
        " * set default values for properties of a dataclass\n",
        " * decide whether a datclass object is mutable or not\n",
        " * decide what data properties will be considered when we test for equality of two dataclass objects\n",
        " * decided whether a proprety should be printed when we print a dataclass object\n",
        " * decide which property should be used to sort dataclass objects.\n",
        " \n",
        "They are a relatively new addition to Python. You can read more about them [here](https://www.dataquest.io/blog/how-to-use-python-data-classes/), watch a video showing why they are great [here](https://youtu.be/vBH6GRJ1REM) or check the python docs on dataclasses [here](https://docs.python.org/3/library/dataclasses.html). "
      ],
      "metadata": {
        "id": "AB2kBwQ5kwco"
      }
    },
    {
      "cell_type": "markdown",
      "source": [
        "# Potential Topic: Class Properties and Setters"
      ],
      "metadata": {
        "id": "q3ug_VFBXbqu"
      }
    },
    {
      "cell_type": "markdown",
      "source": [
        "Python doesn't really have a notion of **private** properties of a class. The idea is that private properties are those that can't be accessed by other parts of the code (only the objects of a class can access their own private data members). THough, python does private a way to partially achieve this, and it does so by using a double underscore (dunder) in front of the property. For example if we had an object `person1` of class `Person` and we declared the property `__name`, then we wouldn't be able to access it (to read its value or to change its value by using `person1.__name` in our code.\n",
        "\n",
        "Look at this example code below:"
      ],
      "metadata": {
        "id": "NIhrQyQnhxmy"
      }
    },
    {
      "cell_type": "code",
      "source": [
        "class Person:\n",
        "  def __init__(self,name):\n",
        "    self.__name = name\n",
        "\n",
        "person1 = Person(\"John\")\n",
        "#print(person1.__name) # This line would not work.\n"
      ],
      "metadata": {
        "id": "VcK--c5QYexj"
      },
      "execution_count": null,
      "outputs": []
    },
    {
      "cell_type": "code",
      "source": [
        "\n",
        "# However, we can see that actually, we still do have acces to this. We can look at `__dict__` which stores all of the things that below to an object\n",
        "print(person1.__dict__) # So we can actually see that __name is still accessible to us\n"
      ],
      "metadata": {
        "id": "KboKNw6Dnoif"
      },
      "execution_count": null,
      "outputs": []
    },
    {
      "cell_type": "markdown",
      "source": [
        "Notice that the property seems to be stored as `_Person__name`. This technique partially discourages a user of our code from trying to access and change a property that we want to be private. But it can be circumvented:"
      ],
      "metadata": {
        "id": "TyJUQGzBir7v"
      }
    },
    {
      "cell_type": "code",
      "source": [
        "person1._Person__name = \"Joe\"\n",
        "print(person1.__dict__)"
      ],
      "metadata": {
        "id": "zLzK2K2Tio9Y"
      },
      "execution_count": null,
      "outputs": []
    },
    {
      "cell_type": "markdown",
      "source": [
        "Why would we want to do this? Well sometimes we want to control what happens when a property is changed. Suppose we were a businesss that was tracking our employees and we would not want code to be able to change an employee name without also doing a bunch of other stuff in our records system. \n",
        "\n",
        "We can control what happens when a \"private\" property of a class is read or altered by using the `@property` decorator and a `someProperty.setter` decorator, like this: "
      ],
      "metadata": {
        "id": "lCBtaT3ii5HX"
      }
    },
    {
      "cell_type": "code",
      "source": [
        "class Person:\n",
        "  def __init__(self,name):\n",
        "    self.__name = name\n",
        "\n",
        "  @property\n",
        "  def name(self):\n",
        "    # Some code here that does soemthing whenever the name is read\n",
        "    print(\"Executing code when name is accessed.\")\n",
        "    return self.__name\n",
        "  \n",
        "  @name.setter\n",
        "  def name(self, new_name): #note that normally we can never define two methods that have the same name, but with the @property.setter decorator, we can.\n",
        "    # Some code here that does soemthing whenever the name is changed\n",
        "    print(\"Executing code when name is changed.\")\n",
        "    self.__name = new_name\n",
        "\n",
        "p1 = Person(\"John\")\n",
        "print(p1.name)\n",
        "p1.name = \"Joe\"\n",
        "  "
      ],
      "metadata": {
        "id": "qwu6tUIpjUxc"
      },
      "execution_count": null,
      "outputs": []
    },
    {
      "cell_type": "markdown",
      "source": [
        "# Demo and Discuss: The Garden Simulation"
      ],
      "metadata": {
        "id": "aTiLZ2dJy8PY"
      }
    },
    {
      "cell_type": "code",
      "metadata": {
        "id": "aZyFWAdgEwB2"
      },
      "source": [
        "from random import random, sample, choice\n",
        "\n",
        "class Garden():\n",
        "  def __init__(self):\n",
        "    print(\"Creating garden...\")\n",
        "    self.things = list() # garden stores a list of things --  all the things that \"are in the garden\" \n",
        "    self.clock = 0 # garden keeps track of the \"world clock\"\n",
        "  \n",
        "  # the tick method advances the clock and \"makes things happen\"\n",
        "  def tick(self): \n",
        "    print(f\"t = {self.clock}\\n\")\n",
        "    for thing in sample(self.things,len(self.things)): # this line \"shuffles\" the list so that the order that creatures think is random\n",
        "      if isinstance(thing,Creature): # if the thing is a creature...\n",
        "        if thing.alive:# and it is alive\n",
        "          thing.think() # make the thing \"think\"\n",
        "    print(\"--------------------------\")\n",
        "    self.clock += 1\n",
        "\n",
        "\n",
        "\n",
        "class Creature():\n",
        "  def __init__(self, garden, name): # when you create any creature, you have to pass a reference to the garden, as well as the name of the creature\n",
        "    self.alive = True # creatures store whether they are alive (and always start out alive)\n",
        "    self.name = name # creatures store their own name\n",
        "    self.garden = garden # creatures store a reference to the garden \"where they live\"\n",
        "    self.garden.things.append(self) # When you create a creature, it adds itself to the list of things in the garden\n",
        "  \n",
        "  # This is a \"stub\" method -- we expect it to be overrideen in a subclass\n",
        "  def think(self):\n",
        "    print(f'{self.name} is thinking...')\n",
        "  \n",
        "  # This is another \"stub\" method -- we expect it to be overrideen in a subclass\n",
        "  def speak(self):\n",
        "    print(f'{self.name} makes a sound.')\n",
        "  \n",
        "  def die(self):\n",
        "    self.alive = False\n",
        "    print(f'{self.name} died.')\n",
        "\n",
        "\n",
        "class Ant(Creature): \n",
        "  def __init__(self,garden,name):\n",
        "    print(f\"Adding ant {name} to the garden...\")\n",
        "    super().__init__(garden,name) # do whatever creatures do when they are created\n",
        "    allStatesList = [\"foraging\",\"sleeping\",\"returningToNest\"] \n",
        "    self.state = choice(allStatesList) # pick a random state to start in\n",
        "\n",
        "  def forage(self):\n",
        "    self.state = \"foraging\"\n",
        "    print(f\"{self.name} is foraging.\")\n",
        "    self.speak()\n",
        "  \n",
        "  def sleep(self):\n",
        "    self.state = \"sleeping\"\n",
        "    print(f\"{self.name} is sleeping.\")\n",
        "  \n",
        "  def returnToNest(self):\n",
        "    self.state = \"returningToNest\"\n",
        "    print(f\"{self.name} is returning to the nest with food.\")\n",
        "\n",
        "  # override speak so that ants chirp.\n",
        "  def speak(self):\n",
        "    print(f\"Ant {self.name} chirps.\")\n",
        "\n",
        "  def think(self):\n",
        "    oldState = self.state\n",
        "    if oldState==\"sleeping\":\n",
        "      self.forage()\n",
        "    elif oldState==\"foraging\":\n",
        "      self.returnToNest()\n",
        "    elif oldState==\"returningToNest\":\n",
        "      self.sleep()\n",
        "\n",
        "\n",
        "class Spider(Creature):\n",
        "  def __init__(self,garden,name):\n",
        "    print(f\"Adding spider {name} to the garden...\")\n",
        "    super().__init__(garden,name) # do whatever creatures do when they are created.\n",
        "    allStatesList = [\"hunting\",\"sleeping\"] # Spiders only have two states: hunting and sleeping.\n",
        "    self.state = choice(allStatesList) \n",
        "    self.timeSinceLastAte = 0 # spiders keep track of the time since they last ate. If they go too long without eating, they will die.\n",
        "  \n",
        "  def hunt(self):\n",
        "    self.speak() # Let out a predatory roar... or chitter...\n",
        "    print(f\"Spider {self.name} is hunting.\")\n",
        "    if random()>0.3: # the code block below will be executed 30% of the time -- spiders aren't always successful when they hunt\n",
        "      livingAnts = [thing for thing in self.garden.things if isinstance(thing,Ant) and thing.alive] # get a list of possible prey\n",
        "      if len(livingAnts)>0: # if the list isn't empty\n",
        "        huntedAnt = choice(livingAnts) # pick a living ant at random to hunt\n",
        "        print(f\"Spider {self.name} hunted ant {huntedAnt.name}.\")\n",
        "        huntedAnt.die() # tell the hunted ant that it needs to die.\n",
        "        self.timeSinceLastAte = 0 # reset the time since the spider last ate.\n",
        "\n",
        "  def sleep(self):\n",
        "    print(f\"Spider {self.name} is sleeping.\")\n",
        "  \n",
        "  def speak(self):\n",
        "    print(f\"Spider {self.name} chitters.\")\n",
        "  \n",
        "  # The spider has a similar brain as that ant, but only two states... and the brain handles whether the spider dies from starvation.\n",
        "  def think(self):\n",
        "    oldState=self.state\n",
        "    if oldState==\"sleeping\":\n",
        "      self.state = \"hunting\"\n",
        "      self.hunt()\n",
        "    elif oldState==\"hunting\":\n",
        "      self.state = \"sleeping\"\n",
        "      self.sleep()\n",
        "    self.timeSinceLastAte += 1\n",
        "    if self.timeSinceLastAte > 6:\n",
        "      self.die()\n",
        "\n",
        "\n",
        "garden = Garden()\n",
        "spider1 = Spider(garden,\"Dylan\")\n",
        "ant1 = Ant(garden,\"Kai\")\n",
        "ant2 = Ant(garden,\"Hyunuk\")\n",
        "ant3 = Ant(garden,\"Jiho\")\n",
        "\n",
        "print(\"\\n\\nBegin simulation\")\n",
        "for t in range(0,20):\n",
        "  garden.tick()\n"
      ],
      "execution_count": null,
      "outputs": []
    },
    {
      "cell_type": "markdown",
      "metadata": {
        "id": "dr9D9C5V7hkt"
      },
      "source": [
        "# Exercise: Improve the Garden Simulation"
      ]
    },
    {
      "cell_type": "markdown",
      "metadata": {
        "id": "36F-fyXDDwZ1"
      },
      "source": [
        "Improve the Garden Simulation in the following ways:\n",
        "- add an argument `timeToStarve` to the constructor of Spider and make sure it is stored as a property of the class. Modify the spider's `think()` method so  that it dies when `timeSinceLastAte` exceed `timeToStarve`.\n",
        "- add an argument `huntingProwess` (a real number between 0, 1) to the constructor of Spider and make sure it is stored as a property of the class. Modify the spider's `hunt()` method so that the spider is successful if the random number drawn exceeds `1-huntingProwess`.\n",
        "\n",
        "If you want an extra challenge... add a Bee class and choose your own state diagram to implement.  \n"
      ]
    },
    {
      "cell_type": "code",
      "metadata": {
        "id": "G5lH1Zzay5Vg"
      },
      "source": [
        "# Copy and past the code from the above cell into this cell, and the modify it.\n",
        "      "
      ],
      "execution_count": null,
      "outputs": []
    },
    {
      "cell_type": "markdown",
      "source": [
        "# Exercise: RPG Characters with Classes\n",
        "\n"
      ],
      "metadata": {
        "id": "tgXnzJXPYiOo"
      }
    },
    {
      "cell_type": "markdown",
      "source": [
        "\n",
        "Write a class for an RPG Character (based off the RPG Character Creator that you coded previously). Your RPGCharacter Class should have:\n",
        "\n",
        "* A constructor that stores the values of the character's attributes on creation\n",
        "* A method `battleCry()` for the character to yell things out when they fight another character. If you wish you can have it randomly choose one of several statements to yell. For example it might print out `\"{characterName}: Prepare to die!\"`\n",
        "\n",
        "Your Arena Class should have:\n",
        "* A dictionary property that stores all of the character objects. You may use the characters name as the key and the character object as the value.\n",
        "* A method to read and write characters from the file and load them into the Arena. Make use of your the code you wrote previously to save time.\n",
        "* A method that handles combat between two characters. You can use character attributes and random numbers to decide the outcome of combat. You may find the functions `random.random()` and `random.randint()` helpful.\n",
        "\n"
      ],
      "metadata": {
        "id": "sAQ4lIuvhpvu"
      }
    },
    {
      "cell_type": "code",
      "source": [],
      "metadata": {
        "id": "71B507pRbjcY"
      },
      "execution_count": null,
      "outputs": []
    }
  ]
}