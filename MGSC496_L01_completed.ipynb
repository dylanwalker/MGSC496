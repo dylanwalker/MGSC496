{
  "nbformat": 4,
  "nbformat_minor": 0,
  "metadata": {
    "colab": {
      "provenance": [],
      "authorship_tag": "ABX9TyMZNmgcQ/HVOJsGqWY9KTvP",
      "include_colab_link": true
    },
    "kernelspec": {
      "name": "python3",
      "display_name": "Python 3"
    },
    "language_info": {
      "name": "python"
    }
  },
  "cells": [
    {
      "cell_type": "markdown",
      "metadata": {
        "id": "view-in-github",
        "colab_type": "text"
      },
      "source": [
        "<a href=\"https://colab.research.google.com/github/dylanwalker/MGSC496/blob/main/MGSC496_L01_completed.ipynb\" target=\"_parent\"><img src=\"https://colab.research.google.com/assets/colab-badge.svg\" alt=\"Open In Colab\"/></a>"
      ]
    },
    {
      "cell_type": "markdown",
      "source": [
        "This is the in-class notebook for MGSC496 Lecture 01."
      ],
      "metadata": {
        "id": "dA_4fackixhz"
      }
    },
    {
      "cell_type": "markdown",
      "source": [
        "We will use this space to go over examples, try some exercises, do live coding, and work through any of questions the class might have."
      ],
      "metadata": {
        "id": "clxCFGyVi6vy"
      }
    },
    {
      "cell_type": "markdown",
      "source": [
        "**<font size=5> Things to Talk About </font>**"
      ],
      "metadata": {
        "id": "l4GxAEVoM5WH"
      }
    },
    {
      "cell_type": "markdown",
      "source": [
        "## Some Example Markdown\n",
        "\n",
        "**Hello World**\n",
        "\n",
        "[Here is a link](google.com)\n",
        "![Here is an image](https://www.commonapp.org/static/1276bae1b675a37a8c8f590509206244/chapman-university_360.jpg)\n",
        "\n",
        "Below is another img, this time using html\n",
        "\n",
        "<img src=\"https://www.commonapp.org/static/1276bae1b675a37a8c8f590509206244/chapman-university_360.jpg\" height=100 />\n",
        "\n"
      ],
      "metadata": {
        "id": "fmX8G2i1i2Bd"
      }
    },
    {
      "cell_type": "markdown",
      "source": [
        "For more stuff that you can do with markdown, [see here](https://colab.research.google.com/notebooks/markdown_guide.ipynb)"
      ],
      "metadata": {
        "id": "CKmrUHDtxFMW"
      }
    },
    {
      "cell_type": "markdown",
      "source": [
        "Here's an illustration of how the order that we executes cells in a colab notebook matters:"
      ],
      "metadata": {
        "id": "Pek0hfzxsW88"
      }
    },
    {
      "cell_type": "code",
      "source": [
        "x = 5"
      ],
      "metadata": {
        "id": "kT_LmDIqkyfn"
      },
      "execution_count": null,
      "outputs": []
    },
    {
      "cell_type": "code",
      "source": [
        "x = 3"
      ],
      "metadata": {
        "id": "oYTHIUovk0gl"
      },
      "execution_count": null,
      "outputs": []
    },
    {
      "cell_type": "code",
      "source": [
        "print(f\"The variable x={x}\")"
      ],
      "metadata": {
        "colab": {
          "base_uri": "https://localhost:8080/"
        },
        "id": "O9Y8ieMPj_vx",
        "outputId": "9f603010-6b77-4cd8-a9f4-a936ecf7c13c"
      },
      "execution_count": null,
      "outputs": [
        {
          "output_type": "stream",
          "name": "stdout",
          "text": [
            "The variable x=5\n"
          ]
        }
      ]
    },
    {
      "cell_type": "markdown",
      "source": [
        "**<font size=4>Basics</font>**\n",
        "\n",
        "- A notebook combines python code and markdown text.\n",
        " - `+ Code`, `+ Text`\n",
        "- Code cells have a little play button next to them that you can click to run the code.\n",
        "- You can double click text cells to edit the markdown.\n",
        "- Markdown\n",
        " - headers, bold, italics\n",
        " - in a text cell, wrap code with backticks \\` \n",
        " - links, images, some html\n",
        "\n",
        "\n",
        "**<font size=4>Colab controls</font>**\n",
        "- Where is this notebook file stored? Menu --> File\n",
        "- Download a copy of the .ipynb and the .py files and have a look at them\n",
        "- The .ipynb format vs the .py format\n",
        "- Where is this being run? Menu --> Runtime\n",
        "- What are the Colab Commands and Hotkeys? Menu --> Tools \n",
        "- Running shell commands on the colab runtime (!):\n",
        "  - ls\n",
        "  - pwd\n",
        "  - cat /etc/*release\n",
        "  - apt list --installed\n",
        "  - nvidia-smi\n",
        "  - cd and chaining with &&\n",
        "- What libraries are installed? !pip\n",
        "  - pip list\n",
        "\n",
        "- Colab File Explorer. \n",
        " - `/content/` is the home directory\n",
        "\n",
        "- Colab variable inspector\n",
        "\n",
        "**<font size=4>Colab shortcuts</font>**\n",
        "\n",
        "- Mirror cell in a tab: Tools->Command Palette->Mirror cell in tab\n"
      ],
      "metadata": {
        "id": "PH2-1LeAM_TF"
      }
    },
    {
      "cell_type": "code",
      "source": [
        "!cd .. && ls"
      ],
      "metadata": {
        "colab": {
          "base_uri": "https://localhost:8080/"
        },
        "id": "Of_8s1ddmS2I",
        "outputId": "430338ae-f141-4bb8-8799-44cf9c13cba5"
      },
      "execution_count": null,
      "outputs": [
        {
          "output_type": "stream",
          "name": "stdout",
          "text": [
            "bin\t dev   lib32   mnt\t\t\t root  sys    var\n",
            "boot\t etc   lib64   NGC-DL-CONTAINER-LICENSE  run   tmp\n",
            "content  home  libx32  opt\t\t\t sbin  tools\n",
            "datalab  lib   media   proc\t\t\t srv   usr\n"
          ]
        }
      ]
    },
    {
      "cell_type": "code",
      "execution_count": null,
      "metadata": {
        "id": "AgHiUNAxBQcB",
        "colab": {
          "base_uri": "https://localhost:8080/"
        },
        "outputId": "4d5d8537-06fe-446e-8943-c39d999636ad"
      },
      "outputs": [
        {
          "output_type": "stream",
          "name": "stdout",
          "text": [
            "sample_data\n"
          ]
        }
      ],
      "source": [
        "!ls"
      ]
    },
    {
      "cell_type": "code",
      "source": [
        "!cat /etc/*release"
      ],
      "metadata": {
        "colab": {
          "base_uri": "https://localhost:8080/"
        },
        "id": "EDAk2r8Jmo54",
        "outputId": "587897d4-9238-4229-c1c3-92f747687edd"
      },
      "execution_count": null,
      "outputs": [
        {
          "output_type": "stream",
          "name": "stdout",
          "text": [
            "DISTRIB_ID=Ubuntu\n",
            "DISTRIB_RELEASE=20.04\n",
            "DISTRIB_CODENAME=focal\n",
            "DISTRIB_DESCRIPTION=\"Ubuntu 20.04.5 LTS\"\n",
            "NAME=\"Ubuntu\"\n",
            "VERSION=\"20.04.5 LTS (Focal Fossa)\"\n",
            "ID=ubuntu\n",
            "ID_LIKE=debian\n",
            "PRETTY_NAME=\"Ubuntu 20.04.5 LTS\"\n",
            "VERSION_ID=\"20.04\"\n",
            "HOME_URL=\"https://www.ubuntu.com/\"\n",
            "SUPPORT_URL=\"https://help.ubuntu.com/\"\n",
            "BUG_REPORT_URL=\"https://bugs.launchpad.net/ubuntu/\"\n",
            "PRIVACY_POLICY_URL=\"https://www.ubuntu.com/legal/terms-and-policies/privacy-policy\"\n",
            "VERSION_CODENAME=focal\n",
            "UBUNTU_CODENAME=focal\n"
          ]
        }
      ]
    },
    {
      "cell_type": "code",
      "source": [
        "!pip list"
      ],
      "metadata": {
        "id": "UfNoSmaRnHqV"
      },
      "execution_count": null,
      "outputs": []
    },
    {
      "cell_type": "markdown",
      "source": [
        "Let's install something new:"
      ],
      "metadata": {
        "id": "aL63GWBynfBS"
      }
    },
    {
      "cell_type": "code",
      "source": [
        "!pip install scrapy"
      ],
      "metadata": {
        "id": "sCoEDX9cng9L"
      },
      "execution_count": null,
      "outputs": []
    },
    {
      "cell_type": "markdown",
      "source": [
        "Once we install a new library, we can then import it in our python code"
      ],
      "metadata": {
        "id": "ahisbtLIoGlO"
      }
    },
    {
      "cell_type": "code",
      "source": [
        "import scrapy "
      ],
      "metadata": {
        "id": "N4tsXfYOn93B"
      },
      "execution_count": null,
      "outputs": []
    },
    {
      "cell_type": "markdown",
      "source": [
        "Below is an illustration of splitting a cell in the middle (to insert some code). I used the keyboard shortcut \"Ctrl-M -\", but it might be different for you:"
      ],
      "metadata": {
        "id": "-n9nDoMbtCzw"
      }
    },
    {
      "cell_type": "markdown",
      "source": [
        "Python was conceived in the late 1980s[42] by Guido van Rossum at Centrum Wiskunde & Informatica (CWI) in the Netherlands as a successor to the ABC programming language, which was inspired by SETL,[43] capable of exception handling and interfacing with the Amoeba operating system.[13] Its implementation began in December 1989.[44] Van Rossum shouldered sole responsibility for the project, as the lead developer, until 12 July 2018, when he announced his \"permanent vacation\" from his responsibilities as Python's \"benevolent dictator for life\", a title the Python community bestowed upon him to reflect his long-term commitment as the project's chief decision-maker.[45] In January 2019, active Python core developers elected a five-member Steering Council to lead the project.[46][47]\n",
        "\n",
        "Python 2.0 was released on 16 October 2000, with many major new features such as list comprehensions, cycle-detecting garbage collection, reference counting, and Unicode support.[48] Python 3.0, released on 3 December 2008, with many of its major features backported to Python 2.6.x[49] and 2.7.x. Releases of Python 3 include the 2to3 utility, which automates the translation of Python 2 code to Python 3.[50]\n",
        "\n",
        "Python 2.7's end-of-life was initially set for 2015, then postponed to 2020 out of concern that a large body of existing code could not easily be forward-ported to Python 3.[51][52] No further security patches or other improvements will be released for it.[53][54] Currently only 3.7 and later are supported. In 2021, Python 3.9.2 and 3.8.8 were expedited[55] as all versions of Python (including 2.7[56]) had security issues leading to possible remote code execution[57] and web cache poisoning.[58]\n",
        "\n",
        "In 2022, Python 3.10.4 and 3.9.12 were expedited[59] and 3.8.13, and 3.7.13, because of many security issues.[60] When Python 3.9.13 was released in May 2022, it was announced that the 3.9 series (joining the older series 3.8 and 3.7) would only receive security fixes in the future.[61] On September 7, 2022, four new releases were made due to a potential denial-of-service attack: 3.10.7, 3.9.14, 3.8.14, and 3.7.14.[62][63]\n",
        "\n",
        "As of November 2022, Python 3.11.0 is the current stable release. Notable changes from 3.10 include increased program execution speed and improved error reporting.[64]\n"
      ],
      "metadata": {
        "id": "JUsvYSs_oSZs"
      }
    },
    {
      "cell_type": "code",
      "source": [
        "# Here is an interstitial code cell"
      ],
      "metadata": {
        "id": "by44pNV2okUj"
      },
      "execution_count": null,
      "outputs": []
    },
    {
      "cell_type": "markdown",
      "source": [
        "\n",
        "Design philosophy and features\n",
        "Python is a multi-paradigm programming language. Object-oriented programming and structured programming are fully supported, and many of their features support functional programming and aspect-oriented programming (including metaprogramming[65] and metaobjects).[66] Many other paradigms are supported via extensions, including design by contract[67][68] and logic programming.[69]\n",
        "\n",
        "Python uses dynamic typing and a combination of reference counting and a cycle-detecting garbage collector for memory management.[70] It uses dynamic name resolution (late binding), which binds method and variable names during program execution.\n",
        "\n",
        "Its design offers some support for functional programming in the Lisp tradition. It has filter,mapandreduce functions; list comprehensions, dictionaries, sets, and generator expressions.[71] The standard library has two modules (itertools and functools) that implement functional tools borrowed from Haskell and Standard ML.[72]\n",
        "\n",
        "Its core philosophy is summarized in the document The Zen of Python (PEP 20), which includes aphorisms such as:[73]\n",
        "\n",
        "Beautiful is better than ugly.\n",
        "Explicit is better than implicit.\n",
        "Simple is better than complex.\n",
        "Complex is better than complicated.\n",
        "Readability counts.\n",
        "Rather than building all of its functionality into its core, Python was designed to be highly extensible via modules. This compact modularity has made it particularly popular as a means of adding programmable interfaces to existing applications. Van Rossum's vision of a small core language with a large standard library and easily extensible interpreter stemmed from his frustrations with ABC, which espoused the opposite approach.[42]\n",
        "\n",
        "Python strives for a simpler, less-cluttered syntax and grammar while giving developers a choice in their coding methodology. In contrast to Perl's \"there is more than one way to do it\" motto, Python embraces a \"there should be one—and preferably only one—obvious way to do it\" philosophy.[73] Alex Martelli, a Fellow at the Python Software Foundation and Python book author, wrote: \"To describe something as 'clever' is not considered a compliment in the Python culture.\"[74]\n",
        "\n",
        "Python's developers strive to avoid premature optimization and reject patches to non-critical parts of the CPython reference implementation that would offer marginal increases in speed at the cost of clarity.[75] When speed is important, a Python programmer can move time-critical functions to extension modules written in languages such as C; or use PyPy, a just-in-time compiler. Cython is also available, which translates a Python script into C and makes direct C-level API calls into the Python interpreter.\n",
        "\n",
        "Python's developers aim for it to be fun to use. This is reflected in its name—a tribute to the British comedy group Monty Python[76]—and in occasionally playful approaches to tutorials and reference materials, such as the use of the terms \"spam\" and \"eggs\" (a reference to a Monty Python sketch) in examples, instead of the often-used \"foo\" and \"bar\".[77][78]"
      ],
      "metadata": {
        "id": "QgvlFVuKoimG"
      }
    },
    {
      "cell_type": "markdown",
      "source": [
        "How can we get a random integer?"
      ],
      "metadata": {
        "id": "RlWMkb_es91O"
      }
    },
    {
      "cell_type": "code",
      "source": [
        "import random\n",
        "random.randint(0,9)"
      ],
      "metadata": {
        "colab": {
          "base_uri": "https://localhost:8080/"
        },
        "id": "P6aWW0naskaF",
        "outputId": "2d0ad7eb-f688-433d-db71-3396e5979888"
      },
      "execution_count": null,
      "outputs": [
        {
          "output_type": "execute_result",
          "data": {
            "text/plain": [
              "6"
            ]
          },
          "metadata": {},
          "execution_count": 25
        }
      ]
    },
    {
      "cell_type": "markdown",
      "source": [
        "Q: How does `strip()` work with strings?\n",
        "\n",
        "A: Its typically used to \"strip\" off unwanted characters at the end or beginning of a string (esp things like newline characters that end up in a string as an artifact of reading it from a file). "
      ],
      "metadata": {
        "id": "Paih-D5t11_f"
      }
    },
    {
      "cell_type": "code",
      "source": [
        "x = \"Something...\"\n",
        "x.strip('S')"
      ],
      "metadata": {
        "colab": {
          "base_uri": "https://localhost:8080/",
          "height": 35
        },
        "id": "RIaP1_ru2Ht4",
        "outputId": "76529d49-f527-4168-bb23-a5fa88b98fa2"
      },
      "execution_count": 1,
      "outputs": [
        {
          "output_type": "execute_result",
          "data": {
            "text/plain": [
              "'omething...'"
            ],
            "application/vnd.google.colaboratory.intrinsic+json": {
              "type": "string"
            }
          },
          "metadata": {},
          "execution_count": 1
        }
      ]
    },
    {
      "cell_type": "markdown",
      "source": [
        "Q: How do I \"read\" a dictionary or list comprehension?\n",
        "A: Always try to read it from the \"inside out\". Start with what is being looped over (is it a list of single values? a list of tuples?). Then look at the temporary variables that are \"assigned\" in each iteration of the loop. Then look at how they are combined to produce a final value. The outside brackets of a comprehension will tell you whether it is ultimately producing a list or a dictionary.\n",
        "\n",
        "For example:"
      ],
      "metadata": {
        "id": "DIgGCxDB8Pzf"
      }
    },
    {
      "cell_type": "code",
      "source": [
        "petList = [\"dog\",\"cat\",\"bird\",\"turtle\",\"goldfish\"]\n",
        "[p for p in petList] # a very simple case, we are looping over petList and just making a new list that contains the pets.... so essentially it's the same as what we started with"
      ],
      "metadata": {
        "id": "j8nNff8_99-i"
      },
      "execution_count": null,
      "outputs": []
    },
    {
      "cell_type": "code",
      "source": [
        "# We could also modify what is in the list, by changing the comprehension like this:\n",
        "[\"A \"+p+\" is a great pet\" for p in petList] # this will return a list. We can tell because it is wrapped in square brackets"
      ],
      "metadata": {
        "id": "1_59YT10-Tmj"
      },
      "execution_count": null,
      "outputs": []
    },
    {
      "cell_type": "code",
      "source": [
        "myPets = {p:1 for p in petList} # This will return a dictionary; we can tell because it is wrapped in curly brackets\n",
        "myPets"
      ],
      "metadata": {
        "id": "ZzhVklBA-bbB"
      },
      "execution_count": null,
      "outputs": []
    }
  ]
}