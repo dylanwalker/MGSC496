{
  "nbformat": 4,
  "nbformat_minor": 0,
  "metadata": {
    "colab": {
      "provenance": [],
      "authorship_tag": "ABX9TyONs6/9o76TCuwySl28nhGp",
      "include_colab_link": true
    },
    "kernelspec": {
      "name": "python3",
      "display_name": "Python 3"
    },
    "language_info": {
      "name": "python"
    }
  },
  "cells": [
    {
      "cell_type": "markdown",
      "metadata": {
        "id": "view-in-github",
        "colab_type": "text"
      },
      "source": [
        "<a href=\"https://colab.research.google.com/github/dylanwalker/MGSC496/blob/main/MGSC496_L06_working.ipynb\" target=\"_parent\"><img src=\"https://colab.research.google.com/assets/colab-badge.svg\" alt=\"Open In Colab\"/></a>"
      ]
    },
    {
      "cell_type": "markdown",
      "source": [
        "This is the in-class notebook for MGSC496 Lecture 6."
      ],
      "metadata": {
        "id": "RT9odU7BzKCB"
      }
    },
    {
      "cell_type": "code",
      "source": [
        "import numpy as np"
      ],
      "metadata": {
        "id": "piDhNfasuDfq"
      },
      "execution_count": 1,
      "outputs": []
    },
    {
      "cell_type": "markdown",
      "source": [
        "<hr/>\n",
        "<img src=\"https://drive.google.com/uc?id=1sk8CSP26YY7sfyzmHGFXncuNRujkvu9v\" align=\"left\">\n",
        "\n",
        "<font size=3 color=\"darkred\">Exercise: Tile a chessboard with the correct colors</font>\n",
        "\n",
        "First look up an image of a chessboard to see how the 8x8 board is tiled with black and white. Now, **add only three lines of code** below to tile the chess board with 'W' and 'B'. You will need to use slicing to do this.\n",
        "\n",
        "<font size=2 color=\"blue\">hint: One of your lines should set all cells to be the same color.</font>"
      ],
      "metadata": {
        "id": "uxT53-skoXj3"
      }
    },
    {
      "cell_type": "code",
      "source": [
        "# Try it out\n",
        "chessboard = np.chararray((8,8), unicode=True)\n",
        "# Insert only three lines of code here to tile the chessboard correctly with 'W' and 'B'\n",
        "print(chessboard)\n",
        "#chessboard[:,:] = 'B' # This is easier\n",
        "chessboard[0:8:2, 0:8:2] = 'W'\n",
        "chessboard[0:8:2, 1:8:2] = 'B'\n",
        "chessboard[1:8:2, 1:8:2] = 'W'\n",
        "chessboard[1:8:2, 0:8:2] = 'B'\n",
        "print(chessboard)"
      ],
      "metadata": {
        "id": "Nc8UDu18oXj4",
        "colab": {
          "base_uri": "https://localhost:8080/"
        },
        "outputId": "01eac8e4-83df-43ee-c71f-066d489e662d"
      },
      "execution_count": 2,
      "outputs": [
        {
          "output_type": "stream",
          "name": "stdout",
          "text": [
            "[['' '' '' '' '' '' '' '']\n",
            " ['' '' '' '' '' '' '' '']\n",
            " ['' '' '' '' '' '' '' '']\n",
            " ['' '' '' '' '' '' '' '']\n",
            " ['' '' '' '' '' '' '' '']\n",
            " ['' '' '' '' '' '' '' '']\n",
            " ['' '' '' '' '' '' '' '']\n",
            " ['' '' '' '' '' '' '' '']]\n",
            "[['W' 'B' 'W' 'B' 'W' 'B' 'W' 'B']\n",
            " ['B' 'W' 'B' 'W' 'B' 'W' 'B' 'W']\n",
            " ['W' 'B' 'W' 'B' 'W' 'B' 'W' 'B']\n",
            " ['B' 'W' 'B' 'W' 'B' 'W' 'B' 'W']\n",
            " ['W' 'B' 'W' 'B' 'W' 'B' 'W' 'B']\n",
            " ['B' 'W' 'B' 'W' 'B' 'W' 'B' 'W']\n",
            " ['W' 'B' 'W' 'B' 'W' 'B' 'W' 'B']\n",
            " ['B' 'W' 'B' 'W' 'B' 'W' 'B' 'W']]\n"
          ]
        }
      ]
    },
    {
      "cell_type": "markdown",
      "source": [
        "<hr/>\n",
        "<img src=\"https://drive.google.com/uc?id=1sk8CSP26YY7sfyzmHGFXncuNRujkvu9v\" align=\"left\">\n",
        "\n",
        "<font size=3 color=\"darkred\">Exercise: Make a two move tic-tac-toe game</font>\n",
        "\n",
        "\n",
        "Use numpy to make an array that will represent a tic-tac-toe board. Since tic-tac-toe uses X's and O's, let's make it a character array. We can do this with:\n",
        "```python\n",
        "board = np.chararray((3,3), unicode=True)\n",
        "```\n",
        "Use the `input()` function to have the first player enter their move as `row,col`. Then process this string so that you can use numpy indexing to put an 'X\" in the position in the array that the user indicated. Then, do the same thing for the 'O' player, but first you must check that the position they gave is not already occupied (and keep asking for a move until you get a valid move). Print out the board before and after the move.**Don't try to implement the entire tic-tac-toe game now**, just get two valid moves and update the board. \n"
      ],
      "metadata": {
        "id": "MOOMD69kPnBN"
      }
    },
    {
      "cell_type": "code",
      "source": [
        "# Try it out\n",
        "board = np.chararray((3,3),unicode=True)\n",
        "print(board)\n",
        "move = input(\"Enter your move: \")\n",
        "row, col = move.split(',')\n",
        "row = int(row)\n",
        "col = int(col)\n",
        "print(f\"{row}, {col}\")\n",
        "board[row,col]='X'\n",
        "print(board)\n",
        "\n",
        "legitMove2 = False\n",
        "occupied = (board=='')\n",
        "while not(legitMove2):\n",
        "  move2 = input(\"Enter you move: \")\n",
        "  row, col = move2.split(',')\n",
        "  row = int(row)\n",
        "  col = int(col)\n",
        "  legitMove2 = occupied[row,col]\n",
        "  if not(legitMove2):\n",
        "    print(\"You can't go there.\")\n",
        "\n",
        "board[row,col]='O'\n",
        "print(board)\n"
      ],
      "metadata": {
        "id": "Uek__IiEPnBP",
        "colab": {
          "base_uri": "https://localhost:8080/"
        },
        "outputId": "07744cd2-7075-4df5-998f-43a7c441751b"
      },
      "execution_count": 13,
      "outputs": [
        {
          "output_type": "stream",
          "name": "stdout",
          "text": [
            "[['' '' '']\n",
            " ['' '' '']\n",
            " ['' '' '']]\n",
            "Enter your move: 2,1\n",
            "2, 1\n",
            "[['' '' '']\n",
            " ['' '' '']\n",
            " ['' 'X' '']]\n",
            "Enter you move: 2,1\n",
            "You can't go there.\n",
            "Enter you move: 2,2\n",
            "[['' '' '']\n",
            " ['' '' '']\n",
            " ['' 'X' 'O']]\n"
          ]
        }
      ]
    },
    {
      "cell_type": "code",
      "source": [
        "occupied = (board=='')\n",
        "print(occupied)"
      ],
      "metadata": {
        "colab": {
          "base_uri": "https://localhost:8080/"
        },
        "id": "5zTkuEGcy8KD",
        "outputId": "75691bb3-95d0-4932-8c5c-cab40fada1ea"
      },
      "execution_count": 11,
      "outputs": [
        {
          "output_type": "stream",
          "name": "stdout",
          "text": [
            "[[ True  True  True]\n",
            " [ True  True False]\n",
            " [ True  True  True]]\n"
          ]
        }
      ]
    },
    {
      "cell_type": "code",
      "source": [
        "moves = [(1, 2) , (1, 2)]\n",
        "(moves[0][0]==moves[1][0]) and (moves[0][1]==moves[1][1])"
      ],
      "metadata": {
        "colab": {
          "base_uri": "https://localhost:8080/"
        },
        "id": "tWgU_ZU_2F5U",
        "outputId": "3212219c-2553-4933-9c59-2dac6cd08765"
      },
      "execution_count": 14,
      "outputs": [
        {
          "output_type": "execute_result",
          "data": {
            "text/plain": [
              "True"
            ]
          },
          "metadata": {},
          "execution_count": 14
        }
      ]
    },
    {
      "cell_type": "markdown",
      "source": [
        "<hr/>\n",
        "<img src=\"https://drive.google.com/uc?id=1sk8CSP26YY7sfyzmHGFXncuNRujkvu9v\" align=\"left\">\n",
        "\n",
        "<font size=3 color=\"darkred\">Exercise: Tic-Tac-Toe 2.0</font>\n",
        "\n",
        "\n",
        "Suppose you are given a tic-tac-toe `board` that is a character array, (just as we had before). But unlike before, some of the squares filled in with X's and O's. \n",
        "\n",
        "<br />\n",
        "\n",
        "1. Make a boolean array `hasX` where the cells are `True` whenever an X is in the cell. \n",
        "2. Count how many X's are in each row and column by using the `.sum(axis=1)` and `.sum(axis=0)`methods. Store these as variables `row_counts` and `col_counts`. Remember: If you sum over the rows (axis=0), then your result will be an array of counts for each columns, and vice versa.\n",
        "3. Write a function `isWin()` that takes the arguments `board` and `player` ( either an `'X'` or an `'O'`) and returns `True` if any of the elements in `row_counts` or `col_counts` is equal to `3`. You may find the function `np.any()` helpful.\n",
        "\n",
        "\n",
        "Now you can use your function to determine if either player won by getting 3 in a row or column. Of course, we still haven't checked the diagonals. **Don't worry about checking the diagonals for now.** \n",
        "\n",
        "Try changing the configuration of the board and testing out your function. Make sure it works are expected.\n",
        "\n",
        "\n"
      ],
      "metadata": {
        "id": "_RfDvjJXuC5r"
      }
    },
    {
      "cell_type": "code",
      "source": [
        "# Try it out\n",
        "# Here's an example board with some moves (I'm just putting X's and ignoring O's for now)\n",
        "#  You will want to change the position of the X's in order to test out your function\n",
        "board = np.chararray((3,3),unicode=True)\n",
        "board[2,0] = 'X'\n",
        "board[1,1] = 'X'\n",
        "board[2,2] = 'X'\n",
        "print(board)\n"
      ],
      "metadata": {
        "id": "WEzd8I6NuC5s",
        "colab": {
          "base_uri": "https://localhost:8080/"
        },
        "outputId": "1ad335f6-afc5-41ab-8854-2adbdb708f5e"
      },
      "execution_count": 28,
      "outputs": [
        {
          "output_type": "stream",
          "name": "stdout",
          "text": [
            "[['' '' '']\n",
            " ['' 'X' '']\n",
            " ['X' '' 'X']]\n"
          ]
        }
      ]
    },
    {
      "cell_type": "code",
      "source": [
        "# 1. Define hasX, where the cells are True whenever an X is in the cell. This should be a single line that makes use of numpy\n",
        "hasX = (board=='X')\n",
        "print(hasX)"
      ],
      "metadata": {
        "id": "FeyufhwAy6OI",
        "colab": {
          "base_uri": "https://localhost:8080/"
        },
        "outputId": "58579ba2-0cfd-43be-860d-73dc596e6ffb"
      },
      "execution_count": 29,
      "outputs": [
        {
          "output_type": "stream",
          "name": "stdout",
          "text": [
            "[[False False False]\n",
            " [False  True False]\n",
            " [ True False  True]]\n"
          ]
        }
      ]
    },
    {
      "cell_type": "code",
      "source": [
        "# 2. Define row_counts and col_counts variables, which count how many X's are in each row and column using the .sum() method w/ arguments axis=0 or axis=1\n",
        "col_counts = hasX.sum(axis=0)\n",
        "row_counts = hasX.sum(axis=1)\n",
        "print(row_counts)\n",
        "print(row_counts==3)\n",
        "row_win = np.any(row_counts==3)\n",
        "print(row_win)\n"
      ],
      "metadata": {
        "id": "ecVGPSHuzHTs",
        "colab": {
          "base_uri": "https://localhost:8080/"
        },
        "outputId": "b33ced1c-9597-45b7-8b7d-9100de038c73"
      },
      "execution_count": 32,
      "outputs": [
        {
          "output_type": "stream",
          "name": "stdout",
          "text": [
            "[0 1 2]\n",
            "[False False False]\n",
            "False\n"
          ]
        }
      ]
    },
    {
      "cell_type": "code",
      "source": [
        "# 3. Write a function isWin() that takes board and player (this is just a variable that equals 'X' or 'O') and returns True if any of the elements of row_counts or col_counts equals 3\n",
        "#    hint: you may find np.any() helpful\n",
        "def isWin(board, player='X'):\n",
        "  hasX = (board==player)\n",
        "  col_counts = hasX.sum(axis=0)\n",
        "  row_counts = hasX.sum(axis=1)\n",
        "  diag1 = board[[0,1,2],[0,1,2]]\n",
        "  diag2 = board[[0,1,2],[2,1,0]]\n",
        "  diag1_win = np.all(diag1==player)\n",
        "  diag2_win = np.all(diag2==player)\n",
        "  row_win = np.any(row_counts==3)\n",
        "  col_win = np.any(col_counts==3)\n",
        "  return (row_win or col_win or diag1_win or diag2_win)\n",
        "\n",
        "\n",
        "\n",
        "  \n"
      ],
      "metadata": {
        "id": "SpuookgWzXMw"
      },
      "execution_count": 52,
      "outputs": []
    },
    {
      "cell_type": "code",
      "source": [
        "board = np.chararray((3,3),unicode=True)\n",
        "board[1,0] = 'X'\n",
        "board[1,1] = 'X'\n",
        "board[1,2] = 'X'\n",
        "print(board)\n",
        "win = isWin(board,player='X')\n",
        "print(win)"
      ],
      "metadata": {
        "colab": {
          "base_uri": "https://localhost:8080/"
        },
        "id": "DMr89xZy7CEa",
        "outputId": "bdc8b182-ed63-4a31-85c9-7c69b8dc93c3"
      },
      "execution_count": 55,
      "outputs": [
        {
          "output_type": "stream",
          "name": "stdout",
          "text": [
            "[['' '' '']\n",
            " ['X' 'X' 'X']\n",
            " ['' '' '']]\n",
            "True\n"
          ]
        }
      ]
    },
    {
      "cell_type": "code",
      "source": [
        "diag1 = board[[0,1,2],[0,1,2]]\n",
        "print(diag1)\n",
        "diag1Var = (diag1=='X')\n",
        "print(diag1Var)\n",
        "np.all(diag1Var)\n",
        "np.all(diag1=='X')\n",
        "#diag1Var==np.array([True,True,True])"
      ],
      "metadata": {
        "colab": {
          "base_uri": "https://localhost:8080/"
        },
        "id": "_pzhrlEt8UKV",
        "outputId": "13728c28-d299-49df-e2fe-f0b73a55b42a"
      },
      "execution_count": 51,
      "outputs": [
        {
          "output_type": "stream",
          "name": "stdout",
          "text": [
            "['X' 'X' 'X']\n",
            "[ True  True  True]\n"
          ]
        },
        {
          "output_type": "execute_result",
          "data": {
            "text/plain": [
              "True"
            ]
          },
          "metadata": {},
          "execution_count": 51
        }
      ]
    },
    {
      "cell_type": "code",
      "source": [
        "board[[0,1,2],[2,1,0]]"
      ],
      "metadata": {
        "colab": {
          "base_uri": "https://localhost:8080/"
        },
        "id": "NnQUv5DG83pW",
        "outputId": "93d20f56-2a3d-4e27-f90b-e594589d7f3e"
      },
      "execution_count": 42,
      "outputs": [
        {
          "output_type": "execute_result",
          "data": {
            "text/plain": [
              "chararray(['', 'X', ''], dtype='<U1')"
            ]
          },
          "metadata": {},
          "execution_count": 42
        }
      ]
    },
    {
      "cell_type": "code",
      "source": [
        "x = np.random.randint(0,10,9).reshape(3,3)\n",
        "print(x)\n",
        "rowInd = np.array([0,1,0])\n",
        "colInd = np.array([2,0,0])\n",
        "x[rowInd,colInd]\n"
      ],
      "metadata": {
        "colab": {
          "base_uri": "https://localhost:8080/"
        },
        "id": "ufhne22h71H7",
        "outputId": "1a3cd66b-095c-4ce4-f624-fd874c4f62ad"
      },
      "execution_count": 38,
      "outputs": [
        {
          "output_type": "stream",
          "name": "stdout",
          "text": [
            "[[7 2 8]\n",
            " [8 2 0]\n",
            " [7 0 8]]\n"
          ]
        },
        {
          "output_type": "execute_result",
          "data": {
            "text/plain": [
              "array([8, 8, 7])"
            ]
          },
          "metadata": {},
          "execution_count": 38
        }
      ]
    },
    {
      "cell_type": "code",
      "source": [
        "# The Full Tic-Tac-Toe game\n",
        "board = np.chararray((3,3),unicode=True)\n",
        "print(board)\n",
        "noWinner = True\n",
        "turn = 0\n",
        "while noWinner:\n",
        "  player = ['X','O'][(turn%2)] # Trick to alternate between player X and player O\n",
        "  validMove = False\n",
        "  while not(validMove):\n",
        "    move = input(f\"Player {player} enter your move as row,col:\")\n",
        "    row = int(move.split(',')[0])\n",
        "    col = int(move.split(',')[1])\n",
        "    if board[row,col]=='':\n",
        "      validMove = True\n",
        "    else:\n",
        "      print(\"Sorry that position is already occupied!\")\n",
        "  board[row,col] = player\n",
        "  print(board)\n",
        "  noWinner = not(isWin(board,player))\n",
        "  if not(noWinner):\n",
        "    print(f\"Congrats player {player}, you won!\")\n",
        "  turn += 1\n"
      ],
      "metadata": {
        "id": "szu9bXCmo2ml"
      },
      "execution_count": null,
      "outputs": []
    },
    {
      "cell_type": "markdown",
      "source": [
        "<hr/>\n",
        "<img src=\"https://drive.google.com/uc?id=1sk8CSP26YY7sfyzmHGFXncuNRujkvu9v\" align=\"left\">\n",
        "\n",
        "<font size=3 color=\"darkred\">Exercise: Split array vertically into two equal sized parts</font>\n",
        "\n",
        "Suppose you have been given a rectangular array whose size is randomly generated and with arbitrary shape, except that its number of rows is guaranteed to be even. Your task is to split this array into two equally sized arrays and then print them out.\n"
      ],
      "metadata": {
        "id": "MJvQmfrqqIbY"
      }
    },
    {
      "cell_type": "code",
      "source": [
        "grid = np.arange(16).reshape((4, 4))\n",
        "grid"
      ],
      "metadata": {
        "colab": {
          "base_uri": "https://localhost:8080/"
        },
        "id": "pu7_hB8_BHOm",
        "outputId": "7a4d3a0d-59bc-43d8-9063-88c3cfdc85f5"
      },
      "execution_count": 57,
      "outputs": [
        {
          "output_type": "execute_result",
          "data": {
            "text/plain": [
              "array([[ 0,  1,  2,  3],\n",
              "       [ 4,  5,  6,  7],\n",
              "       [ 8,  9, 10, 11],\n",
              "       [12, 13, 14, 15]])"
            ]
          },
          "metadata": {},
          "execution_count": 57
        }
      ]
    },
    {
      "cell_type": "code",
      "source": [
        "part1, part2 = np.vsplit(grid,[2])"
      ],
      "metadata": {
        "id": "QIjsKwO5BIop"
      },
      "execution_count": 63,
      "outputs": []
    },
    {
      "cell_type": "code",
      "source": [
        "part1"
      ],
      "metadata": {
        "colab": {
          "base_uri": "https://localhost:8080/"
        },
        "id": "FnLVFq91Bhju",
        "outputId": "ff64a99b-bf65-4df0-f689-2d36b543f129"
      },
      "execution_count": 64,
      "outputs": [
        {
          "output_type": "execute_result",
          "data": {
            "text/plain": [
              "array([[0, 1, 2, 3],\n",
              "       [4, 5, 6, 7]])"
            ]
          },
          "metadata": {},
          "execution_count": 64
        }
      ]
    },
    {
      "cell_type": "code",
      "source": [
        "part2"
      ],
      "metadata": {
        "colab": {
          "base_uri": "https://localhost:8080/"
        },
        "id": "WFKMsizCBmhk",
        "outputId": "3c8584f7-9d88-4420-9ff3-a64ff93bc163"
      },
      "execution_count": 65,
      "outputs": [
        {
          "output_type": "execute_result",
          "data": {
            "text/plain": [
              "array([[ 8,  9, 10, 11],\n",
              "       [12, 13, 14, 15]])"
            ]
          },
          "metadata": {},
          "execution_count": 65
        }
      ]
    },
    {
      "cell_type": "code",
      "source": [
        "# Try it out\n",
        "nrow = np.random.randint(1,15)*2\n",
        "ncol = np.random.randint(1,30)\n",
        "rectArray = np.arange(nrow*ncol).reshape((nrow,ncol))\n"
      ],
      "metadata": {
        "id": "YJF6qG1vqIbZ"
      },
      "execution_count": null,
      "outputs": []
    },
    {
      "cell_type": "code",
      "source": [
        "half_row = rectArray.shape[0]//2\n",
        "first_half = rectArray[:half_row, :]\n",
        "second_half = rectArray[half_row:, :]\n",
        "#print(rectArray)\n",
        "# Enter your code here\n",
        "first, second = np.vsplit(rectArray,[half_row])\n",
        "print(first.shape)\n",
        "print(second.shape)"
      ],
      "metadata": {
        "id": "dUMKCV4uB2zF"
      },
      "execution_count": null,
      "outputs": []
    },
    {
      "cell_type": "markdown",
      "source": [
        "<hr/>"
      ],
      "metadata": {
        "id": "bkEaZUOiqIba"
      }
    },
    {
      "cell_type": "markdown",
      "source": [
        "# Exercise: Egon's PKE Meter Network"
      ],
      "metadata": {
        "id": "UGmU-lw8vcQT"
      }
    },
    {
      "cell_type": "markdown",
      "source": [
        "Egon from the Ghostbusters has wired up a network of automatic PKE meters all throughout a famous new york hotel to detect and chart ghost activity. His system records an array of numbers -- one number for each location -- and locations that are more important to the hotel (e.g., ballroom, front desk, lobby, conference room, etc.) appear first in this list. Higher numbers indicate higher ghost activity.\n"
      ],
      "metadata": {
        "id": "84KEwaSAvp5d"
      }
    },
    {
      "cell_type": "code",
      "source": [
        "import numpy as np\n",
        "import string\n",
        "\n",
        "# make the locations array\n",
        "locations = ['ballroom', 'front desk', 'lobby']\n",
        "locations.extend([f'conference room {letter}' for letter in string.ascii_uppercase])\n",
        "locations.extend([f'honeymoon suite {i}' for i in range(1,7)])\n",
        "locations.extend([f'suite {i}' for i in range(1,11)])\n",
        "locations.extend([f'room {i}' for i in range(100,111)])\n",
        "locations.extend([f'room {i}' for i in range(200,211)])\n",
        "locations.extend([f'room {i}' for i in range(300,311)])\n",
        "locations.extend([f'room {i}' for i in range(400,411)])\n",
        "locations.extend([f'room {i}' for i in range(500,511)])\n",
        "locations = np.array(locations)\n",
        "\n",
        "# make the pke_readings array\n",
        "pke_readings = np.random.uniform(low=0, high=100, size=100)\n",
        "\n",
        "print(locations)\n",
        "print(pke_readings)"
      ],
      "metadata": {
        "id": "V2azR1xkumm1",
        "colab": {
          "base_uri": "https://localhost:8080/"
        },
        "outputId": "2be35119-cd12-4fda-9d09-ee5a52bd0e56"
      },
      "execution_count": 78,
      "outputs": [
        {
          "output_type": "stream",
          "name": "stdout",
          "text": [
            "['ballroom' 'front desk' 'lobby' 'conference room A' 'conference room B'\n",
            " 'conference room C' 'conference room D' 'conference room E'\n",
            " 'conference room F' 'conference room G' 'conference room H'\n",
            " 'conference room I' 'conference room J' 'conference room K'\n",
            " 'conference room L' 'conference room M' 'conference room N'\n",
            " 'conference room O' 'conference room P' 'conference room Q'\n",
            " 'conference room R' 'conference room S' 'conference room T'\n",
            " 'conference room U' 'conference room V' 'conference room W'\n",
            " 'conference room X' 'conference room Y' 'conference room Z'\n",
            " 'honeymoon suite 1' 'honeymoon suite 2' 'honeymoon suite 3'\n",
            " 'honeymoon suite 4' 'honeymoon suite 5' 'honeymoon suite 6' 'suite 1'\n",
            " 'suite 2' 'suite 3' 'suite 4' 'suite 5' 'suite 6' 'suite 7' 'suite 8'\n",
            " 'suite 9' 'suite 10' 'room 100' 'room 101' 'room 102' 'room 103'\n",
            " 'room 104' 'room 105' 'room 106' 'room 107' 'room 108' 'room 109'\n",
            " 'room 110' 'room 200' 'room 201' 'room 202' 'room 203' 'room 204'\n",
            " 'room 205' 'room 206' 'room 207' 'room 208' 'room 209' 'room 210'\n",
            " 'room 300' 'room 301' 'room 302' 'room 303' 'room 304' 'room 305'\n",
            " 'room 306' 'room 307' 'room 308' 'room 309' 'room 310' 'room 400'\n",
            " 'room 401' 'room 402' 'room 403' 'room 404' 'room 405' 'room 406'\n",
            " 'room 407' 'room 408' 'room 409' 'room 410' 'room 500' 'room 501'\n",
            " 'room 502' 'room 503' 'room 504' 'room 505' 'room 506' 'room 507'\n",
            " 'room 508' 'room 509' 'room 510']\n",
            "[76.76822112 10.93510897 21.66269799 16.65207246 59.10539187 98.4642807\n",
            " 66.07055356 15.90241023 50.64351688 21.78377517 67.88503664 66.40605277\n",
            "  3.34220035 16.10503087 92.71413128 88.92293639 89.38805485  1.77011088\n",
            " 91.79900625 38.42815934 12.26051783 10.9726517  30.02605579 70.88358486\n",
            " 24.23989848 10.38347527 74.25904284 28.30993223  8.35757966 26.70224351\n",
            " 87.72532392 24.24237695 43.83819522 47.22938022 73.36880883 12.36739013\n",
            " 29.83382758 10.97311337 39.85530586  9.78930594 77.20851983 99.89690862\n",
            " 60.8537474  64.90187732 34.72166831  5.89645332 95.57643798 51.42675282\n",
            " 75.31696086 81.53180996  7.17727621 87.01104159 12.86726294 80.40092893\n",
            " 14.13869219 19.63890348 79.50838527 37.0318729  49.49888761 72.30137209\n",
            " 71.16192334 62.44708841  9.01734581 75.37880301 37.70012335 66.27743618\n",
            " 47.18688771 38.22611065 62.17528123 11.79044756 87.85551972  8.58456558\n",
            " 20.94164057 89.85202169 12.84789258 96.61582478 95.74453308 14.35240199\n",
            " 35.80493728  2.74687412 99.17530087 60.30475649 65.60856005 41.50374956\n",
            " 77.58322724 18.57227844 40.38751651 57.48620422  2.66651417 88.43337648\n",
            " 95.55705637 36.38408597 54.03199594 30.83015461 74.14095422 91.94103647\n",
            " 74.30085368 14.41961456 78.83008391 76.30181307]\n"
          ]
        }
      ]
    },
    {
      "cell_type": "markdown",
      "source": [
        "1. Egon believes that only locations with pke readings of 75 or greater are worthy of the ghostbusters attention. How many locations have a pke reading equal to or bigger than 75?"
      ],
      "metadata": {
        "id": "DmkAxKKzy31H"
      }
    },
    {
      "cell_type": "code",
      "source": [
        "# Enter code here\n",
        "(pke_readings>=75).sum()"
      ],
      "metadata": {
        "id": "KgyzrDJ4zTtZ"
      },
      "execution_count": null,
      "outputs": []
    },
    {
      "cell_type": "markdown",
      "source": [
        "\n",
        "\n",
        "2. Egon wants to dispatch his buddies (Ray, Venkman and Winston) to the first 3 locations of 75 or greater. (Hint: you may find [the function `np.where()` helpful](https://numpy.org/doc/stable/reference/generated/numpy.where.html) ). Write code to display the names of these locations."
      ],
      "metadata": {
        "id": "owaXj02HyAnr"
      }
    },
    {
      "cell_type": "code",
      "source": [
        "# Enter code here\n",
        "locations[np.where(pke_readings>=75)[0][0:3]]"
      ],
      "metadata": {
        "id": "O9j9e5eKuo95"
      },
      "execution_count": null,
      "outputs": []
    },
    {
      "cell_type": "markdown",
      "source": [
        "\n",
        "3. Egon found a bug in his PKE network. The first 5 readings in his `pke_readings` array that are less than 65 always report 8.6 points higher than they actually are. Write some code to correct that.  \n",
        "\n"
      ],
      "metadata": {
        "id": "UjQgJtFSx7G2"
      }
    },
    {
      "cell_type": "code",
      "source": [
        "# Enter code here\n",
        "print(pke_readings)\n",
        "print(np.where(pke_readings<65)[0][0:5])\n",
        "pke_readings[np.where(pke_readings<65)[0][0:5]] = pke_readings[np.where(pke_readings<65)[0][0:5]] - 8.6\n",
        "print(pke_readings)"
      ],
      "metadata": {
        "id": "MVCrR_3-ysWE"
      },
      "execution_count": null,
      "outputs": []
    },
    {
      "cell_type": "markdown",
      "metadata": {
        "id": "ZI9CqKk1VGbe"
      },
      "source": [
        "# Exercise: DiceRoller 3.0"
      ]
    },
    {
      "cell_type": "markdown",
      "metadata": {
        "id": "z0oRYLCh6vJT"
      },
      "source": [
        "\n",
        "Make a new dice roller program that takes the two arrays as inputs:\n",
        "- diceSides - a 1-D numpy array holding the number of sides of each die\n",
        "- numDice - a 1-D numpy array holding the number of dice\n",
        "\n",
        "So for example, to roll 3 6-sided dice, 1 10 sided die and 4 20-sided dice, we would pass:\n",
        "```\n",
        "diceSides = [6, 10, 20]\n",
        "numDice = [3, 1, 4]\n",
        "```\n",
        "\n",
        "Your program should output a tuple of 3 arrays:\n",
        "- The result of roll (ie., the number on the top of all dice after the roll)\n",
        "- The count of every critical failure (when a die rolled the lowest number it could) *for each type of die*\n",
        "- The counts of every critical hit (when a die rolled the highest number it could) *for each type of die*\n",
        "\n",
        "So, for example, rolling the dice from the example above might yield:\n",
        "```\n",
        "rolls = [ 1,  3,  6,  6,  1, 13, 19,  6]\n",
        "critFails = np.array([ 1, 0, 1])\n",
        "critHits =  np.array([ 1, 0, 0])\n",
        "```\n",
        "The first three elemenst of ``rolls`` are the 3 6-sided dice, the next one is a 10-sided die, and the last four are 20-sided dice.\n",
        "\n",
        "There was one critical fail amongst the 6-sided dice, zero for the ten-sided die, and one amongst the 20-sided dice.\n",
        "\n",
        "There was one critical hit amongst the 6-sided dice, zero for the ten-sided die, and zero amongst the 20-sided dice.\n",
        "\n",
        "\n",
        "You may find the following useful:\n",
        "* You can use [np.repeat()](https://docs.scipy.org/doc/numpy/reference/generated/numpy.repeat.html) to get an array holding the number of sides of each die you want to roll.\n",
        "* [np.random.randint()](https://docs.scipy.org/doc/numpy/reference/random/generated/numpy.random.mtrand.RandomState.randint.html) can take an array as an argument for high.\n",
        "* [np.cumsum()](https://docs.scipy.org/doc/numpy/reference/generated/numpy.cumsum.html) calculates the running sum over an array.\n",
        "* Remember [np.split()](https://docs.scipy.org/doc/numpy/reference/generated/numpy.split.html) can split an array into parts at the locations (indexes) specified.\n",
        "* [np.hstack()](https://docs.scipy.org/doc/numpy/reference/generated/numpy.hstack.html) will stack a list of arrays horizontally\n"
      ]
    },
    {
      "cell_type": "code",
      "metadata": {
        "id": "TqhPI-6h6-wk"
      },
      "source": [
        "def diceRoller(diceSides,numDice):\n",
        "  diceToRoll = np.repeat(diceSides,numDice) # to roll each of the diceSides[i] exactly numDice[i] times, use np.repeat()\n",
        "  rolls = np.random.randint(low=1,high=diceToRoll+1) # a roll means picking a random int between 1 and the (numSides of the dice + 1) \n",
        "  critFail = (rolls==1) # a die is a crit fail if it rolled a 1 (always the lowest number)\n",
        "  critHit = (rolls==diceToRoll) # a die is a crit hit if it rolled a value equal to the number of sides of the die.\n",
        "  splitLocs = numDice.cumsum()[:len(numDice)-1] # Use the cumsum() method to get the locations where to split the rolls array so that each subarray contains only one type of die\n",
        "  critFailCounts = np.hstack([ l.sum() for l in np.split(critFail,splitLocs)]) # splitting gives you a list of np.arrays, summing each will count the number of crits. \n",
        "  critHitCounts= n p.hstack([ l.sum() for l in np.split(critHit,splitLocs)])   #      and then stacking them horizontally, gives you an array again.\n",
        "  return (rolls, critFailCounts,critHitCounts)\n"
      ],
      "execution_count": null,
      "outputs": []
    },
    {
      "cell_type": "code",
      "metadata": {
        "id": "rDRWhGY6Wajd"
      },
      "source": [
        "# Test it out:\n",
        "diceRoller(np.array([4,20,10]),np.array([3,2,2])) # roll 3 4-sided, 2 20-sided, and 2 10-sided dice\n"
      ],
      "execution_count": null,
      "outputs": []
    },
    {
      "cell_type": "code",
      "source": [
        "# Test it out again:\n",
        "diceRoller(np.array([6,12,8]),np.array([10,2,3])) # roll 10 6-sided, 2 12-sided, and 3 8-sided dice"
      ],
      "metadata": {
        "id": "QjmC48zhAiYH"
      },
      "execution_count": null,
      "outputs": []
    },
    {
      "cell_type": "markdown",
      "metadata": {
        "id": "Os3sYQ7x54vC"
      },
      "source": [
        "# Exercise: RPG Character Battle"
      ]
    },
    {
      "cell_type": "markdown",
      "metadata": {
        "id": "cA4JintO6A_L"
      },
      "source": [
        "Remember your RPG Character Creater?  \n",
        "\n",
        "Make a function that implements battling between different RPG Characters (that you created with your character creator). \n",
        "\n",
        "A character should consist of a name and a number of different attributes, such as Strength, Defense, Hit Points (life), etc. (but these are just suggestions -- you can use whatever you want).\n",
        "\n",
        "Here are some guidelines:\n",
        "- Your battle systems should compare one attribute vs another to determine the likelihood of a hit.\n",
        "- Use dice rolling to add randomness to the system.\n",
        "- A battle should consist of two characters taking turns trying to attack one another. If an attack succeeds it should reduce the Hit Points (or life or whatever attribute). This continues until one of the characters Hit Points reaches zero (in which case, they lose the battle)\n",
        "- Take advantage of the power of numpy and your existing dice roller code from the previous exercises\n",
        " - You should be able to accomplish this just by using arrays and **without using any explicit for loops**\n",
        "\n",
        "For example, a simple system could roll a 20 sided die:\n",
        "- If the roll is 20 its a hit\n",
        "- If the roll is 1 its a fail\n",
        "- If the roll is anything else, `hit = ((Strength + roll) > Defense)` where Strength is the value of the attacking character's strength and Defense is the value of the defending character's defense.   \n",
        "\n",
        "That's just one suggestion, but you can devise your own rules to determine how characters fight. For example you could have both the attacking and defending character roll a dice and do `hit = ((Strength + roll1) > (Defense + roll2))`. It's up to you.\n"
      ]
    },
    {
      "cell_type": "code",
      "metadata": {
        "id": "I0t445Kd96m4"
      },
      "source": [
        "# Enter your code here\n",
        "# Answer\n",
        "import numpy as np\n",
        "\n",
        "def battle(char1,char2,numTurns=30,debug=False):\n",
        "  char1AttackRolls = np.random.randint(1,21,numTurns)\n",
        "  char2AttackRolls = np.random.randint(1,21,numTurns)\n",
        "  char1HP = np.full(numTurns,char1['HP'])\n",
        "  char2HP = np.full(numTurns,char2['HP'])\n",
        "  char1CritHit = (char1AttackRolls==20)\n",
        "  char1CritFail = (char1AttackRolls==1)\n",
        "  char2CritHit = (char1AttackRolls==20)\n",
        "  char2CritFail = (char1AttackRolls==1)\n",
        "  char1Hits = (char1CritHit*1 +(~char1CritHit)&(~char1CritFail)*((char1['strength'] + char1AttackRolls)>char2['defense'])*1)\n",
        "  char2Hits = (char2CritHit*1 +(~char2CritHit)&(~char2CritFail)*((char2['strength'] + char2AttackRolls)>char1['defense'])*1)\n",
        "  char2HP -= char1Hits.cumsum()\n",
        "  char1HP -= char2Hits.cumsum()\n",
        "  char1WinsOn = np.argmax(char2HP==0) + (numTurns+1)*(char2HP.min()>0) # find the index of the first occurence where char2 had zero hitpoints (set to numTurns+1 if this never happened)\n",
        "  char2WinsOn = np.argmax(char1HP==0) + (numTurns+1)*(char1HP.min()>0) # find the index of the first occurence where char1 had zero hitpoints (set to numTurns+1 if this never happened)\n",
        "  if debug:\n",
        "    print('BATTLE REPORT')\n",
        "    print('-------------------------------------------------------------------')\n",
        "    print(f\"{'char1AttackRolls':<16s} = {char1AttackRolls}\")\n",
        "    print(f\"{'char2AttackRolls':<16s} = {char2AttackRolls}\")\n",
        "    print(f\"{'char1Hits':<16s} = {char1Hits}\")\n",
        "    print(f\"{'char2Hits':<16s} = {char2Hits}\")\n",
        "    print(f\"{'char1HP':<16s} = {char1HP}\")\n",
        "    print(f\"{'char2HP':<16s} = {char2HP}\")\n",
        "    print(f\"{'char1WinsOn':<16s} = {char1WinsOn}\")\n",
        "    print(f\"{'char2WinsOn':<16s} = {char2WinsOn}\")\n",
        "    print('-------------------------------------------------------------------')\n",
        "  if (char1WinsOn<=numTurns or char2WinsOn<=numTurns): # Either char1 or char1 died before the last turn\n",
        "    if char1WinsOn <= char2WinsOn: # char1 wins; if a tie, they win because char1 attacks first\n",
        "      print(f\"{char1['name']} won on the {char1WinsOn+1} round.\")\n",
        "      print(f\"{char1['name']} has {char1HP[char1WinsOn]} hitpoints remaining.\")\n",
        "    else:\n",
        "      print(f\"{char2['name']} won on the {char2WinsOn+1} round.\")\n",
        "      print(f\"{char2['name']} has {char2HP[char2WinsOn]} hitpoints remaining.\")\n",
        "  else: # Both characters were still alive\n",
        "    print(f\"{char1['name']} and {char2['name']} fought with valor and both were bloodied, but remained standing at the end of the battle.\")\n",
        "    print(f\"{char1['name']} has {char1HP[-1]} hitpoints remaining.\")\n",
        "    print(f\"{char2['name']} has {char2HP[-1]} hitpoints remaining.\")\n",
        "    \n",
        "\n",
        "char1 = {'name':'Dylanus','strength':4,'defense':5,'HP':5}\n",
        "char2 = {'name':'Grarg the Ogre','strength':5,'defense':10,'HP':20}\n",
        "battle(char1,char2,10, debug=True)"
      ],
      "execution_count": null,
      "outputs": []
    }
  ]
}