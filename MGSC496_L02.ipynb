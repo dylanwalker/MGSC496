{
  "nbformat": 4,
  "nbformat_minor": 0,
  "metadata": {
    "colab": {
      "provenance": [],
      "authorship_tag": "ABX9TyP8oGKOo09Nq+ADXcV0enDR",
      "include_colab_link": true
    },
    "kernelspec": {
      "name": "python3",
      "display_name": "Python 3"
    },
    "language_info": {
      "name": "python"
    }
  },
  "cells": [
    {
      "cell_type": "markdown",
      "metadata": {
        "id": "view-in-github",
        "colab_type": "text"
      },
      "source": [
        "<a href=\"https://colab.research.google.com/github/dylanwalker/MGSC496/blob/main/MGSC496_L02.ipynb\" target=\"_parent\"><img src=\"https://colab.research.google.com/assets/colab-badge.svg\" alt=\"Open In Colab\"/></a>"
      ]
    },
    {
      "cell_type": "markdown",
      "source": [
        "This is the in-class notebook for MGSC496 Lecture 02."
      ],
      "metadata": {
        "id": "dA_4fackixhz"
      }
    },
    {
      "cell_type": "markdown",
      "source": [
        "We will use this space to go over examples, try some exercises, do live coding, and work through any of questions the class might have."
      ],
      "metadata": {
        "id": "clxCFGyVi6vy"
      }
    },
    {
      "cell_type": "code",
      "execution_count": null,
      "metadata": {
        "id": "AgHiUNAxBQcB"
      },
      "outputs": [],
      "source": []
    },
    {
      "cell_type": "markdown",
      "source": [
        "## Topic: Iterables, Iterators, and Generators. \n",
        "We saw lots of collections in the reading. We also saw that we could loop over those collections e.g., \n",
        "```python\n",
        "for el in someList\n",
        "``` \n",
        "We can do this because th object (`someList`) is **iterable** or in other words **\"we can iterate over it\" (we can loop over it)** . What this means is that iterable objects are those that contain some kind of collection and we can \"grab the next item\" from them. In python, what determines what an object can do is what \"methods\" (think: functions) it has (we'll learn more about this next class). For things that we loop over, there are two important types of objects: \n",
        "* **Iterable** objects are objects that **we can \"ask for an iterator\"** (has `__iter__()` method). We can call the function `iter()` on an iterable to get its iterator.\n",
        "* **Iterator** objects are objects that **know how to \"grab the next item\".** (has `__next__()` method). We can call the function `next()` on an iterator to get the next item.\n",
        "\n",
        "We already know that we can use iterable objects in `for` loops. But we can also iterate over them without using `for` loops, by using an **iterator**.\n",
        "\n"
      ],
      "metadata": {
        "id": "GfCi6PqeJJv7"
      }
    },
    {
      "cell_type": "code",
      "source": [
        "# Make a list, make an iterator, print some of the elements from the list using the iterator\n"
      ],
      "metadata": {
        "id": "DUi0CeDC33dH"
      },
      "execution_count": null,
      "outputs": []
    },
    {
      "cell_type": "markdown",
      "source": [
        "This is an alternative to using a `for` loop like this:"
      ],
      "metadata": {
        "id": "o2nkB9RE4kLW"
      }
    },
    {
      "cell_type": "code",
      "source": [
        "for el in someList:\n",
        "  print(el)"
      ],
      "metadata": {
        "id": "3sC7Lr_N48_t"
      },
      "execution_count": null,
      "outputs": []
    },
    {
      "cell_type": "markdown",
      "source": [
        "Why might you want to do this? Well, sometimes you might want to structure the solution to a problem without looping over all of the elements of a collection."
      ],
      "metadata": {
        "id": "xT6n3l7T7DtM"
      }
    },
    {
      "cell_type": "markdown",
      "source": [
        "So far we've been talking about collections that are always stored in memory. Sometimes you don't want (or need or maybe can't) store everything in memory, but instead you know how to get the next item from the previous item. In these cases, we can use something called a **Generator**. Generators are like lazy iterators and we can make one by writing a function and instead of using the `return` keyword to return a single item, we can use the `yield` keyword to give the next item. Of course, we would need to know what that next item is based on the previous item. Here's an example:"
      ],
      "metadata": {
        "id": "ruxxjwLE3zp2"
      }
    },
    {
      "cell_type": "code",
      "source": [
        "# make a generator fn get_squares() that yields the squares of number from starting_int to ending_int\n"
      ],
      "metadata": {
        "id": "Bqs2MYhdAUsD"
      },
      "execution_count": null,
      "outputs": []
    },
    {
      "cell_type": "code",
      "source": [
        "# Loop over a call to the generating fn. and print out the square\n",
        "# We can now loop to get the squares like this:\n"
      ],
      "metadata": {
        "id": "7WujgyeGILNl"
      },
      "execution_count": null,
      "outputs": []
    },
    {
      "cell_type": "code",
      "source": [
        "# Instead of looping in a for loop, call next() on the generator\n",
        "# Or, alternatively, we could get however many we wanted like this:\n",
        "\n"
      ],
      "metadata": {
        "id": "5XrB7eJuCNOa"
      },
      "execution_count": null,
      "outputs": []
    },
    {
      "cell_type": "markdown",
      "source": [
        "What's cool about the above code is that we didn't have to precalculate all the squares of numbers and store them in memory. Instead our generator function calculated the square only when we needed it in our code.\n",
        "\n",
        "If we tried to get one more (add another `next()` line above), then we would run into `StopIteration` exception."
      ],
      "metadata": {
        "id": "hiVqk6FUBpeE"
      }
    },
    {
      "cell_type": "markdown",
      "source": [
        "# Topic: Error handling with Exceptions in Python\n",
        "\n",
        "We've already seen Python throw errors at us. It tends to stop us in our tracks. This is fine for line-by-line or cell-by-cell execution of python code in a notebook or python shell. But what if we were running a script and we wanted to handle errors ourselves and have it keep going. That's where Exceptions come in.\n",
        "\n",
        "To handle exceptions, we can use a code block like this:\n",
        "```python\n",
        "try:\n",
        "  # do something here that might lead to an error\n",
        "except someTypeOfException as e:\n",
        "  # report the exception to the user and do something to handle it\n",
        "except someOtherTypeOfException as e:\n",
        "  # report the exception to the user and do something to handle it\n",
        "else:\n",
        "  # The code in this block will be run if there were no exceptions for the \n",
        "  #  code in the try block\n",
        "finally:\n",
        "  # This code will run regardless of whether there was exception or not\n",
        "``` \n",
        "\n",
        "Let's look at an example where we try to read a file that doesn't exit. We'll actually make a file first, but then try to open the wrong filename"
      ],
      "metadata": {
        "id": "2prnt1AO-Rc4"
      }
    },
    {
      "cell_type": "code",
      "source": [
        "# some live code here"
      ],
      "metadata": {
        "id": "PLAIS2MmHw7C"
      },
      "execution_count": null,
      "outputs": []
    },
    {
      "cell_type": "markdown",
      "source": [
        "# Topic: The Walrus Operator"
      ],
      "metadata": {
        "id": "c-LlyAZL8bzX"
      }
    },
    {
      "cell_type": "markdown",
      "source": [
        "The walrus operator `:=` is a relatively new operator in python (added in Python 3.8) that lets you assign a value to a variable as part of a larger expression.\n",
        "Suppose we wanted to get a user to input their favorite movies until they enter a blank input, then stop.\n",
        "\n",
        "Before the walrus operator, our code might look something like this:"
      ],
      "metadata": {
        "id": "KW6Bz3KcJyc8"
      }
    },
    {
      "cell_type": "code",
      "source": [
        "# live code here\n"
      ],
      "metadata": {
        "id": "gAuDV63tKHme"
      },
      "execution_count": null,
      "outputs": []
    },
    {
      "cell_type": "markdown",
      "source": [
        "But with the walrus operator, we can write it like this:"
      ],
      "metadata": {
        "id": "KPJr4J_iKnow"
      }
    },
    {
      "cell_type": "code",
      "source": [
        "#live code here"
      ],
      "metadata": {
        "id": "jAS-GDxhKqje"
      },
      "execution_count": null,
      "outputs": []
    },
    {
      "cell_type": "markdown",
      "source": [
        "## Topic: Nested Collections"
      ],
      "metadata": {
        "id": "GDhlrnw6kHv4"
      }
    },
    {
      "cell_type": "markdown",
      "source": [
        "Often we will need to work with data that has a lot of structure to it. There are multiple ways to do this in Python. One very simple way is with nested collections.\n",
        "\n",
        "Suppose we wanted to store a bunch of information about students, such as:\n",
        "* name\n",
        "* email\n",
        "* grade on each homework\n"
      ],
      "metadata": {
        "id": "t0xIFcuMNidp"
      }
    },
    {
      "cell_type": "code",
      "source": [
        "# make students a list of students, each of which is a dictionary containing name, email, homework_grades (a dictionary where key is HW1, val is grade, etc.)\n"
      ],
      "metadata": {
        "id": "Vu9ya4flj8-Q"
      },
      "execution_count": null,
      "outputs": []
    },
    {
      "cell_type": "markdown",
      "source": [
        "This is an example of a nested collection, because we have defined a list of dictionaries, where the value of the key `homework_grades` is also itself a dictionary."
      ],
      "metadata": {
        "id": "nPAXkbX6PaTQ"
      }
    },
    {
      "cell_type": "code",
      "source": [
        "print(students)"
      ],
      "metadata": {
        "id": "zE3MK5ooQv4S"
      },
      "execution_count": null,
      "outputs": []
    },
    {
      "cell_type": "code",
      "source": [
        "# Calculate the average homework grade for the students\n"
      ],
      "metadata": {
        "id": "ertEQqDKPF8k"
      },
      "execution_count": null,
      "outputs": []
    },
    {
      "cell_type": "markdown",
      "source": [
        "We also have the ability to modify our nested collection, like this:"
      ],
      "metadata": {
        "id": "j5CfXEnrQ319"
      }
    },
    {
      "cell_type": "code",
      "source": [
        "# Add a new grade to one of the students homework assignments"
      ],
      "metadata": {
        "id": "IuYwKtPsQklh"
      },
      "execution_count": null,
      "outputs": []
    },
    {
      "cell_type": "markdown",
      "metadata": {
        "id": "3-DuGnd63YNs"
      },
      "source": [
        "# Exercise: Lists and Dictionaries"
      ]
    },
    {
      "cell_type": "markdown",
      "metadata": {
        "id": "EX9cCMUj_mGV"
      },
      "source": [
        "* In the codeblock below, create a list object to store the names of actors in you favorite movie(s). \n",
        "* Now add some names to it.\n",
        "* Print out the entire list\n",
        "\n",
        "\n"
      ]
    },
    {
      "cell_type": "code",
      "metadata": {
        "id": "4vZ2fCiIAF9D"
      },
      "source": [
        "# Test you knowledge of lists and dictionaries-- enter you code in this cell\n",
        "\n",
        "# Make your list of actors in your favorite movie(s)\n",
        "\n"
      ],
      "execution_count": null,
      "outputs": []
    },
    {
      "cell_type": "markdown",
      "metadata": {
        "id": "sjZRGK_AFm55"
      },
      "source": [
        "* Now create a dictionary where each key is a character from a movie and the corresponding value is the name of the actor that played that character.\n",
        "* Using your dictionary, print out only the actors names\n",
        "* Using your dictionary, print out only the character names"
      ]
    },
    {
      "cell_type": "code",
      "metadata": {
        "id": "ksQKQHONFsw1"
      },
      "source": [
        "# Make your dictionary\n",
        "\n",
        "\n",
        "# print out only the actors names\n",
        "\n",
        "# print out only the character names\n"
      ],
      "execution_count": null,
      "outputs": []
    },
    {
      "cell_type": "markdown",
      "metadata": {
        "id": "WC7pPgrV3d5U"
      },
      "source": [
        "# Exercise: Functions"
      ]
    },
    {
      "cell_type": "markdown",
      "metadata": {
        "id": "kCpoD2dfALmR"
      },
      "source": [
        "Write a function that takes two arguments, a list and a string. The string should be the name of an actor. The list should be the same list that you defined above. The function should check whether the string is in the list and, if so, print out a saying such as \"Yes, Bruce Willis is in die hard.\"\n",
        "\n",
        "* Write the function described above\n",
        "* Run it by calling the function and passing it two arguments, the name of an actor and the list you created from the last exercise."
      ]
    },
    {
      "cell_type": "code",
      "metadata": {
        "id": "IT_RHEEbCkzs"
      },
      "source": [
        "# Test your knowledge of functions\n",
        "\n",
        "# define your function\n",
        "\n",
        "# Run your function by passing it a string of an actor's name and the list you created in the last exercise"
      ],
      "execution_count": null,
      "outputs": []
    },
    {
      "cell_type": "markdown",
      "metadata": {
        "id": "6jX_GeCk3kH0"
      },
      "source": [
        "# Exercise: Files"
      ]
    },
    {
      "cell_type": "markdown",
      "metadata": {
        "id": "CnA_iNnnKOd1"
      },
      "source": [
        "Often, programs use files to store information so that it persists even after the program has been closed.  This could include information that the user entered, the state of the program, custom settings the user may have changed and so on.\n",
        "\n",
        "In order to do this, the programmer has to translate this information into something that can be saved in a file (or many files). Remember a text file is just a sequence of characters (including commas, new lines, etc.). A binary file is just a sequence of bits.  We have to know how to interpret these characters or bits in order to make sense of the file. In other words, we have to know the format of the file. Let's understand this by trying to make our own file format.\n",
        "\n",
        "Do the following in the code blocks below:\n",
        "1. Write a program to save to a file the list of actors in your favorite movie that you made earlier.\n",
        " - note: you cannot just \"write\" a list to a file using f.write(someList). You can only write strings to a text file, so you will have to loop over its elements. \n",
        "2. Write a program to open the file you created in (1) and read from it to \"re-create\" the list of actors in your favorite movie from the file.\n"
      ]
    },
    {
      "cell_type": "code",
      "metadata": {
        "id": "i1rbpPPJX29O"
      },
      "source": [
        "# 1. Below, write a program to write the list of actors in your favorite movie to a file\n"
      ],
      "execution_count": null,
      "outputs": []
    },
    {
      "cell_type": "code",
      "metadata": {
        "id": "FXP1F9SQYCUW"
      },
      "source": [
        "# 2. Below, write a program to open the file from (1) and read the list of actors in your favorite movie into a list. Then, print out the list.\n"
      ],
      "execution_count": null,
      "outputs": []
    },
    {
      "cell_type": "markdown",
      "metadata": {
        "id": "wzyNrJZfYN9a"
      },
      "source": [
        "Congratulations!  Now you know how to save a list of strings to a file.\n",
        "\n",
        "What about a more complicated structure like a dictionary?  Remember, a dictionary stores key/value pairs. If you wanted to write the contents of a dictionary to a file, you need a way to distinguish each pair from one another and to distinguish the key from the value.\n",
        "\n",
        "Do the following in the code blocks below:\n",
        "3. Write a program to save to a file the dictionary of character names/actor names that you made earlier.\n",
        " - note: that you cannot just \"write\" a dictionary to a file using f.write(someDictionary). You can only write strings to a text file, so you will have to loops over the items of the dictionary and come up with a scheme -- i.e., find a way to write the key and the value together in some way that you can distinguish them.\n",
        "    - Hint: You can make use of special characters (such as \",\" or \":\") as *separators* to separate the key part fron the value part of a single string. You may need to use string methods like join() and split().\n",
        "4. Write a program to open the file you created in (3) and read from it to \"recreate\" the the dictionary of character names/actor names in your favorite movie. \n",
        "  - Hint: Whatever scheme you decided to use in (3) to distinguish the key part from the value part of a string, you will have to be aware of it and use string methods like split() to break up the string into its separate parts.\n",
        "\n",
        "\n",
        "\n"
      ]
    },
    {
      "cell_type": "code",
      "metadata": {
        "id": "qygTKzwAa9sM"
      },
      "source": [
        "# 3. Below, write a program to write the dictionary of character names/actor names into a file."
      ],
      "execution_count": null,
      "outputs": []
    },
    {
      "cell_type": "code",
      "metadata": {
        "id": "3SDn6yrabIuR"
      },
      "source": [
        "# 4. Below, write a program to open the file from (3) and read the contents and recreate the dictionary of character names/actor names. Then, print out the dictionary."
      ],
      "execution_count": null,
      "outputs": []
    },
    {
      "cell_type": "markdown",
      "metadata": {
        "id": "lC9hD72a3qZx"
      },
      "source": [
        "# Exercise: Store Check Out with Walrus Operator and Error Handling with Exceptions"
      ]
    },
    {
      "cell_type": "markdown",
      "metadata": {
        "id": "076A3qP2-NKl"
      },
      "source": [
        "Write a program that calculates the total of a set of items the user is buying from a grocery store. The program should allow users to enter the price of items one by one (until they input a blank entry, indicating that they are finished). The program should then ask if the user is a tax-exempt user (Y/N). Finally, the program should calculate the subtotal and total (with a 7.25% sales tax applied, if applicable) and print them out.\n",
        "\n",
        "Your program should:\n",
        "* use a `while` loop and a walrus operator assignment with `input()` to get data from the user until they are done entering items (enter a blank input).\n",
        "* Use a boolean variable `tax_exempt`\n",
        "* Use try-catch-except (etc.) to handle errors\n",
        "\n",
        " "
      ]
    },
    {
      "cell_type": "code",
      "metadata": {
        "id": "Z7WSwoVr9mK9"
      },
      "source": [
        "# WRITE YOUR CODE HERE\n"
      ],
      "execution_count": null,
      "outputs": []
    },
    {
      "cell_type": "markdown",
      "metadata": {
        "id": "eF3Cr9UO32iG"
      },
      "source": [
        "# Exercise: RPG Character Creator"
      ]
    },
    {
      "cell_type": "markdown",
      "metadata": {
        "id": "27L1-8wubY20"
      },
      "source": [
        "Write a program to let users create their own Role Playing Game characters and save them.\n",
        "\n",
        "A character should have:\n",
        " - A name (e.g., \"Dylanus the Magnificent\")\n",
        " - A class (e.g., Fighter, Wizard, Thief)\n",
        " - A race (e.g., Human, Elf, Goblin)\n",
        " - Attributes (e.g., Strength, Intelligence, Dexterity).\n",
        "   - Each attribute has an integer from 1 to 10 that represents how strong the character is in that attribute.\n",
        "\n",
        "So for example the details of a character might looks like this:\n",
        "Name: Dylanus the Magnificent\n",
        "Class: Wizard\n",
        "Race: Goblin\n",
        "Attributes: Strength - 5, Intelligence - 7, Dexterity - 3\n",
        "\n",
        "Don't use the race, classes and attributes that I've given in the example above, but instead make up your own. It will be more fun if you pick a context that is interesting to you. Maybe the character is for:\n",
        " - a zombie apocalypse\n",
        " - a war between robots or alien species\n",
        " - police detectives battling crime\n",
        " - lawyers and judges battling in a courtroom\n",
        " - students trying to survive a tough degree program\n",
        "\n",
        "\n",
        "Your program should:\n",
        "* Use functions\n",
        "* Use loops\n",
        "* Get input from the user (e.g., \"Enter the character name:\")\n",
        "* Use lists and/or dictionaries to save the details of a character in memory (i.e., variables)\n",
        "* Save a character to a file after they've been created\n",
        "* Read a character from a file into its \"original data structure\"\n"
      ]
    },
    {
      "cell_type": "code",
      "metadata": {
        "id": "xp31ME4kd-Gs"
      },
      "source": [
        "# RPG Character Creator\n"
      ],
      "execution_count": null,
      "outputs": []
    },
    {
      "cell_type": "code",
      "metadata": {
        "id": "qIGVTaDVenxG"
      },
      "source": [
        "# RPG Character Creator - test it\n",
        "# It's always a good idea when you write some code to also come up with some code that tests it.\n"
      ],
      "execution_count": null,
      "outputs": []
    }
  ]
}