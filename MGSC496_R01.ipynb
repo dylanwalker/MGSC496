{
  "nbformat": 4,
  "nbformat_minor": 0,
  "metadata": {
    "colab": {
      "provenance": [],
      "include_colab_link": true
    },
    "kernelspec": {
      "name": "python3",
      "display_name": "Python 3"
    }
  },
  "cells": [
    {
      "cell_type": "markdown",
      "metadata": {
        "id": "view-in-github",
        "colab_type": "text"
      },
      "source": [
        "<a href=\"https://colab.research.google.com/github/dylanwalker/MGSC496/blob/main/MGSC496_R01.ipynb\" target=\"_parent\"><img src=\"https://colab.research.google.com/assets/colab-badge.svg\" alt=\"Open In Colab\"/></a>"
      ]
    },
    {
      "cell_type": "code",
      "source": [
        "#@title Your Info\n",
        "\n",
        "your_name = '' #@param {type:\"string\"}\n",
        "your_email = '' #@param {type:\"string\"}\n",
        "today_date = '' #@param {type:\"date\"}\n"
      ],
      "metadata": {
        "id": "qCErBFYSbdOw",
        "cellView": "form"
      },
      "execution_count": null,
      "outputs": []
    },
    {
      "cell_type": "markdown",
      "source": [
        "# How to \"read\" this notebook\n",
        "\n",
        "As you go through this notebook (or any notebook for this class), you will encounter new concepts and python code that implements them -- just like you would see in a textbook. Of course, in a textbook, it's easy to read code and an explanation of what it does and think that you understand it.\n",
        "<br />\n",
        "<br />\n",
        "\n",
        "### Learn by doing\n",
        "But this notebook is different from a textbook because it allows you to not just read the code, but play with it. **You can and should try out changing the code that you see**. In fact, in many places throughout this reading notebook, you will be asked to write your own code to experiment with a concept that was just covered. This is a form of \"active reading\" and the idea behind it is that we really learn by **doing**. \n",
        "<br />\n",
        "<br />\n",
        "\n",
        "### Change everything\n",
        "But don't feel limited to only change code when I prompt you. This notebook is your learning environment and your playground. I encourage you to try changing and running all the code throughout the notebook and even to **add your own notes and new code blocks**. Adding comments to code to explain what you are testing, experimenting with or trying to do is really helpful to understand what you were thinking when you revisit it later. \n",
        "<br />\n",
        "<br />\n",
        "### Make this notebook your own\n",
        "Make this notebook your own. Write your questions and thoughts. At the end of every reading notebook, I will ask the same set of questions to try to elicit your questions, reaction and feedback. When we review the reading notebook in class, I encourage you to   \n",
        "\n"
      ],
      "metadata": {
        "id": "LHv80meh7uAs"
      }
    },
    {
      "cell_type": "markdown",
      "metadata": {
        "id": "zlz_AVSw4pA-"
      },
      "source": [
        "# Python Basics"
      ]
    },
    {
      "cell_type": "markdown",
      "metadata": {
        "id": "7vYvRcn847XU"
      },
      "source": [
        "\n",
        "<img alt=\"R01_python_logo.png\" src=\"https://drive.google.com/uc?id=1esF4HvArUvCgmBH80LucGIX8Jqwmug7o\">\n",
        "\n",
        "Q: What is Python?\n",
        "\n",
        "A: Python is a high-level programming language. It has nice features like many modern languages that we will talk a bit about (dynamic typing, garbage collection, object orientation, etc). But it is particularly good for scientific programming and data science / business analytics tasks. Part of the reason for this is that it is it is (canonically) an interpretive language -- which means you run the code \"line by line\" and get a response from each \"line\" -- as opposed to a compiled language where _all the code_ you write is seen and then compiled and run to get an output.   \n",
        "<br />\n",
        "\n",
        "\n",
        "Q: Hold on, man! What the hell is this? I already know Python!\n",
        "\n",
        "A: Ok, hang on a sec, don't blow a gasket. This class was designed for people with varying backgrounds with the expectation that some students will have a good deal of experience with Python while others may have very little to none. We will take a couple classes to do some review of basic Python and to make sure everyone is on the same page. There will be opportunities for you to challenge yourself, even for these first few classes. Keep in mind that you control your own pace through this notebook. If you feel confident that you know all this stuff, jump straight to the STOP sign pictures that you will see scattered throughout the notebook and try to do these interactive exercises.  \n",
        "<br />\n",
        "\n",
        "\n",
        "Q: How can I use python?\n",
        "\n",
        "A: There are a few different ways you can run Python code:\n",
        "\n",
        "1.   Open an interactive python shell at your command line and type in statements line by line.\n",
        "\n",
        "2.   Use an Integrated Development Environment (IDE) such as PyCharm or Eclipse (w/ PyDev plugin).  This allows you to edit the text of your code and even highlight and run statements line by line.\n",
        "![R01_Pycharm_editor_python.png](https://drive.google.com/uc?id=1ji_CA2Z2MNY69qzFqXQdXT0x-_ZDbIgc)\n",
        "\n",
        "\n",
        "3.  Edit your python code in a text file (python code files should always have the extension .py) in a (hopefully very good) text editor and then execute that file from the command line. \n",
        "![R01_text_editor_python.png](https://drive.google.com/uc?id=1bX6ETlJWDPTl98fdnwFLcZr8tKZAuSw3)\n",
        "\n",
        "4.   Use a Jupyter Notebook. This allows you to interleave \"cells\" of regular text and images (in markdown format) with \"cells\" of python code. To do this, you have to have Jupyter installed on a machine. The actual notebook interface is \"served up\" by that local machine as a web service that you can access through a web browser. If you click the play button next to a \"cell\" of code, it will instruct the server machine to execute that line of code in a shell that is awaiting input and then send the output back to the browser.  Google provides a Jupyter notebook environment that is connected to Google's cloud computing service that you can use for free (with some limitations) through colab.research.google.com. This is what you are using to look at this reading notebook now. \n",
        "\n"
      ]
    },
    {
      "cell_type": "markdown",
      "metadata": {
        "id": "UJx4v8S85PE9"
      },
      "source": [
        "# Python Language"
      ]
    },
    {
      "cell_type": "markdown",
      "metadata": {
        "id": "JqlNxvC45K3A"
      },
      "source": [
        "Python is a little different from most of the other programming languages that you may have some experience with. \n",
        "<br />\n",
        "<br />\n",
        "\n",
        "\n",
        "Here are some things about Python:\n",
        "\n",
        "\n",
        "* In Python, whitespace matters. The indent level (tab) is used to indicate entering a new block of code, such as in a loop or an if statement. There are no semicolons to end lines.\n",
        "![R01_python_code_structure.png](https://drive.google.com/uc?id=1Ko8Gt2lYNn1wBlFboN-aKT_ZxgqVktLY)\n",
        "\n",
        "* **Everything in python is an object** (as in the class or object-oriented sense -- if you don't know what this means, don't worry, we'll talk more about it very soon).\n",
        "\n",
        "* We use the **equal sign to assign a value or object** to a variable. We don't have to declare a variable or its type before we do this (as in more formal languages such as C).\n",
        "\n",
        "* **Python is loosely typed**. This means that the type of a variable is never specified (and in fact can change throughout the course of a program).\n",
        "\n",
        "* Python is typically **interpreted** rather than compiled (though there are implementations that compile). This means that programs are typically executed line by line.\n",
        "\n",
        "* You can **use a hash symbol (#) to add comments in code**. Python will treat everything on the same line after the hash symbol as a comment.\n",
        "\n",
        "\n",
        "\n",
        "\n"
      ]
    },
    {
      "cell_type": "markdown",
      "metadata": {
        "id": "3d61Ev598Ky-"
      },
      "source": [
        "Let's start with some basics.\n",
        "\n",
        "<font size=3 color=\"red\">IMPORTANT:  The code cells below are intended to be executed in order. If you execute them out of order, some cells may rely upon variables that were only defined in prior cells. They will throw an error.  You should experiment with each cell to ensure that you understand what's happening and see how things change when you update and rerun the code in the cell.</font>"
      ]
    },
    {
      "cell_type": "code",
      "metadata": {
        "id": "chvEge084zKp"
      },
      "source": [
        "# This is a comment line\n",
        "print(\"Hello world.\") # try running this statement by clicking the play button next to this cell of code.\n",
        "\n",
        "# You can also edit this code and re-run it. Try this now. Make this block print your name instead of hello world and run it."
      ],
      "execution_count": null,
      "outputs": []
    },
    {
      "cell_type": "markdown",
      "metadata": {
        "id": "lBsQYbUd8S5Q"
      },
      "source": [
        "Each line of Python code (often referred to as a **statement**) tells the interpreter what to do.\n",
        "This could be:"
      ]
    },
    {
      "cell_type": "code",
      "metadata": {
        "id": "t0CZRA659prF"
      },
      "source": [
        "# Output something\n",
        "print(\"Hello world.\")"
      ],
      "execution_count": null,
      "outputs": []
    },
    {
      "cell_type": "code",
      "metadata": {
        "id": "prsQdmya-g9Q"
      },
      "source": [
        "# Define a new variable and assign it a value or object:\n",
        "x = 2\n",
        "print(x)"
      ],
      "execution_count": null,
      "outputs": []
    },
    {
      "cell_type": "code",
      "metadata": {
        "id": "Fn5cBe5f-gsV"
      },
      "source": [
        "# Set the value (right hand side of equal sign) of a variable or object (left hand side) to something:\n",
        "y = 1\n",
        "x = y + 2\n",
        "print(x)"
      ],
      "execution_count": null,
      "outputs": []
    },
    {
      "cell_type": "code",
      "metadata": {
        "id": "rWekr359-gYX"
      },
      "source": [
        "# Enter or pass over a sub-block of code based on a condition:\n",
        "if x>5:\n",
        "  print(\"x is greater than 5\") # this line will only be executed if the condition (x>2) evaluates to True. Also notice the indent level.\n",
        "\n",
        "# Try changing the condition so that it will evaluate to False and re-run it."
      ],
      "execution_count": null,
      "outputs": []
    },
    {
      "cell_type": "markdown",
      "source": [
        "<hr/>\n",
        "<img src=\"https://drive.google.com/uc?id=1sk8CSP26YY7sfyzmHGFXncuNRujkvu9v\" align=\"left\">\n",
        "\n",
        "<font size=3 color=\"darkred\">Define variables</font>\n",
        "\n",
        "<font>\n",
        "Try to define some variables with different types. What kind of things can you \"store\" as a variable? Try messing with the `if block` code above by changing the value of x. Will the indented part still execute?\n",
        "</font>"
      ],
      "metadata": {
        "id": "fCMaZJyOIiqJ"
      }
    },
    {
      "cell_type": "code",
      "source": [
        "# Try it out\n",
        "\n",
        "\n"
      ],
      "metadata": {
        "id": "LvIOMEnOPUmm"
      },
      "execution_count": null,
      "outputs": []
    },
    {
      "cell_type": "markdown",
      "source": [
        "<hr/>"
      ],
      "metadata": {
        "id": "ruTC-ccLPb69"
      }
    },
    {
      "cell_type": "markdown",
      "metadata": {
        "id": "1AMX-sR9-5nj"
      },
      "source": [
        "Every object in Python has a **type** that determines what kind of things the object can \"do\".  There are a whole bunch of types, but they come in two varieties:\n",
        "1.  Scalar Types - these are the atoms of Python in the sense that they have no internal structure (sorry high energy physics!).  There are only four <font color=\"red\">scalar types</font>:\n",
        " - **int** - to store integer numbers\n",
        " - **float** - to store floating point numbers\n",
        " - **bool** - to store True or False values\n",
        " - **None** - to store an special \"nothing\" object\n",
        "2.  <font color=\"red\">Non-scalar Types</font>  - these typically have some substructure and are more \"sophisticated\".\n",
        " - Most things are non-scalar types and there are many of these. You can even create your own types (more on this when we talk about Classes and Objects)\n",
        "\n",
        "You can check the type of an object with the `type()` function:\n"
      ]
    },
    {
      "cell_type": "code",
      "metadata": {
        "id": "xtsUK_-PBIN3"
      },
      "source": [
        "type(x)\n",
        "\n",
        "# Now try defining some other variable and checking the type here."
      ],
      "execution_count": null,
      "outputs": []
    },
    {
      "cell_type": "markdown",
      "metadata": {
        "id": "Yle1Fx2DA-Gj"
      },
      "source": [
        "Python also has **operators** which are things that operate on objects\n",
        " - e.g., + , - , * , / , % , ** , == , != , > , < , <= , <= , etc.\n",
        " - You can even create your own operators, but we won't need to do this.\n",
        "\n",
        "We can combine **objects** and **operators** to form **expressions** -- combinations that \"express\" something. Take this example:"
      ]
    },
    {
      "cell_type": "code",
      "metadata": {
        "id": "dFNuOR67Ap5j"
      },
      "source": [
        "x = \"hello\"\n",
        "y = \" world.\"\n",
        "x + y # this is an expression that will evaluate to an object, in this case a string with value \"Hello world.\""
      ],
      "execution_count": null,
      "outputs": []
    },
    {
      "cell_type": "markdown",
      "source": [
        "The last line `x+y` is an expression that combines two strings (`x` and `y`) together by using the `+` operator. The resulting expression is a new string that stores the result of the operation: `\"Hello world.\"` What happens to this result? What if we want to do something with it later? Unfortunately, we can't access it anymore because we have not assigned it to a variable. What we want is a statement that stores the result in new variable, like this:"
      ],
      "metadata": {
        "id": "Czp1ucdn6A1c"
      }
    },
    {
      "cell_type": "code",
      "source": [
        "z = x + y # This statement stores the expression x+y in the new variable z"
      ],
      "metadata": {
        "id": "ISeHu1dQ7L2u"
      },
      "execution_count": null,
      "outputs": []
    },
    {
      "cell_type": "markdown",
      "metadata": {
        "id": "ti9XRd5HBYps"
      },
      "source": [
        "Let's talk about variables. Variables are a convenient way to assign a name to an object.\n",
        "\n",
        "An assignment statement like the one above associates a name (on the left hand side of the equal sign) with the object on the right hand side. \n",
        "\n",
        "<font color=\"red\">A variable is just a name that is \"bound\" to an object.</font> In the picture below there is python code on the left side and a diagram illustrating binding on the right side. The binding of names to objects is shown as black arrows from the name to the object that is stored somewhere in your computer's memory:\n",
        "![R01_variable_binding.png](https://drive.google.com/uc?id=1XMLHYigPWGTiRQd98bVZfhu2te5m5bXQ)"
      ]
    },
    {
      "cell_type": "markdown",
      "source": [
        "A <font size=4 color=\"red\">very important</font> thing to pay attention to is the difference between `=` (one equal sign) and `==` (two equal signs). In Python, we use one equal sign to assigning a value to a variable, like this:  `var = 5`. When we want to check whether two things are equal to one another, we use two equal signs, like this expression: `gpa==4.0` which would return `True` if the variable `gpa` was equal to `4.0` and would return `False` if it was not. In this way, **the two equal signs are like a question -- Does the thing on the left equal the thing on the right?**"
      ],
      "metadata": {
        "id": "DfQUyjr7gKMg"
      }
    },
    {
      "cell_type": "markdown",
      "metadata": {
        "id": "H9ZS1HCSCzNm"
      },
      "source": [
        "Now let's try playing around."
      ]
    },
    {
      "cell_type": "markdown",
      "metadata": {
        "id": "qQEQ83MNDHIu"
      },
      "source": [
        "# Working with simple variables and expressions"
      ]
    },
    {
      "cell_type": "code",
      "metadata": {
        "id": "sn3NxHvUDAi6"
      },
      "source": [
        "# Simple Variables:\n",
        "#   Python is 'dynamically typed', which is a fancy way of saying that the \n",
        "#   type of an object is not officially declared when you set the object to a value:\n",
        "someVariable = None # a special 'None' type -- we'll talk more about it later.\n",
        "someVariable = 9 # an integer type \n",
        "someVariable = 9.0 # a float type\n",
        "someVariable = True # a boolean type\n",
        "someVariable = \"This is a string\"  # a string type\n",
        "\n",
        "# You can check the type of an object like this:\n",
        "type(someVariable)\n",
        "\n",
        "#   You can read more about types in Python here:\n",
        "# https://pythonconquerstheuniverse.wordpress.com/2009/10/03/static-vs-dynamic-typing-of-programming-languages/"
      ],
      "execution_count": null,
      "outputs": []
    },
    {
      "cell_type": "code",
      "metadata": {
        "id": "E2UEgJkzDSyl"
      },
      "source": [
        "# Some simple manipulations\n",
        "x = 9\n",
        "y = 1\n",
        "z = x + y\n",
        "print(z) "
      ],
      "execution_count": null,
      "outputs": []
    },
    {
      "cell_type": "code",
      "metadata": {
        "id": "Oku6tMFBDfmF"
      },
      "source": [
        "x = 'Hello'\n",
        "y = ' World'\n",
        "z = x + y\n",
        "print(z)"
      ],
      "execution_count": null,
      "outputs": []
    },
    {
      "cell_type": "code",
      "metadata": {
        "id": "G9ETfUGPDfVG"
      },
      "source": [
        "x = \"Hello\"\n",
        "y = 9\n",
        "z = x + y # This will throw a TypeError, because the '+' operator doesn't know how to add a string to an integer"
      ],
      "execution_count": null,
      "outputs": []
    },
    {
      "cell_type": "code",
      "metadata": {
        "id": "FWwSnoeOTHL3"
      },
      "source": [
        "z = x + str(y) # This will work because we told Python to convert y to a string type first\n",
        "print(z) "
      ],
      "execution_count": null,
      "outputs": []
    },
    {
      "cell_type": "code",
      "metadata": {
        "id": "tMB8dHmxDfDj"
      },
      "source": [
        "x = 9\n",
        "y = 2\n",
        "z = x*y\n",
        "print(z)"
      ],
      "execution_count": null,
      "outputs": []
    },
    {
      "cell_type": "code",
      "metadata": {
        "id": "rXrt89DrDprq"
      },
      "source": [
        "x = 9\n",
        "y = 2\n",
        "z = x**y # x**y means \"x raised to the power of y\" (in other languages it is often expressed as x^y)\n",
        "print(z)"
      ],
      "execution_count": null,
      "outputs": []
    },
    {
      "cell_type": "markdown",
      "source": [
        "<hr/>\n",
        "<img src=\"https://drive.google.com/uc?id=1sk8CSP26YY7sfyzmHGFXncuNRujkvu9v\" align=\"left\">\n",
        "\n",
        "<font size=3 color=\"darkred\">Use Operators to Combine Variables</font>\n",
        "\n",
        "<font>\n",
        "Write an expression for the volume of a cylinder (height times pi times radius squared) using variables for the radius and height. You can use the value 3.14 for pi. Make two cylinders of two differents heights and radii and test whether their volumes are equal or if one is bigger than the other. What else could you express using variables and operators? \n",
        "</font>\n"
      ],
      "metadata": {
        "id": "KrzF0aQmP-yP"
      }
    },
    {
      "cell_type": "code",
      "source": [
        "# Try it out\n",
        "\n"
      ],
      "metadata": {
        "id": "ofqSaeKBP-yY"
      },
      "execution_count": null,
      "outputs": []
    },
    {
      "cell_type": "markdown",
      "source": [
        "<hr/>"
      ],
      "metadata": {
        "id": "lmjug5u0P-yY"
      }
    },
    {
      "cell_type": "markdown",
      "metadata": {
        "id": "YijYhok2KpfL"
      },
      "source": [
        "# Boolean Logic in Python"
      ]
    },
    {
      "cell_type": "markdown",
      "metadata": {
        "id": "fE3OZThvxH6L"
      },
      "source": [
        "\n",
        "\n",
        "Python also supports boolean types and expressions:"
      ]
    },
    {
      "cell_type": "code",
      "metadata": {
        "id": "1dKApkXxx0fT"
      },
      "source": [
        "someBool = True\n",
        "print(someBool)\n",
        "print(not(someBool))"
      ],
      "execution_count": null,
      "outputs": []
    },
    {
      "cell_type": "code",
      "metadata": {
        "id": "T3phVNoByPR0"
      },
      "source": [
        "someOtherBool = False\n",
        "print(someBool and someOtherBool)\n",
        "print(someBool or someOtherBool)"
      ],
      "execution_count": null,
      "outputs": []
    },
    {
      "cell_type": "markdown",
      "metadata": {
        "id": "_41gu9SA2Oth"
      },
      "source": [
        "And of course, we can use the typical comparison operators, which return booleans:"
      ]
    },
    {
      "cell_type": "code",
      "metadata": {
        "id": "akJWhVtE2Vxf"
      },
      "source": [
        "x = 10\n",
        "y = 5\n",
        "z = 3\n",
        "x > y\n",
        "(x>y) and (y<z)"
      ],
      "execution_count": null,
      "outputs": []
    },
    {
      "cell_type": "markdown",
      "source": [
        "A <font size=4 color=\"red\">very important</font> thing to pay attention to is the difference between `=` (one equal sign) and `==` (two equal signs). In Python, we use one equal sign to assigning a value to a variable, like this:  `var = 5`. When we want to check whether two things are equal to one another, we use two equal signs, like this expression: `gpa==4.0` which would return `True` if the variable `gpa` was equal to the `4.0` and would return `False` if it was not."
      ],
      "metadata": {
        "id": "7zSOolK3ea0B"
      }
    },
    {
      "cell_type": "markdown",
      "metadata": {
        "id": "dc9ovPhZ2ozB"
      },
      "source": [
        "<font size=4>A Brief Aside about `&`,`|`, `and`, `or`</font>\n",
        "<hr />\n",
        "\n",
        "One common point of confusion is the difference between the keywords ``and`` and ``or`` on one hand, and the operators ``&`` and ``|`` on the other hand.\n",
        "When would you use one versus the other?\n",
        "\n",
        "The difference is this: ``and`` and ``or`` gauge the truth or falsehood of an *entire object*, while ``&`` and ``|`` refer to *bits within each object*.\n",
        "\n",
        "When you use ``and`` or ``or``, it's equivalent to asking Python to treat the object as a single Boolean entity. \n",
        "\n",
        "When you use ``&`` or ``|``, its equivalent to operating on the actual bits of an object. \n",
        "\n",
        "We can show whats happening when we use bitwise logic by using ``bin()`` which returns the binary representation of an integer:"
      ]
    },
    {
      "cell_type": "code",
      "metadata": {
        "id": "oHA1I_g93D5M"
      },
      "source": [
        "print(bin(10))\n",
        "print(bin(12))\n",
        "print(bin(10&12))\n",
        "print(bin(10|12))"
      ],
      "execution_count": null,
      "outputs": []
    },
    {
      "cell_type": "markdown",
      "metadata": {
        "id": "UAZWZ0XY4EHo"
      },
      "source": [
        "When working with logical expression in python, it is usually the case that we will want to use ``and``, ``or``, ``not`` instead of bitwise operations.\n",
        "\n",
        "The only exception to this is when we are working with numpy arrays (which we'll talk about in a few lectures from now), where ``&`` and ``|`` are used by numpy to operate on logical expressions across an array (i.e., \"inside\" of an object).\n",
        "<hr />"
      ]
    },
    {
      "cell_type": "markdown",
      "metadata": {
        "id": "A9jm6w1D0S4D"
      },
      "source": [
        "# Collections"
      ]
    },
    {
      "cell_type": "markdown",
      "metadata": {
        "id": "4Kce9dMJECyW"
      },
      "source": [
        "Python has some very useful objects that are different ways of collecting other objects. These include:\n",
        "* lists\n",
        "* tuples\n",
        "* dictionaries\n",
        "* some others\n",
        "\n",
        "Let's have a look at some of these now:"
      ]
    },
    {
      "cell_type": "markdown",
      "metadata": {
        "id": "Qtjz_lTD0OzH"
      },
      "source": [
        "## Lists"
      ]
    },
    {
      "cell_type": "markdown",
      "metadata": {
        "id": "l6-sqZKYDomU"
      },
      "source": [
        "Lists store a list of objects. You can add or remove objects from this list after you've created it. You can access a particular object with its index (an integer that reflects the order that it appears in the list)"
      ]
    },
    {
      "cell_type": "markdown",
      "source": [
        "**<font size=4>Creating Lists</font>**"
      ],
      "metadata": {
        "id": "hPY_oxYs_rvR"
      }
    },
    {
      "cell_type": "code",
      "metadata": {
        "id": "7xClOWqeEdb4"
      },
      "source": [
        "# Lists:\n",
        "someList = list()  # make a new list\n",
        "print(someList)\n"
      ],
      "execution_count": null,
      "outputs": []
    },
    {
      "cell_type": "code",
      "metadata": {
        "id": "Ki8hGAfiQMPy"
      },
      "source": [
        "someList.append(\"first\") # append the string \"First\" to the end of the list\n",
        "print(someList)"
      ],
      "execution_count": null,
      "outputs": []
    },
    {
      "cell_type": "code",
      "metadata": {
        "id": "4qty-HOfQOmt"
      },
      "source": [
        "someList.append(\"Second\") # append the string \"Second\" to the end of the list\n",
        "print(someList)"
      ],
      "execution_count": null,
      "outputs": []
    },
    {
      "cell_type": "code",
      "metadata": {
        "id": "t4dM4AXEQRSA"
      },
      "source": [
        "someList.append(3) # append the integer 3 to the end of the list\n",
        "print(someList)"
      ],
      "execution_count": null,
      "outputs": []
    },
    {
      "cell_type": "code",
      "metadata": {
        "id": "8DQY71JD8ZXJ"
      },
      "source": [
        "# We could have done the above four lines in a single statement:\n",
        "someList = [\"first\", \"Second\", 3]\n",
        "print(someList) # print out the whole list"
      ],
      "execution_count": null,
      "outputs": []
    },
    {
      "cell_type": "markdown",
      "source": [
        "**<font size=4>Indexing Lists</font>**"
      ],
      "metadata": {
        "id": "Vw33GSiF_cag"
      }
    },
    {
      "cell_type": "code",
      "metadata": {
        "id": "IHWYP24nQXE1"
      },
      "source": [
        "print(someList[0]) # get the first object in the list. Notice the index is 0, not 1\n"
      ],
      "execution_count": null,
      "outputs": []
    },
    {
      "cell_type": "code",
      "metadata": {
        "id": "_NkzEezEQZfs"
      },
      "source": [
        "print(someList[1]) # get the second object in the list."
      ],
      "execution_count": null,
      "outputs": []
    },
    {
      "cell_type": "code",
      "metadata": {
        "id": "ZyJXeBqMQanI"
      },
      "source": [
        "print(someList[2]) # get the third object in the list.\n",
        "\n",
        "# notice that the type of objects in a list don't all have to match.\n",
        "\n",
        "# try playing around by changing the above block (the one that starts with \"# Lists# up until here)."
      ],
      "execution_count": null,
      "outputs": []
    },
    {
      "cell_type": "code",
      "metadata": {
        "id": "kX105XxySNhd"
      },
      "source": [
        "someList[3] # this will throw an IndexError, because we haven't added a 4th object to the list yet"
      ],
      "execution_count": null,
      "outputs": []
    },
    {
      "cell_type": "markdown",
      "metadata": {
        "id": "iSWuNJBPFEY-"
      },
      "source": [
        "What if you want only some of the items in the list (a **slice** of the list)?\n",
        "Then you can use `:`, which is the **slice operator**.\n",
        "You can specify the start and end integer index of the slice using the format `[start:end]` like this:"
      ]
    },
    {
      "cell_type": "code",
      "metadata": {
        "id": "iQwKzhxMEpYI"
      },
      "source": [
        "someList[0:2]  # get the items corresponding to indices 0,1 (i.e., start at index 0, stop before index 2)"
      ],
      "execution_count": null,
      "outputs": []
    },
    {
      "cell_type": "markdown",
      "source": [
        "You can omit either the start of the end of a slice (but not both). If you omit the start, it will start the slice from the beginning of the list. If you omit the end, the slice will go until the end of the list."
      ],
      "metadata": {
        "id": "nkfFTZJb9XlV"
      }
    },
    {
      "cell_type": "code",
      "metadata": {
        "id": "1cfHcEQOSkd6"
      },
      "source": [
        "someList[:3] # get all the items up to but not including index 3"
      ],
      "execution_count": null,
      "outputs": []
    },
    {
      "cell_type": "code",
      "metadata": {
        "id": "u9TyvPIzSnCS"
      },
      "source": [
        "someList[1:] # get all the items starting at the index 1 until the end of the list"
      ],
      "execution_count": null,
      "outputs": []
    },
    {
      "cell_type": "markdown",
      "metadata": {
        "id": "sY8ennxHFOEs"
      },
      "source": [
        "The \"in\" keyword allows you to determine if an object is in a list:"
      ]
    },
    {
      "cell_type": "code",
      "metadata": {
        "id": "nZeoUMphEvyK"
      },
      "source": [
        "\"Second\" in someList # this will return True because the object \"Second\" is in someList"
      ],
      "execution_count": null,
      "outputs": []
    },
    {
      "cell_type": "code",
      "metadata": {
        "id": "vJFpk6idSZb4"
      },
      "source": [
        "\"test\" in someList # this will return False because the object \"test\" is not in someList"
      ],
      "execution_count": null,
      "outputs": []
    },
    {
      "cell_type": "code",
      "metadata": {
        "id": "SKJozL9_SeGc"
      },
      "source": [
        "# Define a new list with some elements in it and test out using \"in\"\n",
        "\n",
        "\n"
      ],
      "execution_count": null,
      "outputs": []
    },
    {
      "cell_type": "markdown",
      "source": [
        "**<font size=4>Altering Lists</font>**"
      ],
      "metadata": {
        "id": "tXg6vK1R_1r5"
      }
    },
    {
      "cell_type": "markdown",
      "metadata": {
        "id": "AreNXpzCFVBG"
      },
      "source": [
        "List are \"mutable\", which means you can change them after you have created them.\n",
        "Lists grow and shrink by adding (or removing) objects to the end.  \n",
        "\n",
        "You use `.append()` to add to the end, `.insert()` to add at a particular position, and `.pop()` to get and remove the object at the end (or at any position if you add the index as an argument):"
      ]
    },
    {
      "cell_type": "code",
      "metadata": {
        "id": "JmjjFAHpEySx"
      },
      "source": [
        "someList.append('Third') # this will add the string \"Third\" to the end of the list\n",
        "print(someList)"
      ],
      "execution_count": null,
      "outputs": []
    },
    {
      "cell_type": "code",
      "metadata": {
        "id": "vBU9vPBWSzQB"
      },
      "source": [
        "someList.pop() # get the last object and remove it from the list\n",
        "print(someList) # notice that the 3 isn't in the list anymore"
      ],
      "execution_count": null,
      "outputs": []
    },
    {
      "cell_type": "code",
      "metadata": {
        "id": "ywwxXlpZS3Jj"
      },
      "source": [
        "# you can also pop things from any indexed point in the list by adding an argument to the pop() call:\n",
        "someList.pop(0) # get the 0th indexed item in the list and remove it from the list\n",
        "print(someList) # notice that now 'Second' is the only item in the list and no longer the actually second (index of 1)  "
      ],
      "execution_count": null,
      "outputs": []
    },
    {
      "cell_type": "markdown",
      "metadata": {
        "id": "9pUWNwJmXmKt"
      },
      "source": [
        "If you want to remove an item from a list by its value instead of by its index, you can use the `.remove()` method. Because a list can hold duplicate values, this will only remove the first instance that it finds of that value."
      ]
    },
    {
      "cell_type": "code",
      "metadata": {
        "id": "jEg5BL3ZYGRk"
      },
      "source": [
        "someList.remove('Second')\n",
        "print(someList)"
      ],
      "execution_count": null,
      "outputs": []
    },
    {
      "cell_type": "code",
      "metadata": {
        "id": "ua5cmvmAYJZy"
      },
      "source": [
        "someList.insert(1,\"inserted as the 2nd element\") # you an insert an element at a particular index position like this."
      ],
      "execution_count": null,
      "outputs": []
    },
    {
      "cell_type": "code",
      "metadata": {
        "id": "mWYkaB7KSsxI"
      },
      "source": [
        "# Define your own list and add some elements to it. Then remove some by index and by value."
      ],
      "execution_count": null,
      "outputs": []
    },
    {
      "cell_type": "markdown",
      "metadata": {
        "id": "0sKZk43mFtkX"
      },
      "source": [
        "The function `len()` returns the length of a list:"
      ]
    },
    {
      "cell_type": "code",
      "metadata": {
        "id": "IAqq_kFlFBW-"
      },
      "source": [
        "someListLength = len(someList) \n",
        "print(someListLength)\n",
        "type(someListLength) # notice that the type of someListLength is an integer, because the len() function returns an integer"
      ],
      "execution_count": null,
      "outputs": []
    },
    {
      "cell_type": "markdown",
      "metadata": {
        "id": "sruVjeF5Gybk"
      },
      "source": [
        "You can also combine or \"concatenate\" lists together using the \"+\" operator:"
      ]
    },
    {
      "cell_type": "code",
      "metadata": {
        "id": "0Tfp9mQvG5jC"
      },
      "source": [
        "bigList = [\"First\"] + someList \n",
        "# above the square brackets tell Python we are making a new list with only one element \"First\",\n",
        "#  then concatenating it with someList using the \"+\" operator\n",
        "print(bigList)"
      ],
      "execution_count": null,
      "outputs": []
    },
    {
      "cell_type": "markdown",
      "metadata": {
        "id": "q28HeVvGHAjg"
      },
      "source": [
        "There is a nice function range(start,step,stop) that can be used to make a lists of increasing or decreasing integers. The step argument is optional (and will default to 1 if not specified). \n",
        "\n",
        "Range used to actually return a list object, but in recent python versions, range became its own type. But we can still use it to make a list by converting it to a list with the `list()` function:"
      ]
    },
    {
      "cell_type": "code",
      "metadata": {
        "id": "70zHAYiOHScE"
      },
      "source": [
        "countUpList = list(range(0,10)) # generate a list of integers increasing by 1 from 0 and up to (but not including) 10\n",
        "print(countUpList)"
      ],
      "execution_count": null,
      "outputs": []
    },
    {
      "cell_type": "code",
      "metadata": {
        "id": "loUYbOZfH7AD"
      },
      "source": [
        "countUpByTwoList = list(range(0,10,2)) # here each next integer in the list will be 2 more than the last\n",
        "print(countUpByTwoList)"
      ],
      "execution_count": null,
      "outputs": []
    },
    {
      "cell_type": "code",
      "metadata": {
        "id": "jiisrsF7Ihbw"
      },
      "source": [
        "countDownList = list(range(10,0,-1)) # generate a list of integers increasing by 1 from 0 and up to (but not including) 10\n",
        "print(countDownList)"
      ],
      "execution_count": null,
      "outputs": []
    },
    {
      "cell_type": "markdown",
      "metadata": {
        "id": "mbjlCBsEIBnV"
      },
      "source": [
        "In most of the places were we would want to use `range()` **we won't need to convert it to a list** -- for example, in a \"for loop\" to loop a certain number of times and have a variable that tracks which iteration we are in.  We'll see an example of this later when we talk about loops."
      ]
    },
    {
      "cell_type": "markdown",
      "source": [
        "<hr/>\n",
        "<img src=\"https://drive.google.com/uc?id=1sk8CSP26YY7sfyzmHGFXncuNRujkvu9v\" align=\"left\">\n",
        "\n",
        "<font size=3 color=\"darkred\">Make and Alter Lists</font>\n",
        "\n",
        "<font>\n",
        "Using the above as a reference, make a list based on something going on in your life such as: books you love, friends you know, classes you're taking, or really anything. Do these items have a \"natural order\"? (it's okay if they don't, but if they do, put them in the list in that order). Now try experimenting with different things: \n",
        "</font>\n",
        "\n",
        "    -> Change the order of the things in the list.\n",
        "    -> Make two separate lists and combine them into one.\n",
        "    -> Take something out of the middle of the list.\n",
        "    -> Change the thing in the 3rd position in the list.\n"
      ],
      "metadata": {
        "id": "gZmjHbSATsgG"
      }
    },
    {
      "cell_type": "code",
      "source": [
        "# Try it out\n",
        "\n"
      ],
      "metadata": {
        "id": "izh_IUokTsgJ"
      },
      "execution_count": null,
      "outputs": []
    },
    {
      "cell_type": "markdown",
      "source": [
        "<hr/>"
      ],
      "metadata": {
        "id": "Quy0xN-lTsgJ"
      }
    },
    {
      "cell_type": "markdown",
      "metadata": {
        "id": "9yuzcjMv0kbF"
      },
      "source": [
        "## Tuples"
      ]
    },
    {
      "cell_type": "markdown",
      "metadata": {
        "id": "OZE1e3jJInb6"
      },
      "source": [
        "Tuples are kind of similar to lists, because:\n",
        " - they can hold an arbitrary number of objects of arbitrary types\n",
        " - you can index them the same way you would index lists\n",
        "\n",
        "But, they are also different, because they are **immutable**. This means:\n",
        " - they cannot be changed after being created\n",
        " - you can't grow, shrink or add or remove elements\n",
        " - you can't change the value of one of the elements\n",
        "\n",
        "But that's okay because we already have lists and we can always make a new tuple from an existing one."
      ]
    },
    {
      "cell_type": "code",
      "metadata": {
        "id": "Pe8YgOd6JXrc"
      },
      "source": [
        "someTuple = (1, \"two\", 3.0) # make a new tuple name someTuple with the values 1, \"two\", and 3.0\n",
        "print(someTuple)"
      ],
      "execution_count": null,
      "outputs": []
    },
    {
      "cell_type": "code",
      "metadata": {
        "id": "fxMkVShhJcA8"
      },
      "source": [
        "someTuple[0] # get the first (index of 0) item of the tuple"
      ],
      "execution_count": null,
      "outputs": []
    },
    {
      "cell_type": "code",
      "metadata": {
        "id": "tIDX-2SJ8vnN"
      },
      "source": [
        "someTuple[1] # get the second (index of 1) item of the tuple"
      ],
      "execution_count": null,
      "outputs": []
    },
    {
      "cell_type": "code",
      "metadata": {
        "id": "PEvX9aX-8xKr"
      },
      "source": [
        "someTuple[2] # get the second (index of 1) item of the tuple"
      ],
      "execution_count": null,
      "outputs": []
    },
    {
      "cell_type": "code",
      "metadata": {
        "id": "qQHbDKGaJg__"
      },
      "source": [
        "someTuple[3] # this will throw and IndexError, because we defined the tuple to have only 3 elements with indices 0,1,2"
      ],
      "execution_count": null,
      "outputs": []
    },
    {
      "cell_type": "code",
      "metadata": {
        "id": "-o4YOTvcJjVr"
      },
      "source": [
        "someTuple[0] = \"one\" # this will throw a type error saying that the 'tuple' object does not support item assignment"
      ],
      "execution_count": null,
      "outputs": []
    },
    {
      "cell_type": "markdown",
      "metadata": {
        "id": "YU-MI1j_0pbp"
      },
      "source": [
        "## Dictionaries"
      ]
    },
    {
      "cell_type": "markdown",
      "metadata": {
        "id": "7cXeQQYkJrgk"
      },
      "source": [
        "Dictionaries store pairs of objects as keys and values. \n",
        "\n",
        "* keys can be any object that is \"hashable\" --  if you don't know what that means, don't worry about it for now\n",
        "* values can be any object\n",
        "\n",
        "In a dictionary, every key has exactly one value associated with it. \n",
        "\n",
        "You can think of the key as the thing that you use to look up the value that you want. "
      ]
    },
    {
      "cell_type": "markdown",
      "source": [
        "**<font size=4>Creating Dictionaries and Filling them with (Key,Value) pairs</font>**"
      ],
      "metadata": {
        "id": "MKA7ZNq-AI9P"
      }
    },
    {
      "cell_type": "code",
      "metadata": {
        "id": "lOH1FbQAKKqB"
      },
      "source": [
        "someDict = dict() # make a new dictionary\n",
        "print(someDict) # this is an empty dictionary, so this will just print out some empty curly brackets"
      ],
      "execution_count": null,
      "outputs": []
    },
    {
      "cell_type": "code",
      "metadata": {
        "id": "2pqQ9MGjKPxq"
      },
      "source": [
        "someDict[\"Dylan\"] = \"an awesome guy\" # Here \"Dylan\" is the key; \" an awesome guy\" is value associated with that key\n",
        "someDict[\"Kate\"] = \"an awesome wife\" # Here \"Kate\" is the key; \" an awesome wife\" is the value associated with that key\n",
        "someDict[\"Echo\"] = \"a cute silver lab\"\n",
        "print(someDict)\n",
        "\n",
        "# Here I used strings as both the keys and the values, but you try experimenting with your own keys and values of different types (integers, floats, bools, etc.)"
      ],
      "execution_count": null,
      "outputs": []
    },
    {
      "cell_type": "markdown",
      "metadata": {
        "id": "PsrtYWziKpJp"
      },
      "source": [
        "You'll notice in the above that we **use the square brackets `[]` to add a new `(key,value)` pair to a dictionary**. Later, we will see that they  are also used to get the value associated with a particular key.\n",
        "\n",
        "Above, we made a new dictionary and added things to it one line at a time. But you can actually **define an entire dictionary with keys and values all in one line**, like this:"
      ]
    },
    {
      "cell_type": "code",
      "metadata": {
        "id": "sJtZiThkKZzD"
      },
      "source": [
        "someOtherDict = {\"Dylan\":\"an awesome guy\", \"Kate\":\"an awesome wife\", \"Echo\":\"a cute silver lab\"}  # notice the use of the curly brackets, ':' and ','\n",
        "print(someOtherDict)"
      ],
      "execution_count": null,
      "outputs": []
    },
    {
      "cell_type": "markdown",
      "metadata": {
        "id": "xkE_uj9eK4j6"
      },
      "source": [
        "You can re-assign the value for a given key at any point:"
      ]
    },
    {
      "cell_type": "code",
      "metadata": {
        "id": "5XV-YtqSK-p7"
      },
      "source": [
        "print(someDict)\n",
        "someDict[\"Dylan\"] = \"a terrible husband\" # You can re-assign the value associated with an existing key\n",
        "print(someDict)"
      ],
      "execution_count": null,
      "outputs": []
    },
    {
      "cell_type": "markdown",
      "metadata": {
        "id": "CxxmzE3cLGIu"
      },
      "source": [
        "If you want to **look up the value for a given key**, you just use the square brackets:"
      ]
    },
    {
      "cell_type": "code",
      "metadata": {
        "id": "xbibVPu_LKeI"
      },
      "source": [
        "print(someDict[\"Dylan\"]) # get the value associated with the key \"Dylan\"\n",
        "print(someDict[\"Kate\"]) # get the value associated with the key \"Kate\""
      ],
      "execution_count": null,
      "outputs": []
    },
    {
      "cell_type": "code",
      "metadata": {
        "id": "RdTLouOaLS9J"
      },
      "source": [
        "someDict[\"Ooblek the Goblin\"] # This will throw an KeyError because we didn't associate a value with the key \"Ooblek the Goblin\""
      ],
      "execution_count": null,
      "outputs": []
    },
    {
      "cell_type": "markdown",
      "metadata": {
        "id": "4b1AhULOLZGL"
      },
      "source": [
        "If you want to remove an item from a dictionary, you can use pop() as with lists, but you must supply the key of the item you want to remove:"
      ]
    },
    {
      "cell_type": "code",
      "metadata": {
        "id": "Y3NfLBg0Lokg"
      },
      "source": [
        "someDict.pop() # This will throw a TypeError, because the dictionary's version of pop() expects an argument"
      ],
      "execution_count": null,
      "outputs": []
    },
    {
      "cell_type": "code",
      "metadata": {
        "id": "j-XN9OgMLqjt"
      },
      "source": [
        "someDict.pop(\"Dylan\") # this will remove the key,value pair associated with the key \"Dylan\" from the dictionary"
      ],
      "execution_count": null,
      "outputs": []
    },
    {
      "cell_type": "markdown",
      "metadata": {
        "id": "EqM4P7YwLv8p"
      },
      "source": [
        "You can get all the keys or all the values or all the `(key,value)` pairs in a dictionary by using the `.keys()` or `.values()` or `.items()` \"methods\":\n",
        "\n",
        "<font size=2>note: a method is like a function that \"belongs\" to an object -- we'll talk more about this later when we talk about classes and objects</font>"
      ]
    },
    {
      "cell_type": "code",
      "metadata": {
        "id": "U8Kv9D0RL8_L"
      },
      "source": [
        "someKeys = someDict.keys()\n",
        "print(someKeys)\n",
        "\n",
        "someValues = someDict.values() # returns the values of someDict as a list\n",
        "print(someValues)\n",
        "\n",
        "someItems = someDict.items()\n",
        "print(someItems)\n",
        "# Try converting someKeys to a list by wrapping it with the list() function"
      ],
      "execution_count": null,
      "outputs": []
    },
    {
      "cell_type": "markdown",
      "metadata": {
        "id": "zyjU44FIMQ4-"
      },
      "source": [
        "If you want to know whether a particular object is used as a key in a dictionary, or if a particular object is stored as a value in a dictionary, you can use the `in` keyword:"
      ]
    },
    {
      "cell_type": "code",
      "metadata": {
        "id": "qqmeOWHmMb20"
      },
      "source": [
        "\"Kate\" in someDict.keys() # returns True, since \"Kate\" is in someDict.keys()"
      ],
      "execution_count": null,
      "outputs": []
    },
    {
      "cell_type": "markdown",
      "source": [
        "<hr/>\n",
        "<img src=\"https://drive.google.com/uc?id=1sk8CSP26YY7sfyzmHGFXncuNRujkvu9v\" align=\"left\">\n",
        "\n",
        "<font size=3 color=\"darkred\">Make and Alter Dictionaries</font>\n",
        "\n",
        "<font>\n",
        "What kind of things in your life fit the structure of a dictionary? Are there things you can think of that have a natural unique \"key\" associated with a unique \"value\"? As you did with lists, make a dictionary based on something in your life. This could be unqiue relationships you have with people in your life (e.g., boy/girlfriend/partner, mother, bestie). Now try experimenting with the dictionary: \n",
        "</font>\n",
        "\n",
        "    -> Add a new key,value pair into your dictionary.\n",
        "    -> Remove a key,value pair from your dictionary.\n",
        "    -> Check if some key is in your dictionary.\n",
        "    -> Change the value associated with a key in your dictionary.\n",
        "    "
      ],
      "metadata": {
        "id": "SYSpx2T-XEaV"
      }
    },
    {
      "cell_type": "code",
      "source": [
        "# Try it out\n"
      ],
      "metadata": {
        "id": "Kht_tXt4XEaX"
      },
      "execution_count": null,
      "outputs": []
    },
    {
      "cell_type": "markdown",
      "source": [
        "<hr/>"
      ],
      "metadata": {
        "id": "IFyXRnukXEaZ"
      }
    },
    {
      "cell_type": "markdown",
      "metadata": {
        "id": "SHTCzI5T030y"
      },
      "source": [
        "# Working with strings"
      ]
    },
    {
      "cell_type": "markdown",
      "metadata": {
        "id": "czxABMOLK1y2"
      },
      "source": [
        "Strings are pervasive in any programming endeavor, particularly when you are processing data.  Python provides several functions and methods to make working with strings easier.\n",
        "\n",
        "Some of the most useful string methods are:\n",
        " - square brackets `[]` and slicing to index the letters at each position in a string\n",
        " - strip() - remove leading or trailing characters from a string\n",
        " - replace() - replace the occurence of a substring inside a string with another substring\n",
        " - join() - join the elements of a list together as a string with a specificed separating substring.\n",
        " - split() - split up a string by a separating substring and return a list of those parts.\n",
        "\n",
        " Let's see how these work:"
      ]
    },
    {
      "cell_type": "code",
      "source": [
        "# All of the indexing, slicing things we learned about for lists also apply to strings\n",
        "helloStr = \"Hello World.\\n\"\n",
        "print(helloStr[0]) # print the 1st letter of the string\n",
        "print(helloStr[0:4]) # print the first three letters of the string\n",
        "print(helloStr[::-1]) # print the string in reverse order"
      ],
      "metadata": {
        "id": "iupO4A_iF2oP"
      },
      "execution_count": null,
      "outputs": []
    },
    {
      "cell_type": "code",
      "metadata": {
        "id": "N5FMqXeAMJ8e"
      },
      "source": [
        "# The strip() method can be used to remove leading or trailing characters from a string.\n",
        "print(helloStr.strip()) # by default, strip() will remove whitespace characters, such as \"\\n\" and \" \"\n",
        "print(helloStr.strip(\"\\n.\")) # If you specify more than one character, it will remove each character from the head and tail\n",
        "print(helloStr.strip(\"\\nH.er\")) # notice the 'r' was not removed, since it is not at the end or beginning of the string when all others chars are removed  "
      ],
      "execution_count": null,
      "outputs": []
    },
    {
      "cell_type": "code",
      "metadata": {
        "id": "pP_L8H-rOqPb"
      },
      "source": [
        "# You can chain multiple strip() calls together, since the return of the first call is also a string that has the strip() method \n",
        "helloStr.strip(\"\\n\").strip(\".\") "
      ],
      "execution_count": null,
      "outputs": []
    },
    {
      "cell_type": "code",
      "metadata": {
        "id": "iS8hv4iPOV52"
      },
      "source": [
        "# The replace() method can be used to replace a substring that occurs within a string with something else\n",
        "helloStr.replace(\"lo world\",\"l yeah\") # this will replace the occurrence of the substring \"lo world\" with \"l yeah\""
      ],
      "execution_count": null,
      "outputs": []
    },
    {
      "cell_type": "code",
      "metadata": {
        "id": "pLmW9aJsQ9bc"
      },
      "source": [
        "# You can also chain replace() calls together as well.\n",
        "helloStr.replace(\"lo world\",\"l yeah\").replace(\"yeah.\",\"no to the no to the no!\") "
      ],
      "execution_count": null,
      "outputs": []
    },
    {
      "cell_type": "code",
      "metadata": {
        "id": "PqvkclGvPE8O"
      },
      "source": [
        "# The join() method can be used to join elements of a list together by putting some string between each element and the next.\n",
        "#   If that explanation sounds confusing, try it out and play with some examples and it will make sense\n",
        "dieHard1 = \"Yippee ki yay\"\n",
        "dieHard2 = \"mother falcon\"\n",
        "dieHardList = [dieHard1, dieHard2]\n",
        "dieHardFull=\", \".join(dieHardList) # join all the elements of the list by connecting them with the separating substring \", \"\n",
        "print(dieHardFull)"
      ],
      "execution_count": null,
      "outputs": []
    },
    {
      "cell_type": "code",
      "metadata": {
        "id": "Gyg9CLmGQkeY"
      },
      "source": [
        "#  however the join method only works for a list of strings. If you try it on a list of some other type of element, it will throw an error\n",
        "\",\".join([1,2,3]) # This will throw an error, because join only works on lists if all the elements of the list are of type string"
      ],
      "execution_count": null,
      "outputs": []
    },
    {
      "cell_type": "markdown",
      "metadata": {
        "id": "pwMaMoYbkPQ9"
      },
      "source": [
        "\n",
        "Often you want to create a string from other variables. There are a couple of ways to do this in Python:\n",
        " - f-strings (formatted string literals)\n",
        " - using the .format() method of strings\n",
        "\n",
        "I won't talk about these in detail but instead just show some examples of how they work. If you want to know more, have a look at [this python3 docs page](https://docs.python.org/3/tutorial/inputoutput.html#input-and-output)\n"
      ]
    },
    {
      "cell_type": "code",
      "metadata": {
        "id": "45k6lhPFlKVJ"
      },
      "source": [
        "# Examples of formatings strings that incorporate variables\n",
        "\n",
        "from math import sqrt # don't worry about this line yet, I'll talk about it later\n",
        "\n",
        "# Example using f-strings\n",
        "x = 3.0\n",
        "y = 4.0\n",
        "z = sqrt(x**2+y**2)\n",
        "\n",
        "print(f'The value of z is {z}, which is determined by the square root of {x} squared plus {y} squared.')\n",
        "# notice it will print out the variable (correctly converted to a string) if you wrap the variable name in curly brackets."
      ],
      "execution_count": null,
      "outputs": []
    },
    {
      "cell_type": "code",
      "metadata": {
        "id": "8WhMndmjW3Oy"
      },
      "source": [
        "# Example using the format() method\n",
        "hero = 'John McClane'\n",
        "villain = 'Hans Gruber'\n",
        "\n",
        "storyString = '{} defeated {} by dropping him out of a window.'.format(hero,villain)\n",
        "print(storyString)"
      ],
      "execution_count": null,
      "outputs": []
    },
    {
      "cell_type": "code",
      "metadata": {
        "id": "Lxe-H_bEW1Ep"
      },
      "source": [
        "storyString2 = 'The reason why {} cut his feet is because {} said \"Shoot the Glass\"'.format(hero, villain)\n",
        "# notice, you can use double quotes within a string if you define the string with single quotes.  \n",
        "#  You can also do the opposite. \n",
        "print(storyString2)"
      ],
      "execution_count": null,
      "outputs": []
    },
    {
      "cell_type": "markdown",
      "metadata": {
        "id": "71hclOKnxi6s"
      },
      "source": [
        "Personally, I find f-strings to be the most convenient way to print things in python and will mostly stick with this."
      ]
    },
    {
      "cell_type": "markdown",
      "source": [
        "<hr/>\n",
        "<img src=\"https://drive.google.com/uc?id=1sk8CSP26YY7sfyzmHGFXncuNRujkvu9v\" align=\"left\">\n",
        "\n",
        "<font size=3 color=\"darkred\">Mad Libs with f-strings</font>\n",
        "\n",
        "<font>\n",
        "Make your own <a href=\"https://en.wikipedia.org/wiki/Mad_Libs\">Mad Libs</a> game!  Write a (very) short story (a few sentences long) that involves some characters, nouns and verbs. Store each of these as its own variable. Use an f-string to define the story and print it out. Now find a friend to play madlibs with you! \n",
        "</font>    "
      ],
      "metadata": {
        "id": "s__z5P0mbyKX"
      }
    },
    {
      "cell_type": "code",
      "source": [
        "# Try it out\n"
      ],
      "metadata": {
        "id": "5nwW1O-PbyKf"
      },
      "execution_count": null,
      "outputs": []
    },
    {
      "cell_type": "markdown",
      "source": [
        "<hr/>"
      ],
      "metadata": {
        "id": "MhLM_mVwbyKg"
      }
    },
    {
      "cell_type": "markdown",
      "metadata": {
        "id": "4HPTe28PMieo"
      },
      "source": [
        "# If / Else statements\n",
        "\n",
        "We can **execute a block of code conditionally** by testing for a condition using an `if` statement.\n"
      ]
    },
    {
      "cell_type": "code",
      "metadata": {
        "id": "BxX5IFpsMxXN"
      },
      "source": [
        "someBool = True\n",
        "\n",
        "if someBool:\n",
        "  print(\"someBool is True.\")\n",
        "# pay attention to the \"whitespace\" in Python.  The indentation must be accomplished with a \"tab\",\n",
        "#  it can't be \"spaces\".  Most IDEs or Jupyter will automatically assume an indent for you after you type the \":\" and press enter."
      ],
      "execution_count": null,
      "outputs": []
    },
    {
      "cell_type": "markdown",
      "metadata": {
        "id": "OPM-LWtdNFrk"
      },
      "source": [
        "You can also include an `else` codeblock following the `if`, like this:"
      ]
    },
    {
      "cell_type": "code",
      "metadata": {
        "id": "sjsHPybDNDIV"
      },
      "source": [
        "someInt = 10 # <-- change this value here and re-run\n",
        "if someInt<9:\n",
        "    print(\"someInt is less than 9.\")\n",
        "else:\n",
        "    print(\"someInt is greater than or equal to 9.\")\n",
        "# Change the value of someInt and re-run the above codeblock to see what happens."
      ],
      "execution_count": null,
      "outputs": []
    },
    {
      "cell_type": "markdown",
      "metadata": {
        "id": "UD_nYzzLNV0w"
      },
      "source": [
        "And you can test for many conditions by using an `if-elif-else` chain, like this:"
      ]
    },
    {
      "cell_type": "code",
      "metadata": {
        "id": "ybDGCNSiNcFG"
      },
      "source": [
        "someInt = 8\n",
        "if someInt<5:\n",
        "    print(\"someInt is less than 5.\")\n",
        "elif someInt>=7:  # here >=5 means greater than or equal to 5 ; elif means \"else if\"\n",
        "    print(\"someInt is greater than or equal to 5 and is greater than or equal to 7.\")\n",
        "else:\n",
        "    print(\"If someInt is really an integer, it must be either 5 or 6.\")\n",
        "# Change the value of someInt and re-run the above codeblock to see what happens.\n",
        "# Notice the chain of logic:\n",
        "#   The codeblock of \"elif someInt>=7\" only executes if the codeblock \"if someInt<5\" did not execute.\n",
        "#   The codeblock of \"else\" only executes if both the codeblocks of \"if someInt<5\" and \"elif someInt>=7\" did not execute\n",
        "# We could have added another elif codeblock before the else codeblock to check if someInt>=6.  \n",
        "#  Modify the above code to do that (don't forget to modify the print statements so that your new code makes sense)\n",
        "#  and then re-run the example."
      ],
      "execution_count": null,
      "outputs": []
    },
    {
      "cell_type": "markdown",
      "source": [
        "Conditional code blocks like `if` or `if-else` or `if-elif-else` make up the fundamental logical flow of most programs. These are often combined with loops to determine the \"big structure\" of the program. "
      ],
      "metadata": {
        "id": "gi_ApAMliBnQ"
      }
    },
    {
      "cell_type": "markdown",
      "source": [
        "<hr/>\n",
        "<img src=\"https://drive.google.com/uc?id=1sk8CSP26YY7sfyzmHGFXncuNRujkvu9v\" align=\"left\">\n",
        "\n",
        "<font size=3 color=\"darkred\">The Tiniest Text Adventure Game </font>\n",
        "\n",
        "<font>\n",
        "Make a single decision text adventure game. First come up with a scenario that requires the player to make a choice from several options and print out the text that describes that scenario. For example, \"Captain Sparrow is forcing you to walk the plank. You can (a) walk the plank willingly; (b) kick him in the nuts and try to commandeer the pirate ship; (c) try to persuade him with some grog\". You can either use the input() function to get the choice from the player or just store the choice in a string at the beginning of the code.\n",
        "\n",
        "Use if-elif-else chains to print out what happens as a result of each decision.\n",
        "</font>    "
      ],
      "metadata": {
        "id": "BpKlS2hRJbUq"
      }
    },
    {
      "cell_type": "code",
      "source": [
        "# Try it out\n"
      ],
      "metadata": {
        "id": "ESqUv483JbUq"
      },
      "execution_count": null,
      "outputs": []
    },
    {
      "cell_type": "markdown",
      "source": [
        "<hr/>"
      ],
      "metadata": {
        "id": "n19x7a3DJbUq"
      }
    },
    {
      "cell_type": "markdown",
      "metadata": {
        "id": "i4ftRX-O4F_q"
      },
      "source": [
        "# Loops"
      ]
    },
    {
      "cell_type": "markdown",
      "metadata": {
        "id": "fK47ccqdNqDj"
      },
      "source": [
        "**Loops allow you to execute the same codeblock multiple times** without having to rewrite it. Often we change or update one or more variables each time we go through the codeblock. \n",
        "\n",
        "There are two types:\n",
        "* while loop - loop over a codeblock until the condition evaluates to False\n",
        "* for loop - loop over a codeblock a certain number of times (or iterating over the elements of a collection)\n",
        "\n",
        "<br />\n",
        "\n",
        "**While loops** look like this:\n",
        "\n",
        "```\n",
        "while statement:\n",
        "  codeblock\n",
        "```\n",
        "where `statement` evaluates to either `True` or `False`. For the loop to run the `codeblock` the very first time, `statement` must evaluate to `True`. Then, something happens in the `codeblock` that will change the value from `True` to `False`, causing the loop to end.\n",
        "\n",
        "\n",
        "\n",
        "<br />\n",
        "\n",
        "**For loops** look like this:\n",
        "```\n",
        "for variable in collection:\n",
        "  codeblock\n",
        "```\n",
        "They will **go through all of the items in a collection and, for each one, execute the `codeblock` with that item bound to the name `variable`**. So if you loop over a list with three items in a list, they will execute the `codeblock` exactly three times.\n",
        "\n",
        "It's easier to understand how `while` and `for` loops work with some examples:"
      ]
    },
    {
      "cell_type": "code",
      "metadata": {
        "id": "m5j6dftVOXzp"
      },
      "source": [
        "# This example uses a while loop to print out the numbers 0 through 9.\n",
        "\n",
        "# The condition is: someCounter<10\n",
        "# As soon as this evaluates to False it will stop running the codeblock.\n",
        "\n",
        "# The codeblock does two things:\n",
        "#    1) prints out the value of someCounter\n",
        "#    2) increases the value of someCounter by 1\n",
        "\n",
        "# Notice that the code in the codeblock changes the variable someCounter, increasing it by 1. \n",
        "# If it did not do this, the loop would never end.\n",
        "\n",
        "someCounter = 0\n",
        "while someCounter<10:\n",
        "    print(someCounter)\n",
        "    someCounter += 1  # This line uses the \"+=\" operator. It is equivalent to: someCounter = someCounter + 1\n",
        "\n",
        "# See what happens if you move the print(someCounter) statement to the bottom of the codeblock "
      ],
      "execution_count": null,
      "outputs": []
    },
    {
      "cell_type": "code",
      "metadata": {
        "id": "X8ggu_iUOJV9"
      },
      "source": [
        "# In this example\n",
        "\n",
        "countUpList = range(0,10)\n",
        "for x in countUpList:\n",
        "    print(x)"
      ],
      "execution_count": null,
      "outputs": []
    },
    {
      "cell_type": "code",
      "metadata": {
        "id": "z-EgEXOaONou"
      },
      "source": [
        "# a more compact version of the above without defining the countUpList:\n",
        "for x in range(0,10):\n",
        "    print(x)\n",
        "\n",
        "# in general, for loops can iterate over any collection"
      ],
      "execution_count": null,
      "outputs": []
    },
    {
      "cell_type": "markdown",
      "source": [
        "<hr/>\n",
        "<img src=\"https://drive.google.com/uc?id=1sk8CSP26YY7sfyzmHGFXncuNRujkvu9v\" align=\"left\">\n",
        "\n",
        "<font size=3 color=\"darkred\">The Tiniest Tower Defense Game </font>\n",
        "\n",
        "<font>\n",
        "Make a single wave tower defense game. Attackers are attacking your tower which can only absorb so much damage. Use a list to store each attacker's strength (it can be a list of integers) and a variable to store your tower's defense (or health). Use a loop to execute the attack code until there are either no more attackers or your tower is destroyed (health reaches zero). At the end, print out who won.  \n",
        "</font>    "
      ],
      "metadata": {
        "id": "1LEjNHMOUjj5"
      }
    },
    {
      "cell_type": "code",
      "source": [
        "# Try it out\n"
      ],
      "metadata": {
        "id": "Xlnmzeb6Ujj5"
      },
      "execution_count": null,
      "outputs": []
    },
    {
      "cell_type": "markdown",
      "source": [
        "<hr/>"
      ],
      "metadata": {
        "id": "aQtEuTtaUjj6"
      }
    },
    {
      "cell_type": "markdown",
      "metadata": {
        "id": "Vct07wFt4J8m"
      },
      "source": [
        "# List and Dictionary Comprehensions"
      ]
    },
    {
      "cell_type": "markdown",
      "metadata": {
        "id": "ppiSLNIDO3CQ"
      },
      "source": [
        "Often you want to loop over one collection and generate another collection from it. Comprehensions allow you to \"transform\" one collection to another collection by operating on the elements of the collection and setting the result as an element in the new collection. \n",
        "\n",
        "You could of course accomplish this with for loops, but comprehensions allow you to do so in a very compact way."
      ]
    },
    {
      "cell_type": "code",
      "metadata": {
        "id": "twpN1MKvPX_1"
      },
      "source": [
        "aRange = range(1, 6) #defines the list [1, 2, 3, 4, 5]\n",
        "aListFromComprehension = [ x**2 for x in aRange ] # make a new list where each element is the element in aRange squared\n",
        "print(aListFromComprehension)"
      ],
      "execution_count": null,
      "outputs": []
    },
    {
      "cell_type": "markdown",
      "metadata": {
        "id": "OaiqihRbPifx"
      },
      "source": [
        "Dictionary comprehensions are very similar to list comprehensions, but they use the curly brackets and you have to specify the key, value pair: "
      ]
    },
    {
      "cell_type": "code",
      "metadata": {
        "id": "4v-PYvcRPq42"
      },
      "source": [
        "aDict = {1:\"Sarah\", 2:\"Xia\", 3:\"Arun\"}\n",
        "aDictFromComprehension = { k:v+\" is awesome\" for k,v in aDict.items() } # Make a new dict from the (key, value) pairs in aDict by adding \" is awesome\" to each value\n",
        "print(aDictFromComprehension)"
      ],
      "execution_count": null,
      "outputs": []
    },
    {
      "cell_type": "markdown",
      "source": [
        "Often you want either a list of dictionary comprehension that excludes some of the items in the list or dictionary based on some condition. Here is a way to do that:"
      ],
      "metadata": {
        "id": "K62uTW4ED5yt"
      }
    },
    {
      "cell_type": "code",
      "source": [
        "# An example of a list comprehension with a condition\n",
        "aRange = range(1, 6) #defines the list [1, 2, 3, 4, 5]\n",
        "aListFromComprehension2 = [ x**2 for x in aRange if x<=3] # make a new list where each element is the element in aRange squared but only if the element is <=3\n",
        "print(aListFromComprehension2)"
      ],
      "metadata": {
        "id": "3h2RDdhkEGKg"
      },
      "execution_count": null,
      "outputs": []
    },
    {
      "cell_type": "code",
      "source": [
        "# An example of a dictionary comprehension with a condition\n",
        "aDict = {1:\"Sarah\", 2:\"Xia\", 3:\"Arun\"}\n",
        "aDictFromComprehension2 = { k:v+\" is awesome\" for k,v in aDict.items() if v[0] in [\"S\",\"A\"]} \n",
        "# Like before, but only for (key,value) pairs in aDict that start with either \"S\" or  \"A\"\n",
        "#  note: in the comprehension, v is the value, which is a string. v[0] is the first letter of the string\n",
        "print(aDictFromComprehension2)"
      ],
      "metadata": {
        "id": "YVZYO-5YEe9_"
      },
      "execution_count": null,
      "outputs": []
    },
    {
      "cell_type": "markdown",
      "source": [
        "<hr/>\n",
        "<img src=\"https://drive.google.com/uc?id=1sk8CSP26YY7sfyzmHGFXncuNRujkvu9v\" align=\"left\">\n",
        "\n",
        "<font size=3 color=\"darkred\">Using Comprehensions </font>\n",
        "\n",
        "<font>\n",
        "Make a dictionary where keys are the names of people in your life and the values are string that describe their relationship. For example, you might have the (key,value)=(\"Dave\", \"a good friend\"). Now use a comprehension to make a new list of sentences that describe the people in your life.\n",
        "</font>    \n",
        "\n",
        "The new list you create might look something like this:\n",
        "\n",
        "`[ \"Dave is a good friend.\", \"Jacob is my brother-in-law.\", ... ]`"
      ],
      "metadata": {
        "id": "_5lvxkifBUlv"
      }
    },
    {
      "cell_type": "code",
      "source": [
        "# Try it out\n"
      ],
      "metadata": {
        "id": "x4rXjgqWBUlw"
      },
      "execution_count": null,
      "outputs": []
    },
    {
      "cell_type": "markdown",
      "source": [
        "<hr/>"
      ],
      "metadata": {
        "id": "L74TU7JTBUlw"
      }
    },
    {
      "cell_type": "markdown",
      "metadata": {
        "id": "-CQSFAYd4N3m"
      },
      "source": [
        "# Functions"
      ]
    },
    {
      "cell_type": "markdown",
      "metadata": {
        "id": "GRanlXi88Pg1"
      },
      "source": [
        "Functions permit you to take a sub-task that you might need to do more than once and separate its functionality from the rest of your code (in other words, make your code *modular*). **Functions take arguments as inputs and produce some output.** \n",
        "<br />\n",
        "<br />\n",
        "\n",
        "\n",
        "**<font size=4>The \"isolation\" of Functions</font>**\n",
        "\n",
        "<font color=\"red\">Functions \"start out with a clean sheet of scrap paper\" that will be \"thrown out\" when the function is finished.</font> What this means is, you should always **\"pass in the objects or data\" that a function needs to do their job**, since they won't know about the variables and data in your program (<font size=2>\\*I am actually lying to you here, but trust me, it's a good lie!</font>). Because the scrap paper is thrown out when the function is finished, it also means you should always **\"return any objects or data\" as output from the functions that you want to make available for the rest of the program.**\n",
        "\n",
        "\n",
        "<font size=2>\\* functions can see \"global\" variables that you have defined in your main code. But it's a bad idea to rely on this. If your function needs some data to do it's job, you should pass it in as an argument.</font>\n",
        "<br />\n",
        "<br />\n",
        "\n",
        "**<font size=4>Defining a Function</font>**\n",
        "\n",
        "Functions are defined like this:\n",
        "```\n",
        "def someFunction(arguments):\n",
        "  codeblock\n",
        "```\n",
        "\n",
        "where the codeblock may include a `return someVariable` statement at the end which specifies that someVariable is the output (though not every function needs to have a return). \n",
        "\n",
        "Let's look at some examples:\n"
      ]
    },
    {
      "cell_type": "code",
      "metadata": {
        "id": "w5PGNVWT84rL"
      },
      "source": [
        "# define a function\n",
        "def sayHello():\n",
        "  print(\"Hello\")\n",
        "\n",
        "# run the function\n",
        "sayHello()"
      ],
      "execution_count": null,
      "outputs": []
    },
    {
      "cell_type": "code",
      "metadata": {
        "id": "-E8wgaLT9CBc"
      },
      "source": [
        "# define a function with two inputs (num1 and num2) and return the total\n",
        "def addNumbers(num1, num2):\n",
        "  total = num1 + num2\n",
        "  return total\n",
        "\n",
        "# run the addNumbers function\n",
        "foo = addNumbers(1, 3)\n",
        "print(foo)"
      ],
      "execution_count": null,
      "outputs": []
    },
    {
      "cell_type": "markdown",
      "metadata": {
        "id": "06rMn36FNnTM"
      },
      "source": [
        "The inputs or \"arguments\" to the function, `num1` and `num2` get assigned their values when we call the function. So when we ran `addNumbers(1, 3)`, before python ran any of the code inside the function it defined the variables within the function as if we had written:\n",
        "```python\n",
        "num1 = 1\n",
        "num2 = 3\n",
        "```\n",
        "that's why, inside the function when we called `total = num1 + num2` python was able to calculate the value `4` and assign it to `total`. When it did this, it used the position of the arguments to figure out which value was assigned to which variable name.\n"
      ]
    },
    {
      "cell_type": "markdown",
      "metadata": {
        "id": "ZUXPTSCHfII_"
      },
      "source": [
        "\n",
        "<font color=\"red\">DON'T FORGET: Functions use \"scrap paper\". Values passed in to a function (arguments) and  variables defined in a function **cannot be accessed by code outside of the function**.  Once the function has run, all those things will \"cease to exist\".</font>\n",
        "\n",
        "What if tried to access total, a variable defined inside the `addNumbers()` function, in our main code?"
      ]
    },
    {
      "cell_type": "code",
      "metadata": {
        "id": "8LimI5W49LWW"
      },
      "source": [
        "# notice that the variable total is only defined within the scope of the function and isn't available outside\n",
        "print(total) #this will return a NameError because 'total' isn't defined"
      ],
      "execution_count": null,
      "outputs": []
    },
    {
      "cell_type": "code",
      "metadata": {
        "id": "at9_HkmkPbYN"
      },
      "source": [
        "# notice that the argument num1 is not defined outside of the function either:\n",
        "print(num1) #this will return a NameError because 'num1' isn't defined"
      ],
      "execution_count": null,
      "outputs": []
    },
    {
      "cell_type": "markdown",
      "metadata": {
        "id": "BQmoe9sFTv7C"
      },
      "source": [
        "On the other hand, you can pass in a variable that you have already defined in your code as an argument to a function:"
      ]
    },
    {
      "cell_type": "code",
      "metadata": {
        "id": "IjCq_aOtT373"
      },
      "source": [
        "x = 4\n",
        "tot = addNumbers(x, 3) # assign the value returned by addNumbers() to the variable tot\n",
        "print(tot) \n",
        "print(x) # since we defined x as a variable in our main code, we can reference it."
      ],
      "execution_count": null,
      "outputs": []
    },
    {
      "cell_type": "markdown",
      "metadata": {
        "id": "tMug20z5UeO_"
      },
      "source": [
        "When `addNumbers(x, 3)` is called above, python will assign the value of x to the variable `num1` for use inside the function.  You can access the variable `x` after the function has finished running, but not `num1`."
      ]
    },
    {
      "cell_type": "code",
      "metadata": {
        "id": "b0lJd4cf9ONP"
      },
      "source": [
        "# run the function again with different inputs:\n",
        "addNumbers(2, 6)"
      ],
      "execution_count": null,
      "outputs": []
    },
    {
      "cell_type": "code",
      "metadata": {
        "id": "LCTAWQTU9STm"
      },
      "source": [
        "# save the output of the function in a variable\n",
        "someTotal = addNumbers(3, 5)\n",
        "print(someTotal)"
      ],
      "execution_count": null,
      "outputs": []
    },
    {
      "cell_type": "markdown",
      "metadata": {
        "id": "j4xRHHNYfTmS"
      },
      "source": [
        "It's also possible to call a function using the names of the arguments as keywords instead of letting python infer which argument name gets assigned which argument value by position. Consider this function:"
      ]
    },
    {
      "cell_type": "code",
      "metadata": {
        "id": "RdmTsnuyfZZB"
      },
      "source": [
        "def divideFunc(numerator, denominator):\n",
        "  result = 1.0*numerator/denominator\n",
        "  return result"
      ],
      "execution_count": null,
      "outputs": []
    },
    {
      "cell_type": "markdown",
      "metadata": {
        "id": "spJoeBQZgVo0"
      },
      "source": [
        "If we supply the names of the arguments with keywords when we call the function, python will assign them appropriately, regardless of their order:"
      ]
    },
    {
      "cell_type": "code",
      "metadata": {
        "id": "I7-RLdOngT-h"
      },
      "source": [
        "res = divideFunc(numerator = 1.0, denominator = 2.0)\n",
        "print(res)\n",
        "\n",
        "res = divideFunc(denominator = 2.0, numerator = 1.0)\n",
        "print(res)\n",
        "# Both function calls will return a result of 0.5"
      ],
      "execution_count": null,
      "outputs": []
    },
    {
      "cell_type": "markdown",
      "metadata": {
        "id": "5WL0qTcNhoSj"
      },
      "source": [
        "We can also give a default value to arguments (when we define a function) that will be used if we don't supply a value. If we do, we have to put all the arguments that have a default value at the end of the argument list.\n",
        "\n",
        "Let's modify our ```divideFunc``` to do this:"
      ]
    },
    {
      "cell_type": "code",
      "metadata": {
        "id": "KCjUc8Pch9IV"
      },
      "source": [
        "def divideFunc(denominator, numerator = 1.0):\n",
        "  result = 1.0*numerator/denominator\n",
        "  return result"
      ],
      "execution_count": null,
      "outputs": []
    },
    {
      "cell_type": "code",
      "metadata": {
        "id": "G8--iJXwiDjE"
      },
      "source": [
        "res = divideFunc(2.0) # because I didn't specify both arguments, python assumes numerator will take its default value of 1.0\n",
        "print(res)\n",
        "\n",
        "res = divideFunc(2.0, 1.0) # Here python will infer the arguments by position. So denominator will be assigned 2.0 and numerator will be assigned 1.0\n",
        "print(res)\n",
        "\n",
        "res = divideFunc(numerator = 1.0, denominator = 2.0) # Here python assigns the values to the arguments by keyword\n",
        "print(res)\n",
        "# All the above function calls will return the same value of 0.5"
      ],
      "execution_count": null,
      "outputs": []
    },
    {
      "cell_type": "markdown",
      "metadata": {
        "id": "KnUg1rzWRAZE"
      },
      "source": [
        "<font size=4>A Brief Aside about Lambda Functions</font>\n",
        "<hr />\n",
        "\n",
        "if you need to create a quick function that is only used in one place in your code, you can use a **lambda** function.\n",
        "\n",
        "Lambda function can be placed anywhere that you would normally call a function (e.g., `someFunc()`):\n",
        "```\n",
        "y = someFunc(x)\n",
        "```\n",
        "\n",
        "by instead writing:\n",
        "```\n",
        "lambda someInput: someExpressionToOutput\n",
        "```\n",
        "\n",
        "So, for example instead of writing:\n",
        "```\n",
        "def someFunction(x):\n",
        "  return x+2\n",
        "\n",
        "y = someFunction(5)\n",
        "```\n",
        "\n",
        "we could simply write:"
      ]
    },
    {
      "cell_type": "code",
      "metadata": {
        "id": "sy6_IklIRdmx"
      },
      "source": [
        "(lambda x: x + 2)(5)"
      ],
      "execution_count": null,
      "outputs": []
    },
    {
      "cell_type": "markdown",
      "source": [
        "<hr />"
      ],
      "metadata": {
        "id": "MGpWEwMrPr7v"
      }
    },
    {
      "cell_type": "markdown",
      "source": [
        "<hr/>\n",
        "<img src=\"https://drive.google.com/uc?id=1sk8CSP26YY7sfyzmHGFXncuNRujkvu9v\" align=\"left\">\n",
        "\n",
        "<font size=3 color=\"darkred\">Grocery Store Checkout </font>\n",
        "\n",
        "<font>\n",
        "Write a function that calculates the total of items in a shopping cart. The function should accept two arguments, a shopping cart and prices. The cart  should be a dictionary where the key is the name of an item and the value is the quantity of that item in the cart. The price should be a dictionary where the key is the name of an item and the value is the price of that item. Have the function return the total and/or print it out. \n",
        "</font>    "
      ],
      "metadata": {
        "id": "q3vCpl7cCeeS"
      }
    },
    {
      "cell_type": "code",
      "source": [
        "# Try it out\n"
      ],
      "metadata": {
        "id": "5HRe-xmhCeeT"
      },
      "execution_count": null,
      "outputs": []
    },
    {
      "cell_type": "markdown",
      "source": [
        "<hr/>"
      ],
      "metadata": {
        "id": "typmn9ucCeeT"
      }
    },
    {
      "cell_type": "markdown",
      "metadata": {
        "id": "Bm_A9hsn2-1X"
      },
      "source": [
        "# Working with the OS and Files"
      ]
    },
    {
      "cell_type": "markdown",
      "metadata": {
        "id": "W0cvmK2Dymuv"
      },
      "source": [
        "**<font size=4>Importing Libraries in Python</font>**\n",
        "\n",
        "In python, we will frequently want to use code that others have written to make our job easier. In other words, we need to work with **modules** (often called libraries in other languages). A lot of the core functionality that Python offers is broken up into separate modules that you need to import into your code if you want to use.  The standard way of doing this is:\n",
        "```python\n",
        "import modulename\n",
        "```\n",
        "\n",
        "or, if you want to import it as a different name:\n",
        "\n",
        "```python\n",
        "import modulename as someName\n",
        "```\n",
        "\n",
        "You may also see\n",
        "```python\n",
        "from modulename import objectName\n",
        "```\n",
        "which is used to import one of the objects that a module contains.\n",
        "<br />\n",
        "<br />\n",
        "\n",
        "\n",
        "**<font size=4>Using the `os` library</font>**\n",
        "\n",
        "Here we will import the os module to access some elements of the filesystem.\n",
        "\n",
        "Every operating system provides functionality to programs -- one part of which is accessing and manipulating the file system. This will allow us to do things like:\n",
        "* get or change the current working directory\n",
        "* access environment variables\n",
        "* navigate the file system (deal with file paths)\n",
        "* work with users and groups\n",
        "\n",
        "Here we will only use it to get the name of the OS and to get the current working directory."
      ]
    },
    {
      "cell_type": "code",
      "metadata": {
        "id": "p3k3OzbjypEt"
      },
      "source": [
        "import os # import the os module\n",
        "\n",
        "#get the name of the os\n",
        "print(os.name)\n",
        "print(os.getcwd())\n"
      ],
      "execution_count": null,
      "outputs": []
    },
    {
      "cell_type": "markdown",
      "source": [
        "We can also use the `os` library to do list the files in the current directory:"
      ],
      "metadata": {
        "id": "LDGGOLzJgV2o"
      }
    },
    {
      "cell_type": "code",
      "source": [
        "print(os.listdir())"
      ],
      "metadata": {
        "id": "bh--Nf_ohdHq"
      },
      "execution_count": null,
      "outputs": []
    },
    {
      "cell_type": "markdown",
      "source": [
        "You can see that the above code printed our some files and directories. At this point, you might be wondering **\"hey, where are these files and directories located? Are they on *my* computer?\"**\n",
        "\n",
        "The answer is they are on a computer provisioned by google that is running your colab code. We'll talk more about this later, but first let's look at how to work with files in Python. "
      ],
      "metadata": {
        "id": "yiP9LXkRhhHq"
      }
    },
    {
      "cell_type": "markdown",
      "metadata": {
        "id": "2CxUGpH6_JKM"
      },
      "source": [
        "**<font size=4>Working with Files</font>**\n",
        "\n",
        "Now lets open a file for writing, write some content into it and close the file."
      ]
    },
    {
      "cell_type": "code",
      "metadata": {
        "id": "469KJpNn9gWl"
      },
      "source": [
        "myfile = open('myfile.txt','w') # open a file for writing\n",
        "myfile.write(\"Hello World.\\n\") # write a line to the file\n",
        "myfile.close() # close the file"
      ],
      "execution_count": null,
      "outputs": []
    },
    {
      "cell_type": "markdown",
      "metadata": {
        "id": "55MAQjKQ_hif"
      },
      "source": [
        "However, there is a more common way that is used to open files or really any object that has a notion of \"open\" and \"close\" (or \"enter\" and \"exit\") -- such as a resource that you want to use temporarily but eventually let go.\n",
        "\n",
        "The approach I'm talking about is the  `with ... as` pattern and it looks like this:\n",
        "```\n",
        "with someValue as someVariable:\n",
        "  do something with someVariable here\n",
        "```\n",
        "\n",
        "You don't have to worry too much about what is happening here -- I just want you to be aware of the `with ... as` pattern because it is useful, used regularly by many, and you will see it again later when we talk about neural networks.  [You can read more about it if you want](https://www.geeksforgeeks.org/with-statement-in-python/), but for now just think of it as a way to ensure that the file is closed properly after we write to it."
      ]
    },
    {
      "cell_type": "code",
      "metadata": {
        "id": "BE8PEQAq_N13"
      },
      "source": [
        "# There's another more common way to open a file that ensures that it will be closed when you are done:\n",
        "with open('myfile2.txt','w') as f:\n",
        "  f.write(\"Testing.\")\n",
        "# notice we don't have to call f.close()"
      ],
      "execution_count": null,
      "outputs": []
    },
    {
      "cell_type": "markdown",
      "metadata": {
        "id": "HSF43xkt1f5o"
      },
      "source": [
        "After running the above two code cells, you have actually created files on the machine that google is using to host your colab session. Where are these files? (I'm glad you asked).\n",
        "\n",
        "You  can see the files on a Google Colab hosted machine by clicking the little right arrow to open up the navigation  pane:\n",
        "\n",
        "<img alt=\"R01_colab_files1.png\" src=\"https://drive.google.com/uc?id=1Ejb4Y0maUqMVAFqLVbrSXZw4u40zLCWb\" width=400>\n",
        "\n",
        "This will open the Files view:\n",
        "\n",
        "<img alt=\"R01_colab_files2.png\" src=\"https://drive.google.com/uc?id=16-mzgQdWUKKkFJjxTs8l8c_PoCnlHwm6\" width=400>\n",
        "\n",
        "\n",
        "Double click on \"myfile.txt\". You should see it open on the screen and display the contents of the file.  Have a look at both files that you created. You can even edit the contents of the files if you want and save them using this very lightweight editor. Try this out now and save it, then we'll read the file back again to see what you wrote.\n",
        "\n",
        "We can also open an existing file for reading. The procedure is similar, but instead of using the argument `'w'` (for 'write') in the `open()` function, we will use `'r'` (for 'read'):\n",
        "\n"
      ]
    },
    {
      "cell_type": "code",
      "metadata": {
        "id": "DyJVK4HwzBHF"
      },
      "source": [
        "with open('myfile.txt','r') as f:\n",
        "  lines = f.readlines() # the readlines() method of the file object will return all the lines in the file as a list (one element for each line)\n",
        "\n",
        "print(type(lines))\n",
        "print(lines)"
      ],
      "execution_count": null,
      "outputs": []
    },
    {
      "cell_type": "markdown",
      "metadata": {
        "id": "7pZlcxyLE6ap"
      },
      "source": [
        "Notice that the `readlines()` method of the file object returns a list.\n",
        "\n",
        "Also notice that the newline character (`'\\n'`) terminates the string. Often you will have to process the lines of a file if you want to get rid of these and other artifacts.\n",
        "\n",
        "It is also possible to open a *binary* file for writing or reading with the `'wb'` and `'wr'` arguments, if you want to store binary information in a file.\n",
        "\n"
      ]
    },
    {
      "cell_type": "markdown",
      "source": [
        "\n",
        "Now that we know about files and colab, let's go back to the `os` module and see how we can create a new folder and change the current directory:"
      ],
      "metadata": {
        "id": "8-OlX090g_0v"
      }
    },
    {
      "cell_type": "code",
      "source": [
        "# Use the os module to create a new directory\n",
        "os.mkdir('./test') # this will create a new folder called \"test\" in the current working directory. \n",
        "#  The \"./\" means \"here\", as in \"I want you to make the folder test here, in the current working directory\"\n",
        "\n",
        "# We can now change the working directory to the one we just created.\n",
        "os.chdir(\"./test\")\n",
        "print(os.getcwd())\n",
        "\n",
        "os.chdir(\"/content\") # change the current working directory back again"
      ],
      "metadata": {
        "id": "o39UbpYWhN5y"
      },
      "execution_count": null,
      "outputs": []
    },
    {
      "cell_type": "markdown",
      "metadata": {
        "id": "aDsxF-U2ibz3"
      },
      "source": [
        "Note that we can use the file browser in google colab to see the directory we just created. We can right click on it to delete it if we want.\n",
        "\n",
        "More details on the os module can be found in [the Python3 docs for os](https://docs.python.org/3/library/os.html)\n",
        "\n",
        "More details on working with files can be found in [the Python3 docs for files](https://docs.python.org/3/tutorial/inputoutput.html#reading-and-writing-files)"
      ]
    },
    {
      "cell_type": "markdown",
      "source": [
        "# Feedback\n",
        "What did you think about this notebook? What questions do you have? Were any parts confusing? Write your thoughts in the text box below.\n",
        "\n",
        "<font size =2> note: You can double click this text box in colab to edit it.</font>\n",
        "\n",
        "PUT YOUR THOUGHTS HERE"
      ],
      "metadata": {
        "id": "JOPdib-mkdbO"
      }
    },
    {
      "cell_type": "markdown",
      "source": [
        "# Submit\n",
        "Don't forget to submit your notebook before class! Make sure you have saved your work (**Colab Menu: File-> Save**) and then download a pure python copy (**Colab Menu: File-> Download -> Download .py**) and a python notebook copy (**Colab Menu: File-> Download -> Download .ipynb**). You will upload both of these to the assignment on the canvas page.\n",
        "\n"
      ],
      "metadata": {
        "id": "-Od5aIDFnSYP"
      }
    }
  ]
}