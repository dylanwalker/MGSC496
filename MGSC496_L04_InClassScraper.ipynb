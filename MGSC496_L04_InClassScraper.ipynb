{
  "nbformat": 4,
  "nbformat_minor": 0,
  "metadata": {
    "colab": {
      "provenance": [],
      "authorship_tag": "ABX9TyMQAyYhIYFCrHPqtYGHyGqM",
      "include_colab_link": true
    },
    "kernelspec": {
      "name": "python3",
      "display_name": "Python 3"
    },
    "language_info": {
      "name": "python"
    }
  },
  "cells": [
    {
      "cell_type": "markdown",
      "metadata": {
        "id": "view-in-github",
        "colab_type": "text"
      },
      "source": [
        "<a href=\"https://colab.research.google.com/github/dylanwalker/MGSC496/blob/main/MGSC496_L04_InClassScraper.ipynb\" target=\"_parent\"><img src=\"https://colab.research.google.com/assets/colab-badge.svg\" alt=\"Open In Colab\"/></a>"
      ]
    },
    {
      "cell_type": "markdown",
      "source": [
        "\n",
        "1. Make sure scrapy is installed in colab:"
      ],
      "metadata": {
        "id": "y7wFW907QVyD"
      }
    },
    {
      "cell_type": "code",
      "source": [
        "# ENTER CODE HERE\n",
        "%%capture\n",
        "!pip install scrapy"
      ],
      "metadata": {
        "id": "Ysvl3IobIve5"
      },
      "execution_count": 14,
      "outputs": []
    },
    {
      "cell_type": "markdown",
      "source": [
        "2. Create a new scrapy project:"
      ],
      "metadata": {
        "id": "IOwIXg9pQbQI"
      }
    },
    {
      "cell_type": "code",
      "source": [
        "# ENTER CODE HERE\n",
        "!scrapy startproject quotescraper"
      ],
      "metadata": {
        "id": "vS_q0-rjQOIc",
        "colab": {
          "base_uri": "https://localhost:8080/"
        },
        "outputId": "4ba484d3-5a3a-4507-d98b-0fc61ff28462"
      },
      "execution_count": 15,
      "outputs": [
        {
          "output_type": "stream",
          "name": "stdout",
          "text": [
            "Error: scrapy.cfg already exists in /content/quotescraper\n"
          ]
        }
      ]
    },
    {
      "cell_type": "code",
      "source": [
        "!cd /content/quotescraper && scrapy genspider quotespider toscrape.com"
      ],
      "metadata": {
        "colab": {
          "base_uri": "https://localhost:8080/"
        },
        "id": "Uhq_pG1Z24Vi",
        "outputId": "71dc1ba9-8e33-4e1c-d5f9-2918d1182609"
      },
      "execution_count": null,
      "outputs": [
        {
          "output_type": "stream",
          "name": "stdout",
          "text": [
            "Created spider 'quotespider' using template 'basic' in module:\n",
            "  quotescraper.spiders.quotespider\n"
          ]
        }
      ]
    },
    {
      "cell_type": "markdown",
      "source": [
        "3. Write your spider code to a file in the appropriate directory:"
      ],
      "metadata": {
        "id": "nDvpSRLvQikB"
      }
    },
    {
      "cell_type": "code",
      "source": [
        "# ENTER CODE HERE\n",
        "#%%writefile /content/quotescraper/quotescraper/spiders/quotespider.py\n",
        "import scrapy\n",
        "\n",
        "class QuoteSpider(scrapy.Spider):\n",
        "    name = 'quotespider'\n",
        "    start_urls = ['http://quotes.toscrape.com']\n",
        "\n",
        "    def parse(self, response):\n",
        "      # YOUR CODE HERE TO: parse the response, yielding data items and/or other requests\n",
        "      for sel in response.xpath('//div[@class=\"quote\"]'):\n",
        "        quote = sel.xpath('span[@class=\"text\"]/text()').get()\n",
        "        self.logger.info(f\"Collected quote: {quote}\")\n",
        "        yield {\"quote\": quote}\n",
        "        "
      ],
      "metadata": {
        "id": "HS_gjmZEQRW1",
        "colab": {
          "base_uri": "https://localhost:8080/"
        },
        "outputId": "cdd18ede-0fd0-4174-d73f-981a254fffed"
      },
      "execution_count": 21,
      "outputs": [
        {
          "output_type": "stream",
          "name": "stdout",
          "text": [
            "Overwriting /content/quotescraper/quotescraper/spiders/quotespider.py\n"
          ]
        }
      ]
    },
    {
      "cell_type": "markdown",
      "source": [
        "4. Tell scrapy to start crawling:"
      ],
      "metadata": {
        "id": "NOlAioh-Wo-o"
      }
    },
    {
      "cell_type": "code",
      "source": [
        "# ENTER CODE HERE\n",
        "!cd /content/quotescraper && scrapy crawl quotespider -O data.json"
      ],
      "metadata": {
        "id": "LACRnM_GWxa7",
        "colab": {
          "base_uri": "https://localhost:8080/"
        },
        "outputId": "c8f35453-12ba-4b76-d42a-50f9d32bd7b2"
      },
      "execution_count": 24,
      "outputs": [
        {
          "output_type": "stream",
          "name": "stdout",
          "text": [
            "2023-02-23 01:44:11 [scrapy.utils.log] INFO: Scrapy 2.8.0 started (bot: quotescraper)\n",
            "2023-02-23 01:44:11 [scrapy.utils.log] INFO: Versions: lxml 4.9.2.0, libxml2 2.9.14, cssselect 1.2.0, parsel 1.7.0, w3lib 2.1.1, Twisted 22.10.0, Python 3.8.10 (default, Nov 14 2022, 12:59:47) - [GCC 9.4.0], pyOpenSSL 23.0.0 (OpenSSL 3.0.8 7 Feb 2023), cryptography 39.0.1, Platform Linux-5.10.147+-x86_64-with-glibc2.29\n",
            "2023-02-23 01:44:11 [scrapy.crawler] INFO: Overridden settings:\n",
            "{'BOT_NAME': 'quotescraper',\n",
            " 'FEED_EXPORT_ENCODING': 'utf-8',\n",
            " 'NEWSPIDER_MODULE': 'quotescraper.spiders',\n",
            " 'REQUEST_FINGERPRINTER_IMPLEMENTATION': '2.7',\n",
            " 'ROBOTSTXT_OBEY': True,\n",
            " 'SPIDER_MODULES': ['quotescraper.spiders'],\n",
            " 'TWISTED_REACTOR': 'twisted.internet.asyncioreactor.AsyncioSelectorReactor'}\n",
            "2023-02-23 01:44:11 [asyncio] DEBUG: Using selector: EpollSelector\n",
            "2023-02-23 01:44:11 [scrapy.utils.log] DEBUG: Using reactor: twisted.internet.asyncioreactor.AsyncioSelectorReactor\n",
            "2023-02-23 01:44:11 [scrapy.utils.log] DEBUG: Using asyncio event loop: asyncio.unix_events._UnixSelectorEventLoop\n",
            "2023-02-23 01:44:11 [scrapy.extensions.telnet] INFO: Telnet Password: 26570de4f834145d\n",
            "2023-02-23 01:44:11 [scrapy.middleware] INFO: Enabled extensions:\n",
            "['scrapy.extensions.corestats.CoreStats',\n",
            " 'scrapy.extensions.telnet.TelnetConsole',\n",
            " 'scrapy.extensions.memusage.MemoryUsage',\n",
            " 'scrapy.extensions.feedexport.FeedExporter',\n",
            " 'scrapy.extensions.logstats.LogStats']\n",
            "2023-02-23 01:44:11 [scrapy.middleware] INFO: Enabled downloader middlewares:\n",
            "['scrapy.downloadermiddlewares.robotstxt.RobotsTxtMiddleware',\n",
            " 'scrapy.downloadermiddlewares.httpauth.HttpAuthMiddleware',\n",
            " 'scrapy.downloadermiddlewares.downloadtimeout.DownloadTimeoutMiddleware',\n",
            " 'scrapy.downloadermiddlewares.defaultheaders.DefaultHeadersMiddleware',\n",
            " 'scrapy.downloadermiddlewares.useragent.UserAgentMiddleware',\n",
            " 'scrapy.downloadermiddlewares.retry.RetryMiddleware',\n",
            " 'scrapy.downloadermiddlewares.redirect.MetaRefreshMiddleware',\n",
            " 'scrapy.downloadermiddlewares.httpcompression.HttpCompressionMiddleware',\n",
            " 'scrapy.downloadermiddlewares.redirect.RedirectMiddleware',\n",
            " 'scrapy.downloadermiddlewares.cookies.CookiesMiddleware',\n",
            " 'scrapy.downloadermiddlewares.httpproxy.HttpProxyMiddleware',\n",
            " 'scrapy.downloadermiddlewares.stats.DownloaderStats']\n",
            "2023-02-23 01:44:11 [scrapy.middleware] INFO: Enabled spider middlewares:\n",
            "['scrapy.spidermiddlewares.httperror.HttpErrorMiddleware',\n",
            " 'scrapy.spidermiddlewares.offsite.OffsiteMiddleware',\n",
            " 'scrapy.spidermiddlewares.referer.RefererMiddleware',\n",
            " 'scrapy.spidermiddlewares.urllength.UrlLengthMiddleware',\n",
            " 'scrapy.spidermiddlewares.depth.DepthMiddleware']\n",
            "2023-02-23 01:44:11 [scrapy.middleware] INFO: Enabled item pipelines:\n",
            "[]\n",
            "2023-02-23 01:44:11 [scrapy.core.engine] INFO: Spider opened\n",
            "2023-02-23 01:44:11 [scrapy.extensions.logstats] INFO: Crawled 0 pages (at 0 pages/min), scraped 0 items (at 0 items/min)\n",
            "2023-02-23 01:44:11 [scrapy.extensions.telnet] INFO: Telnet console listening on 127.0.0.1:6023\n",
            "2023-02-23 01:44:11 [scrapy.core.engine] DEBUG: Crawled (404) <GET http://quotes.toscrape.com/robots.txt> (referer: None)\n",
            "2023-02-23 01:44:11 [scrapy.core.engine] DEBUG: Crawled (200) <GET http://quotes.toscrape.com> (referer: None)\n",
            "2023-02-23 01:44:11 [quotespider] INFO: Collected quote: “The world as we have created it is a process of our thinking. It cannot be changed without changing our thinking.”\n",
            "2023-02-23 01:44:11 [scrapy.core.scraper] DEBUG: Scraped from <200 http://quotes.toscrape.com>\n",
            "{'quote': '“The world as we have created it is a process of our thinking. It cannot be changed without changing our thinking.”'}\n",
            "2023-02-23 01:44:11 [quotespider] INFO: Collected quote: “It is our choices, Harry, that show what we truly are, far more than our abilities.”\n",
            "2023-02-23 01:44:11 [scrapy.core.scraper] DEBUG: Scraped from <200 http://quotes.toscrape.com>\n",
            "{'quote': '“It is our choices, Harry, that show what we truly are, far more than our abilities.”'}\n",
            "2023-02-23 01:44:11 [quotespider] INFO: Collected quote: “There are only two ways to live your life. One is as though nothing is a miracle. The other is as though everything is a miracle.”\n",
            "2023-02-23 01:44:11 [scrapy.core.scraper] DEBUG: Scraped from <200 http://quotes.toscrape.com>\n",
            "{'quote': '“There are only two ways to live your life. One is as though nothing is a miracle. The other is as though everything is a miracle.”'}\n",
            "2023-02-23 01:44:11 [quotespider] INFO: Collected quote: “The person, be it gentleman or lady, who has not pleasure in a good novel, must be intolerably stupid.”\n",
            "2023-02-23 01:44:11 [scrapy.core.scraper] DEBUG: Scraped from <200 http://quotes.toscrape.com>\n",
            "{'quote': '“The person, be it gentleman or lady, who has not pleasure in a good novel, must be intolerably stupid.”'}\n",
            "2023-02-23 01:44:11 [quotespider] INFO: Collected quote: “Imperfection is beauty, madness is genius and it's better to be absolutely ridiculous than absolutely boring.”\n",
            "2023-02-23 01:44:11 [scrapy.core.scraper] DEBUG: Scraped from <200 http://quotes.toscrape.com>\n",
            "{'quote': \"“Imperfection is beauty, madness is genius and it's better to be absolutely ridiculous than absolutely boring.”\"}\n",
            "2023-02-23 01:44:11 [quotespider] INFO: Collected quote: “Try not to become a man of success. Rather become a man of value.”\n",
            "2023-02-23 01:44:11 [scrapy.core.scraper] DEBUG: Scraped from <200 http://quotes.toscrape.com>\n",
            "{'quote': '“Try not to become a man of success. Rather become a man of value.”'}\n",
            "2023-02-23 01:44:11 [quotespider] INFO: Collected quote: “It is better to be hated for what you are than to be loved for what you are not.”\n",
            "2023-02-23 01:44:11 [scrapy.core.scraper] DEBUG: Scraped from <200 http://quotes.toscrape.com>\n",
            "{'quote': '“It is better to be hated for what you are than to be loved for what you are not.”'}\n",
            "2023-02-23 01:44:11 [quotespider] INFO: Collected quote: “I have not failed. I've just found 10,000 ways that won't work.”\n",
            "2023-02-23 01:44:11 [scrapy.core.scraper] DEBUG: Scraped from <200 http://quotes.toscrape.com>\n",
            "{'quote': \"“I have not failed. I've just found 10,000 ways that won't work.”\"}\n",
            "2023-02-23 01:44:11 [quotespider] INFO: Collected quote: “A woman is like a tea bag; you never know how strong it is until it's in hot water.”\n",
            "2023-02-23 01:44:11 [scrapy.core.scraper] DEBUG: Scraped from <200 http://quotes.toscrape.com>\n",
            "{'quote': \"“A woman is like a tea bag; you never know how strong it is until it's in hot water.”\"}\n",
            "2023-02-23 01:44:11 [quotespider] INFO: Collected quote: “A day without sunshine is like, you know, night.”\n",
            "2023-02-23 01:44:11 [scrapy.core.scraper] DEBUG: Scraped from <200 http://quotes.toscrape.com>\n",
            "{'quote': '“A day without sunshine is like, you know, night.”'}\n",
            "2023-02-23 01:44:11 [scrapy.core.engine] INFO: Closing spider (finished)\n",
            "2023-02-23 01:44:11 [scrapy.extensions.feedexport] INFO: Stored json feed (10 items) in: data.json\n",
            "2023-02-23 01:44:11 [scrapy.statscollectors] INFO: Dumping Scrapy stats:\n",
            "{'downloader/request_bytes': 448,\n",
            " 'downloader/request_count': 2,\n",
            " 'downloader/request_method_count/GET': 2,\n",
            " 'downloader/response_bytes': 11528,\n",
            " 'downloader/response_count': 2,\n",
            " 'downloader/response_status_count/200': 1,\n",
            " 'downloader/response_status_count/404': 1,\n",
            " 'elapsed_time_seconds': 0.41557,\n",
            " 'feedexport/success_count/FileFeedStorage': 1,\n",
            " 'finish_reason': 'finished',\n",
            " 'finish_time': datetime.datetime(2023, 2, 23, 1, 44, 11, 663604),\n",
            " 'item_scraped_count': 10,\n",
            " 'log_count/DEBUG': 15,\n",
            " 'log_count/INFO': 21,\n",
            " 'memusage/max': 137228288,\n",
            " 'memusage/startup': 137228288,\n",
            " 'response_received_count': 2,\n",
            " 'robotstxt/request_count': 1,\n",
            " 'robotstxt/response_count': 1,\n",
            " 'robotstxt/response_status_count/404': 1,\n",
            " 'scheduler/dequeued': 1,\n",
            " 'scheduler/dequeued/memory': 1,\n",
            " 'scheduler/enqueued': 1,\n",
            " 'scheduler/enqueued/memory': 1,\n",
            " 'start_time': datetime.datetime(2023, 2, 23, 1, 44, 11, 248034)}\n",
            "2023-02-23 01:44:11 [scrapy.core.engine] INFO: Spider closed (finished)\n"
          ]
        }
      ]
    },
    {
      "cell_type": "markdown",
      "source": [
        "You can test out your scraper by making a new colab notebook, copy/pasting your code in the cells above and running it."
      ],
      "metadata": {
        "id": "MS51_-ibWR1E"
      }
    },
    {
      "cell_type": "markdown",
      "source": [
        "<hr/>"
      ],
      "metadata": {
        "id": "BXqd2NtCIimp"
      }
    }
  ]
}