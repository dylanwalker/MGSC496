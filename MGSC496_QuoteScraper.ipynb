{
  "nbformat": 4,
  "nbformat_minor": 0,
  "metadata": {
    "colab": {
      "provenance": [],
      "authorship_tag": "ABX9TyOaegDZ2oFd11VM6lwY3ZKD",
      "include_colab_link": true
    },
    "kernelspec": {
      "name": "python3",
      "display_name": "Python 3"
    },
    "language_info": {
      "name": "python"
    }
  },
  "cells": [
    {
      "cell_type": "markdown",
      "metadata": {
        "id": "view-in-github",
        "colab_type": "text"
      },
      "source": [
        "<a href=\"https://colab.research.google.com/github/dylanwalker/MGSC496/blob/main/MGSC496_QuoteScraper.ipynb\" target=\"_parent\"><img src=\"https://colab.research.google.com/assets/colab-badge.svg\" alt=\"Open In Colab\"/></a>"
      ]
    },
    {
      "cell_type": "markdown",
      "source": [
        "Here is the full code to create and run the Scrapy quotes scraper.\n",
        "Use ***Runtime->Run All***"
      ],
      "metadata": {
        "id": "eWEq02vYBatC"
      }
    },
    {
      "cell_type": "code",
      "execution_count": null,
      "metadata": {
        "id": "B_hemZYOBVev"
      },
      "outputs": [],
      "source": [
        "%%capture\n",
        "!pip install scrapy"
      ]
    },
    {
      "cell_type": "code",
      "source": [
        "!scrapy startproject quotescraper"
      ],
      "metadata": {
        "id": "Bh7n9oN_B3BI"
      },
      "execution_count": null,
      "outputs": []
    },
    {
      "cell_type": "code",
      "source": [
        "%%writefile /content/quotescraper/quotescraper/spiders/quotespider.py\n",
        "import scrapy\n",
        "from quotescraper.items import QuotescraperItem\n",
        "\n",
        "class QuotespiderSpider(scrapy.Spider):\n",
        "    name = 'quotespider'\n",
        "    allowed_domains = ['quotes.toscrape.com']\n",
        "    start_urls = ['http://quotes.toscrape.com/']\n",
        "\n",
        "    def parse(self, response):\n",
        "        for quote_sel in response.xpath('//div[@class=\"quote\"]'):\n",
        "          quote = quote_sel.xpath('span[@class=\"text\"]/text()').get()\n",
        "          author = quote_sel.xpath('span/small/text()').get()\n",
        "          tags = quote_sel.xpath('div[@class=\"tags\"]/a[@class=\"tag\"]/text()').getall()\n",
        "          yield QuotescraperItem(quote=quote, author=author,tags=tags)\n",
        "        rel_next_page_link = response.xpath('//li[@class=\"next\"]/a/@href').get()\n",
        "        if rel_next_page_link is not None:\n",
        "          next_page_link = response.urljoin(rel_next_page_link)\n",
        "          yield scrapy.Request(url=next_page_link, callback=self.parse)"
      ],
      "metadata": {
        "colab": {
          "base_uri": "https://localhost:8080/"
        },
        "id": "taLSZ5tEEumH",
        "outputId": "dfb91efe-4f1d-4b9c-c1b1-059b303dfea2"
      },
      "execution_count": null,
      "outputs": [
        {
          "output_type": "stream",
          "name": "stdout",
          "text": [
            "Overwriting /content/quotescraper/quotescraper/spiders/quotespider.py\n"
          ]
        }
      ]
    },
    {
      "cell_type": "code",
      "source": [
        "%%writefile /content/quotescraper/quotescraper/items.py\n",
        "# Define here the models for your scraped items\n",
        "#\n",
        "# See documentation in:\n",
        "# https://docs.scrapy.org/en/latest/topics/items.html\n",
        "\n",
        "import scrapy\n",
        "\n",
        "\n",
        "class QuotescraperItem(scrapy.Item):\n",
        "    # define the fields for your item here like:\n",
        "    # name = scrapy.Field()\n",
        "    quote = scrapy.Field()\n",
        "    author = scrapy.Field()\n",
        "    tags = scrapy.Field()\n",
        "    \n"
      ],
      "metadata": {
        "colab": {
          "base_uri": "https://localhost:8080/"
        },
        "id": "FAz6UbELSh-J",
        "outputId": "926500dd-ac13-4007-bbfd-6847a217af78"
      },
      "execution_count": null,
      "outputs": [
        {
          "output_type": "stream",
          "name": "stdout",
          "text": [
            "Overwriting /content/quotescraper/quotescraper/items.py\n"
          ]
        }
      ]
    },
    {
      "cell_type": "code",
      "source": [
        "!cd /content/quotescraper && scrapy crawl quotespider -O quotes.json"
      ],
      "metadata": {
        "id": "XKir6fa3UAP9"
      },
      "execution_count": null,
      "outputs": []
    }
  ]
}