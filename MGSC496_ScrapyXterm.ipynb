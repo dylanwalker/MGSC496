{
  "nbformat": 4,
  "nbformat_minor": 0,
  "metadata": {
    "colab": {
      "provenance": [],
      "collapsed_sections": [
        "EwhpACzDPPoP"
      ],
      "authorship_tag": "ABX9TyNX8alzIa9nPI0NjRQDIIFE",
      "include_colab_link": true
    },
    "kernelspec": {
      "name": "python3",
      "display_name": "Python 3"
    },
    "language_info": {
      "name": "python"
    }
  },
  "cells": [
    {
      "cell_type": "markdown",
      "metadata": {
        "id": "view-in-github",
        "colab_type": "text"
      },
      "source": [
        "<a href=\"https://colab.research.google.com/github/dylanwalker/MGSC496/blob/main/MGSC496_ScrapyXterm.ipynb\" target=\"_parent\"><img src=\"https://colab.research.google.com/assets/colab-badge.svg\" alt=\"Open In Colab\"/></a>"
      ]
    },
    {
      "cell_type": "markdown",
      "source": [
        "For convenience, here is a notebook that sets up scrapy and xterm and launches a terminal."
      ],
      "metadata": {
        "id": "4lkc6eZTPEkX"
      }
    },
    {
      "cell_type": "code",
      "source": [],
      "metadata": {
        "id": "54KF73JYPMZr"
      },
      "execution_count": null,
      "outputs": []
    },
    {
      "cell_type": "markdown",
      "source": [
        "# Install Scrapy and Xterm"
      ],
      "metadata": {
        "id": "EwhpACzDPPoP"
      }
    },
    {
      "cell_type": "code",
      "execution_count": null,
      "metadata": {
        "id": "DfevltJ6O-e7"
      },
      "outputs": [],
      "source": [
        "%%capture\n",
        "!pip install scrapy\n",
        "!pip install colab-xterm\n",
        "%load_ext colabxterm"
      ]
    },
    {
      "cell_type": "markdown",
      "source": [
        "# Terminal"
      ],
      "metadata": {
        "id": "JJ6tXQqsPWHp"
      }
    },
    {
      "cell_type": "code",
      "source": [
        "%xterm"
      ],
      "metadata": {
        "id": "7NGn0FWGPavL"
      },
      "execution_count": null,
      "outputs": []
    }
  ]
}